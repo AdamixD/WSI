{
 "cells": [
  {
   "cell_type": "markdown",
   "source": [
    "# Sprawozdanie z laboratorium 6"
   ],
   "metadata": {
    "collapsed": false,
    "pycharm": {
     "name": "#%% md\n"
    }
   }
  },
  {
   "cell_type": "markdown",
   "source": [
    "***Autor: Adam Dąbkowski***"
   ],
   "metadata": {
    "collapsed": false,
    "pycharm": {
     "name": "#%% md\n"
    }
   }
  },
  {
   "cell_type": "markdown",
   "source": [
    "Celem szóstego laboratorium jest zaimplementowanie algorytmu ***Q-learning***. Dodatkowo należy stworzyć agenta rozwiązującego problem ***Taxi***.\n"
   ],
   "metadata": {
    "collapsed": false,
    "pycharm": {
     "name": "#%% md\n"
    }
   }
  },
  {
   "cell_type": "markdown",
   "source": [
    "## 0. Importowanie niezbędnych bibliotek"
   ],
   "metadata": {
    "collapsed": false,
    "pycharm": {
     "name": "#%% md\n"
    }
   }
  },
  {
   "cell_type": "code",
   "execution_count": 1,
   "outputs": [],
   "source": [
    "import gym\n",
    "import numpy as np\n",
    "import pandas as pd"
   ],
   "metadata": {
    "collapsed": false,
    "pycharm": {
     "name": "#%%\n"
    }
   }
  },
  {
   "cell_type": "markdown",
   "source": [
    "## 1. Wizualizacja stanu środowiska"
   ],
   "metadata": {
    "collapsed": false,
    "pycharm": {
     "name": "#%% md\n"
    }
   }
  },
  {
   "cell_type": "markdown",
   "source": [
    "Wykorzystywane przez na środowisko zawiera cztery wyznaczone miejsca (***R***, ***G***, ***Y***, ***B***), w których pasażer może wsiąść do taksówki (***żółty prostokąt***) lub wysiąść. Gracz otrzymuje pozytywne nagrody za udane podrzucenie pasażera w odpowiednim miejscu, natomiast negatywne nagrody za próby odebrania/odwiezienia pasażera kończące się niepowodzeniem oraz za każdy krok, w którym nie otrzymano kolejnej nagrody."
   ],
   "metadata": {
    "collapsed": false,
    "pycharm": {
     "name": "#%% md\n"
    }
   }
  },
  {
   "cell_type": "code",
   "execution_count": 2,
   "outputs": [
    {
     "name": "stdout",
     "output_type": "stream",
     "text": [
      "+---------+\n",
      "|\u001B[35mR\u001B[0m: | : :G|\n",
      "| :\u001B[43m \u001B[0m| : : |\n",
      "| : : : : |\n",
      "| | : | : |\n",
      "|Y| : |\u001B[34;1mB\u001B[0m: |\n",
      "+---------+\n",
      "\n"
     ]
    }
   ],
   "source": [
    "env = gym.make('Taxi-v3')\n",
    "env.render()"
   ],
   "metadata": {
    "collapsed": false,
    "pycharm": {
     "name": "#%%\n"
    }
   }
  },
  {
   "cell_type": "markdown",
   "source": [
    "## 2. Implementacja algorytmu ***Q-learning***"
   ],
   "metadata": {
    "collapsed": false,
    "pycharm": {
     "name": "#%% md\n"
    }
   }
  },
  {
   "cell_type": "markdown",
   "source": [
    "Głównym zadaniem szóstego laboratorium jest implementacja algorytmu ***Q-learning***. Po za tym należy stworzyć agenta rozwiązującego problem ***Taxi***. W tym celu stworzona została klasa ***QlearningAgent***. Podczas tworzenia obiektu tej klasy istnieje możliwość podania parametrów ***env*** (*wykorzystywane środowisko*), ***beta*** (*współczynnik uczenia*), ***gamma*** (*stopa dyskontowa*) oraz ***epsilon*** (*prawdopodobieństwo $\\epsilon$*).\n",
    "\n"
   ],
   "metadata": {
    "collapsed": false,
    "pycharm": {
     "name": "#%% md\n"
    }
   }
  },
  {
   "cell_type": "markdown",
   "source": [
    "Klasa ***QlearningAgent*** zawiera także cztery metody:\n",
    "- ***get_parameters()*** - metoda zwracająca wartości parametrów ***beta***, ***gamma*** oraz ***epsilon***\n",
    "- ***exploration()*** - metoda odpowiadająca za strategię eksploracji (w tym przypadku ***strategię $\\epsilon$-zachłanną***)\n",
    "- ***learn()*** - metoda odpowiadająca za uczenie według algorytmu ***Q-learning***\n",
    "- ***evaluate()*** - metoda odpowiedzialna za ocenę na danym etapie uczenia"
   ],
   "metadata": {
    "collapsed": false,
    "pycharm": {
     "name": "#%% md\n"
    }
   }
  },
  {
   "cell_type": "code",
   "execution_count": 3,
   "outputs": [],
   "source": [
    "class QlearningAgent:\n",
    "    def __init__(self, env, beta=0.05, gamma=0.9, epsilon=0.01):\n",
    "        self.env = env\n",
    "        self.beta = beta\n",
    "        self.gamma = gamma\n",
    "        self.epsilon = epsilon\n",
    "        self.Q = np.zeros([env.observation_space.n, env.action_space.n])\n",
    "\n",
    "    def get_parameters(self):\n",
    "        return {\n",
    "            \"beta\": self.beta,\n",
    "            \"gamma\": self.gamma,\n",
    "            \"epsilon\": self.epsilon\n",
    "        }\n",
    "\n",
    "    def exploration(self, state):\n",
    "        if np.random.rand() < self.epsilon:\n",
    "            action = self.env.action_space.sample()\n",
    "        else:\n",
    "            action = np.argmax(self.Q[state])\n",
    "        return action\n",
    "\n",
    "    def learn(self, n_episodes=10000, n_eval_episodes=20, eval_period=2000, deep_printing=False):\n",
    "        for i in range(n_episodes):\n",
    "            state = self.env.reset()\n",
    "            done = False\n",
    "            while not done:\n",
    "                action = self.exploration(state)\n",
    "                new_state, reward, done, _ = self.env.step(action)\n",
    "                self.Q[state, action] += self.beta * (reward + self.gamma * np.max(self.Q[new_state, :]) - self.Q[state, action])\n",
    "                state = new_state\n",
    "\n",
    "            if (i+1) % eval_period == 0 or (i+1) == n_episodes:\n",
    "                average_reward = self.evaluate(n_eval_episodes, deep_printing)\n",
    "                print(f'After {i+1}/{n_episodes} learning episodes - average reward: {average_reward}')\n",
    "                if deep_printing:\n",
    "                    print(\" \")\n",
    "\n",
    "        return average_reward\n",
    "\n",
    "\n",
    "    def evaluate(self, n_eval_episodes, printing=False):\n",
    "        all_rewards = []\n",
    "        for i in range(n_eval_episodes):\n",
    "            episode_reward = 0\n",
    "            state = self.env.reset()\n",
    "            done = False\n",
    "            while not done:\n",
    "                action = self.exploration(state)\n",
    "                state, reward, done, _ = self.env.step(action)\n",
    "                episode_reward += reward\n",
    "\n",
    "            all_rewards.append(episode_reward)\n",
    "\n",
    "            if printing:\n",
    "                print(f'Episode {i} reward: {episode_reward}')\n",
    "\n",
    "        return np.mean(all_rewards)"
   ],
   "metadata": {
    "collapsed": false,
    "pycharm": {
     "name": "#%%\n"
    }
   }
  },
  {
   "cell_type": "markdown",
   "source": [
    "Aby móc w łatwy sposób prezentować i analizować rezultaty działania algorytmu dla poszczególnych przypadków, zaimplementowana została prosta klasa ***Results***."
   ],
   "metadata": {
    "collapsed": false,
    "pycharm": {
     "name": "#%% md\n"
    }
   }
  },
  {
   "cell_type": "code",
   "execution_count": 4,
   "outputs": [],
   "source": [
    "class Results:\n",
    "    def __init__(self):\n",
    "        self.results = pd.DataFrame(columns=[\"Learning episodes\", \"beta\", \"gamma\", \"epsilon\", \"Average reward\"])\n",
    "\n",
    "    def update_results(self, n_episodes, beta, gamma, epsilon, average_reward):\n",
    "        self.results.loc[len(self.results)] = [n_episodes, beta, gamma, epsilon, average_reward]\n",
    "\n",
    "    def delete_row(self, index):\n",
    "        self.results.drop([index], axis=0, inplace=True)\n",
    "\n",
    "    def sort_results(self, column_name):\n",
    "        self.results = self.results.sort_values(by=[column_name])\n",
    "\n",
    "    def __repr__(self):\n",
    "        return self.results.to_string()"
   ],
   "metadata": {
    "collapsed": false,
    "pycharm": {
     "name": "#%%\n"
    }
   }
  },
  {
   "cell_type": "markdown",
   "source": [
    "## 3. Zastosowanie algorytmu"
   ],
   "metadata": {
    "collapsed": false,
    "pycharm": {
     "name": "#%% md\n"
    }
   }
  },
  {
   "cell_type": "code",
   "execution_count": 5,
   "outputs": [],
   "source": [
    "n_episodes = 20000\n",
    "n_eval_episodes = 500\n",
    "eval_period = 2000"
   ],
   "metadata": {
    "collapsed": false,
    "pycharm": {
     "name": "#%%\n"
    }
   }
  },
  {
   "cell_type": "markdown",
   "source": [
    "#### 3.1 Badanie wpływu współczynnika $\\beta$"
   ],
   "metadata": {
    "collapsed": false,
    "pycharm": {
     "name": "#%% md\n"
    }
   }
  },
  {
   "cell_type": "code",
   "execution_count": 6,
   "outputs": [],
   "source": [
    "results_beta = Results()"
   ],
   "metadata": {
    "collapsed": false,
    "pycharm": {
     "name": "#%%\n"
    }
   }
  },
  {
   "cell_type": "code",
   "execution_count": 7,
   "outputs": [],
   "source": [
    "beta = 0.03\n",
    "gamma = 0.9\n",
    "epsilon = 0.01"
   ],
   "metadata": {
    "collapsed": false,
    "pycharm": {
     "name": "#%%\n"
    }
   }
  },
  {
   "cell_type": "code",
   "execution_count": 8,
   "outputs": [],
   "source": [
    "agent = QlearningAgent(env=env, beta=beta, gamma=gamma, epsilon=epsilon)"
   ],
   "metadata": {
    "collapsed": false,
    "pycharm": {
     "name": "#%%\n"
    }
   }
  },
  {
   "cell_type": "code",
   "execution_count": 9,
   "outputs": [
    {
     "data": {
      "text/plain": "{'beta': 0.03, 'gamma': 0.9, 'epsilon': 0.01}"
     },
     "execution_count": 9,
     "metadata": {},
     "output_type": "execute_result"
    }
   ],
   "source": [
    "agent.get_parameters()"
   ],
   "metadata": {
    "collapsed": false,
    "pycharm": {
     "name": "#%%\n"
    }
   }
  },
  {
   "cell_type": "code",
   "execution_count": 10,
   "outputs": [
    {
     "name": "stdout",
     "output_type": "stream",
     "text": [
      "After 2000/20000 learning episodes - average reward: -190.958\n",
      "After 4000/20000 learning episodes - average reward: -115.576\n",
      "After 6000/20000 learning episodes - average reward: -59.666\n",
      "After 8000/20000 learning episodes - average reward: -1.1\n",
      "After 10000/20000 learning episodes - average reward: 5.338\n",
      "After 12000/20000 learning episodes - average reward: 5.37\n",
      "After 14000/20000 learning episodes - average reward: 7.412\n",
      "After 16000/20000 learning episodes - average reward: 7.624\n",
      "After 18000/20000 learning episodes - average reward: 7.384\n",
      "After 20000/20000 learning episodes - average reward: 7.542\n"
     ]
    }
   ],
   "source": [
    "reward = agent.learn(n_episodes=n_episodes, n_eval_episodes=n_eval_episodes, eval_period=eval_period)"
   ],
   "metadata": {
    "collapsed": false,
    "pycharm": {
     "name": "#%%\n"
    }
   }
  },
  {
   "cell_type": "code",
   "execution_count": 11,
   "outputs": [],
   "source": [
    "results_beta.update_results(n_episodes, beta, gamma, epsilon, reward)"
   ],
   "metadata": {
    "collapsed": false,
    "pycharm": {
     "name": "#%%\n"
    }
   }
  },
  {
   "cell_type": "markdown",
   "source": [],
   "metadata": {
    "collapsed": false,
    "pycharm": {
     "name": "#%% md\n"
    }
   }
  },
  {
   "cell_type": "markdown",
   "source": [],
   "metadata": {
    "collapsed": false,
    "pycharm": {
     "name": "#%% md\n"
    }
   }
  },
  {
   "cell_type": "code",
   "execution_count": 12,
   "outputs": [],
   "source": [
    "beta = 0.05\n",
    "gamma = 0.9\n",
    "epsilon = 0.01"
   ],
   "metadata": {
    "collapsed": false,
    "pycharm": {
     "name": "#%%\n"
    }
   }
  },
  {
   "cell_type": "code",
   "execution_count": 13,
   "outputs": [],
   "source": [
    "agent = QlearningAgent(env=env, beta=beta, gamma=gamma, epsilon=epsilon)"
   ],
   "metadata": {
    "collapsed": false,
    "pycharm": {
     "name": "#%%\n"
    }
   }
  },
  {
   "cell_type": "code",
   "execution_count": 14,
   "outputs": [
    {
     "name": "stdout",
     "output_type": "stream",
     "text": [
      "After 2000/20000 learning episodes - average reward: -150.468\n",
      "After 4000/20000 learning episodes - average reward: -40.392\n",
      "After 6000/20000 learning episodes - average reward: -3.896\n",
      "After 8000/20000 learning episodes - average reward: 6.458\n",
      "After 10000/20000 learning episodes - average reward: 7.398\n",
      "After 12000/20000 learning episodes - average reward: 7.308\n",
      "After 14000/20000 learning episodes - average reward: 7.338\n",
      "After 16000/20000 learning episodes - average reward: 7.376\n",
      "After 18000/20000 learning episodes - average reward: 7.3\n",
      "After 20000/20000 learning episodes - average reward: 7.61\n"
     ]
    }
   ],
   "source": [
    "reward = agent.learn(n_episodes=n_episodes, n_eval_episodes=n_eval_episodes, eval_period=eval_period)"
   ],
   "metadata": {
    "collapsed": false,
    "pycharm": {
     "name": "#%%\n"
    }
   }
  },
  {
   "cell_type": "code",
   "execution_count": 15,
   "outputs": [],
   "source": [
    "results_beta.update_results(n_episodes, beta, gamma, epsilon, reward)"
   ],
   "metadata": {
    "collapsed": false,
    "pycharm": {
     "name": "#%%\n"
    }
   }
  },
  {
   "cell_type": "markdown",
   "source": [],
   "metadata": {
    "collapsed": false,
    "pycharm": {
     "name": "#%% md\n"
    }
   }
  },
  {
   "cell_type": "markdown",
   "source": [],
   "metadata": {
    "collapsed": false,
    "pycharm": {
     "name": "#%% md\n"
    }
   }
  },
  {
   "cell_type": "code",
   "execution_count": 16,
   "outputs": [],
   "source": [
    "beta = 0.1\n",
    "gamma = 0.9\n",
    "epsilon = 0.01"
   ],
   "metadata": {
    "collapsed": false,
    "pycharm": {
     "name": "#%%\n"
    }
   }
  },
  {
   "cell_type": "code",
   "execution_count": 17,
   "outputs": [],
   "source": [
    "agent = QlearningAgent(env=env, beta=beta, gamma=gamma, epsilon=epsilon)"
   ],
   "metadata": {
    "collapsed": false,
    "pycharm": {
     "name": "#%%\n"
    }
   }
  },
  {
   "cell_type": "code",
   "execution_count": 18,
   "outputs": [
    {
     "name": "stdout",
     "output_type": "stream",
     "text": [
      "After 2000/20000 learning episodes - average reward: -27.872\n",
      "After 4000/20000 learning episodes - average reward: 6.828\n",
      "After 6000/20000 learning episodes - average reward: 7.408\n",
      "After 8000/20000 learning episodes - average reward: 7.574\n",
      "After 10000/20000 learning episodes - average reward: 7.254\n",
      "After 12000/20000 learning episodes - average reward: 7.514\n",
      "After 14000/20000 learning episodes - average reward: 7.228\n",
      "After 16000/20000 learning episodes - average reward: 7.586\n",
      "After 18000/20000 learning episodes - average reward: 7.6\n",
      "After 20000/20000 learning episodes - average reward: 7.374\n"
     ]
    }
   ],
   "source": [
    "reward = agent.learn(n_episodes=n_episodes, n_eval_episodes=n_eval_episodes, eval_period=eval_period)"
   ],
   "metadata": {
    "collapsed": false,
    "pycharm": {
     "name": "#%%\n"
    }
   }
  },
  {
   "cell_type": "code",
   "execution_count": 19,
   "outputs": [],
   "source": [
    "results_beta.update_results(n_episodes, beta, gamma, epsilon, reward)"
   ],
   "metadata": {
    "collapsed": false,
    "pycharm": {
     "name": "#%%\n"
    }
   }
  },
  {
   "cell_type": "markdown",
   "source": [],
   "metadata": {
    "collapsed": false,
    "pycharm": {
     "name": "#%% md\n"
    }
   }
  },
  {
   "cell_type": "markdown",
   "source": [],
   "metadata": {
    "collapsed": false,
    "pycharm": {
     "name": "#%% md\n"
    }
   }
  },
  {
   "cell_type": "code",
   "execution_count": 20,
   "outputs": [],
   "source": [
    "beta = 0.001\n",
    "gamma = 0.9\n",
    "epsilon = 0.01"
   ],
   "metadata": {
    "collapsed": false,
    "pycharm": {
     "name": "#%%\n"
    }
   }
  },
  {
   "cell_type": "code",
   "execution_count": 21,
   "outputs": [],
   "source": [
    "agent = QlearningAgent(env=env, beta=beta, gamma=gamma, epsilon=epsilon)"
   ],
   "metadata": {
    "collapsed": false,
    "pycharm": {
     "name": "#%%\n"
    }
   }
  },
  {
   "cell_type": "code",
   "execution_count": 22,
   "outputs": [
    {
     "name": "stdout",
     "output_type": "stream",
     "text": [
      "After 2000/20000 learning episodes - average reward: -402.752\n",
      "After 4000/20000 learning episodes - average reward: -363.962\n",
      "After 6000/20000 learning episodes - average reward: -405.398\n",
      "After 8000/20000 learning episodes - average reward: -232.076\n",
      "After 10000/20000 learning episodes - average reward: -342.938\n",
      "After 12000/20000 learning episodes - average reward: -346.16\n",
      "After 14000/20000 learning episodes - average reward: -253.522\n",
      "After 16000/20000 learning episodes - average reward: -335.156\n",
      "After 18000/20000 learning episodes - average reward: -313.778\n",
      "After 20000/20000 learning episodes - average reward: -404.234\n"
     ]
    }
   ],
   "source": [
    "reward = agent.learn(n_episodes=n_episodes, n_eval_episodes=n_eval_episodes, eval_period=eval_period)"
   ],
   "metadata": {
    "collapsed": false,
    "pycharm": {
     "name": "#%%\n"
    }
   }
  },
  {
   "cell_type": "code",
   "execution_count": 23,
   "outputs": [],
   "source": [
    "results_beta.update_results(n_episodes, beta, gamma, epsilon, reward)"
   ],
   "metadata": {
    "collapsed": false,
    "pycharm": {
     "name": "#%%\n"
    }
   }
  },
  {
   "cell_type": "code",
   "execution_count": 24,
   "outputs": [],
   "source": [
    "results_beta.sort_results(\"beta\")"
   ],
   "metadata": {
    "collapsed": false,
    "pycharm": {
     "name": "#%%\n"
    }
   }
  },
  {
   "cell_type": "code",
   "execution_count": 25,
   "outputs": [
    {
     "data": {
      "text/plain": "   Learning episodes   beta  gamma  epsilon  Average reward\n3            20000.0  0.001    0.9     0.01        -404.234\n0            20000.0  0.030    0.9     0.01           7.542\n1            20000.0  0.050    0.9     0.01           7.610\n2            20000.0  0.100    0.9     0.01           7.374",
      "text/html": "<div>\n<style scoped>\n    .dataframe tbody tr th:only-of-type {\n        vertical-align: middle;\n    }\n\n    .dataframe tbody tr th {\n        vertical-align: top;\n    }\n\n    .dataframe thead th {\n        text-align: right;\n    }\n</style>\n<table border=\"1\" class=\"dataframe\">\n  <thead>\n    <tr style=\"text-align: right;\">\n      <th></th>\n      <th>Learning episodes</th>\n      <th>beta</th>\n      <th>gamma</th>\n      <th>epsilon</th>\n      <th>Average reward</th>\n    </tr>\n  </thead>\n  <tbody>\n    <tr>\n      <th>3</th>\n      <td>20000.0</td>\n      <td>0.001</td>\n      <td>0.9</td>\n      <td>0.01</td>\n      <td>-404.234</td>\n    </tr>\n    <tr>\n      <th>0</th>\n      <td>20000.0</td>\n      <td>0.030</td>\n      <td>0.9</td>\n      <td>0.01</td>\n      <td>7.542</td>\n    </tr>\n    <tr>\n      <th>1</th>\n      <td>20000.0</td>\n      <td>0.050</td>\n      <td>0.9</td>\n      <td>0.01</td>\n      <td>7.610</td>\n    </tr>\n    <tr>\n      <th>2</th>\n      <td>20000.0</td>\n      <td>0.100</td>\n      <td>0.9</td>\n      <td>0.01</td>\n      <td>7.374</td>\n    </tr>\n  </tbody>\n</table>\n</div>"
     },
     "execution_count": 25,
     "metadata": {},
     "output_type": "execute_result"
    }
   ],
   "source": [
    "results_beta.results"
   ],
   "metadata": {
    "collapsed": false,
    "pycharm": {
     "name": "#%%\n"
    }
   }
  },
  {
   "cell_type": "markdown",
   "source": [
    "#### 3.2 Badanie wpływu współczynnika $\\gamma$"
   ],
   "metadata": {
    "collapsed": false,
    "pycharm": {
     "name": "#%% md\n"
    }
   }
  },
  {
   "cell_type": "code",
   "execution_count": 26,
   "outputs": [],
   "source": [
    "results_gamma = Results()"
   ],
   "metadata": {
    "collapsed": false,
    "pycharm": {
     "name": "#%%\n"
    }
   }
  },
  {
   "cell_type": "code",
   "execution_count": 27,
   "outputs": [],
   "source": [
    "beta = 0.03\n",
    "gamma = 0.95\n",
    "epsilon = 0.01"
   ],
   "metadata": {
    "collapsed": false,
    "pycharm": {
     "name": "#%%\n"
    }
   }
  },
  {
   "cell_type": "code",
   "execution_count": 28,
   "outputs": [],
   "source": [
    "agent = QlearningAgent(env=env, beta=beta, gamma=gamma, epsilon=epsilon)"
   ],
   "metadata": {
    "collapsed": false,
    "pycharm": {
     "name": "#%%\n"
    }
   }
  },
  {
   "cell_type": "code",
   "execution_count": 29,
   "outputs": [
    {
     "name": "stdout",
     "output_type": "stream",
     "text": [
      "After 2000/20000 learning episodes - average reward: -296.59\n",
      "After 4000/20000 learning episodes - average reward: -99.99\n",
      "After 6000/20000 learning episodes - average reward: -31.842\n",
      "After 8000/20000 learning episodes - average reward: 1.582\n",
      "After 10000/20000 learning episodes - average reward: 6.444\n",
      "After 12000/20000 learning episodes - average reward: 7.428\n",
      "After 14000/20000 learning episodes - average reward: 7.328\n",
      "After 16000/20000 learning episodes - average reward: 7.146\n",
      "After 18000/20000 learning episodes - average reward: 7.244\n",
      "After 20000/20000 learning episodes - average reward: 7.55\n"
     ]
    }
   ],
   "source": [
    "reward = agent.learn(n_episodes=n_episodes, n_eval_episodes=n_eval_episodes, eval_period=eval_period)"
   ],
   "metadata": {
    "collapsed": false,
    "pycharm": {
     "name": "#%%\n"
    }
   }
  },
  {
   "cell_type": "code",
   "execution_count": 30,
   "outputs": [],
   "source": [
    "results_gamma.update_results(n_episodes, beta, gamma, epsilon, reward)"
   ],
   "metadata": {
    "collapsed": false,
    "pycharm": {
     "name": "#%%\n"
    }
   }
  },
  {
   "cell_type": "markdown",
   "source": [],
   "metadata": {
    "collapsed": false,
    "pycharm": {
     "name": "#%% md\n"
    }
   }
  },
  {
   "cell_type": "markdown",
   "source": [],
   "metadata": {
    "collapsed": false,
    "pycharm": {
     "name": "#%% md\n"
    }
   }
  },
  {
   "cell_type": "code",
   "execution_count": 31,
   "outputs": [],
   "source": [
    "beta = 0.03\n",
    "gamma = 0.99\n",
    "epsilon = 0.01"
   ],
   "metadata": {
    "collapsed": false,
    "pycharm": {
     "name": "#%%\n"
    }
   }
  },
  {
   "cell_type": "code",
   "execution_count": 32,
   "outputs": [],
   "source": [
    "agent = QlearningAgent(env=env, beta=beta, gamma=gamma, epsilon=epsilon)"
   ],
   "metadata": {
    "collapsed": false,
    "pycharm": {
     "name": "#%%\n"
    }
   }
  },
  {
   "cell_type": "code",
   "execution_count": 33,
   "outputs": [
    {
     "name": "stdout",
     "output_type": "stream",
     "text": [
      "After 2000/20000 learning episodes - average reward: -215.382\n",
      "After 4000/20000 learning episodes - average reward: -93.334\n",
      "After 6000/20000 learning episodes - average reward: -31.656\n",
      "After 8000/20000 learning episodes - average reward: -4.966\n",
      "After 10000/20000 learning episodes - average reward: 7.396\n",
      "After 12000/20000 learning episodes - average reward: 7.488\n",
      "After 14000/20000 learning episodes - average reward: 7.258\n",
      "After 16000/20000 learning episodes - average reward: 7.078\n",
      "After 18000/20000 learning episodes - average reward: 7.402\n",
      "After 20000/20000 learning episodes - average reward: 7.504\n"
     ]
    }
   ],
   "source": [
    "reward = agent.learn(n_episodes=n_episodes, n_eval_episodes=n_eval_episodes, eval_period=eval_period)"
   ],
   "metadata": {
    "collapsed": false,
    "pycharm": {
     "name": "#%%\n"
    }
   }
  },
  {
   "cell_type": "code",
   "execution_count": 34,
   "outputs": [],
   "source": [
    "results_gamma.update_results(n_episodes, beta, gamma, epsilon, reward)"
   ],
   "metadata": {
    "collapsed": false,
    "pycharm": {
     "name": "#%%\n"
    }
   }
  },
  {
   "cell_type": "markdown",
   "source": [],
   "metadata": {
    "collapsed": false,
    "pycharm": {
     "name": "#%% md\n"
    }
   }
  },
  {
   "cell_type": "markdown",
   "source": [],
   "metadata": {
    "collapsed": false,
    "pycharm": {
     "name": "#%% md\n"
    }
   }
  },
  {
   "cell_type": "code",
   "execution_count": 35,
   "outputs": [],
   "source": [
    "beta = 0.03\n",
    "gamma = 0.999\n",
    "epsilon = 0.01"
   ],
   "metadata": {
    "collapsed": false,
    "pycharm": {
     "name": "#%%\n"
    }
   }
  },
  {
   "cell_type": "code",
   "execution_count": 36,
   "outputs": [],
   "source": [
    "agent = QlearningAgent(env=env, beta=beta, gamma=gamma, epsilon=epsilon)"
   ],
   "metadata": {
    "collapsed": false,
    "pycharm": {
     "name": "#%%\n"
    }
   }
  },
  {
   "cell_type": "code",
   "execution_count": 37,
   "outputs": [
    {
     "name": "stdout",
     "output_type": "stream",
     "text": [
      "After 2000/20000 learning episodes - average reward: -255.778\n",
      "After 4000/20000 learning episodes - average reward: -102.792\n",
      "After 6000/20000 learning episodes - average reward: -14.124\n",
      "After 8000/20000 learning episodes - average reward: -0.282\n",
      "After 10000/20000 learning episodes - average reward: 7.124\n",
      "After 12000/20000 learning episodes - average reward: 7.456\n",
      "After 14000/20000 learning episodes - average reward: 7.288\n",
      "After 16000/20000 learning episodes - average reward: 7.364\n",
      "After 18000/20000 learning episodes - average reward: 7.392\n",
      "After 20000/20000 learning episodes - average reward: 7.698\n"
     ]
    }
   ],
   "source": [
    "reward = agent.learn(n_episodes=n_episodes, n_eval_episodes=n_eval_episodes, eval_period=eval_period)"
   ],
   "metadata": {
    "collapsed": false,
    "pycharm": {
     "name": "#%%\n"
    }
   }
  },
  {
   "cell_type": "code",
   "execution_count": 38,
   "outputs": [],
   "source": [
    "results_gamma.update_results(n_episodes, beta, gamma, epsilon, reward)"
   ],
   "metadata": {
    "collapsed": false,
    "pycharm": {
     "name": "#%%\n"
    }
   }
  },
  {
   "cell_type": "markdown",
   "source": [],
   "metadata": {
    "collapsed": false,
    "pycharm": {
     "name": "#%% md\n"
    }
   }
  },
  {
   "cell_type": "markdown",
   "source": [],
   "metadata": {
    "collapsed": false,
    "pycharm": {
     "name": "#%% md\n"
    }
   }
  },
  {
   "cell_type": "code",
   "execution_count": 39,
   "outputs": [],
   "source": [
    "beta = 0.03\n",
    "gamma = 0.8\n",
    "epsilon = 0.01"
   ],
   "metadata": {
    "collapsed": false,
    "pycharm": {
     "name": "#%%\n"
    }
   }
  },
  {
   "cell_type": "code",
   "execution_count": 40,
   "outputs": [],
   "source": [
    "agent = QlearningAgent(env=env, beta=beta, gamma=gamma, epsilon=epsilon)"
   ],
   "metadata": {
    "collapsed": false,
    "pycharm": {
     "name": "#%%\n"
    }
   }
  },
  {
   "cell_type": "code",
   "execution_count": 41,
   "outputs": [
    {
     "name": "stdout",
     "output_type": "stream",
     "text": [
      "After 2000/20000 learning episodes - average reward: -213.438\n",
      "After 4000/20000 learning episodes - average reward: -126.088\n",
      "After 6000/20000 learning episodes - average reward: -64.824\n",
      "After 8000/20000 learning episodes - average reward: -19.336\n",
      "After 10000/20000 learning episodes - average reward: -9.42\n",
      "After 12000/20000 learning episodes - average reward: -7.414\n",
      "After 14000/20000 learning episodes - average reward: -3.496\n",
      "After 16000/20000 learning episodes - average reward: 1.474\n",
      "After 18000/20000 learning episodes - average reward: -2.726\n",
      "After 20000/20000 learning episodes - average reward: 0.826\n"
     ]
    }
   ],
   "source": [
    "reward = agent.learn(n_episodes=n_episodes, n_eval_episodes=n_eval_episodes, eval_period=eval_period)"
   ],
   "metadata": {
    "collapsed": false,
    "pycharm": {
     "name": "#%%\n"
    }
   }
  },
  {
   "cell_type": "code",
   "execution_count": 42,
   "outputs": [],
   "source": [
    "results_gamma.update_results(n_episodes, beta, gamma, epsilon, reward)"
   ],
   "metadata": {
    "collapsed": false,
    "pycharm": {
     "name": "#%%\n"
    }
   }
  },
  {
   "cell_type": "markdown",
   "source": [],
   "metadata": {
    "collapsed": false,
    "pycharm": {
     "name": "#%% md\n"
    }
   }
  },
  {
   "cell_type": "markdown",
   "source": [],
   "metadata": {
    "collapsed": false,
    "pycharm": {
     "name": "#%% md\n"
    }
   }
  },
  {
   "cell_type": "code",
   "execution_count": 43,
   "outputs": [],
   "source": [
    "beta = 0.03\n",
    "gamma = 0.6\n",
    "epsilon = 0.01"
   ],
   "metadata": {
    "collapsed": false,
    "pycharm": {
     "name": "#%%\n"
    }
   }
  },
  {
   "cell_type": "code",
   "execution_count": 44,
   "outputs": [],
   "source": [
    "agent = QlearningAgent(env=env, beta=beta, gamma=gamma, epsilon=epsilon)"
   ],
   "metadata": {
    "collapsed": false,
    "pycharm": {
     "name": "#%%\n"
    }
   }
  },
  {
   "cell_type": "code",
   "execution_count": 45,
   "outputs": [
    {
     "name": "stdout",
     "output_type": "stream",
     "text": [
      "After 2000/20000 learning episodes - average reward: -201.26\n",
      "After 4000/20000 learning episodes - average reward: -149.1\n",
      "After 6000/20000 learning episodes - average reward: -117.466\n",
      "After 8000/20000 learning episodes - average reward: -114.804\n",
      "After 10000/20000 learning episodes - average reward: -83.39\n",
      "After 12000/20000 learning episodes - average reward: -67.466\n",
      "After 14000/20000 learning episodes - average reward: -64.258\n",
      "After 16000/20000 learning episodes - average reward: -62.378\n",
      "After 18000/20000 learning episodes - average reward: -39.184\n",
      "After 20000/20000 learning episodes - average reward: -39.812\n"
     ]
    }
   ],
   "source": [
    "reward = agent.learn(n_episodes=n_episodes, n_eval_episodes=n_eval_episodes, eval_period=eval_period)"
   ],
   "metadata": {
    "collapsed": false,
    "pycharm": {
     "name": "#%%\n"
    }
   }
  },
  {
   "cell_type": "code",
   "execution_count": 46,
   "outputs": [],
   "source": [
    "results_gamma.update_results(n_episodes, beta, gamma, epsilon, reward)"
   ],
   "metadata": {
    "collapsed": false,
    "pycharm": {
     "name": "#%%\n"
    }
   }
  },
  {
   "cell_type": "code",
   "execution_count": 47,
   "outputs": [],
   "source": [
    "results_gamma.sort_results(\"gamma\")"
   ],
   "metadata": {
    "collapsed": false,
    "pycharm": {
     "name": "#%%\n"
    }
   }
  },
  {
   "cell_type": "code",
   "execution_count": 48,
   "outputs": [
    {
     "data": {
      "text/plain": "   Learning episodes  beta  gamma  epsilon  Average reward\n4            20000.0  0.03  0.600     0.01         -39.812\n3            20000.0  0.03  0.800     0.01           0.826\n0            20000.0  0.03  0.950     0.01           7.550\n1            20000.0  0.03  0.990     0.01           7.504\n2            20000.0  0.03  0.999     0.01           7.698",
      "text/html": "<div>\n<style scoped>\n    .dataframe tbody tr th:only-of-type {\n        vertical-align: middle;\n    }\n\n    .dataframe tbody tr th {\n        vertical-align: top;\n    }\n\n    .dataframe thead th {\n        text-align: right;\n    }\n</style>\n<table border=\"1\" class=\"dataframe\">\n  <thead>\n    <tr style=\"text-align: right;\">\n      <th></th>\n      <th>Learning episodes</th>\n      <th>beta</th>\n      <th>gamma</th>\n      <th>epsilon</th>\n      <th>Average reward</th>\n    </tr>\n  </thead>\n  <tbody>\n    <tr>\n      <th>4</th>\n      <td>20000.0</td>\n      <td>0.03</td>\n      <td>0.600</td>\n      <td>0.01</td>\n      <td>-39.812</td>\n    </tr>\n    <tr>\n      <th>3</th>\n      <td>20000.0</td>\n      <td>0.03</td>\n      <td>0.800</td>\n      <td>0.01</td>\n      <td>0.826</td>\n    </tr>\n    <tr>\n      <th>0</th>\n      <td>20000.0</td>\n      <td>0.03</td>\n      <td>0.950</td>\n      <td>0.01</td>\n      <td>7.550</td>\n    </tr>\n    <tr>\n      <th>1</th>\n      <td>20000.0</td>\n      <td>0.03</td>\n      <td>0.990</td>\n      <td>0.01</td>\n      <td>7.504</td>\n    </tr>\n    <tr>\n      <th>2</th>\n      <td>20000.0</td>\n      <td>0.03</td>\n      <td>0.999</td>\n      <td>0.01</td>\n      <td>7.698</td>\n    </tr>\n  </tbody>\n</table>\n</div>"
     },
     "execution_count": 48,
     "metadata": {},
     "output_type": "execute_result"
    }
   ],
   "source": [
    "results_gamma.results"
   ],
   "metadata": {
    "collapsed": false,
    "pycharm": {
     "name": "#%%\n"
    }
   }
  },
  {
   "cell_type": "markdown",
   "source": [],
   "metadata": {
    "collapsed": false,
    "pycharm": {
     "name": "#%% md\n"
    }
   }
  },
  {
   "cell_type": "markdown",
   "source": [
    "#### 3.3 Badanie wpływu wartości parametru $\\epsilon$"
   ],
   "metadata": {
    "collapsed": false,
    "pycharm": {
     "name": "#%% md\n"
    }
   }
  },
  {
   "cell_type": "code",
   "execution_count": 49,
   "outputs": [],
   "source": [
    "results_epsilon = Results()"
   ],
   "metadata": {
    "collapsed": false,
    "pycharm": {
     "name": "#%%\n"
    }
   }
  },
  {
   "cell_type": "code",
   "execution_count": 50,
   "outputs": [],
   "source": [
    "beta = 0.03\n",
    "gamma = 0.9\n",
    "epsilon = 0.05"
   ],
   "metadata": {
    "collapsed": false,
    "pycharm": {
     "name": "#%%\n"
    }
   }
  },
  {
   "cell_type": "code",
   "execution_count": 51,
   "outputs": [],
   "source": [
    "agent = QlearningAgent(env=env, beta=beta, gamma=gamma, epsilon=epsilon)"
   ],
   "metadata": {
    "collapsed": false,
    "pycharm": {
     "name": "#%%\n"
    }
   }
  },
  {
   "cell_type": "code",
   "execution_count": 52,
   "outputs": [
    {
     "name": "stdout",
     "output_type": "stream",
     "text": [
      "After 2000/20000 learning episodes - average reward: -206.832\n",
      "After 4000/20000 learning episodes - average reward: -80.504\n",
      "After 6000/20000 learning episodes - average reward: -17.9\n",
      "After 8000/20000 learning episodes - average reward: -3.29\n",
      "After 10000/20000 learning episodes - average reward: 4.682\n",
      "After 12000/20000 learning episodes - average reward: 4.712\n",
      "After 14000/20000 learning episodes - average reward: 4.74\n",
      "After 16000/20000 learning episodes - average reward: 5.482\n",
      "After 18000/20000 learning episodes - average reward: 5.206\n",
      "After 20000/20000 learning episodes - average reward: 5.16\n"
     ]
    }
   ],
   "source": [
    "reward = agent.learn(n_episodes=n_episodes, n_eval_episodes=n_eval_episodes, eval_period=eval_period)"
   ],
   "metadata": {
    "collapsed": false,
    "pycharm": {
     "name": "#%%\n"
    }
   }
  },
  {
   "cell_type": "code",
   "execution_count": 53,
   "outputs": [],
   "source": [
    "results_epsilon.update_results(n_episodes, beta, gamma, epsilon, reward)"
   ],
   "metadata": {
    "collapsed": false,
    "pycharm": {
     "name": "#%%\n"
    }
   }
  },
  {
   "cell_type": "markdown",
   "source": [],
   "metadata": {
    "collapsed": false,
    "pycharm": {
     "name": "#%% md\n"
    }
   }
  },
  {
   "cell_type": "markdown",
   "source": [],
   "metadata": {
    "collapsed": false,
    "pycharm": {
     "name": "#%% md\n"
    }
   }
  },
  {
   "cell_type": "code",
   "execution_count": 54,
   "outputs": [],
   "source": [
    "beta = 0.03\n",
    "gamma = 0.9\n",
    "epsilon = 0.1"
   ],
   "metadata": {
    "collapsed": false,
    "pycharm": {
     "name": "#%%\n"
    }
   }
  },
  {
   "cell_type": "code",
   "execution_count": 55,
   "outputs": [],
   "source": [
    "agent = QlearningAgent(env=env, beta=beta, gamma=gamma, epsilon=epsilon)"
   ],
   "metadata": {
    "collapsed": false,
    "pycharm": {
     "name": "#%%\n"
    }
   }
  },
  {
   "cell_type": "code",
   "execution_count": 56,
   "outputs": [
    {
     "name": "stdout",
     "output_type": "stream",
     "text": [
      "After 2000/20000 learning episodes - average reward: -194.29\n",
      "After 4000/20000 learning episodes - average reward: -52.172\n",
      "After 6000/20000 learning episodes - average reward: -13.088\n",
      "After 8000/20000 learning episodes - average reward: -4.35\n",
      "After 10000/20000 learning episodes - average reward: 1.19\n",
      "After 12000/20000 learning episodes - average reward: 2.648\n",
      "After 14000/20000 learning episodes - average reward: 2.076\n",
      "After 16000/20000 learning episodes - average reward: 2.144\n",
      "After 18000/20000 learning episodes - average reward: 2.898\n",
      "After 20000/20000 learning episodes - average reward: 2.118\n"
     ]
    }
   ],
   "source": [
    "reward = agent.learn(n_episodes=n_episodes, n_eval_episodes=n_eval_episodes, eval_period=eval_period)"
   ],
   "metadata": {
    "collapsed": false,
    "pycharm": {
     "name": "#%%\n"
    }
   }
  },
  {
   "cell_type": "code",
   "execution_count": 57,
   "outputs": [],
   "source": [
    "results_epsilon.update_results(n_episodes, beta, gamma, epsilon, reward)"
   ],
   "metadata": {
    "collapsed": false,
    "pycharm": {
     "name": "#%%\n"
    }
   }
  },
  {
   "cell_type": "markdown",
   "source": [],
   "metadata": {
    "collapsed": false,
    "pycharm": {
     "name": "#%% md\n"
    }
   }
  },
  {
   "cell_type": "markdown",
   "source": [],
   "metadata": {
    "collapsed": false,
    "pycharm": {
     "name": "#%% md\n"
    }
   }
  },
  {
   "cell_type": "code",
   "execution_count": 58,
   "outputs": [],
   "source": [
    "beta = 0.03\n",
    "gamma = 0.9\n",
    "epsilon = 0.2"
   ],
   "metadata": {
    "collapsed": false,
    "pycharm": {
     "name": "#%%\n"
    }
   }
  },
  {
   "cell_type": "code",
   "execution_count": 59,
   "outputs": [],
   "source": [
    "agent = QlearningAgent(env=env, beta=beta, gamma=gamma, epsilon=epsilon)"
   ],
   "metadata": {
    "collapsed": false,
    "pycharm": {
     "name": "#%%\n"
    }
   }
  },
  {
   "cell_type": "code",
   "execution_count": 60,
   "outputs": [
    {
     "name": "stdout",
     "output_type": "stream",
     "text": [
      "After 2000/20000 learning episodes - average reward: -228.964\n",
      "After 4000/20000 learning episodes - average reward: -65.712\n",
      "After 6000/20000 learning episodes - average reward: -19.906\n",
      "After 8000/20000 learning episodes - average reward: -9.816\n",
      "After 10000/20000 learning episodes - average reward: -5.226\n",
      "After 12000/20000 learning episodes - average reward: -6.08\n",
      "After 14000/20000 learning episodes - average reward: -3.872\n",
      "After 16000/20000 learning episodes - average reward: -4.592\n",
      "After 18000/20000 learning episodes - average reward: -4.334\n",
      "After 20000/20000 learning episodes - average reward: -4.742\n"
     ]
    }
   ],
   "source": [
    "reward = agent.learn(n_episodes=n_episodes, n_eval_episodes=n_eval_episodes, eval_period=eval_period)"
   ],
   "metadata": {
    "collapsed": false,
    "pycharm": {
     "name": "#%%\n"
    }
   }
  },
  {
   "cell_type": "code",
   "execution_count": 61,
   "outputs": [],
   "source": [
    "results_epsilon.update_results(n_episodes, beta, gamma, epsilon, reward)"
   ],
   "metadata": {
    "collapsed": false,
    "pycharm": {
     "name": "#%%\n"
    }
   }
  },
  {
   "cell_type": "markdown",
   "source": [],
   "metadata": {
    "collapsed": false,
    "pycharm": {
     "name": "#%% md\n"
    }
   }
  },
  {
   "cell_type": "markdown",
   "source": [],
   "metadata": {
    "collapsed": false,
    "pycharm": {
     "name": "#%% md\n"
    }
   }
  },
  {
   "cell_type": "code",
   "execution_count": 62,
   "outputs": [],
   "source": [
    "beta = 0.03\n",
    "gamma = 0.9\n",
    "epsilon = 0.5"
   ],
   "metadata": {
    "collapsed": false,
    "pycharm": {
     "name": "#%%\n"
    }
   }
  },
  {
   "cell_type": "code",
   "execution_count": 63,
   "outputs": [],
   "source": [
    "agent = QlearningAgent(env=env, beta=beta, gamma=gamma, epsilon=epsilon)"
   ],
   "metadata": {
    "collapsed": false,
    "pycharm": {
     "name": "#%%\n"
    }
   }
  },
  {
   "cell_type": "code",
   "execution_count": 64,
   "outputs": [
    {
     "name": "stdout",
     "output_type": "stream",
     "text": [
      "After 2000/20000 learning episodes - average reward: -319.056\n",
      "After 4000/20000 learning episodes - average reward: -93.28\n",
      "After 6000/20000 learning episodes - average reward: -57.288\n",
      "After 8000/20000 learning episodes - average reward: -48.666\n",
      "After 10000/20000 learning episodes - average reward: -48.088\n",
      "After 12000/20000 learning episodes - average reward: -45.686\n",
      "After 14000/20000 learning episodes - average reward: -52.022\n",
      "After 16000/20000 learning episodes - average reward: -48.556\n",
      "After 18000/20000 learning episodes - average reward: -48.978\n",
      "After 20000/20000 learning episodes - average reward: -49.836\n"
     ]
    }
   ],
   "source": [
    "reward = agent.learn(n_episodes=n_episodes, n_eval_episodes=n_eval_episodes, eval_period=eval_period)"
   ],
   "metadata": {
    "collapsed": false,
    "pycharm": {
     "name": "#%%\n"
    }
   }
  },
  {
   "cell_type": "code",
   "execution_count": 65,
   "outputs": [],
   "source": [
    "results_epsilon.update_results(n_episodes, beta, gamma, epsilon, reward)"
   ],
   "metadata": {
    "collapsed": false,
    "pycharm": {
     "name": "#%%\n"
    }
   }
  },
  {
   "cell_type": "markdown",
   "source": [],
   "metadata": {
    "collapsed": false,
    "pycharm": {
     "name": "#%% md\n"
    }
   }
  },
  {
   "cell_type": "markdown",
   "source": [],
   "metadata": {
    "collapsed": false,
    "pycharm": {
     "name": "#%% md\n"
    }
   }
  },
  {
   "cell_type": "code",
   "execution_count": 66,
   "outputs": [],
   "source": [
    "beta = 0.03\n",
    "gamma = 0.9\n",
    "epsilon = 1"
   ],
   "metadata": {
    "collapsed": false,
    "pycharm": {
     "name": "#%%\n"
    }
   }
  },
  {
   "cell_type": "code",
   "execution_count": 67,
   "outputs": [],
   "source": [
    "agent = QlearningAgent(env=env, beta=beta, gamma=gamma, epsilon=epsilon)"
   ],
   "metadata": {
    "collapsed": false,
    "pycharm": {
     "name": "#%%\n"
    }
   }
  },
  {
   "cell_type": "code",
   "execution_count": 68,
   "outputs": [
    {
     "name": "stdout",
     "output_type": "stream",
     "text": [
      "After 2000/20000 learning episodes - average reward: -765.588\n",
      "After 4000/20000 learning episodes - average reward: -769.708\n",
      "After 6000/20000 learning episodes - average reward: -766.946\n",
      "After 8000/20000 learning episodes - average reward: -773.808\n",
      "After 10000/20000 learning episodes - average reward: -760.854\n",
      "After 12000/20000 learning episodes - average reward: -774.11\n",
      "After 14000/20000 learning episodes - average reward: -768.034\n",
      "After 16000/20000 learning episodes - average reward: -769.906\n",
      "After 18000/20000 learning episodes - average reward: -771.422\n",
      "After 20000/20000 learning episodes - average reward: -763.266\n"
     ]
    }
   ],
   "source": [
    "reward = agent.learn(n_episodes=n_episodes, n_eval_episodes=n_eval_episodes, eval_period=eval_period)"
   ],
   "metadata": {
    "collapsed": false,
    "pycharm": {
     "name": "#%%\n"
    }
   }
  },
  {
   "cell_type": "code",
   "execution_count": 69,
   "outputs": [],
   "source": [
    "results_epsilon.update_results(n_episodes, beta, gamma, epsilon, reward)"
   ],
   "metadata": {
    "collapsed": false,
    "pycharm": {
     "name": "#%%\n"
    }
   }
  },
  {
   "cell_type": "markdown",
   "source": [],
   "metadata": {
    "collapsed": false,
    "pycharm": {
     "name": "#%% md\n"
    }
   }
  },
  {
   "cell_type": "markdown",
   "source": [],
   "metadata": {
    "collapsed": false,
    "pycharm": {
     "name": "#%% md\n"
    }
   }
  },
  {
   "cell_type": "code",
   "execution_count": 70,
   "outputs": [],
   "source": [
    "beta = 0.03\n",
    "gamma = 0.9\n",
    "epsilon = 0.005"
   ],
   "metadata": {
    "collapsed": false,
    "pycharm": {
     "name": "#%%\n"
    }
   }
  },
  {
   "cell_type": "code",
   "execution_count": 71,
   "outputs": [],
   "source": [
    "agent = QlearningAgent(env=env, beta=beta, gamma=gamma, epsilon=epsilon)"
   ],
   "metadata": {
    "collapsed": false,
    "pycharm": {
     "name": "#%%\n"
    }
   }
  },
  {
   "cell_type": "code",
   "execution_count": 72,
   "outputs": [
    {
     "name": "stdout",
     "output_type": "stream",
     "text": [
      "After 2000/20000 learning episodes - average reward: -231.524\n",
      "After 4000/20000 learning episodes - average reward: -87.856\n",
      "After 6000/20000 learning episodes - average reward: -42.346\n",
      "After 8000/20000 learning episodes - average reward: -0.466\n",
      "After 10000/20000 learning episodes - average reward: 3.612\n",
      "After 12000/20000 learning episodes - average reward: 7.676\n",
      "After 14000/20000 learning episodes - average reward: 7.22\n",
      "After 16000/20000 learning episodes - average reward: 7.56\n",
      "After 18000/20000 learning episodes - average reward: 7.71\n",
      "After 20000/20000 learning episodes - average reward: 7.634\n"
     ]
    }
   ],
   "source": [
    "reward = agent.learn(n_episodes=n_episodes, n_eval_episodes=n_eval_episodes, eval_period=eval_period)"
   ],
   "metadata": {
    "collapsed": false,
    "pycharm": {
     "name": "#%%\n"
    }
   }
  },
  {
   "cell_type": "code",
   "execution_count": 73,
   "outputs": [],
   "source": [
    "results_epsilon.update_results(n_episodes, beta, gamma, epsilon, reward)"
   ],
   "metadata": {
    "collapsed": false,
    "pycharm": {
     "name": "#%%\n"
    }
   }
  },
  {
   "cell_type": "markdown",
   "source": [],
   "metadata": {
    "collapsed": false,
    "pycharm": {
     "name": "#%% md\n"
    }
   }
  },
  {
   "cell_type": "markdown",
   "source": [],
   "metadata": {
    "collapsed": false,
    "pycharm": {
     "name": "#%% md\n"
    }
   }
  },
  {
   "cell_type": "code",
   "execution_count": 74,
   "outputs": [],
   "source": [
    "beta = 0.03\n",
    "gamma = 0.9\n",
    "epsilon = 0.001"
   ],
   "metadata": {
    "collapsed": false,
    "pycharm": {
     "name": "#%%\n"
    }
   }
  },
  {
   "cell_type": "code",
   "execution_count": 75,
   "outputs": [],
   "source": [
    "agent = QlearningAgent(env=env, beta=beta, gamma=gamma, epsilon=epsilon)"
   ],
   "metadata": {
    "collapsed": false,
    "pycharm": {
     "name": "#%%\n"
    }
   }
  },
  {
   "cell_type": "code",
   "execution_count": 76,
   "outputs": [
    {
     "name": "stdout",
     "output_type": "stream",
     "text": [
      "After 2000/20000 learning episodes - average reward: -258.802\n",
      "After 4000/20000 learning episodes - average reward: -153.74\n",
      "After 6000/20000 learning episodes - average reward: -23.084\n",
      "After 8000/20000 learning episodes - average reward: -9.842\n",
      "After 10000/20000 learning episodes - average reward: 6.256\n",
      "After 12000/20000 learning episodes - average reward: 4.066\n",
      "After 14000/20000 learning episodes - average reward: 8.08\n",
      "After 16000/20000 learning episodes - average reward: 7.822\n",
      "After 18000/20000 learning episodes - average reward: 7.862\n",
      "After 20000/20000 learning episodes - average reward: 7.786\n"
     ]
    }
   ],
   "source": [
    "reward = agent.learn(n_episodes=n_episodes, n_eval_episodes=n_eval_episodes, eval_period=eval_period)"
   ],
   "metadata": {
    "collapsed": false,
    "pycharm": {
     "name": "#%%\n"
    }
   }
  },
  {
   "cell_type": "code",
   "execution_count": 77,
   "outputs": [],
   "source": [
    "results_epsilon.update_results(n_episodes, beta, gamma, epsilon, reward)"
   ],
   "metadata": {
    "collapsed": false,
    "pycharm": {
     "name": "#%%\n"
    }
   }
  },
  {
   "cell_type": "markdown",
   "source": [],
   "metadata": {
    "collapsed": false,
    "pycharm": {
     "name": "#%% md\n"
    }
   }
  },
  {
   "cell_type": "markdown",
   "source": [],
   "metadata": {
    "collapsed": false,
    "pycharm": {
     "name": "#%% md\n"
    }
   }
  },
  {
   "cell_type": "code",
   "execution_count": 78,
   "outputs": [],
   "source": [
    "beta = 0.03\n",
    "gamma = 0.9\n",
    "epsilon = 0.0001"
   ],
   "metadata": {
    "collapsed": false,
    "pycharm": {
     "name": "#%%\n"
    }
   }
  },
  {
   "cell_type": "code",
   "execution_count": 79,
   "outputs": [],
   "source": [
    "agent = QlearningAgent(env=env, beta=beta, gamma=gamma, epsilon=epsilon)"
   ],
   "metadata": {
    "collapsed": false,
    "pycharm": {
     "name": "#%%\n"
    }
   }
  },
  {
   "cell_type": "code",
   "execution_count": 80,
   "outputs": [
    {
     "name": "stdout",
     "output_type": "stream",
     "text": [
      "After 2000/20000 learning episodes - average reward: -235.302\n",
      "After 4000/20000 learning episodes - average reward: -114.92\n",
      "After 6000/20000 learning episodes - average reward: -34.098\n",
      "After 8000/20000 learning episodes - average reward: -2.76\n",
      "After 10000/20000 learning episodes - average reward: 4.676\n",
      "After 12000/20000 learning episodes - average reward: 7.562\n",
      "After 14000/20000 learning episodes - average reward: 7.792\n",
      "After 16000/20000 learning episodes - average reward: 7.926\n",
      "After 18000/20000 learning episodes - average reward: 7.888\n",
      "After 20000/20000 learning episodes - average reward: 7.93\n"
     ]
    }
   ],
   "source": [
    "reward = agent.learn(n_episodes=n_episodes, n_eval_episodes=n_eval_episodes, eval_period=eval_period)"
   ],
   "metadata": {
    "collapsed": false,
    "pycharm": {
     "name": "#%%\n"
    }
   }
  },
  {
   "cell_type": "code",
   "execution_count": 81,
   "outputs": [],
   "source": [
    "results_epsilon.update_results(n_episodes, beta, gamma, epsilon, reward)"
   ],
   "metadata": {
    "collapsed": false,
    "pycharm": {
     "name": "#%%\n"
    }
   }
  },
  {
   "cell_type": "markdown",
   "source": [],
   "metadata": {
    "collapsed": false,
    "pycharm": {
     "name": "#%% md\n"
    }
   }
  },
  {
   "cell_type": "markdown",
   "source": [],
   "metadata": {
    "collapsed": false,
    "pycharm": {
     "name": "#%% md\n"
    }
   }
  },
  {
   "cell_type": "code",
   "execution_count": 82,
   "outputs": [],
   "source": [
    "beta = 0.03\n",
    "gamma = 0.9\n",
    "epsilon = 0"
   ],
   "metadata": {
    "collapsed": false,
    "pycharm": {
     "name": "#%%\n"
    }
   }
  },
  {
   "cell_type": "code",
   "execution_count": 83,
   "outputs": [],
   "source": [
    "agent = QlearningAgent(env=env, beta=beta, gamma=gamma, epsilon=epsilon)"
   ],
   "metadata": {
    "collapsed": false,
    "pycharm": {
     "name": "#%%\n"
    }
   }
  },
  {
   "cell_type": "code",
   "execution_count": 84,
   "outputs": [
    {
     "name": "stdout",
     "output_type": "stream",
     "text": [
      "After 2000/20000 learning episodes - average reward: -274.594\n",
      "After 4000/20000 learning episodes - average reward: -76.946\n",
      "After 6000/20000 learning episodes - average reward: -51.86\n",
      "After 8000/20000 learning episodes - average reward: -1.12\n",
      "After 10000/20000 learning episodes - average reward: 1.736\n",
      "After 12000/20000 learning episodes - average reward: 4.974\n",
      "After 14000/20000 learning episodes - average reward: 8.018\n",
      "After 16000/20000 learning episodes - average reward: 8.068\n",
      "After 18000/20000 learning episodes - average reward: 8.004\n",
      "After 20000/20000 learning episodes - average reward: 8.032\n"
     ]
    }
   ],
   "source": [
    "reward = agent.learn(n_episodes=n_episodes, n_eval_episodes=n_eval_episodes, eval_period=eval_period)"
   ],
   "metadata": {
    "collapsed": false,
    "pycharm": {
     "name": "#%%\n"
    }
   }
  },
  {
   "cell_type": "code",
   "execution_count": 85,
   "outputs": [],
   "source": [
    "results_epsilon.update_results(n_episodes, beta, gamma, epsilon, reward)"
   ],
   "metadata": {
    "collapsed": false,
    "pycharm": {
     "name": "#%%\n"
    }
   }
  },
  {
   "cell_type": "code",
   "execution_count": 86,
   "outputs": [],
   "source": [
    "results_epsilon.sort_results(\"epsilon\")"
   ],
   "metadata": {
    "collapsed": false,
    "pycharm": {
     "name": "#%%\n"
    }
   }
  },
  {
   "cell_type": "code",
   "execution_count": 87,
   "outputs": [
    {
     "data": {
      "text/plain": "   Learning episodes  beta  gamma  epsilon  Average reward\n8            20000.0  0.03    0.9   0.0000           8.032\n7            20000.0  0.03    0.9   0.0001           7.930\n6            20000.0  0.03    0.9   0.0010           7.786\n5            20000.0  0.03    0.9   0.0050           7.634\n0            20000.0  0.03    0.9   0.0500           5.160\n1            20000.0  0.03    0.9   0.1000           2.118\n2            20000.0  0.03    0.9   0.2000          -4.742\n3            20000.0  0.03    0.9   0.5000         -49.836\n4            20000.0  0.03    0.9   1.0000        -763.266",
      "text/html": "<div>\n<style scoped>\n    .dataframe tbody tr th:only-of-type {\n        vertical-align: middle;\n    }\n\n    .dataframe tbody tr th {\n        vertical-align: top;\n    }\n\n    .dataframe thead th {\n        text-align: right;\n    }\n</style>\n<table border=\"1\" class=\"dataframe\">\n  <thead>\n    <tr style=\"text-align: right;\">\n      <th></th>\n      <th>Learning episodes</th>\n      <th>beta</th>\n      <th>gamma</th>\n      <th>epsilon</th>\n      <th>Average reward</th>\n    </tr>\n  </thead>\n  <tbody>\n    <tr>\n      <th>8</th>\n      <td>20000.0</td>\n      <td>0.03</td>\n      <td>0.9</td>\n      <td>0.0000</td>\n      <td>8.032</td>\n    </tr>\n    <tr>\n      <th>7</th>\n      <td>20000.0</td>\n      <td>0.03</td>\n      <td>0.9</td>\n      <td>0.0001</td>\n      <td>7.930</td>\n    </tr>\n    <tr>\n      <th>6</th>\n      <td>20000.0</td>\n      <td>0.03</td>\n      <td>0.9</td>\n      <td>0.0010</td>\n      <td>7.786</td>\n    </tr>\n    <tr>\n      <th>5</th>\n      <td>20000.0</td>\n      <td>0.03</td>\n      <td>0.9</td>\n      <td>0.0050</td>\n      <td>7.634</td>\n    </tr>\n    <tr>\n      <th>0</th>\n      <td>20000.0</td>\n      <td>0.03</td>\n      <td>0.9</td>\n      <td>0.0500</td>\n      <td>5.160</td>\n    </tr>\n    <tr>\n      <th>1</th>\n      <td>20000.0</td>\n      <td>0.03</td>\n      <td>0.9</td>\n      <td>0.1000</td>\n      <td>2.118</td>\n    </tr>\n    <tr>\n      <th>2</th>\n      <td>20000.0</td>\n      <td>0.03</td>\n      <td>0.9</td>\n      <td>0.2000</td>\n      <td>-4.742</td>\n    </tr>\n    <tr>\n      <th>3</th>\n      <td>20000.0</td>\n      <td>0.03</td>\n      <td>0.9</td>\n      <td>0.5000</td>\n      <td>-49.836</td>\n    </tr>\n    <tr>\n      <th>4</th>\n      <td>20000.0</td>\n      <td>0.03</td>\n      <td>0.9</td>\n      <td>1.0000</td>\n      <td>-763.266</td>\n    </tr>\n  </tbody>\n</table>\n</div>"
     },
     "execution_count": 87,
     "metadata": {},
     "output_type": "execute_result"
    }
   ],
   "source": [
    "results_epsilon.results"
   ],
   "metadata": {
    "collapsed": false,
    "pycharm": {
     "name": "#%%\n"
    }
   }
  },
  {
   "cell_type": "markdown",
   "source": [
    "## 4. Podsumowanie"
   ],
   "metadata": {
    "collapsed": false,
    "pycharm": {
     "name": "#%% md\n"
    }
   }
  },
  {
   "cell_type": "code",
   "execution_count": 88,
   "outputs": [],
   "source": [
    "results = pd.concat([results_beta.results, results_gamma.results, results_epsilon.results])"
   ],
   "metadata": {
    "collapsed": false,
    "pycharm": {
     "name": "#%%\n"
    }
   }
  },
  {
   "cell_type": "code",
   "execution_count": 89,
   "outputs": [
    {
     "data": {
      "text/plain": "   Learning episodes   beta  gamma  epsilon  Average reward\n3            20000.0  0.001  0.900   0.0100        -404.234\n0            20000.0  0.030  0.900   0.0100           7.542\n1            20000.0  0.050  0.900   0.0100           7.610\n2            20000.0  0.100  0.900   0.0100           7.374\n4            20000.0  0.030  0.600   0.0100         -39.812\n3            20000.0  0.030  0.800   0.0100           0.826\n0            20000.0  0.030  0.950   0.0100           7.550\n1            20000.0  0.030  0.990   0.0100           7.504\n2            20000.0  0.030  0.999   0.0100           7.698\n8            20000.0  0.030  0.900   0.0000           8.032\n7            20000.0  0.030  0.900   0.0001           7.930\n6            20000.0  0.030  0.900   0.0010           7.786\n5            20000.0  0.030  0.900   0.0050           7.634\n0            20000.0  0.030  0.900   0.0500           5.160\n1            20000.0  0.030  0.900   0.1000           2.118\n2            20000.0  0.030  0.900   0.2000          -4.742\n3            20000.0  0.030  0.900   0.5000         -49.836\n4            20000.0  0.030  0.900   1.0000        -763.266",
      "text/html": "<div>\n<style scoped>\n    .dataframe tbody tr th:only-of-type {\n        vertical-align: middle;\n    }\n\n    .dataframe tbody tr th {\n        vertical-align: top;\n    }\n\n    .dataframe thead th {\n        text-align: right;\n    }\n</style>\n<table border=\"1\" class=\"dataframe\">\n  <thead>\n    <tr style=\"text-align: right;\">\n      <th></th>\n      <th>Learning episodes</th>\n      <th>beta</th>\n      <th>gamma</th>\n      <th>epsilon</th>\n      <th>Average reward</th>\n    </tr>\n  </thead>\n  <tbody>\n    <tr>\n      <th>3</th>\n      <td>20000.0</td>\n      <td>0.001</td>\n      <td>0.900</td>\n      <td>0.0100</td>\n      <td>-404.234</td>\n    </tr>\n    <tr>\n      <th>0</th>\n      <td>20000.0</td>\n      <td>0.030</td>\n      <td>0.900</td>\n      <td>0.0100</td>\n      <td>7.542</td>\n    </tr>\n    <tr>\n      <th>1</th>\n      <td>20000.0</td>\n      <td>0.050</td>\n      <td>0.900</td>\n      <td>0.0100</td>\n      <td>7.610</td>\n    </tr>\n    <tr>\n      <th>2</th>\n      <td>20000.0</td>\n      <td>0.100</td>\n      <td>0.900</td>\n      <td>0.0100</td>\n      <td>7.374</td>\n    </tr>\n    <tr>\n      <th>4</th>\n      <td>20000.0</td>\n      <td>0.030</td>\n      <td>0.600</td>\n      <td>0.0100</td>\n      <td>-39.812</td>\n    </tr>\n    <tr>\n      <th>3</th>\n      <td>20000.0</td>\n      <td>0.030</td>\n      <td>0.800</td>\n      <td>0.0100</td>\n      <td>0.826</td>\n    </tr>\n    <tr>\n      <th>0</th>\n      <td>20000.0</td>\n      <td>0.030</td>\n      <td>0.950</td>\n      <td>0.0100</td>\n      <td>7.550</td>\n    </tr>\n    <tr>\n      <th>1</th>\n      <td>20000.0</td>\n      <td>0.030</td>\n      <td>0.990</td>\n      <td>0.0100</td>\n      <td>7.504</td>\n    </tr>\n    <tr>\n      <th>2</th>\n      <td>20000.0</td>\n      <td>0.030</td>\n      <td>0.999</td>\n      <td>0.0100</td>\n      <td>7.698</td>\n    </tr>\n    <tr>\n      <th>8</th>\n      <td>20000.0</td>\n      <td>0.030</td>\n      <td>0.900</td>\n      <td>0.0000</td>\n      <td>8.032</td>\n    </tr>\n    <tr>\n      <th>7</th>\n      <td>20000.0</td>\n      <td>0.030</td>\n      <td>0.900</td>\n      <td>0.0001</td>\n      <td>7.930</td>\n    </tr>\n    <tr>\n      <th>6</th>\n      <td>20000.0</td>\n      <td>0.030</td>\n      <td>0.900</td>\n      <td>0.0010</td>\n      <td>7.786</td>\n    </tr>\n    <tr>\n      <th>5</th>\n      <td>20000.0</td>\n      <td>0.030</td>\n      <td>0.900</td>\n      <td>0.0050</td>\n      <td>7.634</td>\n    </tr>\n    <tr>\n      <th>0</th>\n      <td>20000.0</td>\n      <td>0.030</td>\n      <td>0.900</td>\n      <td>0.0500</td>\n      <td>5.160</td>\n    </tr>\n    <tr>\n      <th>1</th>\n      <td>20000.0</td>\n      <td>0.030</td>\n      <td>0.900</td>\n      <td>0.1000</td>\n      <td>2.118</td>\n    </tr>\n    <tr>\n      <th>2</th>\n      <td>20000.0</td>\n      <td>0.030</td>\n      <td>0.900</td>\n      <td>0.2000</td>\n      <td>-4.742</td>\n    </tr>\n    <tr>\n      <th>3</th>\n      <td>20000.0</td>\n      <td>0.030</td>\n      <td>0.900</td>\n      <td>0.5000</td>\n      <td>-49.836</td>\n    </tr>\n    <tr>\n      <th>4</th>\n      <td>20000.0</td>\n      <td>0.030</td>\n      <td>0.900</td>\n      <td>1.0000</td>\n      <td>-763.266</td>\n    </tr>\n  </tbody>\n</table>\n</div>"
     },
     "execution_count": 89,
     "metadata": {},
     "output_type": "execute_result"
    }
   ],
   "source": [
    "results"
   ],
   "metadata": {
    "collapsed": false,
    "pycharm": {
     "name": "#%%\n"
    }
   }
  },
  {
   "cell_type": "markdown",
   "source": [
    "Aby móc w łatwy sposób prezentować i analizować rezulaty działania algorytmu dla poszczególnych przypadków, zaimplementowana została prosta klasa ***Results***."
   ],
   "metadata": {
    "collapsed": false,
    "pycharm": {
     "name": "#%% md\n"
    }
   }
  },
  {
   "cell_type": "code",
   "execution_count": 12,
   "outputs": [],
   "source": [
    "class Results:\n",
    "    def __init__(self):\n",
    "        self.results = pd.DataFrame(columns=[\"Learning episodes\", \"beta\", \"gamma\", \"epsilon\", \"Average reward\"])\n",
    "\n",
    "    def update_results(self, n_episodes, beta, gamma, epsilon, average_reward):\n",
    "        self.results.loc[len(self.results)] = [n_episodes, beta, gamma, epsilon, average_reward]\n",
    "\n",
    "    def delete_row(self, index):\n",
    "        self.results.drop([index], axis=0, inplace=True)\n",
    "\n",
    "    def sort_results(self, column_name):\n",
    "        self.results = self.results.sort_values(by=[column_name])\n",
    "\n",
    "    def __repr__(self):\n",
    "        return self.results.to_string()"
   ],
   "metadata": {
    "collapsed": false,
    "pycharm": {
     "name": "#%%\n"
    }
   }
  },
  {
   "cell_type": "markdown",
   "source": [
    "## 3. Zastosowanie algorytmu"
   ],
   "metadata": {
    "collapsed": false,
    "pycharm": {
     "name": "#%% md\n"
    }
   }
  },
  {
   "cell_type": "code",
   "execution_count": 13,
   "outputs": [],
   "source": [
    "n_episodes = 20000\n",
    "n_eval_episodes = 500\n",
    "eval_period = 2000"
   ],
   "metadata": {
    "collapsed": false,
    "pycharm": {
     "name": "#%%\n"
    }
   }
  },
  {
   "cell_type": "markdown",
   "source": [
    "#### 3.1 Badanie wpływu współczynnika $\\beta$"
   ],
   "metadata": {
    "collapsed": false,
    "pycharm": {
     "name": "#%% md\n"
    }
   }
  },
  {
   "cell_type": "code",
   "execution_count": 14,
   "outputs": [],
   "source": [
    "results_beta = Results()"
   ],
   "metadata": {
    "collapsed": false,
    "pycharm": {
     "name": "#%%\n"
    }
   }
  },
  {
   "cell_type": "code",
   "execution_count": 15,
   "outputs": [],
   "source": [
    "beta = 0.03\n",
    "gamma = 0.9\n",
    "epsilon = 0.01"
   ],
   "metadata": {
    "collapsed": false,
    "pycharm": {
     "name": "#%%\n"
    }
   }
  },
  {
   "cell_type": "code",
   "execution_count": 16,
   "outputs": [],
   "source": [
    "agent = QlearningAgent(env=env, beta=beta, gamma=gamma, epsilon=epsilon)"
   ],
   "metadata": {
    "collapsed": false,
    "pycharm": {
     "name": "#%%\n"
    }
   }
  },
  {
   "cell_type": "code",
   "execution_count": 17,
   "outputs": [
    {
     "data": {
      "text/plain": "{'beta': 0.03, 'gamma': 0.9, 'epsilon': 0.01}"
     },
     "execution_count": 17,
     "metadata": {},
     "output_type": "execute_result"
    }
   ],
   "source": [
    "agent.get_parameters()"
   ],
   "metadata": {
    "collapsed": false,
    "pycharm": {
     "name": "#%%\n"
    }
   }
  },
  {
   "cell_type": "code",
   "execution_count": 330,
   "outputs": [
    {
     "name": "stdout",
     "output_type": "stream",
     "text": [
      "After 2000/20000 learning episodes - average reward: -257.094\n",
      "After 4000/20000 learning episodes - average reward: -141.25\n",
      "After 6000/20000 learning episodes - average reward: -29.326\n",
      "After 8000/20000 learning episodes - average reward: -32.986\n",
      "After 10000/20000 learning episodes - average reward: -4.412\n",
      "After 12000/20000 learning episodes - average reward: 6.962\n",
      "After 14000/20000 learning episodes - average reward: 5.366\n",
      "After 16000/20000 learning episodes - average reward: 7.588\n",
      "After 18000/20000 learning episodes - average reward: 7.402\n",
      "After 20000/20000 learning episodes - average reward: 7.212\n"
     ]
    }
   ],
   "source": [
    "reward = agent.learn(n_episodes=n_episodes, n_eval_episodes=n_eval_episodes, eval_period=eval_period)"
   ],
   "metadata": {
    "collapsed": false,
    "pycharm": {
     "name": "#%%\n"
    }
   }
  },
  {
   "cell_type": "code",
   "execution_count": 331,
   "outputs": [],
   "source": [
    "results_beta.update_results(n_episodes, beta, gamma, epsilon, reward)"
   ],
   "metadata": {
    "collapsed": false,
    "pycharm": {
     "name": "#%%\n"
    }
   }
  },
  {
   "cell_type": "markdown",
   "source": [],
   "metadata": {
    "collapsed": false,
    "pycharm": {
     "name": "#%% md\n"
    }
   }
  },
  {
   "cell_type": "markdown",
   "source": [],
   "metadata": {
    "collapsed": false,
    "pycharm": {
     "name": "#%% md\n"
    }
   }
  },
  {
   "cell_type": "code",
   "execution_count": 332,
   "outputs": [],
   "source": [
    "beta = 0.05\n",
    "gamma = 0.9\n",
    "epsilon = 0.01"
   ],
   "metadata": {
    "collapsed": false,
    "pycharm": {
     "name": "#%%\n"
    }
   }
  },
  {
   "cell_type": "code",
   "execution_count": 333,
   "outputs": [],
   "source": [
    "agent = QlearningAgent(env=env, beta=beta, gamma=gamma, epsilon=epsilon)"
   ],
   "metadata": {
    "collapsed": false,
    "pycharm": {
     "name": "#%%\n"
    }
   }
  },
  {
   "cell_type": "code",
   "execution_count": 334,
   "outputs": [
    {
     "name": "stdout",
     "output_type": "stream",
     "text": [
      "After 2000/20000 learning episodes - average reward: -162.898\n",
      "After 4000/20000 learning episodes - average reward: -39.872\n",
      "After 6000/20000 learning episodes - average reward: 0.3\n",
      "After 8000/20000 learning episodes - average reward: 7.518\n",
      "After 10000/20000 learning episodes - average reward: 7.228\n",
      "After 12000/20000 learning episodes - average reward: 7.536\n",
      "After 14000/20000 learning episodes - average reward: 7.278\n",
      "After 16000/20000 learning episodes - average reward: 7.116\n",
      "After 18000/20000 learning episodes - average reward: 7.32\n",
      "After 20000/20000 learning episodes - average reward: 7.342\n"
     ]
    }
   ],
   "source": [
    "reward = agent.learn(n_episodes=n_episodes, n_eval_episodes=n_eval_episodes, eval_period=eval_period)"
   ],
   "metadata": {
    "collapsed": false,
    "pycharm": {
     "name": "#%%\n"
    }
   }
  },
  {
   "cell_type": "code",
   "execution_count": 335,
   "outputs": [],
   "source": [
    "results_beta.update_results(n_episodes, beta, gamma, epsilon, reward)"
   ],
   "metadata": {
    "collapsed": false,
    "pycharm": {
     "name": "#%%\n"
    }
   }
  },
  {
   "cell_type": "markdown",
   "source": [],
   "metadata": {
    "collapsed": false,
    "pycharm": {
     "name": "#%% md\n"
    }
   }
  },
  {
   "cell_type": "markdown",
   "source": [],
   "metadata": {
    "collapsed": false,
    "pycharm": {
     "name": "#%% md\n"
    }
   }
  },
  {
   "cell_type": "code",
   "execution_count": 336,
   "outputs": [],
   "source": [
    "beta = 0.1\n",
    "gamma = 0.9\n",
    "epsilon = 0.01"
   ],
   "metadata": {
    "collapsed": false,
    "pycharm": {
     "name": "#%%\n"
    }
   }
  },
  {
   "cell_type": "code",
   "execution_count": 337,
   "outputs": [],
   "source": [
    "agent = QlearningAgent(env=env, beta=beta, gamma=gamma, epsilon=epsilon)"
   ],
   "metadata": {
    "collapsed": false,
    "pycharm": {
     "name": "#%%\n"
    }
   }
  },
  {
   "cell_type": "code",
   "execution_count": 338,
   "outputs": [
    {
     "name": "stdout",
     "output_type": "stream",
     "text": [
      "After 2000/20000 learning episodes - average reward: -24.792\n",
      "After 4000/20000 learning episodes - average reward: 6.02\n",
      "After 6000/20000 learning episodes - average reward: 7.648\n",
      "After 8000/20000 learning episodes - average reward: 7.686\n",
      "After 10000/20000 learning episodes - average reward: 7.598\n",
      "After 12000/20000 learning episodes - average reward: 7.52\n",
      "After 14000/20000 learning episodes - average reward: 6.792\n",
      "After 16000/20000 learning episodes - average reward: 7.452\n",
      "After 18000/20000 learning episodes - average reward: 7.482\n",
      "After 20000/20000 learning episodes - average reward: 7.112\n"
     ]
    }
   ],
   "source": [
    "reward = agent.learn(n_episodes=n_episodes, n_eval_episodes=n_eval_episodes, eval_period=eval_period)"
   ],
   "metadata": {
    "collapsed": false,
    "pycharm": {
     "name": "#%%\n"
    }
   }
  },
  {
   "cell_type": "code",
   "execution_count": 339,
   "outputs": [],
   "source": [
    "results_beta.update_results(n_episodes, beta, gamma, epsilon, reward)"
   ],
   "metadata": {
    "collapsed": false,
    "pycharm": {
     "name": "#%%\n"
    }
   }
  },
  {
   "cell_type": "markdown",
   "source": [],
   "metadata": {
    "collapsed": false,
    "pycharm": {
     "name": "#%% md\n"
    }
   }
  },
  {
   "cell_type": "markdown",
   "source": [],
   "metadata": {
    "collapsed": false,
    "pycharm": {
     "name": "#%% md\n"
    }
   }
  },
  {
   "cell_type": "code",
   "execution_count": 340,
   "outputs": [],
   "source": [
    "beta = 0.001\n",
    "gamma = 0.9\n",
    "epsilon = 0.01"
   ],
   "metadata": {
    "collapsed": false,
    "pycharm": {
     "name": "#%%\n"
    }
   }
  },
  {
   "cell_type": "code",
   "execution_count": 341,
   "outputs": [],
   "source": [
    "agent = QlearningAgent(env=env, beta=beta, gamma=gamma, epsilon=epsilon)"
   ],
   "metadata": {
    "collapsed": false,
    "pycharm": {
     "name": "#%%\n"
    }
   }
  },
  {
   "cell_type": "code",
   "execution_count": 342,
   "outputs": [
    {
     "name": "stdout",
     "output_type": "stream",
     "text": [
      "After 2000/20000 learning episodes - average reward: -358.934\n",
      "After 4000/20000 learning episodes - average reward: -249.356\n",
      "After 6000/20000 learning episodes - average reward: -274.808\n",
      "After 8000/20000 learning episodes - average reward: -354.836\n",
      "After 10000/20000 learning episodes - average reward: -360.918\n",
      "After 12000/20000 learning episodes - average reward: -271.586\n",
      "After 14000/20000 learning episodes - average reward: -273.998\n",
      "After 16000/20000 learning episodes - average reward: -288.786\n",
      "After 18000/20000 learning episodes - average reward: -290.2\n",
      "After 20000/20000 learning episodes - average reward: -247.772\n"
     ]
    }
   ],
   "source": [
    "reward = agent.learn(n_episodes=n_episodes, n_eval_episodes=n_eval_episodes, eval_period=eval_period)"
   ],
   "metadata": {
    "collapsed": false,
    "pycharm": {
     "name": "#%%\n"
    }
   }
  },
  {
   "cell_type": "code",
   "execution_count": 343,
   "outputs": [],
   "source": [
    "results_beta.update_results(n_episodes, beta, gamma, epsilon, reward)"
   ],
   "metadata": {
    "collapsed": false,
    "pycharm": {
     "name": "#%%\n"
    }
   }
  },
  {
   "cell_type": "code",
   "execution_count": 344,
   "outputs": [],
   "source": [
    "results_beta.sort_results(\"beta\")"
   ],
   "metadata": {
    "collapsed": false,
    "pycharm": {
     "name": "#%%\n"
    }
   }
  },
  {
   "cell_type": "code",
   "execution_count": 345,
   "outputs": [
    {
     "data": {
      "text/plain": "   Learning episodes   beta  gamma  epsilon  Average reward\n3            20000.0  0.001    0.9     0.01        -247.772\n0            20000.0  0.030    0.9     0.01           7.212\n1            20000.0  0.050    0.9     0.01           7.342\n2            20000.0  0.100    0.9     0.01           7.112",
      "text/html": "<div>\n<style scoped>\n    .dataframe tbody tr th:only-of-type {\n        vertical-align: middle;\n    }\n\n    .dataframe tbody tr th {\n        vertical-align: top;\n    }\n\n    .dataframe thead th {\n        text-align: right;\n    }\n</style>\n<table border=\"1\" class=\"dataframe\">\n  <thead>\n    <tr style=\"text-align: right;\">\n      <th></th>\n      <th>Learning episodes</th>\n      <th>beta</th>\n      <th>gamma</th>\n      <th>epsilon</th>\n      <th>Average reward</th>\n    </tr>\n  </thead>\n  <tbody>\n    <tr>\n      <th>3</th>\n      <td>20000.0</td>\n      <td>0.001</td>\n      <td>0.9</td>\n      <td>0.01</td>\n      <td>-247.772</td>\n    </tr>\n    <tr>\n      <th>0</th>\n      <td>20000.0</td>\n      <td>0.030</td>\n      <td>0.9</td>\n      <td>0.01</td>\n      <td>7.212</td>\n    </tr>\n    <tr>\n      <th>1</th>\n      <td>20000.0</td>\n      <td>0.050</td>\n      <td>0.9</td>\n      <td>0.01</td>\n      <td>7.342</td>\n    </tr>\n    <tr>\n      <th>2</th>\n      <td>20000.0</td>\n      <td>0.100</td>\n      <td>0.9</td>\n      <td>0.01</td>\n      <td>7.112</td>\n    </tr>\n  </tbody>\n</table>\n</div>"
     },
     "execution_count": 345,
     "metadata": {},
     "output_type": "execute_result"
    }
   ],
   "source": [
    "results_beta.results"
   ],
   "metadata": {
    "collapsed": false,
    "pycharm": {
     "name": "#%%\n"
    }
   }
  },
  {
   "cell_type": "markdown",
   "source": [
    "#### 3.2 Badanie wpływu współczynnika $\\gamma$"
   ],
   "metadata": {
    "collapsed": false,
    "pycharm": {
     "name": "#%% md\n"
    }
   }
  },
  {
   "cell_type": "code",
   "execution_count": 346,
   "outputs": [],
   "source": [
    "results_gamma = Results()"
   ],
   "metadata": {
    "collapsed": false,
    "pycharm": {
     "name": "#%%\n"
    }
   }
  },
  {
   "cell_type": "code",
   "execution_count": 347,
   "outputs": [],
   "source": [
    "beta = 0.03\n",
    "gamma = 0.95\n",
    "epsilon = 0.01"
   ],
   "metadata": {
    "collapsed": false,
    "pycharm": {
     "name": "#%%\n"
    }
   }
  },
  {
   "cell_type": "code",
   "execution_count": 348,
   "outputs": [],
   "source": [
    "agent = QlearningAgent(env=env, beta=beta, gamma=gamma, epsilon=epsilon)"
   ],
   "metadata": {
    "collapsed": false,
    "pycharm": {
     "name": "#%%\n"
    }
   }
  },
  {
   "cell_type": "code",
   "execution_count": 349,
   "outputs": [
    {
     "name": "stdout",
     "output_type": "stream",
     "text": [
      "After 2000/20000 learning episodes - average reward: -217.816\n",
      "After 4000/20000 learning episodes - average reward: -144.682\n",
      "After 6000/20000 learning episodes - average reward: -17.73\n",
      "After 8000/20000 learning episodes - average reward: 4.996\n",
      "After 10000/20000 learning episodes - average reward: -5.194\n",
      "After 12000/20000 learning episodes - average reward: 7.394\n",
      "After 14000/20000 learning episodes - average reward: 7.442\n",
      "After 16000/20000 learning episodes - average reward: 7.236\n",
      "After 18000/20000 learning episodes - average reward: 7.538\n",
      "After 20000/20000 learning episodes - average reward: 7.312\n"
     ]
    }
   ],
   "source": [
    "reward = agent.learn(n_episodes=n_episodes, n_eval_episodes=n_eval_episodes, eval_period=eval_period)"
   ],
   "metadata": {
    "collapsed": false,
    "pycharm": {
     "name": "#%%\n"
    }
   }
  },
  {
   "cell_type": "code",
   "execution_count": 350,
   "outputs": [],
   "source": [
    "results_gamma.update_results(n_episodes, beta, gamma, epsilon, reward)"
   ],
   "metadata": {
    "collapsed": false,
    "pycharm": {
     "name": "#%%\n"
    }
   }
  },
  {
   "cell_type": "markdown",
   "source": [],
   "metadata": {
    "collapsed": false,
    "pycharm": {
     "name": "#%% md\n"
    }
   }
  },
  {
   "cell_type": "markdown",
   "source": [],
   "metadata": {
    "collapsed": false,
    "pycharm": {
     "name": "#%% md\n"
    }
   }
  },
  {
   "cell_type": "code",
   "execution_count": 351,
   "outputs": [],
   "source": [
    "beta = 0.03\n",
    "gamma = 0.99\n",
    "epsilon = 0.01"
   ],
   "metadata": {
    "collapsed": false,
    "pycharm": {
     "name": "#%%\n"
    }
   }
  },
  {
   "cell_type": "code",
   "execution_count": 352,
   "outputs": [],
   "source": [
    "agent = QlearningAgent(env=env, beta=beta, gamma=gamma, epsilon=epsilon)"
   ],
   "metadata": {
    "collapsed": false,
    "pycharm": {
     "name": "#%%\n"
    }
   }
  },
  {
   "cell_type": "code",
   "execution_count": 353,
   "outputs": [
    {
     "name": "stdout",
     "output_type": "stream",
     "text": [
      "After 2000/20000 learning episodes - average reward: -318.338\n",
      "After 4000/20000 learning episodes - average reward: -95.568\n",
      "After 6000/20000 learning episodes - average reward: -14.472\n",
      "After 8000/20000 learning episodes - average reward: 5.588\n",
      "After 10000/20000 learning episodes - average reward: 7.186\n",
      "After 12000/20000 learning episodes - average reward: 7.36\n",
      "After 14000/20000 learning episodes - average reward: 7.454\n",
      "After 16000/20000 learning episodes - average reward: 7.494\n",
      "After 18000/20000 learning episodes - average reward: 7.426\n",
      "After 20000/20000 learning episodes - average reward: 7.35\n"
     ]
    }
   ],
   "source": [
    "reward = agent.learn(n_episodes=n_episodes, n_eval_episodes=n_eval_episodes, eval_period=eval_period)"
   ],
   "metadata": {
    "collapsed": false,
    "pycharm": {
     "name": "#%%\n"
    }
   }
  },
  {
   "cell_type": "code",
   "execution_count": 354,
   "outputs": [],
   "source": [
    "results_gamma.update_results(n_episodes, beta, gamma, epsilon, reward)"
   ],
   "metadata": {
    "collapsed": false,
    "pycharm": {
     "name": "#%%\n"
    }
   }
  },
  {
   "cell_type": "markdown",
   "source": [],
   "metadata": {
    "collapsed": false,
    "pycharm": {
     "name": "#%% md\n"
    }
   }
  },
  {
   "cell_type": "markdown",
   "source": [],
   "metadata": {
    "collapsed": false,
    "pycharm": {
     "name": "#%% md\n"
    }
   }
  },
  {
   "cell_type": "code",
   "execution_count": 355,
   "outputs": [],
   "source": [
    "beta = 0.03\n",
    "gamma = 0.999\n",
    "epsilon = 0.01"
   ],
   "metadata": {
    "collapsed": false,
    "pycharm": {
     "name": "#%%\n"
    }
   }
  },
  {
   "cell_type": "code",
   "execution_count": 356,
   "outputs": [],
   "source": [
    "agent = QlearningAgent(env=env, beta=beta, gamma=gamma, epsilon=epsilon)"
   ],
   "metadata": {
    "collapsed": false,
    "pycharm": {
     "name": "#%%\n"
    }
   }
  },
  {
   "cell_type": "code",
   "execution_count": 357,
   "outputs": [
    {
     "name": "stdout",
     "output_type": "stream",
     "text": [
      "After 2000/20000 learning episodes - average reward: -330.794\n",
      "After 4000/20000 learning episodes - average reward: -90.86\n",
      "After 6000/20000 learning episodes - average reward: -11.456\n",
      "After 8000/20000 learning episodes - average reward: 2.686\n",
      "After 10000/20000 learning episodes - average reward: 7.37\n",
      "After 12000/20000 learning episodes - average reward: 7.644\n",
      "After 14000/20000 learning episodes - average reward: 7.38\n",
      "After 16000/20000 learning episodes - average reward: 7.044\n",
      "After 18000/20000 learning episodes - average reward: 7.45\n",
      "After 20000/20000 learning episodes - average reward: 7.582\n"
     ]
    }
   ],
   "source": [
    "reward = agent.learn(n_episodes=n_episodes, n_eval_episodes=n_eval_episodes, eval_period=eval_period)"
   ],
   "metadata": {
    "collapsed": false,
    "pycharm": {
     "name": "#%%\n"
    }
   }
  },
  {
   "cell_type": "code",
   "execution_count": 358,
   "outputs": [],
   "source": [
    "results_gamma.update_results(n_episodes, beta, gamma, epsilon, reward)"
   ],
   "metadata": {
    "collapsed": false,
    "pycharm": {
     "name": "#%%\n"
    }
   }
  },
  {
   "cell_type": "markdown",
   "source": [],
   "metadata": {
    "collapsed": false,
    "pycharm": {
     "name": "#%% md\n"
    }
   }
  },
  {
   "cell_type": "markdown",
   "source": [],
   "metadata": {
    "collapsed": false,
    "pycharm": {
     "name": "#%% md\n"
    }
   }
  },
  {
   "cell_type": "code",
   "execution_count": 359,
   "outputs": [],
   "source": [
    "beta = 0.03\n",
    "gamma = 0.8\n",
    "epsilon = 0.01"
   ],
   "metadata": {
    "collapsed": false,
    "pycharm": {
     "name": "#%%\n"
    }
   }
  },
  {
   "cell_type": "code",
   "execution_count": 360,
   "outputs": [],
   "source": [
    "agent = QlearningAgent(env=env, beta=beta, gamma=gamma, epsilon=epsilon)"
   ],
   "metadata": {
    "collapsed": false,
    "pycharm": {
     "name": "#%%\n"
    }
   }
  },
  {
   "cell_type": "code",
   "execution_count": 361,
   "outputs": [
    {
     "name": "stdout",
     "output_type": "stream",
     "text": [
      "After 2000/20000 learning episodes - average reward: -216.558\n",
      "After 4000/20000 learning episodes - average reward: -107.98\n",
      "After 6000/20000 learning episodes - average reward: -92.628\n",
      "After 8000/20000 learning episodes - average reward: -25.068\n",
      "After 10000/20000 learning episodes - average reward: -12.496\n",
      "After 12000/20000 learning episodes - average reward: -5.676\n",
      "After 14000/20000 learning episodes - average reward: -6.916\n",
      "After 16000/20000 learning episodes - average reward: 3.128\n",
      "After 18000/20000 learning episodes - average reward: 2.07\n",
      "After 20000/20000 learning episodes - average reward: -22.116\n"
     ]
    }
   ],
   "source": [
    "reward = agent.learn(n_episodes=n_episodes, n_eval_episodes=n_eval_episodes, eval_period=eval_period)"
   ],
   "metadata": {
    "collapsed": false,
    "pycharm": {
     "name": "#%%\n"
    }
   }
  },
  {
   "cell_type": "code",
   "execution_count": 362,
   "outputs": [],
   "source": [
    "results_gamma.update_results(n_episodes, beta, gamma, epsilon, reward)"
   ],
   "metadata": {
    "collapsed": false,
    "pycharm": {
     "name": "#%%\n"
    }
   }
  },
  {
   "cell_type": "markdown",
   "source": [],
   "metadata": {
    "collapsed": false,
    "pycharm": {
     "name": "#%% md\n"
    }
   }
  },
  {
   "cell_type": "markdown",
   "source": [],
   "metadata": {
    "collapsed": false,
    "pycharm": {
     "name": "#%% md\n"
    }
   }
  },
  {
   "cell_type": "code",
   "execution_count": 363,
   "outputs": [],
   "source": [
    "beta = 0.03\n",
    "gamma = 0.6\n",
    "epsilon = 0.01"
   ],
   "metadata": {
    "collapsed": false,
    "pycharm": {
     "name": "#%%\n"
    }
   }
  },
  {
   "cell_type": "code",
   "execution_count": 364,
   "outputs": [],
   "source": [
    "agent = QlearningAgent(env=env, beta=beta, gamma=gamma, epsilon=epsilon)"
   ],
   "metadata": {
    "collapsed": false,
    "pycharm": {
     "name": "#%%\n"
    }
   }
  },
  {
   "cell_type": "code",
   "execution_count": 365,
   "outputs": [
    {
     "name": "stdout",
     "output_type": "stream",
     "text": [
      "After 2000/20000 learning episodes - average reward: -210.912\n",
      "After 4000/20000 learning episodes - average reward: -142.57\n",
      "After 6000/20000 learning episodes - average reward: -121.476\n",
      "After 8000/20000 learning episodes - average reward: -101.846\n",
      "After 10000/20000 learning episodes - average reward: -82.382\n",
      "After 12000/20000 learning episodes - average reward: -66.676\n",
      "After 14000/20000 learning episodes - average reward: -51.844\n",
      "After 16000/20000 learning episodes - average reward: -60.442\n",
      "After 18000/20000 learning episodes - average reward: -41.414\n",
      "After 20000/20000 learning episodes - average reward: -31.144\n"
     ]
    }
   ],
   "source": [
    "reward = agent.learn(n_episodes=n_episodes, n_eval_episodes=n_eval_episodes, eval_period=eval_period)"
   ],
   "metadata": {
    "collapsed": false,
    "pycharm": {
     "name": "#%%\n"
    }
   }
  },
  {
   "cell_type": "code",
   "execution_count": 366,
   "outputs": [],
   "source": [
    "results_gamma.update_results(n_episodes, beta, gamma, epsilon, reward)"
   ],
   "metadata": {
    "collapsed": false,
    "pycharm": {
     "name": "#%%\n"
    }
   }
  },
  {
   "cell_type": "code",
   "execution_count": 367,
   "outputs": [],
   "source": [
    "results_gamma.sort_results(\"gamma\")"
   ],
   "metadata": {
    "collapsed": false,
    "pycharm": {
     "name": "#%%\n"
    }
   }
  },
  {
   "cell_type": "code",
   "execution_count": 368,
   "outputs": [
    {
     "data": {
      "text/plain": "   Learning episodes  beta  gamma  epsilon  Average reward\n4            20000.0  0.03  0.600     0.01         -31.144\n3            20000.0  0.03  0.800     0.01         -22.116\n0            20000.0  0.03  0.950     0.01           7.312\n1            20000.0  0.03  0.990     0.01           7.350\n2            20000.0  0.03  0.999     0.01           7.582",
      "text/html": "<div>\n<style scoped>\n    .dataframe tbody tr th:only-of-type {\n        vertical-align: middle;\n    }\n\n    .dataframe tbody tr th {\n        vertical-align: top;\n    }\n\n    .dataframe thead th {\n        text-align: right;\n    }\n</style>\n<table border=\"1\" class=\"dataframe\">\n  <thead>\n    <tr style=\"text-align: right;\">\n      <th></th>\n      <th>Learning episodes</th>\n      <th>beta</th>\n      <th>gamma</th>\n      <th>epsilon</th>\n      <th>Average reward</th>\n    </tr>\n  </thead>\n  <tbody>\n    <tr>\n      <th>4</th>\n      <td>20000.0</td>\n      <td>0.03</td>\n      <td>0.600</td>\n      <td>0.01</td>\n      <td>-31.144</td>\n    </tr>\n    <tr>\n      <th>3</th>\n      <td>20000.0</td>\n      <td>0.03</td>\n      <td>0.800</td>\n      <td>0.01</td>\n      <td>-22.116</td>\n    </tr>\n    <tr>\n      <th>0</th>\n      <td>20000.0</td>\n      <td>0.03</td>\n      <td>0.950</td>\n      <td>0.01</td>\n      <td>7.312</td>\n    </tr>\n    <tr>\n      <th>1</th>\n      <td>20000.0</td>\n      <td>0.03</td>\n      <td>0.990</td>\n      <td>0.01</td>\n      <td>7.350</td>\n    </tr>\n    <tr>\n      <th>2</th>\n      <td>20000.0</td>\n      <td>0.03</td>\n      <td>0.999</td>\n      <td>0.01</td>\n      <td>7.582</td>\n    </tr>\n  </tbody>\n</table>\n</div>"
     },
     "execution_count": 368,
     "metadata": {},
     "output_type": "execute_result"
    }
   ],
   "source": [
    "results_gamma.results"
   ],
   "metadata": {
    "collapsed": false,
    "pycharm": {
     "name": "#%%\n"
    }
   }
  },
  {
   "cell_type": "markdown",
   "source": [],
   "metadata": {
    "collapsed": false,
    "pycharm": {
     "name": "#%% md\n"
    }
   }
  },
  {
   "cell_type": "markdown",
   "source": [
    "#### 3.3 Badanie wpływu wartości parametru $\\epsilon$"
   ],
   "metadata": {
    "collapsed": false,
    "pycharm": {
     "name": "#%% md\n"
    }
   }
  },
  {
   "cell_type": "code",
   "execution_count": 370,
   "outputs": [],
   "source": [
    "results_epsilon = Results()"
   ],
   "metadata": {
    "collapsed": false,
    "pycharm": {
     "name": "#%%\n"
    }
   }
  },
  {
   "cell_type": "code",
   "execution_count": 371,
   "outputs": [],
   "source": [
    "beta = 0.03\n",
    "gamma = 0.9\n",
    "epsilon = 0.05"
   ],
   "metadata": {
    "collapsed": false,
    "pycharm": {
     "name": "#%%\n"
    }
   }
  },
  {
   "cell_type": "code",
   "execution_count": 372,
   "outputs": [],
   "source": [
    "agent = QlearningAgent(env=env, beta=beta, gamma=gamma, epsilon=epsilon)"
   ],
   "metadata": {
    "collapsed": false,
    "pycharm": {
     "name": "#%%\n"
    }
   }
  },
  {
   "cell_type": "code",
   "execution_count": 373,
   "outputs": [
    {
     "name": "stdout",
     "output_type": "stream",
     "text": [
      "After 2000/20000 learning episodes - average reward: -210.868\n",
      "After 4000/20000 learning episodes - average reward: -56.588\n",
      "After 6000/20000 learning episodes - average reward: -9.576\n",
      "After 8000/20000 learning episodes - average reward: -5.61\n",
      "After 10000/20000 learning episodes - average reward: 3.264\n",
      "After 12000/20000 learning episodes - average reward: 4.158\n",
      "After 14000/20000 learning episodes - average reward: 5.588\n",
      "After 16000/20000 learning episodes - average reward: 5.172\n",
      "After 18000/20000 learning episodes - average reward: 4.694\n",
      "After 20000/20000 learning episodes - average reward: 5.172\n"
     ]
    }
   ],
   "source": [
    "reward = agent.learn(n_episodes=n_episodes, n_eval_episodes=n_eval_episodes, eval_period=eval_period)"
   ],
   "metadata": {
    "collapsed": false,
    "pycharm": {
     "name": "#%%\n"
    }
   }
  },
  {
   "cell_type": "code",
   "execution_count": 374,
   "outputs": [],
   "source": [
    "results_epsilon.update_results(n_episodes, beta, gamma, epsilon, reward)"
   ],
   "metadata": {
    "collapsed": false,
    "pycharm": {
     "name": "#%%\n"
    }
   }
  },
  {
   "cell_type": "markdown",
   "source": [],
   "metadata": {
    "collapsed": false,
    "pycharm": {
     "name": "#%% md\n"
    }
   }
  },
  {
   "cell_type": "markdown",
   "source": [],
   "metadata": {
    "collapsed": false,
    "pycharm": {
     "name": "#%% md\n"
    }
   }
  },
  {
   "cell_type": "code",
   "execution_count": 375,
   "outputs": [],
   "source": [
    "beta = 0.03\n",
    "gamma = 0.9\n",
    "epsilon = 0.1"
   ],
   "metadata": {
    "collapsed": false,
    "pycharm": {
     "name": "#%%\n"
    }
   }
  },
  {
   "cell_type": "code",
   "execution_count": 376,
   "outputs": [],
   "source": [
    "agent = QlearningAgent(env=env, beta=beta, gamma=gamma, epsilon=epsilon)"
   ],
   "metadata": {
    "collapsed": false,
    "pycharm": {
     "name": "#%%\n"
    }
   }
  },
  {
   "cell_type": "code",
   "execution_count": 377,
   "outputs": [
    {
     "name": "stdout",
     "output_type": "stream",
     "text": [
      "After 2000/20000 learning episodes - average reward: -209.75\n",
      "After 4000/20000 learning episodes - average reward: -64.122\n",
      "After 6000/20000 learning episodes - average reward: -9.168\n",
      "After 8000/20000 learning episodes - average reward: -3.708\n",
      "After 10000/20000 learning episodes - average reward: 2.108\n",
      "After 12000/20000 learning episodes - average reward: 2.864\n",
      "After 14000/20000 learning episodes - average reward: 2.338\n",
      "After 16000/20000 learning episodes - average reward: 2.132\n",
      "After 18000/20000 learning episodes - average reward: 2.316\n",
      "After 20000/20000 learning episodes - average reward: 2.322\n"
     ]
    }
   ],
   "source": [
    "reward = agent.learn(n_episodes=n_episodes, n_eval_episodes=n_eval_episodes, eval_period=eval_period)"
   ],
   "metadata": {
    "collapsed": false,
    "pycharm": {
     "name": "#%%\n"
    }
   }
  },
  {
   "cell_type": "code",
   "execution_count": 378,
   "outputs": [],
   "source": [
    "results_epsilon.update_results(n_episodes, beta, gamma, epsilon, reward)"
   ],
   "metadata": {
    "collapsed": false,
    "pycharm": {
     "name": "#%%\n"
    }
   }
  },
  {
   "cell_type": "markdown",
   "source": [],
   "metadata": {
    "collapsed": false,
    "pycharm": {
     "name": "#%% md\n"
    }
   }
  },
  {
   "cell_type": "markdown",
   "source": [],
   "metadata": {
    "collapsed": false,
    "pycharm": {
     "name": "#%% md\n"
    }
   }
  },
  {
   "cell_type": "code",
   "execution_count": 379,
   "outputs": [],
   "source": [
    "beta = 0.03\n",
    "gamma = 0.9\n",
    "epsilon = 0.2"
   ],
   "metadata": {
    "collapsed": false,
    "pycharm": {
     "name": "#%%\n"
    }
   }
  },
  {
   "cell_type": "code",
   "execution_count": 380,
   "outputs": [],
   "source": [
    "agent = QlearningAgent(env=env, beta=beta, gamma=gamma, epsilon=epsilon)"
   ],
   "metadata": {
    "collapsed": false,
    "pycharm": {
     "name": "#%%\n"
    }
   }
  },
  {
   "cell_type": "code",
   "execution_count": 381,
   "outputs": [
    {
     "name": "stdout",
     "output_type": "stream",
     "text": [
      "After 2000/20000 learning episodes - average reward: -236.492\n",
      "After 4000/20000 learning episodes - average reward: -62.758\n",
      "After 6000/20000 learning episodes - average reward: -22.046\n",
      "After 8000/20000 learning episodes - average reward: -6.728\n",
      "After 10000/20000 learning episodes - average reward: -4.58\n",
      "After 12000/20000 learning episodes - average reward: -5.086\n",
      "After 14000/20000 learning episodes - average reward: -5.22\n",
      "After 16000/20000 learning episodes - average reward: -5.332\n",
      "After 18000/20000 learning episodes - average reward: -4.496\n",
      "After 20000/20000 learning episodes - average reward: -5.014\n"
     ]
    }
   ],
   "source": [
    "reward = agent.learn(n_episodes=n_episodes, n_eval_episodes=n_eval_episodes, eval_period=eval_period)"
   ],
   "metadata": {
    "collapsed": false,
    "pycharm": {
     "name": "#%%\n"
    }
   }
  },
  {
   "cell_type": "code",
   "execution_count": 382,
   "outputs": [],
   "source": [
    "results_epsilon.update_results(n_episodes, beta, gamma, epsilon, reward)"
   ],
   "metadata": {
    "collapsed": false,
    "pycharm": {
     "name": "#%%\n"
    }
   }
  },
  {
   "cell_type": "markdown",
   "source": [],
   "metadata": {
    "collapsed": false,
    "pycharm": {
     "name": "#%% md\n"
    }
   }
  },
  {
   "cell_type": "markdown",
   "source": [],
   "metadata": {
    "collapsed": false,
    "pycharm": {
     "name": "#%% md\n"
    }
   }
  },
  {
   "cell_type": "code",
   "execution_count": 383,
   "outputs": [],
   "source": [
    "beta = 0.03\n",
    "gamma = 0.9\n",
    "epsilon = 0.5"
   ],
   "metadata": {
    "collapsed": false,
    "pycharm": {
     "name": "#%%\n"
    }
   }
  },
  {
   "cell_type": "code",
   "execution_count": 384,
   "outputs": [],
   "source": [
    "agent = QlearningAgent(env=env, beta=beta, gamma=gamma, epsilon=epsilon)"
   ],
   "metadata": {
    "collapsed": false,
    "pycharm": {
     "name": "#%%\n"
    }
   }
  },
  {
   "cell_type": "code",
   "execution_count": 385,
   "outputs": [
    {
     "name": "stdout",
     "output_type": "stream",
     "text": [
      "After 2000/20000 learning episodes - average reward: -323.826\n",
      "After 4000/20000 learning episodes - average reward: -99.7\n",
      "After 6000/20000 learning episodes - average reward: -56.884\n",
      "After 8000/20000 learning episodes - average reward: -48.954\n",
      "After 10000/20000 learning episodes - average reward: -51.102\n",
      "After 12000/20000 learning episodes - average reward: -49.864\n",
      "After 14000/20000 learning episodes - average reward: -49.004\n",
      "After 16000/20000 learning episodes - average reward: -49.448\n",
      "After 18000/20000 learning episodes - average reward: -45.522\n",
      "After 20000/20000 learning episodes - average reward: -47.132\n"
     ]
    }
   ],
   "source": [
    "reward = agent.learn(n_episodes=n_episodes, n_eval_episodes=n_eval_episodes, eval_period=eval_period)"
   ],
   "metadata": {
    "collapsed": false,
    "pycharm": {
     "name": "#%%\n"
    }
   }
  },
  {
   "cell_type": "code",
   "execution_count": 386,
   "outputs": [],
   "source": [
    "results_epsilon.update_results(n_episodes, beta, gamma, epsilon, reward)"
   ],
   "metadata": {
    "collapsed": false,
    "pycharm": {
     "name": "#%%\n"
    }
   }
  },
  {
   "cell_type": "markdown",
   "source": [],
   "metadata": {
    "collapsed": false,
    "pycharm": {
     "name": "#%% md\n"
    }
   }
  },
  {
   "cell_type": "markdown",
   "source": [],
   "metadata": {
    "collapsed": false,
    "pycharm": {
     "name": "#%% md\n"
    }
   }
  },
  {
   "cell_type": "code",
   "execution_count": 387,
   "outputs": [],
   "source": [
    "beta = 0.03\n",
    "gamma = 0.9\n",
    "epsilon = 1"
   ],
   "metadata": {
    "collapsed": false,
    "pycharm": {
     "name": "#%%\n"
    }
   }
  },
  {
   "cell_type": "code",
   "execution_count": 388,
   "outputs": [],
   "source": [
    "agent = QlearningAgent(env=env, beta=beta, gamma=gamma, epsilon=epsilon)"
   ],
   "metadata": {
    "collapsed": false,
    "pycharm": {
     "name": "#%%\n"
    }
   }
  },
  {
   "cell_type": "code",
   "execution_count": 389,
   "outputs": [
    {
     "name": "stdout",
     "output_type": "stream",
     "text": [
      "After 2000/20000 learning episodes - average reward: -772.506\n",
      "After 4000/20000 learning episodes - average reward: -771.48\n",
      "After 6000/20000 learning episodes - average reward: -768.062\n",
      "After 8000/20000 learning episodes - average reward: -768.826\n",
      "After 10000/20000 learning episodes - average reward: -772.874\n",
      "After 12000/20000 learning episodes - average reward: -772.304\n",
      "After 14000/20000 learning episodes - average reward: -764.03\n",
      "After 16000/20000 learning episodes - average reward: -780.152\n",
      "After 18000/20000 learning episodes - average reward: -767.658\n",
      "After 20000/20000 learning episodes - average reward: -771.484\n"
     ]
    }
   ],
   "source": [
    "reward = agent.learn(n_episodes=n_episodes, n_eval_episodes=n_eval_episodes, eval_period=eval_period)"
   ],
   "metadata": {
    "collapsed": false,
    "pycharm": {
     "name": "#%%\n"
    }
   }
  },
  {
   "cell_type": "code",
   "execution_count": 390,
   "outputs": [],
   "source": [
    "results_epsilon.update_results(n_episodes, beta, gamma, epsilon, reward)"
   ],
   "metadata": {
    "collapsed": false,
    "pycharm": {
     "name": "#%%\n"
    }
   }
  },
  {
   "cell_type": "markdown",
   "source": [],
   "metadata": {
    "collapsed": false,
    "pycharm": {
     "name": "#%% md\n"
    }
   }
  },
  {
   "cell_type": "markdown",
   "source": [],
   "metadata": {
    "collapsed": false,
    "pycharm": {
     "name": "#%% md\n"
    }
   }
  },
  {
   "cell_type": "code",
   "execution_count": 391,
   "outputs": [],
   "source": [
    "beta = 0.03\n",
    "gamma = 0.9\n",
    "epsilon = 0.005"
   ],
   "metadata": {
    "collapsed": false,
    "pycharm": {
     "name": "#%%\n"
    }
   }
  },
  {
   "cell_type": "code",
   "execution_count": 392,
   "outputs": [],
   "source": [
    "agent = QlearningAgent(env=env, beta=beta, gamma=gamma, epsilon=epsilon)"
   ],
   "metadata": {
    "collapsed": false,
    "pycharm": {
     "name": "#%%\n"
    }
   }
  },
  {
   "cell_type": "code",
   "execution_count": 393,
   "outputs": [
    {
     "name": "stdout",
     "output_type": "stream",
     "text": [
      "After 2000/20000 learning episodes - average reward: -242.444\n",
      "After 4000/20000 learning episodes - average reward: -108.55\n",
      "After 6000/20000 learning episodes - average reward: -32.988\n",
      "After 8000/20000 learning episodes - average reward: -13.33\n",
      "After 10000/20000 learning episodes - average reward: 6.1\n",
      "After 12000/20000 learning episodes - average reward: 7.902\n",
      "After 14000/20000 learning episodes - average reward: 7.916\n",
      "After 16000/20000 learning episodes - average reward: 7.63\n",
      "After 18000/20000 learning episodes - average reward: 7.488\n",
      "After 20000/20000 learning episodes - average reward: 7.332\n"
     ]
    }
   ],
   "source": [
    "reward = agent.learn(n_episodes=n_episodes, n_eval_episodes=n_eval_episodes, eval_period=eval_period)"
   ],
   "metadata": {
    "collapsed": false,
    "pycharm": {
     "name": "#%%\n"
    }
   }
  },
  {
   "cell_type": "code",
   "execution_count": 394,
   "outputs": [],
   "source": [
    "results_epsilon.update_results(n_episodes, beta, gamma, epsilon, reward)"
   ],
   "metadata": {
    "collapsed": false,
    "pycharm": {
     "name": "#%%\n"
    }
   }
  },
  {
   "cell_type": "markdown",
   "source": [],
   "metadata": {
    "collapsed": false,
    "pycharm": {
     "name": "#%% md\n"
    }
   }
  },
  {
   "cell_type": "markdown",
   "source": [],
   "metadata": {
    "collapsed": false,
    "pycharm": {
     "name": "#%% md\n"
    }
   }
  },
  {
   "cell_type": "code",
   "execution_count": 395,
   "outputs": [],
   "source": [
    "beta = 0.03\n",
    "gamma = 0.9\n",
    "epsilon = 0.001"
   ],
   "metadata": {
    "collapsed": false,
    "pycharm": {
     "name": "#%%\n"
    }
   }
  },
  {
   "cell_type": "code",
   "execution_count": 396,
   "outputs": [],
   "source": [
    "agent = QlearningAgent(env=env, beta=beta, gamma=gamma, epsilon=epsilon)"
   ],
   "metadata": {
    "collapsed": false,
    "pycharm": {
     "name": "#%%\n"
    }
   }
  },
  {
   "cell_type": "code",
   "execution_count": 397,
   "outputs": [
    {
     "name": "stdout",
     "output_type": "stream",
     "text": [
      "After 2000/20000 learning episodes - average reward: -270.278\n",
      "After 4000/20000 learning episodes - average reward: -139.106\n",
      "After 6000/20000 learning episodes - average reward: -25.786\n",
      "After 8000/20000 learning episodes - average reward: -13.312\n",
      "After 10000/20000 learning episodes - average reward: 4.2\n",
      "After 12000/20000 learning episodes - average reward: 6.018\n",
      "After 14000/20000 learning episodes - average reward: 7.47\n",
      "After 16000/20000 learning episodes - average reward: 7.954\n",
      "After 18000/20000 learning episodes - average reward: 7.866\n",
      "After 20000/20000 learning episodes - average reward: 7.722\n"
     ]
    }
   ],
   "source": [
    "reward = agent.learn(n_episodes=n_episodes, n_eval_episodes=n_eval_episodes, eval_period=eval_period)"
   ],
   "metadata": {
    "collapsed": false,
    "pycharm": {
     "name": "#%%\n"
    }
   }
  },
  {
   "cell_type": "code",
   "execution_count": 398,
   "outputs": [],
   "source": [
    "results_epsilon.update_results(n_episodes, beta, gamma, epsilon, reward)"
   ],
   "metadata": {
    "collapsed": false,
    "pycharm": {
     "name": "#%%\n"
    }
   }
  },
  {
   "cell_type": "markdown",
   "source": [],
   "metadata": {
    "collapsed": false,
    "pycharm": {
     "name": "#%% md\n"
    }
   }
  },
  {
   "cell_type": "markdown",
   "source": [],
   "metadata": {
    "collapsed": false,
    "pycharm": {
     "name": "#%% md\n"
    }
   }
  },
  {
   "cell_type": "code",
   "execution_count": 399,
   "outputs": [],
   "source": [
    "beta = 0.03\n",
    "gamma = 0.9\n",
    "epsilon = 0.0001"
   ],
   "metadata": {
    "collapsed": false,
    "pycharm": {
     "name": "#%%\n"
    }
   }
  },
  {
   "cell_type": "code",
   "execution_count": 400,
   "outputs": [],
   "source": [
    "agent = QlearningAgent(env=env, beta=beta, gamma=gamma, epsilon=epsilon)"
   ],
   "metadata": {
    "collapsed": false,
    "pycharm": {
     "name": "#%%\n"
    }
   }
  },
  {
   "cell_type": "code",
   "execution_count": 401,
   "outputs": [
    {
     "name": "stdout",
     "output_type": "stream",
     "text": [
      "After 2000/20000 learning episodes - average reward: -315.662\n",
      "After 4000/20000 learning episodes - average reward: -108.048\n",
      "After 6000/20000 learning episodes - average reward: -53.186\n",
      "After 8000/20000 learning episodes - average reward: -20.012\n",
      "After 10000/20000 learning episodes - average reward: 4.2\n",
      "After 12000/20000 learning episodes - average reward: 5.418\n",
      "After 14000/20000 learning episodes - average reward: 7.194\n",
      "After 16000/20000 learning episodes - average reward: 8.094\n",
      "After 18000/20000 learning episodes - average reward: 7.916\n",
      "After 20000/20000 learning episodes - average reward: 7.896\n"
     ]
    }
   ],
   "source": [
    "reward = agent.learn(n_episodes=n_episodes, n_eval_episodes=n_eval_episodes, eval_period=eval_period)"
   ],
   "metadata": {
    "collapsed": false,
    "pycharm": {
     "name": "#%%\n"
    }
   }
  },
  {
   "cell_type": "code",
   "execution_count": 402,
   "outputs": [],
   "source": [
    "results_epsilon.update_results(n_episodes, beta, gamma, epsilon, reward)"
   ],
   "metadata": {
    "collapsed": false,
    "pycharm": {
     "name": "#%%\n"
    }
   }
  },
  {
   "cell_type": "markdown",
   "source": [],
   "metadata": {
    "collapsed": false,
    "pycharm": {
     "name": "#%% md\n"
    }
   }
  },
  {
   "cell_type": "markdown",
   "source": [],
   "metadata": {
    "collapsed": false,
    "pycharm": {
     "name": "#%% md\n"
    }
   }
  },
  {
   "cell_type": "code",
   "execution_count": 403,
   "outputs": [],
   "source": [
    "beta = 0.03\n",
    "gamma = 0.9\n",
    "epsilon = 0"
   ],
   "metadata": {
    "collapsed": false,
    "pycharm": {
     "name": "#%%\n"
    }
   }
  },
  {
   "cell_type": "code",
   "execution_count": 404,
   "outputs": [],
   "source": [
    "agent = QlearningAgent(env=env, beta=beta, gamma=gamma, epsilon=epsilon)"
   ],
   "metadata": {
    "collapsed": false,
    "pycharm": {
     "name": "#%%\n"
    }
   }
  },
  {
   "cell_type": "code",
   "execution_count": 405,
   "outputs": [
    {
     "name": "stdout",
     "output_type": "stream",
     "text": [
      "After 2000/20000 learning episodes - average reward: -297.592\n",
      "After 4000/20000 learning episodes - average reward: -161.314\n",
      "After 6000/20000 learning episodes - average reward: -34.672\n",
      "After 8000/20000 learning episodes - average reward: -2.57\n",
      "After 10000/20000 learning episodes - average reward: -11.752\n",
      "After 12000/20000 learning episodes - average reward: 6.658\n",
      "After 14000/20000 learning episodes - average reward: 7.866\n",
      "After 16000/20000 learning episodes - average reward: 7.894\n",
      "After 18000/20000 learning episodes - average reward: 8.134\n",
      "After 20000/20000 learning episodes - average reward: 7.814\n"
     ]
    }
   ],
   "source": [
    "reward = agent.learn(n_episodes=n_episodes, n_eval_episodes=n_eval_episodes, eval_period=eval_period)"
   ],
   "metadata": {
    "collapsed": false,
    "pycharm": {
     "name": "#%%\n"
    }
   }
  },
  {
   "cell_type": "code",
   "execution_count": 406,
   "outputs": [],
   "source": [
    "results_epsilon.update_results(n_episodes, beta, gamma, epsilon, reward)"
   ],
   "metadata": {
    "collapsed": false,
    "pycharm": {
     "name": "#%%\n"
    }
   }
  },
  {
   "cell_type": "code",
   "execution_count": 407,
   "outputs": [],
   "source": [
    "results_epsilon.sort_results(\"epsilon\")"
   ],
   "metadata": {
    "collapsed": false,
    "pycharm": {
     "name": "#%%\n"
    }
   }
  },
  {
   "cell_type": "code",
   "execution_count": 408,
   "outputs": [
    {
     "data": {
      "text/plain": "   Learning episodes  beta  gamma  epsilon  Average reward\n8            20000.0  0.03    0.9   0.0000           7.814\n7            20000.0  0.03    0.9   0.0001           7.896\n6            20000.0  0.03    0.9   0.0010           7.722\n5            20000.0  0.03    0.9   0.0050           7.332\n0            20000.0  0.03    0.9   0.0500           5.172\n1            20000.0  0.03    0.9   0.1000           2.322\n2            20000.0  0.03    0.9   0.2000          -5.014\n3            20000.0  0.03    0.9   0.5000         -47.132\n4            20000.0  0.03    0.9   1.0000        -771.484",
      "text/html": "<div>\n<style scoped>\n    .dataframe tbody tr th:only-of-type {\n        vertical-align: middle;\n    }\n\n    .dataframe tbody tr th {\n        vertical-align: top;\n    }\n\n    .dataframe thead th {\n        text-align: right;\n    }\n</style>\n<table border=\"1\" class=\"dataframe\">\n  <thead>\n    <tr style=\"text-align: right;\">\n      <th></th>\n      <th>Learning episodes</th>\n      <th>beta</th>\n      <th>gamma</th>\n      <th>epsilon</th>\n      <th>Average reward</th>\n    </tr>\n  </thead>\n  <tbody>\n    <tr>\n      <th>8</th>\n      <td>20000.0</td>\n      <td>0.03</td>\n      <td>0.9</td>\n      <td>0.0000</td>\n      <td>7.814</td>\n    </tr>\n    <tr>\n      <th>7</th>\n      <td>20000.0</td>\n      <td>0.03</td>\n      <td>0.9</td>\n      <td>0.0001</td>\n      <td>7.896</td>\n    </tr>\n    <tr>\n      <th>6</th>\n      <td>20000.0</td>\n      <td>0.03</td>\n      <td>0.9</td>\n      <td>0.0010</td>\n      <td>7.722</td>\n    </tr>\n    <tr>\n      <th>5</th>\n      <td>20000.0</td>\n      <td>0.03</td>\n      <td>0.9</td>\n      <td>0.0050</td>\n      <td>7.332</td>\n    </tr>\n    <tr>\n      <th>0</th>\n      <td>20000.0</td>\n      <td>0.03</td>\n      <td>0.9</td>\n      <td>0.0500</td>\n      <td>5.172</td>\n    </tr>\n    <tr>\n      <th>1</th>\n      <td>20000.0</td>\n      <td>0.03</td>\n      <td>0.9</td>\n      <td>0.1000</td>\n      <td>2.322</td>\n    </tr>\n    <tr>\n      <th>2</th>\n      <td>20000.0</td>\n      <td>0.03</td>\n      <td>0.9</td>\n      <td>0.2000</td>\n      <td>-5.014</td>\n    </tr>\n    <tr>\n      <th>3</th>\n      <td>20000.0</td>\n      <td>0.03</td>\n      <td>0.9</td>\n      <td>0.5000</td>\n      <td>-47.132</td>\n    </tr>\n    <tr>\n      <th>4</th>\n      <td>20000.0</td>\n      <td>0.03</td>\n      <td>0.9</td>\n      <td>1.0000</td>\n      <td>-771.484</td>\n    </tr>\n  </tbody>\n</table>\n</div>"
     },
     "execution_count": 408,
     "metadata": {},
     "output_type": "execute_result"
    }
   ],
   "source": [
    "results_epsilon.results"
   ],
   "metadata": {
    "collapsed": false,
    "pycharm": {
     "name": "#%%\n"
    }
   }
  },
  {
   "cell_type": "markdown",
   "source": [
    "## 4. Podsumowanie"
   ],
   "metadata": {
    "collapsed": false,
    "pycharm": {
     "name": "#%% md\n"
    }
   }
  },
  {
   "cell_type": "code",
   "execution_count": 410,
   "outputs": [],
   "source": [
    "results = pd.concat([results_beta.results, results_gamma.results, results_epsilon.results])"
   ],
   "metadata": {
    "collapsed": false,
    "pycharm": {
     "name": "#%%\n"
    }
   }
  },
  {
   "cell_type": "code",
   "execution_count": 411,
   "outputs": [
    {
     "data": {
      "text/plain": "   Learning episodes   beta  gamma  epsilon  Average reward\n3            20000.0  0.001  0.900   0.0100        -247.772\n0            20000.0  0.030  0.900   0.0100           7.212\n1            20000.0  0.050  0.900   0.0100           7.342\n2            20000.0  0.100  0.900   0.0100           7.112\n4            20000.0  0.030  0.600   0.0100         -31.144\n3            20000.0  0.030  0.800   0.0100         -22.116\n0            20000.0  0.030  0.950   0.0100           7.312\n1            20000.0  0.030  0.990   0.0100           7.350\n2            20000.0  0.030  0.999   0.0100           7.582\n8            20000.0  0.030  0.900   0.0000           7.814\n7            20000.0  0.030  0.900   0.0001           7.896\n6            20000.0  0.030  0.900   0.0010           7.722\n5            20000.0  0.030  0.900   0.0050           7.332\n0            20000.0  0.030  0.900   0.0500           5.172\n1            20000.0  0.030  0.900   0.1000           2.322\n2            20000.0  0.030  0.900   0.2000          -5.014\n3            20000.0  0.030  0.900   0.5000         -47.132\n4            20000.0  0.030  0.900   1.0000        -771.484",
      "text/html": "<div>\n<style scoped>\n    .dataframe tbody tr th:only-of-type {\n        vertical-align: middle;\n    }\n\n    .dataframe tbody tr th {\n        vertical-align: top;\n    }\n\n    .dataframe thead th {\n        text-align: right;\n    }\n</style>\n<table border=\"1\" class=\"dataframe\">\n  <thead>\n    <tr style=\"text-align: right;\">\n      <th></th>\n      <th>Learning episodes</th>\n      <th>beta</th>\n      <th>gamma</th>\n      <th>epsilon</th>\n      <th>Average reward</th>\n    </tr>\n  </thead>\n  <tbody>\n    <tr>\n      <th>3</th>\n      <td>20000.0</td>\n      <td>0.001</td>\n      <td>0.900</td>\n      <td>0.0100</td>\n      <td>-247.772</td>\n    </tr>\n    <tr>\n      <th>0</th>\n      <td>20000.0</td>\n      <td>0.030</td>\n      <td>0.900</td>\n      <td>0.0100</td>\n      <td>7.212</td>\n    </tr>\n    <tr>\n      <th>1</th>\n      <td>20000.0</td>\n      <td>0.050</td>\n      <td>0.900</td>\n      <td>0.0100</td>\n      <td>7.342</td>\n    </tr>\n    <tr>\n      <th>2</th>\n      <td>20000.0</td>\n      <td>0.100</td>\n      <td>0.900</td>\n      <td>0.0100</td>\n      <td>7.112</td>\n    </tr>\n    <tr>\n      <th>4</th>\n      <td>20000.0</td>\n      <td>0.030</td>\n      <td>0.600</td>\n      <td>0.0100</td>\n      <td>-31.144</td>\n    </tr>\n    <tr>\n      <th>3</th>\n      <td>20000.0</td>\n      <td>0.030</td>\n      <td>0.800</td>\n      <td>0.0100</td>\n      <td>-22.116</td>\n    </tr>\n    <tr>\n      <th>0</th>\n      <td>20000.0</td>\n      <td>0.030</td>\n      <td>0.950</td>\n      <td>0.0100</td>\n      <td>7.312</td>\n    </tr>\n    <tr>\n      <th>1</th>\n      <td>20000.0</td>\n      <td>0.030</td>\n      <td>0.990</td>\n      <td>0.0100</td>\n      <td>7.350</td>\n    </tr>\n    <tr>\n      <th>2</th>\n      <td>20000.0</td>\n      <td>0.030</td>\n      <td>0.999</td>\n      <td>0.0100</td>\n      <td>7.582</td>\n    </tr>\n    <tr>\n      <th>8</th>\n      <td>20000.0</td>\n      <td>0.030</td>\n      <td>0.900</td>\n      <td>0.0000</td>\n      <td>7.814</td>\n    </tr>\n    <tr>\n      <th>7</th>\n      <td>20000.0</td>\n      <td>0.030</td>\n      <td>0.900</td>\n      <td>0.0001</td>\n      <td>7.896</td>\n    </tr>\n    <tr>\n      <th>6</th>\n      <td>20000.0</td>\n      <td>0.030</td>\n      <td>0.900</td>\n      <td>0.0010</td>\n      <td>7.722</td>\n    </tr>\n    <tr>\n      <th>5</th>\n      <td>20000.0</td>\n      <td>0.030</td>\n      <td>0.900</td>\n      <td>0.0050</td>\n      <td>7.332</td>\n    </tr>\n    <tr>\n      <th>0</th>\n      <td>20000.0</td>\n      <td>0.030</td>\n      <td>0.900</td>\n      <td>0.0500</td>\n      <td>5.172</td>\n    </tr>\n    <tr>\n      <th>1</th>\n      <td>20000.0</td>\n      <td>0.030</td>\n      <td>0.900</td>\n      <td>0.1000</td>\n      <td>2.322</td>\n    </tr>\n    <tr>\n      <th>2</th>\n      <td>20000.0</td>\n      <td>0.030</td>\n      <td>0.900</td>\n      <td>0.2000</td>\n      <td>-5.014</td>\n    </tr>\n    <tr>\n      <th>3</th>\n      <td>20000.0</td>\n      <td>0.030</td>\n      <td>0.900</td>\n      <td>0.5000</td>\n      <td>-47.132</td>\n    </tr>\n    <tr>\n      <th>4</th>\n      <td>20000.0</td>\n      <td>0.030</td>\n      <td>0.900</td>\n      <td>1.0000</td>\n      <td>-771.484</td>\n    </tr>\n  </tbody>\n</table>\n</div>"
     },
     "execution_count": 411,
     "metadata": {},
     "output_type": "execute_result"
    }
   ],
   "source": [
    "results"
   ],
   "metadata": {
    "collapsed": false,
    "pycharm": {
     "name": "#%%\n"
    }
   }
  }
 ],
 "metadata": {
  "kernelspec": {
   "display_name": "Python 3 (ipykernel)",
   "language": "python",
   "name": "python3"
  },
  "language_info": {
   "codemirror_mode": {
    "name": "ipython",
    "version": 3
   },
   "file_extension": ".py",
   "mimetype": "text/x-python",
   "name": "python",
   "nbconvert_exporter": "python",
   "pygments_lexer": "ipython3",
   "version": "3.10.0"
  }
 },
 "nbformat": 4,
 "nbformat_minor": 1
}