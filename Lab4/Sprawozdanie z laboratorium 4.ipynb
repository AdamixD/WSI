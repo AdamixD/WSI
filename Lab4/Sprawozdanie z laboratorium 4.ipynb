{
 "cells": [
  {
   "cell_type": "markdown",
   "source": [
    "# Sprawozdanie z laboratorium 4"
   ],
   "metadata": {
    "collapsed": false,
    "pycharm": {
     "name": "#%% md\n"
    }
   }
  },
  {
   "cell_type": "markdown",
   "source": [
    "***Autor: Adam Dąbkowski***"
   ],
   "metadata": {
    "collapsed": false,
    "pycharm": {
     "name": "#%% md\n"
    }
   }
  },
  {
   "cell_type": "markdown",
   "source": [
    "## 0. Importowanie niezbędnych bibliotek"
   ],
   "metadata": {
    "collapsed": false,
    "pycharm": {
     "name": "#%% md\n"
    }
   }
  },
  {
   "cell_type": "code",
   "execution_count": 16,
   "outputs": [],
   "source": [
    "import numpy as np\n",
    "import pandas as pd\n",
    "from sklearn.model_selection import train_test_split\n",
    "from sklearn import metrics\n",
    "from pprint import pprint"
   ],
   "metadata": {
    "collapsed": false,
    "pycharm": {
     "name": "#%%\n"
    }
   }
  },
  {
   "cell_type": "markdown",
   "source": [
    "## 1. Przygotowanie danych"
   ],
   "metadata": {
    "collapsed": false,
    "pycharm": {
     "name": "#%% md\n"
    }
   }
  },
  {
   "cell_type": "code",
   "execution_count": 17,
   "outputs": [
    {
     "data": {
      "text/plain": "    id    age  gender  height  weight  ap_hi  ap_lo  cholesterol  gluc  smoke  \\\n0  988  22469       1     155    69.0    130     80            2     2      0   \n1  989  14648       1     163    71.0    110     70            1     1      0   \n2  990  21901       1     165    70.0    120     80            1     1      0   \n3  991  14549       2     165    85.0    120     80            1     1      1   \n4  992  23393       1     155    62.0    120     80            1     1      0   \n\n   alco  active  cardio  \n0     0       1       0  \n1     0       1       1  \n2     0       1       0  \n3     1       1       0  \n4     0       1       0  ",
      "text/html": "<div>\n<style scoped>\n    .dataframe tbody tr th:only-of-type {\n        vertical-align: middle;\n    }\n\n    .dataframe tbody tr th {\n        vertical-align: top;\n    }\n\n    .dataframe thead th {\n        text-align: right;\n    }\n</style>\n<table border=\"1\" class=\"dataframe\">\n  <thead>\n    <tr style=\"text-align: right;\">\n      <th></th>\n      <th>id</th>\n      <th>age</th>\n      <th>gender</th>\n      <th>height</th>\n      <th>weight</th>\n      <th>ap_hi</th>\n      <th>ap_lo</th>\n      <th>cholesterol</th>\n      <th>gluc</th>\n      <th>smoke</th>\n      <th>alco</th>\n      <th>active</th>\n      <th>cardio</th>\n    </tr>\n  </thead>\n  <tbody>\n    <tr>\n      <th>0</th>\n      <td>988</td>\n      <td>22469</td>\n      <td>1</td>\n      <td>155</td>\n      <td>69.0</td>\n      <td>130</td>\n      <td>80</td>\n      <td>2</td>\n      <td>2</td>\n      <td>0</td>\n      <td>0</td>\n      <td>1</td>\n      <td>0</td>\n    </tr>\n    <tr>\n      <th>1</th>\n      <td>989</td>\n      <td>14648</td>\n      <td>1</td>\n      <td>163</td>\n      <td>71.0</td>\n      <td>110</td>\n      <td>70</td>\n      <td>1</td>\n      <td>1</td>\n      <td>0</td>\n      <td>0</td>\n      <td>1</td>\n      <td>1</td>\n    </tr>\n    <tr>\n      <th>2</th>\n      <td>990</td>\n      <td>21901</td>\n      <td>1</td>\n      <td>165</td>\n      <td>70.0</td>\n      <td>120</td>\n      <td>80</td>\n      <td>1</td>\n      <td>1</td>\n      <td>0</td>\n      <td>0</td>\n      <td>1</td>\n      <td>0</td>\n    </tr>\n    <tr>\n      <th>3</th>\n      <td>991</td>\n      <td>14549</td>\n      <td>2</td>\n      <td>165</td>\n      <td>85.0</td>\n      <td>120</td>\n      <td>80</td>\n      <td>1</td>\n      <td>1</td>\n      <td>1</td>\n      <td>1</td>\n      <td>1</td>\n      <td>0</td>\n    </tr>\n    <tr>\n      <th>4</th>\n      <td>992</td>\n      <td>23393</td>\n      <td>1</td>\n      <td>155</td>\n      <td>62.0</td>\n      <td>120</td>\n      <td>80</td>\n      <td>1</td>\n      <td>1</td>\n      <td>0</td>\n      <td>0</td>\n      <td>1</td>\n      <td>0</td>\n    </tr>\n  </tbody>\n</table>\n</div>"
     },
     "execution_count": 17,
     "metadata": {},
     "output_type": "execute_result"
    }
   ],
   "source": [
    "data = pd.read_csv(\"./data/cardio_train.csv\", sep=';')\n",
    "data.head()"
   ],
   "metadata": {
    "collapsed": false,
    "pycharm": {
     "name": "#%%\n"
    }
   }
  },
  {
   "cell_type": "code",
   "execution_count": 18,
   "outputs": [],
   "source": [
    "data.drop([\"id\"], axis=1, inplace=True)"
   ],
   "metadata": {
    "collapsed": false,
    "pycharm": {
     "name": "#%%\n"
    }
   }
  },
  {
   "cell_type": "code",
   "execution_count": 19,
   "outputs": [],
   "source": [
    "data[\"age\"] = data[\"age\"].apply(lambda x: \"young\" if x < 20 * 365 else \"middle\" if x < 60 * 365 else \"old\")\n",
    "data[\"height\"] = data[\"height\"].apply(lambda x: \"low\" if x < 165 else \"middle\" if x < 190 else \"tall\")\n",
    "data[\"weight\"] = data[\"weight\"].apply(lambda x: \"skinny\" if x < 60 else \"middle\" if x < 100 else \"fat\")\n",
    "data[\"ap_hi\"] = data[\"ap_hi\"].apply(lambda x: \"low\" if x < 110 else \"normal\" if x < 130 else \"high\")\n",
    "data[\"ap_lo\"] = data[\"ap_lo\"].apply(lambda x: \"low\" if x < 75 else \"normal\" if x < 85 else \"high\")"
   ],
   "metadata": {
    "collapsed": false,
    "pycharm": {
     "name": "#%%\n"
    }
   }
  },
  {
   "cell_type": "code",
   "execution_count": 20,
   "outputs": [
    {
     "data": {
      "text/plain": "      age  gender  height  weight   ap_hi   ap_lo  cholesterol  gluc  smoke  \\\n0     old       1     low  middle    high  normal            2     2      0   \n1  middle       1     low  middle  normal     low            1     1      0   \n2     old       1  middle  middle  normal  normal            1     1      0   \n3  middle       2  middle  middle  normal  normal            1     1      1   \n4     old       1     low  middle  normal  normal            1     1      0   \n\n   alco  active  cardio  \n0     0       1       0  \n1     0       1       1  \n2     0       1       0  \n3     1       1       0  \n4     0       1       0  ",
      "text/html": "<div>\n<style scoped>\n    .dataframe tbody tr th:only-of-type {\n        vertical-align: middle;\n    }\n\n    .dataframe tbody tr th {\n        vertical-align: top;\n    }\n\n    .dataframe thead th {\n        text-align: right;\n    }\n</style>\n<table border=\"1\" class=\"dataframe\">\n  <thead>\n    <tr style=\"text-align: right;\">\n      <th></th>\n      <th>age</th>\n      <th>gender</th>\n      <th>height</th>\n      <th>weight</th>\n      <th>ap_hi</th>\n      <th>ap_lo</th>\n      <th>cholesterol</th>\n      <th>gluc</th>\n      <th>smoke</th>\n      <th>alco</th>\n      <th>active</th>\n      <th>cardio</th>\n    </tr>\n  </thead>\n  <tbody>\n    <tr>\n      <th>0</th>\n      <td>old</td>\n      <td>1</td>\n      <td>low</td>\n      <td>middle</td>\n      <td>high</td>\n      <td>normal</td>\n      <td>2</td>\n      <td>2</td>\n      <td>0</td>\n      <td>0</td>\n      <td>1</td>\n      <td>0</td>\n    </tr>\n    <tr>\n      <th>1</th>\n      <td>middle</td>\n      <td>1</td>\n      <td>low</td>\n      <td>middle</td>\n      <td>normal</td>\n      <td>low</td>\n      <td>1</td>\n      <td>1</td>\n      <td>0</td>\n      <td>0</td>\n      <td>1</td>\n      <td>1</td>\n    </tr>\n    <tr>\n      <th>2</th>\n      <td>old</td>\n      <td>1</td>\n      <td>middle</td>\n      <td>middle</td>\n      <td>normal</td>\n      <td>normal</td>\n      <td>1</td>\n      <td>1</td>\n      <td>0</td>\n      <td>0</td>\n      <td>1</td>\n      <td>0</td>\n    </tr>\n    <tr>\n      <th>3</th>\n      <td>middle</td>\n      <td>2</td>\n      <td>middle</td>\n      <td>middle</td>\n      <td>normal</td>\n      <td>normal</td>\n      <td>1</td>\n      <td>1</td>\n      <td>1</td>\n      <td>1</td>\n      <td>1</td>\n      <td>0</td>\n    </tr>\n    <tr>\n      <th>4</th>\n      <td>old</td>\n      <td>1</td>\n      <td>low</td>\n      <td>middle</td>\n      <td>normal</td>\n      <td>normal</td>\n      <td>1</td>\n      <td>1</td>\n      <td>0</td>\n      <td>0</td>\n      <td>1</td>\n      <td>0</td>\n    </tr>\n  </tbody>\n</table>\n</div>"
     },
     "execution_count": 20,
     "metadata": {},
     "output_type": "execute_result"
    }
   ],
   "source": [
    "data.head()"
   ],
   "metadata": {
    "collapsed": false,
    "pycharm": {
     "name": "#%%\n"
    }
   }
  },
  {
   "cell_type": "code",
   "execution_count": 21,
   "outputs": [],
   "source": [
    "target_label = \"cardio\""
   ],
   "metadata": {
    "collapsed": false,
    "pycharm": {
     "name": "#%%\n"
    }
   }
  },
  {
   "cell_type": "code",
   "execution_count": 22,
   "outputs": [],
   "source": [
    "data.dropna(inplace=True)"
   ],
   "metadata": {
    "collapsed": false,
    "pycharm": {
     "name": "#%%\n"
    }
   }
  },
  {
   "cell_type": "code",
   "execution_count": 23,
   "outputs": [],
   "source": [
    "y = data[target_label]\n",
    "X = data.drop([target_label], axis=1)"
   ],
   "metadata": {
    "collapsed": false,
    "pycharm": {
     "name": "#%%\n"
    }
   }
  },
  {
   "cell_type": "code",
   "execution_count": 24,
   "outputs": [
    {
     "data": {
      "text/plain": "      age  gender  height  weight   ap_hi   ap_lo  cholesterol  gluc  smoke  \\\n0     old       1     low  middle    high  normal            2     2      0   \n1  middle       1     low  middle  normal     low            1     1      0   \n2     old       1  middle  middle  normal  normal            1     1      0   \n3  middle       2  middle  middle  normal  normal            1     1      1   \n4     old       1     low  middle  normal  normal            1     1      0   \n\n   alco  active  \n0     0       1  \n1     0       1  \n2     0       1  \n3     1       1  \n4     0       1  ",
      "text/html": "<div>\n<style scoped>\n    .dataframe tbody tr th:only-of-type {\n        vertical-align: middle;\n    }\n\n    .dataframe tbody tr th {\n        vertical-align: top;\n    }\n\n    .dataframe thead th {\n        text-align: right;\n    }\n</style>\n<table border=\"1\" class=\"dataframe\">\n  <thead>\n    <tr style=\"text-align: right;\">\n      <th></th>\n      <th>age</th>\n      <th>gender</th>\n      <th>height</th>\n      <th>weight</th>\n      <th>ap_hi</th>\n      <th>ap_lo</th>\n      <th>cholesterol</th>\n      <th>gluc</th>\n      <th>smoke</th>\n      <th>alco</th>\n      <th>active</th>\n    </tr>\n  </thead>\n  <tbody>\n    <tr>\n      <th>0</th>\n      <td>old</td>\n      <td>1</td>\n      <td>low</td>\n      <td>middle</td>\n      <td>high</td>\n      <td>normal</td>\n      <td>2</td>\n      <td>2</td>\n      <td>0</td>\n      <td>0</td>\n      <td>1</td>\n    </tr>\n    <tr>\n      <th>1</th>\n      <td>middle</td>\n      <td>1</td>\n      <td>low</td>\n      <td>middle</td>\n      <td>normal</td>\n      <td>low</td>\n      <td>1</td>\n      <td>1</td>\n      <td>0</td>\n      <td>0</td>\n      <td>1</td>\n    </tr>\n    <tr>\n      <th>2</th>\n      <td>old</td>\n      <td>1</td>\n      <td>middle</td>\n      <td>middle</td>\n      <td>normal</td>\n      <td>normal</td>\n      <td>1</td>\n      <td>1</td>\n      <td>0</td>\n      <td>0</td>\n      <td>1</td>\n    </tr>\n    <tr>\n      <th>3</th>\n      <td>middle</td>\n      <td>2</td>\n      <td>middle</td>\n      <td>middle</td>\n      <td>normal</td>\n      <td>normal</td>\n      <td>1</td>\n      <td>1</td>\n      <td>1</td>\n      <td>1</td>\n      <td>1</td>\n    </tr>\n    <tr>\n      <th>4</th>\n      <td>old</td>\n      <td>1</td>\n      <td>low</td>\n      <td>middle</td>\n      <td>normal</td>\n      <td>normal</td>\n      <td>1</td>\n      <td>1</td>\n      <td>0</td>\n      <td>0</td>\n      <td>1</td>\n    </tr>\n  </tbody>\n</table>\n</div>"
     },
     "execution_count": 24,
     "metadata": {},
     "output_type": "execute_result"
    }
   ],
   "source": [
    "X.head()"
   ],
   "metadata": {
    "collapsed": false,
    "pycharm": {
     "name": "#%%\n"
    }
   }
  },
  {
   "cell_type": "code",
   "execution_count": 25,
   "outputs": [
    {
     "data": {
      "text/plain": "0    0\n1    1\n2    0\n3    0\n4    0\nName: cardio, dtype: int64"
     },
     "execution_count": 25,
     "metadata": {},
     "output_type": "execute_result"
    }
   ],
   "source": [
    "y.head()"
   ],
   "metadata": {
    "collapsed": false,
    "pycharm": {
     "name": "#%%\n"
    }
   }
  },
  {
   "cell_type": "code",
   "execution_count": 26,
   "outputs": [],
   "source": [
    "X_train, X_val_test, y_train, y_val_test = train_test_split(X, y, train_size=0.75, random_state=42)\n",
    "X_val, X_test, y_val, y_test = train_test_split(X_val_test, y_val_test, test_size=0.5, random_state=42)"
   ],
   "metadata": {
    "collapsed": false,
    "pycharm": {
     "name": "#%%\n"
    }
   }
  },
  {
   "cell_type": "markdown",
   "source": [
    "## 2. Implementacja algorytmu"
   ],
   "metadata": {
    "collapsed": false,
    "pycharm": {
     "name": "#%% md\n"
    }
   }
  },
  {
   "cell_type": "code",
   "execution_count": 27,
   "outputs": [],
   "source": [
    "class ID3Solver():\n",
    "    def __init__(self, depth=float('inf')):\n",
    "        self.target_label = None\n",
    "        self.tree = None\n",
    "        self.depth = depth\n",
    "\n",
    "    def get_parameters(self):\n",
    "        return {\n",
    "            \"depth\": self.depth\n",
    "        }\n",
    "\n",
    "    def fit(self, X, y, target_label):\n",
    "        self.target_label = target_label\n",
    "        X[self.target_label] = y\n",
    "        X.dropna(inplace=True)\n",
    "        self.tree = self.create_tree(X, self.depth)\n",
    "\n",
    "    def get_entropy(self, feature_data):\n",
    "        feature_elements, feature_counts = np.unique(feature_data, return_counts=True)\n",
    "        entropy = np.sum(\n",
    "            [(-feature_counts[i] / np.sum(feature_counts)) * np.log2(feature_counts[i] / np.sum(feature_counts)) for i\n",
    "             in range(len(feature_elements))])\n",
    "        return entropy\n",
    "\n",
    "    def get_info_gain(self, data, decision_feature):\n",
    "        total_entropy = self.get_entropy(data[self.target_label])\n",
    "        feature_values, feature_counts = np.unique(data[decision_feature], return_counts=True)\n",
    "\n",
    "        for i in range(len(feature_values)):\n",
    "            probability = feature_counts[i] / np.sum(feature_counts)\n",
    "            feature_data = data[data[decision_feature] == feature_values[i]][self.target_label]\n",
    "            total_entropy -= self.get_entropy(feature_data) * probability\n",
    "\n",
    "        return total_entropy\n",
    "\n",
    "    def get_decision_feature(self, data):\n",
    "        features = data.columns.drop(self.target_label)\n",
    "        info_gain_values = [self.get_info_gain(data, feature) for feature in features]\n",
    "        decision_feature = features[np.argmax(info_gain_values)]\n",
    "        return decision_feature\n",
    "\n",
    "    def create_tree(self, data, depth):\n",
    "        if data.shape[0] == 0:\n",
    "            return {}\n",
    "\n",
    "        if depth == 0:\n",
    "            return data[self.target_label].value_counts().idxmax()\n",
    "\n",
    "        if len(np.unique(data[self.target_label])) == 1:\n",
    "            return np.unique(data[self.target_label])[0]\n",
    "\n",
    "        decision_feature = self.get_decision_feature(data)\n",
    "\n",
    "        tree = {decision_feature: {}}\n",
    "\n",
    "        for feature_value in np.unique(data[decision_feature]):\n",
    "            subset = data[data[decision_feature] == feature_value]\n",
    "            subset.pop(decision_feature)\n",
    "            subtree = self.create_tree(subset, depth - 1)\n",
    "            tree[decision_feature][feature_value] = subtree\n",
    "\n",
    "        return tree\n",
    "\n",
    "    def predict_item(self, tree, item):\n",
    "        if isinstance(tree, dict):\n",
    "            decision_feature = next(iter(tree))\n",
    "            value = item[decision_feature]\n",
    "\n",
    "            if value in tree[decision_feature]:\n",
    "                return self.predict_item(tree[decision_feature][value], item)\n",
    "            else:\n",
    "                return False\n",
    "\n",
    "        else:\n",
    "            return tree\n",
    "\n",
    "    def predict(self, X):\n",
    "        prediction = []\n",
    "        for i in range(X.shape[0]):\n",
    "            prediction.append(self.predict_item(self.tree, X.iloc[i]))\n",
    "        return prediction"
   ],
   "metadata": {
    "collapsed": false,
    "pycharm": {
     "name": "#%%\n"
    }
   }
  },
  {
   "cell_type": "markdown",
   "source": [
    "## 3. Implementacja funkcji pomocniczych"
   ],
   "metadata": {
    "collapsed": false,
    "pycharm": {
     "name": "#%% md\n"
    }
   }
  },
  {
   "cell_type": "code",
   "execution_count": 28,
   "outputs": [],
   "source": [
    "def get_metrics(y_true, y_pred, printing=True):\n",
    "    accuracy = metrics.accuracy_score(y_true, y_pred)\n",
    "    precision = metrics.precision_score(y_true, y_pred)\n",
    "    recall = metrics.recall_score(y_true, y_pred)\n",
    "    f1_score = metrics.recall_score(y_true, y_pred)\n",
    "\n",
    "    if printing:\n",
    "        print(\"Accuracy: \", accuracy)\n",
    "        print(\"Precision: \", precision)\n",
    "        print(\"Recall: \", recall)\n",
    "        print(\"F1 score: \", f1_score)\n",
    "\n",
    "    return [accuracy, precision, recall, f1_score]"
   ],
   "metadata": {
    "collapsed": false,
    "pycharm": {
     "name": "#%%\n"
    }
   }
  },
  {
   "cell_type": "code",
   "execution_count": 29,
   "outputs": [],
   "source": [
    "def determine_the_best_model(target_label, X_train, y_train, X_val, y_val, X_test, y_test, depth_range=7, main_metric=\"f1_score\", print_model=False):\n",
    "    best_model = None\n",
    "    best_metric_score = 0\n",
    "\n",
    "    print(f\"\\n************************** Validation set ******************************\")\n",
    "\n",
    "    for depth in range(1, depth_range + 1):\n",
    "        print(\"  \")\n",
    "        print(f\"Depth {depth}\")\n",
    "        print(f\"--------------------------------------------------------------------------------\")\n",
    "        model = ID3Solver(depth)\n",
    "        model.fit(X_train, y_train, target_label)\n",
    "        y_pred = model.predict(X_val)\n",
    "\n",
    "        if main_metric == \"accuracy\":\n",
    "            metric_type = 0\n",
    "        elif main_metric == \"precision\":\n",
    "            metric_type = 1\n",
    "        elif main_metric == \"recall\":\n",
    "            metric_type = 2\n",
    "        elif main_metric == \"f1_score\":\n",
    "            metric_type = 3\n",
    "        else:\n",
    "            raise \"Invalid metric\"\n",
    "\n",
    "        metric_score = get_metrics(y_val, y_pred)[metric_type]\n",
    "\n",
    "        if metric_score > best_metric_score:\n",
    "            best_metric_score = metric_score\n",
    "            best_model = model\n",
    "\n",
    "    print(f\"\\n************************** Best model (validation set) ******************************\\n\")\n",
    "\n",
    "    if print_model:\n",
    "        print(\"Best model: \")\n",
    "        pprint(best_model.tree)\n",
    "\n",
    "    print(\"Best depth: \", best_model.depth)\n",
    "    print(f\"Best {main_metric}: \", best_metric_score)\n",
    "\n",
    "    print(f\"\\n************************** Test set ******************************\\n\")\n",
    "\n",
    "    y_pred_test = best_model.predict(X_test)\n",
    "    get_metrics(y_test, y_pred_test)[metric_type]\n",
    "\n",
    "    return best_model"
   ],
   "metadata": {
    "collapsed": false,
    "pycharm": {
     "name": "#%%\n"
    }
   }
  },
  {
   "cell_type": "markdown",
   "source": [
    "## 4. Zastosowanie algorytmu"
   ],
   "metadata": {
    "collapsed": false,
    "pycharm": {
     "name": "#%% md\n"
    }
   }
  },
  {
   "cell_type": "code",
   "execution_count": null,
   "outputs": [
    {
     "name": "stdout",
     "output_type": "stream",
     "text": [
      "\n",
      "************************** Validation set ******************************\n",
      "  \n",
      "Depth 1\n",
      "--------------------------------------------------------------------------------\n",
      "Accuracy:  0.7156874062103198\n",
      "Precision:  0.7557811618725324\n",
      "Recall:  0.6266074351180734\n",
      "F1 score:  0.6266074351180734\n",
      "  \n",
      "Depth 2\n",
      "--------------------------------------------------------------------------------\n",
      "Accuracy:  0.7297702874292971\n",
      "Precision:  0.7479508196721312\n",
      "Recall:  0.6827215337853636\n",
      "F1 score:  0.6827215337853636\n",
      "  \n",
      "Depth 3\n",
      "--------------------------------------------------------------------------------\n",
      "Accuracy:  0.7289622532609951\n",
      "Precision:  0.7423975873335009\n",
      "Recall:  0.690671031096563\n",
      "F1 score:  0.690671031096563\n",
      "  \n",
      "Depth 4\n",
      "--------------------------------------------------------------------------------\n",
      "Accuracy:  0.7296548539766824\n",
      "Precision:  0.7373068432671082\n",
      "Recall:  0.7028290858078092\n",
      "F1 score:  0.7028290858078092\n",
      "  \n",
      "Depth 5\n",
      "--------------------------------------------------------------------------------\n",
      "Accuracy:  0.7294239870714533\n",
      "Precision:  0.7371779141104294\n",
      "Recall:  0.7023614683189151\n",
      "F1 score:  0.7023614683189151\n",
      "  \n",
      "Depth 6\n",
      "--------------------------------------------------------------------------------\n",
      "Accuracy:  0.7288468198083805\n",
      "Precision:  0.7398009950248756\n",
      "Recall:  0.6953472059855038\n",
      "F1 score:  0.6953472059855038\n",
      "  \n",
      "Depth 7\n",
      "--------------------------------------------------------------------------------\n",
      "Accuracy:  0.728731386355766\n",
      "Precision:  0.7393788819875776\n",
      "Recall:  0.6958148234743979\n",
      "F1 score:  0.6958148234743979\n",
      "  \n",
      "Depth 8\n",
      "--------------------------------------------------------------------------------\n"
     ]
    }
   ],
   "source": [
    "best_model = determine_the_best_model(target_label=target_label,\n",
    "                         X_train=X_train,\n",
    "                         y_train=y_train,\n",
    "                         X_val=X_val,\n",
    "                         y_val=y_val,\n",
    "                         X_test=X_test,\n",
    "                         y_test=y_test,\n",
    "                         depth_range=10,\n",
    "                         main_metric='f1_score',\n",
    "                         print_model=False\n",
    "                         )"
   ],
   "metadata": {
    "collapsed": false,
    "pycharm": {
     "name": "#%%\n",
     "is_executing": true
    }
   }
  }
 ],
 "metadata": {
  "kernelspec": {
   "display_name": "Python 3",
   "language": "python",
   "name": "python3"
  },
  "language_info": {
   "codemirror_mode": {
    "name": "ipython",
    "version": 2
   },
   "file_extension": ".py",
   "mimetype": "text/x-python",
   "name": "python",
   "nbconvert_exporter": "python",
   "pygments_lexer": "ipython2",
   "version": "2.7.6"
  }
 },
 "nbformat": 4,
 "nbformat_minor": 0
}