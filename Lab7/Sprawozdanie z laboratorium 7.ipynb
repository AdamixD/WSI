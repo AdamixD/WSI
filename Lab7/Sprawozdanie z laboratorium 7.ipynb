{
 "cells": [
  {
   "cell_type": "markdown",
   "source": [
    "# Sprawozdanie z laboratorium 7"
   ],
   "metadata": {
    "collapsed": false,
    "pycharm": {
     "name": "#%% md\n"
    }
   }
  },
  {
   "cell_type": "markdown",
   "source": [
    "***Autor: Adam Dąbkowski***"
   ],
   "metadata": {
    "collapsed": false,
    "pycharm": {
     "name": "#%% md\n"
    }
   }
  },
  {
   "cell_type": "markdown",
   "source": [
    "Celem siódmego laboratorium jest zaimplementowanie naiwnego klasyfikatora Bayesa. Dodatkowo należy wykorzystać stworzony algorytm do stworzenia i zbadania jakości klasyfikatorów dla zbioru danych ***Cardio Vascular Disease Detection***. Doświadczenia mają zostać przeprowadzone, uwzględniając, zarówno różne podziały na zbiór trenujący, walidacyjny i testowy, jak i różne uruchomienia k-krotnej walidacji krzyżowej (z różnymi podziałami na zbiór treningowy+walidacyjny i testowy) w celu późniejszej oceny, która metoda pomiaru (zbiór walidacyjny czy walidacja krzyżowa) lepiej odzwierciedla wyniki na zbiorach testowych.\n"
   ],
   "metadata": {
    "collapsed": false,
    "pycharm": {
     "name": "#%% md\n"
    }
   }
  },
  {
   "cell_type": "markdown",
   "source": [
    "## 0. Importowanie niezbędnych bibliotek"
   ],
   "metadata": {
    "collapsed": false,
    "pycharm": {
     "name": "#%% md\n"
    }
   }
  },
  {
   "cell_type": "code",
   "execution_count": 15,
   "outputs": [],
   "source": [
    "import numpy as np\n",
    "import pandas as pd\n",
    "import seaborn as sns\n",
    "import matplotlib.pyplot as plt\n",
    "\n",
    "import sklearn.metrics as metrics\n",
    "from sklearn.model_selection import KFold\n",
    "from sklearn.model_selection import train_test_split"
   ],
   "metadata": {
    "collapsed": false,
    "pycharm": {
     "name": "#%%\n"
    }
   }
  },
  {
   "cell_type": "markdown",
   "source": [
    "## 1. Przygotowanie danych"
   ],
   "metadata": {
    "collapsed": false,
    "pycharm": {
     "name": "#%% md\n"
    }
   }
  },
  {
   "cell_type": "markdown",
   "source": [
    "Dane, na których będziemy testowali naszą implementację naiwnego klasyfikatora Bayesa, jest zbiór ***Cardio Vascular Disease Detection***. Jak widać na poniższym listingu, wśród cech znajduje się pole ***id***, które w trakcie uczenia modelu jest niepotrzebne."
   ],
   "metadata": {
    "collapsed": false,
    "pycharm": {
     "name": "#%% md\n"
    }
   }
  },
  {
   "cell_type": "code",
   "execution_count": 16,
   "outputs": [
    {
     "data": {
      "text/plain": "    id    age  gender  height  weight  ap_hi  ap_lo  cholesterol  gluc  smoke  \\\n0  988  22469       1     155    69.0    130     80            2     2      0   \n1  989  14648       1     163    71.0    110     70            1     1      0   \n2  990  21901       1     165    70.0    120     80            1     1      0   \n3  991  14549       2     165    85.0    120     80            1     1      1   \n4  992  23393       1     155    62.0    120     80            1     1      0   \n\n   alco  active  cardio  \n0     0       1       0  \n1     0       1       1  \n2     0       1       0  \n3     1       1       0  \n4     0       1       0  ",
      "text/html": "<div>\n<style scoped>\n    .dataframe tbody tr th:only-of-type {\n        vertical-align: middle;\n    }\n\n    .dataframe tbody tr th {\n        vertical-align: top;\n    }\n\n    .dataframe thead th {\n        text-align: right;\n    }\n</style>\n<table border=\"1\" class=\"dataframe\">\n  <thead>\n    <tr style=\"text-align: right;\">\n      <th></th>\n      <th>id</th>\n      <th>age</th>\n      <th>gender</th>\n      <th>height</th>\n      <th>weight</th>\n      <th>ap_hi</th>\n      <th>ap_lo</th>\n      <th>cholesterol</th>\n      <th>gluc</th>\n      <th>smoke</th>\n      <th>alco</th>\n      <th>active</th>\n      <th>cardio</th>\n    </tr>\n  </thead>\n  <tbody>\n    <tr>\n      <th>0</th>\n      <td>988</td>\n      <td>22469</td>\n      <td>1</td>\n      <td>155</td>\n      <td>69.0</td>\n      <td>130</td>\n      <td>80</td>\n      <td>2</td>\n      <td>2</td>\n      <td>0</td>\n      <td>0</td>\n      <td>1</td>\n      <td>0</td>\n    </tr>\n    <tr>\n      <th>1</th>\n      <td>989</td>\n      <td>14648</td>\n      <td>1</td>\n      <td>163</td>\n      <td>71.0</td>\n      <td>110</td>\n      <td>70</td>\n      <td>1</td>\n      <td>1</td>\n      <td>0</td>\n      <td>0</td>\n      <td>1</td>\n      <td>1</td>\n    </tr>\n    <tr>\n      <th>2</th>\n      <td>990</td>\n      <td>21901</td>\n      <td>1</td>\n      <td>165</td>\n      <td>70.0</td>\n      <td>120</td>\n      <td>80</td>\n      <td>1</td>\n      <td>1</td>\n      <td>0</td>\n      <td>0</td>\n      <td>1</td>\n      <td>0</td>\n    </tr>\n    <tr>\n      <th>3</th>\n      <td>991</td>\n      <td>14549</td>\n      <td>2</td>\n      <td>165</td>\n      <td>85.0</td>\n      <td>120</td>\n      <td>80</td>\n      <td>1</td>\n      <td>1</td>\n      <td>1</td>\n      <td>1</td>\n      <td>1</td>\n      <td>0</td>\n    </tr>\n    <tr>\n      <th>4</th>\n      <td>992</td>\n      <td>23393</td>\n      <td>1</td>\n      <td>155</td>\n      <td>62.0</td>\n      <td>120</td>\n      <td>80</td>\n      <td>1</td>\n      <td>1</td>\n      <td>0</td>\n      <td>0</td>\n      <td>1</td>\n      <td>0</td>\n    </tr>\n  </tbody>\n</table>\n</div>"
     },
     "execution_count": 16,
     "metadata": {},
     "output_type": "execute_result"
    }
   ],
   "source": [
    "data = pd.read_csv('./data/cardio_train.csv', sep=';')\n",
    "data.head()"
   ],
   "metadata": {
    "collapsed": false,
    "pycharm": {
     "name": "#%%\n"
    }
   }
  },
  {
   "cell_type": "code",
   "execution_count": 17,
   "outputs": [],
   "source": [
    "data.drop([\"id\"], axis=1, inplace=True)"
   ],
   "metadata": {
    "collapsed": false,
    "pycharm": {
     "name": "#%%\n"
    }
   }
  },
  {
   "cell_type": "code",
   "execution_count": 18,
   "outputs": [
    {
     "data": {
      "text/plain": "     age  gender  height  weight  ap_hi  ap_lo  cholesterol  gluc  smoke  \\\n0  22469       1     155    69.0    130     80            2     2      0   \n1  14648       1     163    71.0    110     70            1     1      0   \n2  21901       1     165    70.0    120     80            1     1      0   \n3  14549       2     165    85.0    120     80            1     1      1   \n4  23393       1     155    62.0    120     80            1     1      0   \n\n   alco  active  cardio  \n0     0       1       0  \n1     0       1       1  \n2     0       1       0  \n3     1       1       0  \n4     0       1       0  ",
      "text/html": "<div>\n<style scoped>\n    .dataframe tbody tr th:only-of-type {\n        vertical-align: middle;\n    }\n\n    .dataframe tbody tr th {\n        vertical-align: top;\n    }\n\n    .dataframe thead th {\n        text-align: right;\n    }\n</style>\n<table border=\"1\" class=\"dataframe\">\n  <thead>\n    <tr style=\"text-align: right;\">\n      <th></th>\n      <th>age</th>\n      <th>gender</th>\n      <th>height</th>\n      <th>weight</th>\n      <th>ap_hi</th>\n      <th>ap_lo</th>\n      <th>cholesterol</th>\n      <th>gluc</th>\n      <th>smoke</th>\n      <th>alco</th>\n      <th>active</th>\n      <th>cardio</th>\n    </tr>\n  </thead>\n  <tbody>\n    <tr>\n      <th>0</th>\n      <td>22469</td>\n      <td>1</td>\n      <td>155</td>\n      <td>69.0</td>\n      <td>130</td>\n      <td>80</td>\n      <td>2</td>\n      <td>2</td>\n      <td>0</td>\n      <td>0</td>\n      <td>1</td>\n      <td>0</td>\n    </tr>\n    <tr>\n      <th>1</th>\n      <td>14648</td>\n      <td>1</td>\n      <td>163</td>\n      <td>71.0</td>\n      <td>110</td>\n      <td>70</td>\n      <td>1</td>\n      <td>1</td>\n      <td>0</td>\n      <td>0</td>\n      <td>1</td>\n      <td>1</td>\n    </tr>\n    <tr>\n      <th>2</th>\n      <td>21901</td>\n      <td>1</td>\n      <td>165</td>\n      <td>70.0</td>\n      <td>120</td>\n      <td>80</td>\n      <td>1</td>\n      <td>1</td>\n      <td>0</td>\n      <td>0</td>\n      <td>1</td>\n      <td>0</td>\n    </tr>\n    <tr>\n      <th>3</th>\n      <td>14549</td>\n      <td>2</td>\n      <td>165</td>\n      <td>85.0</td>\n      <td>120</td>\n      <td>80</td>\n      <td>1</td>\n      <td>1</td>\n      <td>1</td>\n      <td>1</td>\n      <td>1</td>\n      <td>0</td>\n    </tr>\n    <tr>\n      <th>4</th>\n      <td>23393</td>\n      <td>1</td>\n      <td>155</td>\n      <td>62.0</td>\n      <td>120</td>\n      <td>80</td>\n      <td>1</td>\n      <td>1</td>\n      <td>0</td>\n      <td>0</td>\n      <td>1</td>\n      <td>0</td>\n    </tr>\n  </tbody>\n</table>\n</div>"
     },
     "execution_count": 18,
     "metadata": {},
     "output_type": "execute_result"
    }
   ],
   "source": [
    "data.head()"
   ],
   "metadata": {
    "collapsed": false,
    "pycharm": {
     "name": "#%%\n"
    }
   }
  },
  {
   "cell_type": "markdown",
   "source": [
    "W analizowanym przez nas zbiorze klasą jest pole ***cardio***. Mając to na uwadze, możemy podzielić nasze na dwa zbiory: zbiór ***X*** (przestrzeń wejść) i zbiór ***y*** (przestrzeń wyjść). Dodatkowo poprzez zastosowanie ***dropna*** usuwane są wiersze z brakującymi danymi."
   ],
   "metadata": {
    "collapsed": false,
    "pycharm": {
     "name": "#%% md\n"
    }
   }
  },
  {
   "cell_type": "code",
   "execution_count": 19,
   "outputs": [],
   "source": [
    "data.dropna(inplace=True)"
   ],
   "metadata": {
    "collapsed": false,
    "pycharm": {
     "name": "#%%\n"
    }
   }
  },
  {
   "cell_type": "code",
   "execution_count": 20,
   "outputs": [],
   "source": [
    "X = data.drop('cardio', axis=1)\n",
    "y = data['cardio']"
   ],
   "metadata": {
    "collapsed": false,
    "pycharm": {
     "name": "#%%\n"
    }
   }
  },
  {
   "cell_type": "code",
   "execution_count": 21,
   "outputs": [
    {
     "data": {
      "text/plain": "     age  gender  height  weight  ap_hi  ap_lo  cholesterol  gluc  smoke  \\\n0  22469       1     155    69.0    130     80            2     2      0   \n1  14648       1     163    71.0    110     70            1     1      0   \n2  21901       1     165    70.0    120     80            1     1      0   \n3  14549       2     165    85.0    120     80            1     1      1   \n4  23393       1     155    62.0    120     80            1     1      0   \n\n   alco  active  \n0     0       1  \n1     0       1  \n2     0       1  \n3     1       1  \n4     0       1  ",
      "text/html": "<div>\n<style scoped>\n    .dataframe tbody tr th:only-of-type {\n        vertical-align: middle;\n    }\n\n    .dataframe tbody tr th {\n        vertical-align: top;\n    }\n\n    .dataframe thead th {\n        text-align: right;\n    }\n</style>\n<table border=\"1\" class=\"dataframe\">\n  <thead>\n    <tr style=\"text-align: right;\">\n      <th></th>\n      <th>age</th>\n      <th>gender</th>\n      <th>height</th>\n      <th>weight</th>\n      <th>ap_hi</th>\n      <th>ap_lo</th>\n      <th>cholesterol</th>\n      <th>gluc</th>\n      <th>smoke</th>\n      <th>alco</th>\n      <th>active</th>\n    </tr>\n  </thead>\n  <tbody>\n    <tr>\n      <th>0</th>\n      <td>22469</td>\n      <td>1</td>\n      <td>155</td>\n      <td>69.0</td>\n      <td>130</td>\n      <td>80</td>\n      <td>2</td>\n      <td>2</td>\n      <td>0</td>\n      <td>0</td>\n      <td>1</td>\n    </tr>\n    <tr>\n      <th>1</th>\n      <td>14648</td>\n      <td>1</td>\n      <td>163</td>\n      <td>71.0</td>\n      <td>110</td>\n      <td>70</td>\n      <td>1</td>\n      <td>1</td>\n      <td>0</td>\n      <td>0</td>\n      <td>1</td>\n    </tr>\n    <tr>\n      <th>2</th>\n      <td>21901</td>\n      <td>1</td>\n      <td>165</td>\n      <td>70.0</td>\n      <td>120</td>\n      <td>80</td>\n      <td>1</td>\n      <td>1</td>\n      <td>0</td>\n      <td>0</td>\n      <td>1</td>\n    </tr>\n    <tr>\n      <th>3</th>\n      <td>14549</td>\n      <td>2</td>\n      <td>165</td>\n      <td>85.0</td>\n      <td>120</td>\n      <td>80</td>\n      <td>1</td>\n      <td>1</td>\n      <td>1</td>\n      <td>1</td>\n      <td>1</td>\n    </tr>\n    <tr>\n      <th>4</th>\n      <td>23393</td>\n      <td>1</td>\n      <td>155</td>\n      <td>62.0</td>\n      <td>120</td>\n      <td>80</td>\n      <td>1</td>\n      <td>1</td>\n      <td>0</td>\n      <td>0</td>\n      <td>1</td>\n    </tr>\n  </tbody>\n</table>\n</div>"
     },
     "execution_count": 21,
     "metadata": {},
     "output_type": "execute_result"
    }
   ],
   "source": [
    "X.head()"
   ],
   "metadata": {
    "collapsed": false,
    "pycharm": {
     "name": "#%%\n"
    }
   }
  },
  {
   "cell_type": "code",
   "execution_count": 22,
   "outputs": [],
   "source": [
    "X = X.values\n",
    "y = y.values"
   ],
   "metadata": {
    "collapsed": false,
    "pycharm": {
     "name": "#%%\n"
    }
   }
  },
  {
   "cell_type": "markdown",
   "source": [
    "## 2. Implementacja naiwnego klasyfikatora Bayesa"
   ],
   "metadata": {
    "collapsed": false,
    "pycharm": {
     "name": "#%% md\n"
    }
   }
  },
  {
   "cell_type": "markdown",
   "source": [
    "Głównym zadaniem siódmego laboratorium jest implementacja naiwnego klasyfikatora Bayesa. W tym celu stworzona została klasa ***NaiveBayesClassifier***.\n",
    "\n",
    "Klasa ta zawiera cztery metody:\n",
    "- ***fit()*** - metoda odpowiedzialna za trenowanie modelu\n",
    "- ***calc_gaussian_probability()*** - metoda wyznaczająca prawdopodobieństwie wynikające z rozkładu Gaussa\n",
    "- ***classify()*** - metoda klasyfikująca pojedynczą próbkę\n",
    "- ***predict()*** - metoda przeprowadzająca klasyfikację dla każdej próbki w danym zestawie"
   ],
   "metadata": {
    "collapsed": false,
    "pycharm": {
     "name": "#%% md\n"
    }
   }
  },
  {
   "cell_type": "code",
   "execution_count": 23,
   "outputs": [],
   "source": [
    "class NaiveBayesClassifier:\n",
    "    def __init__(self):\n",
    "        self.X = None\n",
    "        self.y = None\n",
    "        self.classes = None\n",
    "        self.mean = None\n",
    "        self.var = None\n",
    "        self.priors = None\n",
    "\n",
    "    def fit(self, X, y):\n",
    "        self.X = X\n",
    "        self.y = y\n",
    "        self.classes = np.unique(y)\n",
    "\n",
    "        self.mean = np.zeros((len(self.classes), X.shape[1]))\n",
    "        self.var = np.zeros((len(self.classes), X.shape[1]))\n",
    "        self.priors = np.zeros(len(self.classes))\n",
    "\n",
    "        for i, c in enumerate(self.classes):\n",
    "            X_c = self.X[np.where(y == c)]\n",
    "            self.mean[i, :] = X_c.mean(axis=0)\n",
    "            self.var[i, :] = X_c.var(axis=0)\n",
    "            self.priors[i] = X_c.shape[0] / X.shape[0]\n",
    "\n",
    "    def calc_gaussian_probability(self, mean, var, x):\n",
    "        var_eps = 1e-3\n",
    "        return (1.0 / np.sqrt(2.0 * np.pi * var + var_eps)) * (np.exp(-((x - mean) ** 2 / (2 * var + var_eps))))\n",
    "\n",
    "    def classify(self, x):\n",
    "        posteriors = []\n",
    "\n",
    "        for i, c in enumerate(self.classes):\n",
    "            prior = self.priors[i]\n",
    "            posterior = np.prod(self.calc_gaussian_probability(self.mean[i], self.var[i], x))\n",
    "\n",
    "            posterior = posterior * prior\n",
    "            posteriors.append(posterior)\n",
    "\n",
    "        return self.classes[np.argmax(posteriors)]\n",
    "\n",
    "    def predict(self, X):\n",
    "        return [self.classify(x) for x in X]"
   ],
   "metadata": {
    "collapsed": false,
    "pycharm": {
     "name": "#%%\n"
    }
   }
  },
  {
   "cell_type": "markdown",
   "source": [
    "## 3. Implementacja funkcji pomocniczych"
   ],
   "metadata": {
    "collapsed": false,
    "pycharm": {
     "name": "#%% md\n"
    }
   }
  },
  {
   "cell_type": "markdown",
   "source": [
    "Aby usprawnić analizę otrzymanych wyników, zaimplementowane zostały funkcje pomocnicze ***get_metrics()*** oraz ***plot_confusion_matrix()*** . Pierwsza z nich zwraca wyniki poszczególnych metryk takich jak: dokładność, precyzja, pełność i wynik $F_1$, druga natomiast wyznacza macierz pomyłek dla badanego zbioru."
   ],
   "metadata": {
    "collapsed": false,
    "pycharm": {
     "name": "#%% md\n"
    }
   }
  },
  {
   "cell_type": "code",
   "execution_count": 24,
   "outputs": [],
   "source": [
    "def get_metrics(y_true, y_pred, printing=True):\n",
    "    accuracy = round(metrics.accuracy_score(y_true, y_pred), 5)\n",
    "    precision = round(metrics.precision_score(y_true, y_pred), 5)\n",
    "    recall = round(metrics.recall_score(y_true, y_pred), 5)\n",
    "    f1_score = round(metrics.f1_score(y_true, y_pred), 5)\n",
    "\n",
    "    if printing:\n",
    "        print(\"Accuracy: \", accuracy)\n",
    "        print(\"Precision: \", precision)\n",
    "        print(\"Recall: \", recall)\n",
    "        print(\"F1 score: \", f1_score)\n",
    "\n",
    "    return [accuracy, precision, recall, f1_score]"
   ],
   "metadata": {
    "collapsed": false,
    "pycharm": {
     "name": "#%%\n"
    }
   }
  },
  {
   "cell_type": "code",
   "execution_count": 25,
   "outputs": [],
   "source": [
    "def plot_confusion_matrix(y_true, y_pred, set_type=\"test\"):\n",
    "    cf_matrix = metrics.confusion_matrix(y_true, y_pred)\n",
    "    group_names = ['True Neg','False Pos','False Neg','True Pos']\n",
    "    group_counts = [\"{0:0.0f}\".format(value) for value in cf_matrix.flatten()]\n",
    "    group_percentages = [\"{0:.2%}\".format(value) for value in cf_matrix.flatten()/np.sum(cf_matrix)]\n",
    "    labels = [f\"{v1}\\n{v2}\\n{v3}\" for v1, v2, v3 in zip(group_names,group_counts,group_percentages)]\n",
    "    labels = np.asarray(labels).reshape(2, 2)\n",
    "\n",
    "    sns.heatmap(cf_matrix, center=True, annot=labels, fmt=\"\", cmap='viridis')\n",
    "    plt.title(f\"Confusion matrix for {set_type} set\")\n",
    "    plt.show()"
   ],
   "metadata": {
    "collapsed": false,
    "pycharm": {
     "name": "#%%\n"
    }
   }
  },
  {
   "cell_type": "markdown",
   "source": [
    "Aby móc sprawnie badać wpływ wielkości zbiórów oraz współczynnika **k** w przypadku walidacji krzyżowej zaimplementowane zostały także dwie funkcje: ***simulate_standard()*** i ***simulate_cross_validation()*** . Chcąc natomiast w łatwy sposób prezentować i analizować rezultaty działania algorytmu dla poszczególnych przypadków, stworzona została prosta klasa ***Results***."
   ],
   "metadata": {
    "collapsed": false,
    "pycharm": {
     "name": "#%% md\n"
    }
   }
  },
  {
   "cell_type": "code",
   "execution_count": 26,
   "outputs": [],
   "source": [
    "def simulate_standard(X, y, train_size=0.7):\n",
    "    X_train, X_val_test, y_train, y_val_test = train_test_split(X, y, train_size=train_size, random_state=42)\n",
    "    X_val, X_test, y_val, y_test = train_test_split(X_val_test, y_val_test, test_size=0.5, random_state=42)\n",
    "\n",
    "    bayes_clf = NaiveBayesClassifier()\n",
    "    bayes_clf.fit(X_train, y_train)\n",
    "\n",
    "    y_val_pred = bayes_clf.predict(X_val)\n",
    "    metrics_data_val = get_metrics(y_val, y_val_pred)\n",
    "    plot_confusion_matrix(y_val, y_val_pred, set_type=\"validation\")\n",
    "\n",
    "    y_test_pred = bayes_clf.predict(X_test)\n",
    "    metrics_data_test = get_metrics(y_test, y_test_pred)\n",
    "    plot_confusion_matrix(y_test, y_test_pred, set_type = \"test\")\n",
    "\n",
    "    return metrics_data_val, metrics_data_test"
   ],
   "metadata": {
    "collapsed": false,
    "pycharm": {
     "name": "#%%\n"
    }
   }
  },
  {
   "cell_type": "code",
   "execution_count": 27,
   "outputs": [],
   "source": [
    "def simulate_cross_validation(X, y, train_size=0.6, k=3, print_matrix=True, print_deep=True):\n",
    "    X_train_val, X_test, y_train_val, y_test = train_test_split(X, y, train_size=train_size, random_state=42)\n",
    "\n",
    "    kf = KFold(n_splits=k, shuffle=True, random_state=42)\n",
    "\n",
    "    bayes_clf = NaiveBayesClassifier()\n",
    "\n",
    "    metrics_data_val = []\n",
    "\n",
    "    i = 1\n",
    "\n",
    "    for train_index, val_index in kf.split(X_train_val):\n",
    "        X_train, X_val = X[train_index], X[val_index]\n",
    "        y_train, y_val = y[train_index], y[val_index]\n",
    "\n",
    "        bayes_clf.fit(X_train, y_train)\n",
    "\n",
    "        if print_deep:\n",
    "            print(f\"Fold {i}\")\n",
    "\n",
    "        if print_deep:\n",
    "            print(f\"\\n------- Validation set -------\")\n",
    "\n",
    "        y_pred_val = bayes_clf.predict(X_val)\n",
    "        metrics_data_val.append(get_metrics(y_val, y_pred_val, printing=print_deep))\n",
    "\n",
    "        if print_matrix:\n",
    "            plot_confusion_matrix(y_val, y_pred_val, set_type = \"validation\")\n",
    "\n",
    "        i += 1\n",
    "\n",
    "    bayes_clf.fit(X_train_val, y_train_val)\n",
    "    y_pred_test = bayes_clf.predict(X_test)\n",
    "\n",
    "    metrics_data_test = get_metrics(y_test, y_pred_test, printing=False)\n",
    "    if print_matrix:\n",
    "        plot_confusion_matrix(y_test, y_pred_test, set_type = \"test\")\n",
    "\n",
    "\n",
    "    metrics_data_val = np.array(metrics_data_val)\n",
    "    average_accuracy_val = round(np.mean(metrics_data_val[:, 0]), 5)\n",
    "    average_precision_val = round(np.mean(metrics_data_val[:, 1]), 5)\n",
    "    average_recall_val = round(np.mean(metrics_data_val[:, 2]), 5)\n",
    "    average_f1_score_val = round(np.mean(metrics_data_val[:, 3]), 5)\n",
    "\n",
    "\n",
    "    print(f\"***************** Results ({k} folds) *****************\")\n",
    "    print(f\"\\n---------- Validation set -------\")\n",
    "    print(\"Average accuracy:\", average_accuracy_val)\n",
    "    print(\"Average precision:\", average_precision_val)\n",
    "    print(\"Average recall:\", average_recall_val)\n",
    "    print(\"Average f1 score:\", average_f1_score_val)\n",
    "\n",
    "    print(f\"\\n---------- Test set -------------\")\n",
    "    print(\"Accuracy:\", metrics_data_test[0])\n",
    "    print(\"Precision:\", metrics_data_test[1])\n",
    "    print(\"Recall:\", metrics_data_test[2])\n",
    "    print(\"F1 score:\", metrics_data_test[3])\n",
    "\n",
    "    return [average_accuracy_val, average_precision_val, average_recall_val, average_f1_score_val], [metrics_data_test[0], metrics_data_test[1], metrics_data_test[2], metrics_data_test[3]]"
   ],
   "metadata": {
    "collapsed": false,
    "pycharm": {
     "name": "#%%\n"
    }
   }
  },
  {
   "cell_type": "code",
   "execution_count": 28,
   "outputs": [],
   "source": [
    "class Results:\n",
    "    def __init__(self):\n",
    "        self.results = pd.DataFrame(columns=[\"Type\", \"Sets size (training|validation|test)\", \"Folds number\", \"Precision (test set)\", \"Recall (test set)\", \"F1 score (test set)\", \"Accuracy (test set)\", \"Accuracy (validation set)\"])\n",
    "\n",
    "    def update_results(self, type, size, folds, precision_test, recall_test, f1_score_test, accuracy_test, accuracy_val):\n",
    "        self.results.loc[len(self.results)] = [type, size, folds, precision_test, recall_test, f1_score_test, accuracy_test, accuracy_val]\n",
    "\n",
    "    def delete_row(self, index):\n",
    "        self.results.drop([index], axis=0, inplace=True)\n",
    "\n",
    "    def sort_results(self, column_name):\n",
    "        self.results = self.results.sort_values(by=[column_name])\n",
    "\n",
    "    def __repr__(self):\n",
    "        return self.results.to_string()"
   ],
   "metadata": {
    "collapsed": false,
    "pycharm": {
     "name": "#%%\n"
    }
   }
  },
  {
   "cell_type": "markdown",
   "source": [
    "## 4. Zastosowanie klasyfikatora"
   ],
   "metadata": {
    "collapsed": false,
    "pycharm": {
     "name": "#%% md\n"
    }
   }
  },
  {
   "cell_type": "markdown",
   "source": [
    "Po zaimplenetowaniu klasyfikatora możemy przejść do jego wykorzystania. Polega ono na stworzeniu i zbadaniu jakości dla zbioru danych ***Cardio Vascular Disease Detection*** . Należy sprawdzić jakość zarówno różnymi podziałami na zbiór trenujący, walidacyjny i testowy, jak i różnymi uruchomieniami k-krotnej walidacji krzyżowej, także w różnej konfiguracji oraz zbadać, która metoda pomiaru (zbiór walidacyjny czy walidacja krzyżowa) lepiej odzwierciedla wyniki na zbiorach testowych."
   ],
   "metadata": {
    "collapsed": false,
    "pycharm": {
     "name": "#%% md\n"
    }
   }
  },
  {
   "cell_type": "markdown",
   "source": [
    "### 4.1 Podział na zbiór trenujący, walidacyjny i testowy"
   ],
   "metadata": {
    "collapsed": false,
    "pycharm": {
     "name": "#%% md\n"
    }
   }
  },
  {
   "cell_type": "markdown",
   "source": [
    "Na początku rozważmy klasyczny podział na zbiór trenujący, walidacyjny i testowy. Pierwszy z badanych podziałów umożliwi uzyskanie zbioru trenującego, zawierającego **60%** danych, a także walidacyjnego i testowego, gdzie każdy z nich posiadać będzie po **20%** danych."
   ],
   "metadata": {
    "collapsed": false,
    "pycharm": {
     "name": "#%% md\n"
    }
   }
  },
  {
   "cell_type": "code",
   "execution_count": 116,
   "outputs": [],
   "source": [
    "results_standard = Results()"
   ],
   "metadata": {
    "collapsed": false,
    "pycharm": {
     "name": "#%%\n"
    }
   }
  },
  {
   "cell_type": "code",
   "execution_count": 117,
   "outputs": [
    {
     "name": "stdout",
     "output_type": "stream",
     "text": [
      "Accuracy:  0.57633\n",
      "Precision:  0.73087\n",
      "Recall:  0.25165\n",
      "F1 score:  0.37439\n"
     ]
    },
    {
     "data": {
      "text/plain": "<Figure size 640x480 with 2 Axes>",
      "image/png": "[encoded data removed]"
     },
     "metadata": {},
     "output_type": "display_data"
    },
    {
     "name": "stdout",
     "output_type": "stream",
     "text": [
      "Accuracy:  0.57947\n",
      "Precision:  0.72139\n",
      "Recall:  0.25765\n",
      "F1 score:  0.3797\n"
     ]
    },
    {
     "data": {
      "text/plain": "<Figure size 640x480 with 2 Axes>",
      "image/png": "[encoded data removed]"
     },
     "metadata": {},
     "output_type": "display_data"
    }
   ],
   "source": [
    "result = simulate_standard(X, y, train_size=0.6)"
   ],
   "metadata": {
    "collapsed": false,
    "pycharm": {
     "name": "#%%\n"
    }
   }
  },
  {
   "cell_type": "code",
   "execution_count": 118,
   "outputs": [],
   "source": [
    "results_standard.update_results(\"Standard\", \"0,6  | 0,2   |   0,2\", \" ----- \", result[1][1], result[1][2], result[1][3], result[1][0], result[0][0])"
   ],
   "metadata": {
    "collapsed": false,
    "pycharm": {
     "name": "#%%\n"
    }
   }
  },
  {
   "cell_type": "markdown",
   "source": [
    "Zarówno na zbiorze walidacyjnym jak i testowym osiągnęliśmy zbliżoną nie tylko dokładność ale i wynik $F_1$. Oczywiście można dostrzec, że wspomniane wyniki na zbiorze testowym są minimalnie wyższe, jednakże różnica ta jest bardzo mała. Dzięki wykorzystaniu macierzy pomyłek, widzimy również, że uzyskujemy podobny rozkład w prawidłowym, jak i fałszywym rozpoznaniu próbek. Dodatkowo, nasz klasyfikator cechuje się znacznie większą precyzją niż pełnością, na co wskazuje nie tylko wyświetlony wynik, lecz również pole ***False Neg*** na wyświetlonej macierzy."
   ],
   "metadata": {
    "collapsed": false,
    "pycharm": {
     "name": "#%% md\n"
    }
   }
  },
  {
   "cell_type": "markdown",
   "source": [
    "Nie znając wyników dla innych podziałów, nie jesteśmy w stanie precyzyjnie określić, czy charakter otrzymanych wyników spowodowany jest specyfiką samego klasyfikatora, czy być może decydujący wpływ wywiera stosunek pomiędzy wielkościami zbiorów. W związku z tym przeprowadzone zostały doświadczenia dla różnych rozmiarów zbiórów, gdzie zbiór treningowy stanowić będzie kolejno ***0,7*** , ***0,8*** , ***0,9***, ***0,95*** wszystkich danych, natomiast zbiory walidacyjny i testowy odpowiednio po ***0,15*** , ***0,1*** , ***0,05*** , ***0,025***."
   ],
   "metadata": {
    "collapsed": false,
    "pycharm": {
     "name": "#%% md\n"
    }
   }
  },
  {
   "cell_type": "markdown",
   "source": [],
   "metadata": {
    "collapsed": false,
    "pycharm": {
     "name": "#%% md\n"
    }
   }
  },
  {
   "cell_type": "code",
   "execution_count": 119,
   "outputs": [
    {
     "name": "stdout",
     "output_type": "stream",
     "text": [
      "Accuracy:  0.58461\n",
      "Precision:  0.72203\n",
      "Recall:  0.27449\n",
      "F1 score:  0.39777\n"
     ]
    },
    {
     "data": {
      "text/plain": "<Figure size 640x480 with 2 Axes>",
      "image/png": "[encoded data removed]"
     },
     "metadata": {},
     "output_type": "display_data"
    },
    {
     "name": "stdout",
     "output_type": "stream",
     "text": [
      "Accuracy:  0.58042\n",
      "Precision:  0.7208\n",
      "Recall:  0.26933\n",
      "F1 score:  0.39214\n"
     ]
    },
    {
     "data": {
      "text/plain": "<Figure size 640x480 with 2 Axes>",
      "image/png": "[encoded data removed]"
     },
     "metadata": {},
     "output_type": "display_data"
    }
   ],
   "source": [
    "result = simulate_standard(X, y, train_size=0.7)"
   ],
   "metadata": {
    "collapsed": false,
    "pycharm": {
     "name": "#%%\n"
    }
   }
  },
  {
   "cell_type": "code",
   "execution_count": 120,
   "outputs": [],
   "source": [
    "results_standard.update_results(\"Standard\", \"0,7  | 0,15  |  0,15\", \" ----- \", result[1][1], result[1][2], result[1][3], result[1][0], result[0][0])"
   ],
   "metadata": {
    "collapsed": false,
    "pycharm": {
     "name": "#%%\n"
    }
   }
  },
  {
   "cell_type": "markdown",
   "source": [],
   "metadata": {
    "collapsed": false,
    "pycharm": {
     "name": "#%% md\n"
    }
   }
  },
  {
   "cell_type": "markdown",
   "source": [],
   "metadata": {
    "collapsed": false,
    "pycharm": {
     "name": "#%% md\n"
    }
   }
  },
  {
   "cell_type": "code",
   "execution_count": 121,
   "outputs": [
    {
     "name": "stdout",
     "output_type": "stream",
     "text": [
      "Accuracy:  0.58211\n",
      "Precision:  0.72339\n",
      "Recall:  0.26822\n",
      "F1 score:  0.39134\n"
     ]
    },
    {
     "data": {
      "text/plain": "<Figure size 640x480 with 2 Axes>",
      "image/png": "[encoded data removed]"
     },
     "metadata": {},
     "output_type": "display_data"
    },
    {
     "name": "stdout",
     "output_type": "stream",
     "text": [
      "Accuracy:  0.58419\n",
      "Precision:  0.7182\n",
      "Recall:  0.27294\n",
      "F1 score:  0.39555\n"
     ]
    },
    {
     "data": {
      "text/plain": "<Figure size 640x480 with 2 Axes>",
      "image/png": "[encoded data removed]"
     },
     "metadata": {},
     "output_type": "display_data"
    }
   ],
   "source": [
    "result = simulate_standard(X, y, train_size=0.8)"
   ],
   "metadata": {
    "collapsed": false,
    "pycharm": {
     "name": "#%%\n"
    }
   }
  },
  {
   "cell_type": "code",
   "execution_count": 122,
   "outputs": [],
   "source": [
    "results_standard.update_results(\"Standard\", \"0,8  | 0,1   |   0,1\", \" ----- \", result[1][1], result[1][2], result[1][3], result[1][0], result[0][0])"
   ],
   "metadata": {
    "collapsed": false,
    "pycharm": {
     "name": "#%%\n"
    }
   }
  },
  {
   "cell_type": "markdown",
   "source": [],
   "metadata": {
    "collapsed": false,
    "pycharm": {
     "name": "#%% md\n"
    }
   }
  },
  {
   "cell_type": "markdown",
   "source": [],
   "metadata": {
    "collapsed": false,
    "pycharm": {
     "name": "#%% md\n"
    }
   }
  },
  {
   "cell_type": "code",
   "execution_count": 123,
   "outputs": [
    {
     "name": "stdout",
     "output_type": "stream",
     "text": [
      "Accuracy:  0.58788\n",
      "Precision:  0.69467\n",
      "Recall:  0.30291\n",
      "F1 score:  0.42186\n"
     ]
    },
    {
     "data": {
      "text/plain": "<Figure size 640x480 with 2 Axes>",
      "image/png": "[encoded data removed]"
     },
     "metadata": {},
     "output_type": "display_data"
    },
    {
     "name": "stdout",
     "output_type": "stream",
     "text": [
      "Accuracy:  0.58223\n",
      "Precision:  0.69717\n",
      "Recall:  0.29753\n",
      "F1 score:  0.41707\n"
     ]
    },
    {
     "data": {
      "text/plain": "<Figure size 640x480 with 2 Axes>",
      "image/png": "[encoded data removed]"
     },
     "metadata": {},
     "output_type": "display_data"
    }
   ],
   "source": [
    "result = simulate_standard(X, y, train_size=0.9)"
   ],
   "metadata": {
    "collapsed": false,
    "pycharm": {
     "name": "#%%\n"
    }
   }
  },
  {
   "cell_type": "code",
   "execution_count": 124,
   "outputs": [],
   "source": [
    "results_standard.update_results(\"Standard\", \"0,9  | 0,05  |  0,05\", \" ----- \", result[1][1], result[1][2], result[1][3], result[1][0], result[0][0])"
   ],
   "metadata": {
    "collapsed": false,
    "pycharm": {
     "name": "#%%\n"
    }
   }
  },
  {
   "cell_type": "markdown",
   "source": [],
   "metadata": {
    "collapsed": false,
    "pycharm": {
     "name": "#%% md\n"
    }
   }
  },
  {
   "cell_type": "markdown",
   "source": [],
   "metadata": {
    "collapsed": false,
    "pycharm": {
     "name": "#%% md\n"
    }
   }
  },
  {
   "cell_type": "code",
   "execution_count": 125,
   "outputs": [
    {
     "name": "stdout",
     "output_type": "stream",
     "text": [
      "Accuracy:  0.57703\n",
      "Precision:  0.69713\n",
      "Recall:  0.30204\n",
      "F1 score:  0.42147\n"
     ]
    },
    {
     "data": {
      "text/plain": "<Figure size 640x480 with 2 Axes>",
      "image/png": "[encoded data removed]"
     },
     "metadata": {},
     "output_type": "display_data"
    },
    {
     "name": "stdout",
     "output_type": "stream",
     "text": [
      "Accuracy:  0.58165\n",
      "Precision:  0.70604\n",
      "Recall:  0.30499\n",
      "F1 score:  0.42597\n"
     ]
    },
    {
     "data": {
      "text/plain": "<Figure size 640x480 with 2 Axes>",
      "image/png": "[encoded data removed]"
     },
     "metadata": {},
     "output_type": "display_data"
    }
   ],
   "source": [
    "result = simulate_standard(X, y, train_size=0.95)"
   ],
   "metadata": {
    "collapsed": false,
    "pycharm": {
     "name": "#%%\n"
    }
   }
  },
  {
   "cell_type": "code",
   "execution_count": 126,
   "outputs": [],
   "source": [
    "results_standard.update_results(\"Standard\", \"0,95 | 0,025 | 0,025\", \" ----- \", result[1][1], result[1][2], result[1][3], result[1][0], result[0][0])"
   ],
   "metadata": {
    "collapsed": false,
    "pycharm": {
     "name": "#%%\n"
    }
   }
  },
  {
   "cell_type": "markdown",
   "source": [
    "Poniżej zamieszona została zbiorcza tabela zawierająca wyniki dotychczasowych doświadczeń."
   ],
   "metadata": {
    "collapsed": false,
    "pycharm": {
     "name": "#%% md\n"
    }
   }
  },
  {
   "cell_type": "code",
   "execution_count": 127,
   "outputs": [
    {
     "data": {
      "text/plain": "       Type Sets size (training|validation|test) Folds number  \\\n0  Standard                 0,6  | 0,2   |   0,2       -----    \n1  Standard                 0,7  | 0,15  |  0,15       -----    \n2  Standard                 0,8  | 0,1   |   0,1       -----    \n3  Standard                 0,9  | 0,05  |  0,05       -----    \n4  Standard                 0,95 | 0,025 | 0,025       -----    \n\n   Precision (test set)  Recall (test set)  F1 score (test set)  \\\n0               0.72139            0.25765              0.37970   \n1               0.72080            0.26933              0.39214   \n2               0.71820            0.27294              0.39555   \n3               0.69717            0.29753              0.41707   \n4               0.70604            0.30499              0.42597   \n\n   Accuracy (test set)  Accuracy (validation set)  \n0              0.57947                    0.57633  \n1              0.58042                    0.58461  \n2              0.58419                    0.58211  \n3              0.58223                    0.58788  \n4              0.58165                    0.57703  ",
      "text/html": "<div>\n<style scoped>\n    .dataframe tbody tr th:only-of-type {\n        vertical-align: middle;\n    }\n\n    .dataframe tbody tr th {\n        vertical-align: top;\n    }\n\n    .dataframe thead th {\n        text-align: right;\n    }\n</style>\n<table border=\"1\" class=\"dataframe\">\n  <thead>\n    <tr style=\"text-align: right;\">\n      <th></th>\n      <th>Type</th>\n      <th>Sets size (training|validation|test)</th>\n      <th>Folds number</th>\n      <th>Precision (test set)</th>\n      <th>Recall (test set)</th>\n      <th>F1 score (test set)</th>\n      <th>Accuracy (test set)</th>\n      <th>Accuracy (validation set)</th>\n    </tr>\n  </thead>\n  <tbody>\n    <tr>\n      <th>0</th>\n      <td>Standard</td>\n      <td>0,6  | 0,2   |   0,2</td>\n      <td>-----</td>\n      <td>0.72139</td>\n      <td>0.25765</td>\n      <td>0.37970</td>\n      <td>0.57947</td>\n      <td>0.57633</td>\n    </tr>\n    <tr>\n      <th>1</th>\n      <td>Standard</td>\n      <td>0,7  | 0,15  |  0,15</td>\n      <td>-----</td>\n      <td>0.72080</td>\n      <td>0.26933</td>\n      <td>0.39214</td>\n      <td>0.58042</td>\n      <td>0.58461</td>\n    </tr>\n    <tr>\n      <th>2</th>\n      <td>Standard</td>\n      <td>0,8  | 0,1   |   0,1</td>\n      <td>-----</td>\n      <td>0.71820</td>\n      <td>0.27294</td>\n      <td>0.39555</td>\n      <td>0.58419</td>\n      <td>0.58211</td>\n    </tr>\n    <tr>\n      <th>3</th>\n      <td>Standard</td>\n      <td>0,9  | 0,05  |  0,05</td>\n      <td>-----</td>\n      <td>0.69717</td>\n      <td>0.29753</td>\n      <td>0.41707</td>\n      <td>0.58223</td>\n      <td>0.58788</td>\n    </tr>\n    <tr>\n      <th>4</th>\n      <td>Standard</td>\n      <td>0,95 | 0,025 | 0,025</td>\n      <td>-----</td>\n      <td>0.70604</td>\n      <td>0.30499</td>\n      <td>0.42597</td>\n      <td>0.58165</td>\n      <td>0.57703</td>\n    </tr>\n  </tbody>\n</table>\n</div>"
     },
     "execution_count": 127,
     "metadata": {},
     "output_type": "execute_result"
    }
   ],
   "source": [
    "results_standard.sort_results(\"Sets size (training|validation|test)\")\n",
    "results_standard.results"
   ],
   "metadata": {
    "collapsed": false,
    "pycharm": {
     "name": "#%%\n"
    }
   }
  },
  {
   "cell_type": "markdown",
   "source": [
    "Jak widać powyżej, wielkość zbiorów nie wpływa znacząco na uzyskaną dokładność, jednakże nie można nie wspomnieć, że największą wartość wspomnianej metryki na zbiorze testowym dostajemy dla podziałów ***2*** i ***3***. Jest to spowodowane dostatecznie obszernym zbiorem trenującym, jednak pozostawiającym na tyle dużo próbek wykorzystywanych w zbiorze walidacyjnym i testowym, że otrzymane wyniki są miarodajne, jeśli chodzi o uzyskaną jakość klasyfikatora, ponieważ jednocześnie wskazują na uniezależnienie od czynników losowych podczas podziału, o czym świadczą porównywalne rezultaty dla zbiorów walidacyjnego i testowego. Jedyną próbą, w której w przypadku żadnego zbioru dokładność nie przekroczyła **58%** jest podział **0**. W jego przypadku zbiór trenujący jest zbyt mały, przez co nie jest w stanie dostosować się do większej ilości przypadków, jednakże warto zaznaczyć, że dzięki takiemu podziałowi jesteśmy w stanie ocenić model ze znacznie większą pewnością niż np. w podziale **4**, gdzie wielkość zbiorów walidacyjnego i testowego stanowi jedynie niewielki ułamek tego, co zawiera zbiór trenujący."
   ],
   "metadata": {
    "collapsed": false,
    "pycharm": {
     "name": "#%% md\n"
    }
   }
  },
  {
   "cell_type": "markdown",
   "source": [
    "O ile wartości dokładności nie odbiegają od siebie znacząco, o tyle dla innych metryk zauważamy pewne zależności. Wraz ze wzrostem wielkości zbioru trenującego obserwujemy wyraźny wzrost pełności. Niestety dzieje się to kosztem uzyskiwanej precyzji, jednakże mimo jej spadku, możemy zaobserwować wzrost wyniku $F_1$, gdyż przyrost pełności jest szybszy."
   ],
   "metadata": {
    "collapsed": false,
    "pycharm": {
     "name": "#%% md\n"
    }
   }
  },
  {
   "cell_type": "markdown",
   "source": [
    "### 4.2 k-krotna walidacja krzyżowa"
   ],
   "metadata": {
    "collapsed": false,
    "pycharm": {
     "name": "#%% md\n"
    }
   }
  },
  {
   "cell_type": "markdown",
   "source": [
    "Drugim z możliwych podejść jest zastosowanie walidacji krzyżowej. Zbiór danych jest wówczas dzielony na ***k*** fragmentów. Modele trenuje się na ***k-1*** fragmentach, natomiast jakość mierzy się na pozostałym fragmencie. Końcowy rezultat, wynikający z zastosowania niniejszego podejścia, jest uśredniony z ***k*** iteracji, gdzie kolejne z ***k*** fragmentów stają się nowym zbiorem walidacyjnym.\n"
   ],
   "metadata": {
    "collapsed": false,
    "pycharm": {
     "name": "#%% md\n"
    }
   }
  },
  {
   "cell_type": "code",
   "execution_count": 128,
   "outputs": [],
   "source": [
    "results_cross_validation = Results()"
   ],
   "metadata": {
    "collapsed": false,
    "pycharm": {
     "name": "#%%\n"
    }
   }
  },
  {
   "cell_type": "markdown",
   "source": [
    "#### 4.2.1 Podział (0,6 | 0,4)"
   ],
   "metadata": {
    "collapsed": false,
    "pycharm": {
     "name": "#%% md\n"
    }
   }
  },
  {
   "cell_type": "markdown",
   "source": [
    "Pierwszym z analizowanych przedziałów jest ten, gdzie ***0,6*** wszystkich danych jest przeznaczonych do trenowania modelu, a co za tym idzie, oceny za pomocą walidacji krzyżowej. Pozostałe ***0,4*** danych będzie zbiorem testowym, który wykorzystamy do oceny po wytrenowaniu modelu i uprzednim przeprowadzeniu walidacji krzyżowej."
   ],
   "metadata": {
    "collapsed": false,
    "pycharm": {
     "name": "#%% md\n"
    }
   }
  },
  {
   "cell_type": "markdown",
   "source": [
    "W ramach jednego podziału przeprowadzone zostanie kilka odmian walidacji krzyżowej, tzn. zbiór trenujący zostanie podzielony kolejno na ***3, 4, 5, 6, 8, 10*** i ***20*** fragmentów, gdzie uczenie zostanie przeprowadzone na ***k-1*** fragmentach, a jakość się mierzy na pozostałym (jakość ta zostaje potem uśredniona). Jak łatwo się domyślić, wraz ze wzrostem liczby elementów pewność miary jakości jest coraz mniejsza, gdyż fragment, na którym przeprowadzamy ocenę, staje się mniej licznym zbiorem. W drugą stronę, gdy liczba ***k*** jest bardzo mała, narażamy się na niedotrenowanie modelu."
   ],
   "metadata": {
    "collapsed": false,
    "pycharm": {
     "name": "#%% md\n"
    }
   }
  },
  {
   "cell_type": "markdown",
   "source": [
    "Aby sprawdzić, która wartość ***k*** jest optymalna dla danego podziału, przeprowadzone zostały poniższe doświadczenia."
   ],
   "metadata": {
    "collapsed": false,
    "pycharm": {
     "name": "#%% md\n"
    }
   }
  },
  {
   "cell_type": "code",
   "execution_count": 129,
   "outputs": [
    {
     "name": "stdout",
     "output_type": "stream",
     "text": [
      "Fold 1\n",
      "\n",
      "------- Validation set -------\n",
      "Accuracy:  0.58261\n",
      "Precision:  0.75853\n",
      "Recall:  0.24362\n",
      "F1 score:  0.36879\n"
     ]
    },
    {
     "data": {
      "text/plain": "<Figure size 640x480 with 2 Axes>",
      "image/png": "[encoded data removed]"
     },
     "metadata": {},
     "output_type": "display_data"
    },
    {
     "name": "stdout",
     "output_type": "stream",
     "text": [
      "Fold 2\n",
      "\n",
      "------- Validation set -------\n",
      "Accuracy:  0.59481\n",
      "Precision:  0.77749\n",
      "Recall:  0.26037\n",
      "F1 score:  0.3901\n"
     ]
    },
    {
     "data": {
      "text/plain": "<Figure size 640x480 with 2 Axes>",
      "image/png": "[encoded data removed]"
     },
     "metadata": {},
     "output_type": "display_data"
    },
    {
     "name": "stdout",
     "output_type": "stream",
     "text": [
      "Fold 3\n",
      "\n",
      "------- Validation set -------\n",
      "Accuracy:  0.5956\n",
      "Precision:  0.77735\n",
      "Recall:  0.26433\n",
      "F1 score:  0.39451\n"
     ]
    },
    {
     "data": {
      "text/plain": "<Figure size 640x480 with 2 Axes>",
      "image/png": "[encoded data removed]"
     },
     "metadata": {},
     "output_type": "display_data"
    },
    {
     "data": {
      "text/plain": "<Figure size 640x480 with 2 Axes>",
      "image/png": "[encoded data removed]"
     },
     "metadata": {},
     "output_type": "display_data"
    },
    {
     "name": "stdout",
     "output_type": "stream",
     "text": [
      "***************** Results (3 folds) *****************\n",
      "\n",
      "---------- Validation set -------\n",
      "Average accuracy: 0.59101\n",
      "Average precision: 0.77112\n",
      "Average recall: 0.25611\n",
      "Average f1 score: 0.38447\n",
      "\n",
      "---------- Test set -------------\n",
      "Accuracy: 0.5779\n",
      "Precision: 0.72606\n",
      "Recall: 0.25464\n",
      "F1 score: 0.37704\n"
     ]
    }
   ],
   "source": [
    "result = simulate_cross_validation(X, y, train_size=0.6, k=3)"
   ],
   "metadata": {
    "collapsed": false,
    "pycharm": {
     "name": "#%%\n"
    }
   }
  },
  {
   "cell_type": "code",
   "execution_count": 130,
   "outputs": [],
   "source": [
    "results_cross_validation.update_results(\"Cross validation\", \"0,6  |   0,4\", 3, result[1][1], result[1][2], result[1][3], result[1][0], result[0][0])"
   ],
   "metadata": {
    "collapsed": false,
    "pycharm": {
     "name": "#%%\n"
    }
   }
  },
  {
   "cell_type": "markdown",
   "source": [],
   "metadata": {
    "collapsed": false,
    "pycharm": {
     "name": "#%% md\n"
    }
   }
  },
  {
   "cell_type": "markdown",
   "source": [],
   "metadata": {
    "collapsed": false,
    "pycharm": {
     "name": "#%% md\n"
    }
   }
  },
  {
   "cell_type": "code",
   "execution_count": 131,
   "outputs": [
    {
     "name": "stdout",
     "output_type": "stream",
     "text": [
      "Fold 1\n",
      "\n",
      "------- Validation set -------\n",
      "Accuracy:  0.5898\n",
      "Precision:  0.7561\n",
      "Recall:  0.25301\n",
      "F1 score:  0.37915\n"
     ]
    },
    {
     "data": {
      "text/plain": "<Figure size 640x480 with 2 Axes>",
      "image/png": "[encoded data removed]"
     },
     "metadata": {},
     "output_type": "display_data"
    },
    {
     "name": "stdout",
     "output_type": "stream",
     "text": [
      "Fold 2\n",
      "\n",
      "------- Validation set -------\n",
      "Accuracy:  0.58692\n",
      "Precision:  0.77665\n",
      "Recall:  0.24966\n",
      "F1 score:  0.37786\n"
     ]
    },
    {
     "data": {
      "text/plain": "<Figure size 640x480 with 2 Axes>",
      "image/png": "[encoded data removed]"
     },
     "metadata": {},
     "output_type": "display_data"
    },
    {
     "name": "stdout",
     "output_type": "stream",
     "text": [
      "Fold 3\n",
      "\n",
      "------- Validation set -------\n",
      "Accuracy:  0.58788\n",
      "Precision:  0.77531\n",
      "Recall:  0.2487\n",
      "F1 score:  0.3766\n"
     ]
    },
    {
     "data": {
      "text/plain": "<Figure size 640x480 with 2 Axes>",
      "image/png": "[encoded data removed]"
     },
     "metadata": {},
     "output_type": "display_data"
    },
    {
     "name": "stdout",
     "output_type": "stream",
     "text": [
      "Fold 4\n",
      "\n",
      "------- Validation set -------\n",
      "Accuracy:  0.59557\n",
      "Precision:  0.77087\n",
      "Recall:  0.2661\n",
      "F1 score:  0.39563\n"
     ]
    },
    {
     "data": {
      "text/plain": "<Figure size 640x480 with 2 Axes>",
      "image/png": "[encoded data removed]"
     },
     "metadata": {},
     "output_type": "display_data"
    },
    {
     "data": {
      "text/plain": "<Figure size 640x480 with 2 Axes>",
      "image/png": "[encoded data removed]"
     },
     "metadata": {},
     "output_type": "display_data"
    },
    {
     "name": "stdout",
     "output_type": "stream",
     "text": [
      "***************** Results (4 folds) *****************\n",
      "\n",
      "---------- Validation set -------\n",
      "Average accuracy: 0.59004\n",
      "Average precision: 0.76973\n",
      "Average recall: 0.25437\n",
      "Average f1 score: 0.38231\n",
      "\n",
      "---------- Test set -------------\n",
      "Accuracy: 0.5779\n",
      "Precision: 0.72606\n",
      "Recall: 0.25464\n",
      "F1 score: 0.37704\n"
     ]
    }
   ],
   "source": [
    "result = simulate_cross_validation(X, y, train_size=0.6, k=4)"
   ],
   "metadata": {
    "collapsed": false,
    "pycharm": {
     "name": "#%%\n"
    }
   }
  },
  {
   "cell_type": "code",
   "execution_count": 132,
   "outputs": [],
   "source": [
    "results_cross_validation.update_results(\"Cross validation\", \"0,6  |   0,4\", 4, result[1][1], result[1][2], result[1][3], result[1][0], result[0][0])"
   ],
   "metadata": {
    "collapsed": false,
    "pycharm": {
     "name": "#%%\n"
    }
   }
  },
  {
   "cell_type": "markdown",
   "source": [],
   "metadata": {
    "collapsed": false,
    "pycharm": {
     "name": "#%% md\n"
    }
   }
  },
  {
   "cell_type": "code",
   "execution_count": 133,
   "outputs": [
    {
     "name": "stdout",
     "output_type": "stream",
     "text": [
      "***************** Results (5 folds) *****************\n",
      "\n",
      "---------- Validation set -------\n",
      "Average accuracy: 0.59043\n",
      "Average precision: 0.77\n",
      "Average recall: 0.25538\n",
      "Average f1 score: 0.38347\n",
      "\n",
      "---------- Test set -------------\n",
      "Accuracy: 0.5779\n",
      "Precision: 0.72606\n",
      "Recall: 0.25464\n",
      "F1 score: 0.37704\n"
     ]
    }
   ],
   "source": [
    "result = simulate_cross_validation(X, y, train_size=0.6, k=5, print_matrix=False, print_deep=False)"
   ],
   "metadata": {
    "collapsed": false,
    "pycharm": {
     "name": "#%%\n"
    }
   }
  },
  {
   "cell_type": "code",
   "execution_count": 134,
   "outputs": [],
   "source": [
    "results_cross_validation.update_results(\"Cross validation\", \"0,6  |   0,4\", 5, result[1][1], result[1][2], result[1][3], result[1][0], result[0][0])"
   ],
   "metadata": {
    "collapsed": false,
    "pycharm": {
     "name": "#%%\n"
    }
   }
  },
  {
   "cell_type": "markdown",
   "source": [],
   "metadata": {
    "collapsed": false,
    "pycharm": {
     "name": "#%% md\n"
    }
   }
  },
  {
   "cell_type": "code",
   "execution_count": 135,
   "outputs": [
    {
     "name": "stdout",
     "output_type": "stream",
     "text": [
      "***************** Results (6 folds) *****************\n",
      "\n",
      "---------- Validation set -------\n",
      "Average accuracy: 0.59021\n",
      "Average precision: 0.76996\n",
      "Average recall: 0.25471\n",
      "Average f1 score: 0.38265\n",
      "\n",
      "---------- Test set -------------\n",
      "Accuracy: 0.5779\n",
      "Precision: 0.72606\n",
      "Recall: 0.25464\n",
      "F1 score: 0.37704\n"
     ]
    }
   ],
   "source": [
    "result = simulate_cross_validation(X, y, train_size=0.6, k=6, print_matrix=False, print_deep=False)"
   ],
   "metadata": {
    "collapsed": false,
    "pycharm": {
     "name": "#%%\n"
    }
   }
  },
  {
   "cell_type": "code",
   "execution_count": 136,
   "outputs": [],
   "source": [
    "results_cross_validation.update_results(\"Cross validation\", \"0,6  |   0,4\", 6, result[1][1], result[1][2], result[1][3], result[1][0], result[0][0])"
   ],
   "metadata": {
    "collapsed": false,
    "pycharm": {
     "name": "#%%\n"
    }
   }
  },
  {
   "cell_type": "markdown",
   "source": [],
   "metadata": {
    "collapsed": false,
    "pycharm": {
     "name": "#%% md\n"
    }
   }
  },
  {
   "cell_type": "code",
   "execution_count": 137,
   "outputs": [
    {
     "name": "stdout",
     "output_type": "stream",
     "text": [
      "***************** Results (8 folds) *****************\n",
      "\n",
      "---------- Validation set -------\n",
      "Average accuracy: 0.59045\n",
      "Average precision: 0.77089\n",
      "Average recall: 0.2549\n",
      "Average f1 score: 0.38303\n",
      "\n",
      "---------- Test set -------------\n",
      "Accuracy: 0.5779\n",
      "Precision: 0.72606\n",
      "Recall: 0.25464\n",
      "F1 score: 0.37704\n"
     ]
    }
   ],
   "source": [
    "result = simulate_cross_validation(X, y, train_size=0.6, k=8, print_matrix=False, print_deep=False)"
   ],
   "metadata": {
    "collapsed": false,
    "pycharm": {
     "name": "#%%\n"
    }
   }
  },
  {
   "cell_type": "code",
   "execution_count": 138,
   "outputs": [],
   "source": [
    "results_cross_validation.update_results(\"Cross validation\", \"0,6  |   0,4\", 8, result[1][1], result[1][2], result[1][3], result[1][0], result[0][0])"
   ],
   "metadata": {
    "collapsed": false,
    "pycharm": {
     "name": "#%%\n"
    }
   }
  },
  {
   "cell_type": "markdown",
   "source": [],
   "metadata": {
    "collapsed": false,
    "pycharm": {
     "name": "#%% md\n"
    }
   }
  },
  {
   "cell_type": "code",
   "execution_count": 139,
   "outputs": [
    {
     "name": "stdout",
     "output_type": "stream",
     "text": [
      "***************** Results (10 folds) *****************\n",
      "\n",
      "---------- Validation set -------\n",
      "Average accuracy: 0.59067\n",
      "Average precision: 0.77111\n",
      "Average recall: 0.25501\n",
      "Average f1 score: 0.38318\n",
      "\n",
      "---------- Test set -------------\n",
      "Accuracy: 0.5779\n",
      "Precision: 0.72606\n",
      "Recall: 0.25464\n",
      "F1 score: 0.37704\n"
     ]
    }
   ],
   "source": [
    "result = simulate_cross_validation(X, y, train_size=0.6, k=10, print_matrix=False, print_deep=False)"
   ],
   "metadata": {
    "collapsed": false,
    "pycharm": {
     "name": "#%%\n"
    }
   }
  },
  {
   "cell_type": "code",
   "execution_count": 140,
   "outputs": [],
   "source": [
    "results_cross_validation.update_results(\"Cross validation\", \"0,6  |   0,4\", 10, result[1][1], result[1][2], result[1][3], result[1][0], result[0][0])"
   ],
   "metadata": {
    "collapsed": false,
    "pycharm": {
     "name": "#%%\n"
    }
   }
  },
  {
   "cell_type": "markdown",
   "source": [],
   "metadata": {
    "collapsed": false,
    "pycharm": {
     "name": "#%% md\n"
    }
   }
  },
  {
   "cell_type": "code",
   "execution_count": 141,
   "outputs": [
    {
     "name": "stdout",
     "output_type": "stream",
     "text": [
      "***************** Results (20 folds) *****************\n",
      "\n",
      "---------- Validation set -------\n",
      "Average accuracy: 0.59069\n",
      "Average precision: 0.77188\n",
      "Average recall: 0.25479\n",
      "Average f1 score: 0.3829\n",
      "\n",
      "---------- Test set -------------\n",
      "Accuracy: 0.5779\n",
      "Precision: 0.72606\n",
      "Recall: 0.25464\n",
      "F1 score: 0.37704\n"
     ]
    }
   ],
   "source": [
    "result = simulate_cross_validation(X, y, train_size=0.6, k=20, print_matrix=False, print_deep=False)"
   ],
   "metadata": {
    "collapsed": false,
    "pycharm": {
     "name": "#%%\n"
    }
   }
  },
  {
   "cell_type": "code",
   "execution_count": 142,
   "outputs": [],
   "source": [
    "results_cross_validation.update_results(\"Cross validation\", \"0,6  |   0,4\", 20, result[1][1], result[1][2], result[1][3], result[1][0], result[0][0])"
   ],
   "metadata": {
    "collapsed": false,
    "pycharm": {
     "name": "#%%\n"
    }
   }
  },
  {
   "cell_type": "code",
   "execution_count": 143,
   "outputs": [
    {
     "data": {
      "text/plain": "               Type Sets size (training|validation|test)  Folds number  \\\n0  Cross validation                         0,6  |   0,4             3   \n1  Cross validation                         0,6  |   0,4             4   \n2  Cross validation                         0,6  |   0,4             5   \n3  Cross validation                         0,6  |   0,4             6   \n4  Cross validation                         0,6  |   0,4             8   \n5  Cross validation                         0,6  |   0,4            10   \n6  Cross validation                         0,6  |   0,4            20   \n\n   Precision (test set)  Recall (test set)  F1 score (test set)  \\\n0               0.72606            0.25464              0.37704   \n1               0.72606            0.25464              0.37704   \n2               0.72606            0.25464              0.37704   \n3               0.72606            0.25464              0.37704   \n4               0.72606            0.25464              0.37704   \n5               0.72606            0.25464              0.37704   \n6               0.72606            0.25464              0.37704   \n\n   Accuracy (test set)  Accuracy (validation set)  \n0               0.5779                    0.59101  \n1               0.5779                    0.59004  \n2               0.5779                    0.59043  \n3               0.5779                    0.59021  \n4               0.5779                    0.59045  \n5               0.5779                    0.59067  \n6               0.5779                    0.59069  ",
      "text/html": "<div>\n<style scoped>\n    .dataframe tbody tr th:only-of-type {\n        vertical-align: middle;\n    }\n\n    .dataframe tbody tr th {\n        vertical-align: top;\n    }\n\n    .dataframe thead th {\n        text-align: right;\n    }\n</style>\n<table border=\"1\" class=\"dataframe\">\n  <thead>\n    <tr style=\"text-align: right;\">\n      <th></th>\n      <th>Type</th>\n      <th>Sets size (training|validation|test)</th>\n      <th>Folds number</th>\n      <th>Precision (test set)</th>\n      <th>Recall (test set)</th>\n      <th>F1 score (test set)</th>\n      <th>Accuracy (test set)</th>\n      <th>Accuracy (validation set)</th>\n    </tr>\n  </thead>\n  <tbody>\n    <tr>\n      <th>0</th>\n      <td>Cross validation</td>\n      <td>0,6  |   0,4</td>\n      <td>3</td>\n      <td>0.72606</td>\n      <td>0.25464</td>\n      <td>0.37704</td>\n      <td>0.5779</td>\n      <td>0.59101</td>\n    </tr>\n    <tr>\n      <th>1</th>\n      <td>Cross validation</td>\n      <td>0,6  |   0,4</td>\n      <td>4</td>\n      <td>0.72606</td>\n      <td>0.25464</td>\n      <td>0.37704</td>\n      <td>0.5779</td>\n      <td>0.59004</td>\n    </tr>\n    <tr>\n      <th>2</th>\n      <td>Cross validation</td>\n      <td>0,6  |   0,4</td>\n      <td>5</td>\n      <td>0.72606</td>\n      <td>0.25464</td>\n      <td>0.37704</td>\n      <td>0.5779</td>\n      <td>0.59043</td>\n    </tr>\n    <tr>\n      <th>3</th>\n      <td>Cross validation</td>\n      <td>0,6  |   0,4</td>\n      <td>6</td>\n      <td>0.72606</td>\n      <td>0.25464</td>\n      <td>0.37704</td>\n      <td>0.5779</td>\n      <td>0.59021</td>\n    </tr>\n    <tr>\n      <th>4</th>\n      <td>Cross validation</td>\n      <td>0,6  |   0,4</td>\n      <td>8</td>\n      <td>0.72606</td>\n      <td>0.25464</td>\n      <td>0.37704</td>\n      <td>0.5779</td>\n      <td>0.59045</td>\n    </tr>\n    <tr>\n      <th>5</th>\n      <td>Cross validation</td>\n      <td>0,6  |   0,4</td>\n      <td>10</td>\n      <td>0.72606</td>\n      <td>0.25464</td>\n      <td>0.37704</td>\n      <td>0.5779</td>\n      <td>0.59067</td>\n    </tr>\n    <tr>\n      <th>6</th>\n      <td>Cross validation</td>\n      <td>0,6  |   0,4</td>\n      <td>20</td>\n      <td>0.72606</td>\n      <td>0.25464</td>\n      <td>0.37704</td>\n      <td>0.5779</td>\n      <td>0.59069</td>\n    </tr>\n  </tbody>\n</table>\n</div>"
     },
     "execution_count": 143,
     "metadata": {},
     "output_type": "execute_result"
    }
   ],
   "source": [
    "results_cross_validation.results"
   ],
   "metadata": {
    "collapsed": false,
    "pycharm": {
     "name": "#%%\n"
    }
   }
  },
  {
   "cell_type": "markdown",
   "source": [
    "Średnie wyniki uzyskane na zbiorach walidacyjnych są praktycznie identyczne. Jest to spowodowane w głównej mierze stosunkowo licznymi fragmentami. Niestety obserwujemy jednocześnie, że dokładność uzyskana dla zbioru testowego jest wyraźnie niższa, na co nie wątpliwie wpływa fakt, że wykorzystywany zbiór testowy, jest zbiorem dużym."
   ],
   "metadata": {
    "collapsed": false,
    "pycharm": {
     "name": "#%% md\n"
    }
   }
  },
  {
   "cell_type": "markdown",
   "source": [
    "#### 4.2.2 Podział (0,7 | 0,3)"
   ],
   "metadata": {
    "collapsed": false,
    "pycharm": {
     "name": "#%% md\n"
    }
   }
  },
  {
   "cell_type": "markdown",
   "source": [
    "Podobna analiza została przeprowadzona dla podziału, w którym ***0,7*** danych należy do zbioru trenująco-walidacyjnego, natomiast ***0,3*** danych do zbioru testowego."
   ],
   "metadata": {
    "collapsed": false,
    "pycharm": {
     "name": "#%% md\n"
    }
   }
  },
  {
   "cell_type": "code",
   "execution_count": 57,
   "outputs": [
    {
     "name": "stdout",
     "output_type": "stream",
     "text": [
      "***************** Results (3 folds) *****************\n",
      "\n",
      "---------- Validation set -------\n",
      "Average accuracy: 0.59077\n",
      "Average precision: 0.73674\n",
      "Average recall: 0.28259\n",
      "Average f1 score: 0.40764\n",
      "\n",
      "---------- Test set -------------\n",
      "Accuracy: 0.58251\n",
      "Precision: 0.72142\n",
      "Recall: 0.27191\n",
      "F1 score: 0.39495\n"
     ]
    }
   ],
   "source": [
    "result = simulate_cross_validation(X, y, train_size=0.7, k=3, print_matrix=False, print_deep=False)"
   ],
   "metadata": {
    "collapsed": false,
    "pycharm": {
     "name": "#%%\n"
    }
   }
  },
  {
   "cell_type": "code",
   "execution_count": 58,
   "outputs": [],
   "source": [
    "results_cross_validation.update_results(\"Cross validation\", \"0,7  |  0,3\", 3, result[1][1], result[1][2], result[1][3], result[1][0], result[0][0])"
   ],
   "metadata": {
    "collapsed": false,
    "pycharm": {
     "name": "#%%\n"
    }
   }
  },
  {
   "cell_type": "markdown",
   "source": [],
   "metadata": {
    "collapsed": false,
    "pycharm": {
     "name": "#%% md\n"
    }
   }
  },
  {
   "cell_type": "code",
   "execution_count": 59,
   "outputs": [
    {
     "name": "stdout",
     "output_type": "stream",
     "text": [
      "***************** Results (4 folds) *****************\n",
      "\n",
      "---------- Validation set -------\n",
      "Average accuracy: 0.58994\n",
      "Average precision: 0.73353\n",
      "Average recall: 0.28244\n",
      "Average f1 score: 0.40701\n",
      "\n",
      "---------- Test set -------------\n",
      "Accuracy: 0.58251\n",
      "Precision: 0.72142\n",
      "Recall: 0.27191\n",
      "F1 score: 0.39495\n"
     ]
    }
   ],
   "source": [
    "result = simulate_cross_validation(X, y, train_size=0.7, k=4, print_matrix=False, print_deep=False)"
   ],
   "metadata": {
    "collapsed": false,
    "pycharm": {
     "name": "#%%\n"
    }
   }
  },
  {
   "cell_type": "code",
   "execution_count": 60,
   "outputs": [],
   "source": [
    "results_cross_validation.update_results(\"Cross validation\", \"0,7  |  0,3\", 4, result[1][1], result[1][2], result[1][3], result[1][0], result[0][0])"
   ],
   "metadata": {
    "collapsed": false,
    "pycharm": {
     "name": "#%%\n"
    }
   }
  },
  {
   "cell_type": "markdown",
   "source": [],
   "metadata": {
    "collapsed": false,
    "pycharm": {
     "name": "#%% md\n"
    }
   }
  },
  {
   "cell_type": "code",
   "execution_count": 61,
   "outputs": [
    {
     "name": "stdout",
     "output_type": "stream",
     "text": [
      "***************** Results (5 folds) *****************\n",
      "\n",
      "---------- Validation set -------\n",
      "Average accuracy: 0.5892\n",
      "Average precision: 0.73142\n",
      "Average recall: 0.28192\n",
      "Average f1 score: 0.40596\n",
      "\n",
      "---------- Test set -------------\n",
      "Accuracy: 0.58251\n",
      "Precision: 0.72142\n",
      "Recall: 0.27191\n",
      "F1 score: 0.39495\n"
     ]
    }
   ],
   "source": [
    "result = simulate_cross_validation(X, y, train_size=0.7, k=5, print_matrix=False, print_deep=False)"
   ],
   "metadata": {
    "collapsed": false,
    "pycharm": {
     "name": "#%%\n"
    }
   }
  },
  {
   "cell_type": "code",
   "execution_count": 62,
   "outputs": [],
   "source": [
    "results_cross_validation.update_results(\"Cross validation\", \"0,7  |  0,3\", 5, result[1][1], result[1][2], result[1][3], result[1][0], result[0][0])"
   ],
   "metadata": {
    "collapsed": false,
    "pycharm": {
     "name": "#%%\n"
    }
   }
  },
  {
   "cell_type": "markdown",
   "source": [],
   "metadata": {
    "collapsed": false,
    "pycharm": {
     "name": "#%% md\n"
    }
   }
  },
  {
   "cell_type": "code",
   "execution_count": 63,
   "outputs": [
    {
     "name": "stdout",
     "output_type": "stream",
     "text": [
      "***************** Results (6 folds) *****************\n",
      "\n",
      "---------- Validation set -------\n",
      "Average accuracy: 0.58862\n",
      "Average precision: 0.73098\n",
      "Average recall: 0.27956\n",
      "Average f1 score: 0.40382\n",
      "\n",
      "---------- Test set -------------\n",
      "Accuracy: 0.58251\n",
      "Precision: 0.72142\n",
      "Recall: 0.27191\n",
      "F1 score: 0.39495\n"
     ]
    }
   ],
   "source": [
    "result = simulate_cross_validation(X, y, train_size=0.7, k=6, print_matrix=False, print_deep=False)"
   ],
   "metadata": {
    "collapsed": false,
    "pycharm": {
     "name": "#%%\n"
    }
   }
  },
  {
   "cell_type": "code",
   "execution_count": 64,
   "outputs": [],
   "source": [
    "results_cross_validation.update_results(\"Cross validation\", \"0,7  |  0,3\", 6, result[1][1], result[1][2], result[1][3], result[1][0], result[0][0])"
   ],
   "metadata": {
    "collapsed": false,
    "pycharm": {
     "name": "#%%\n"
    }
   }
  },
  {
   "cell_type": "markdown",
   "source": [],
   "metadata": {
    "collapsed": false,
    "pycharm": {
     "name": "#%% md\n"
    }
   }
  },
  {
   "cell_type": "code",
   "execution_count": 65,
   "outputs": [
    {
     "name": "stdout",
     "output_type": "stream",
     "text": [
      "***************** Results (8 folds) *****************\n",
      "\n",
      "---------- Validation set -------\n",
      "Average accuracy: 0.58776\n",
      "Average precision: 0.7291\n",
      "Average recall: 0.27768\n",
      "Average f1 score: 0.40195\n",
      "\n",
      "---------- Test set -------------\n",
      "Accuracy: 0.58251\n",
      "Precision: 0.72142\n",
      "Recall: 0.27191\n",
      "F1 score: 0.39495\n"
     ]
    }
   ],
   "source": [
    "result = simulate_cross_validation(X, y, train_size=0.7, k=8, print_matrix=False, print_deep=False)"
   ],
   "metadata": {
    "collapsed": false,
    "pycharm": {
     "name": "#%%\n"
    }
   }
  },
  {
   "cell_type": "code",
   "execution_count": 66,
   "outputs": [],
   "source": [
    "results_cross_validation.update_results(\"Cross validation\", \"0,7  |  0,3\", 8, result[1][1], result[1][2], result[1][3], result[1][0], result[0][0])"
   ],
   "metadata": {
    "collapsed": false,
    "pycharm": {
     "name": "#%%\n"
    }
   }
  },
  {
   "cell_type": "markdown",
   "source": [],
   "metadata": {
    "collapsed": false,
    "pycharm": {
     "name": "#%% md\n"
    }
   }
  },
  {
   "cell_type": "code",
   "execution_count": 67,
   "outputs": [
    {
     "name": "stdout",
     "output_type": "stream",
     "text": [
      "***************** Results (10 folds) *****************\n",
      "\n",
      "---------- Validation set -------\n",
      "Average accuracy: 0.58724\n",
      "Average precision: 0.72817\n",
      "Average recall: 0.27717\n",
      "Average f1 score: 0.40115\n",
      "\n",
      "---------- Test set -------------\n",
      "Accuracy: 0.58251\n",
      "Precision: 0.72142\n",
      "Recall: 0.27191\n",
      "F1 score: 0.39495\n"
     ]
    }
   ],
   "source": [
    "result = simulate_cross_validation(X, y, train_size=0.7, k=10, print_matrix=False, print_deep=False)"
   ],
   "metadata": {
    "collapsed": false,
    "pycharm": {
     "name": "#%%\n"
    }
   }
  },
  {
   "cell_type": "code",
   "execution_count": 68,
   "outputs": [],
   "source": [
    "results_cross_validation.update_results(\"Cross validation\", \"0,7  |  0,3\", 10, result[1][1], result[1][2], result[1][3], result[1][0], result[0][0])"
   ],
   "metadata": {
    "collapsed": false,
    "pycharm": {
     "name": "#%%\n"
    }
   }
  },
  {
   "cell_type": "markdown",
   "source": [],
   "metadata": {
    "collapsed": false,
    "pycharm": {
     "name": "#%% md\n"
    }
   }
  },
  {
   "cell_type": "code",
   "execution_count": 69,
   "outputs": [
    {
     "name": "stdout",
     "output_type": "stream",
     "text": [
      "***************** Results (20 folds) *****************\n",
      "\n",
      "---------- Validation set -------\n",
      "Average accuracy: 0.58635\n",
      "Average precision: 0.7256\n",
      "Average recall: 0.27611\n",
      "Average f1 score: 0.39976\n",
      "\n",
      "---------- Test set -------------\n",
      "Accuracy: 0.58251\n",
      "Precision: 0.72142\n",
      "Recall: 0.27191\n",
      "F1 score: 0.39495\n"
     ]
    }
   ],
   "source": [
    "result = simulate_cross_validation(X, y, train_size=0.7, k=20, print_matrix=False, print_deep=False)"
   ],
   "metadata": {
    "collapsed": false,
    "pycharm": {
     "name": "#%%\n"
    }
   }
  },
  {
   "cell_type": "code",
   "execution_count": 70,
   "outputs": [],
   "source": [
    "results_cross_validation.update_results(\"Cross validation\", \"0,7  |  0,3\", 20, result[1][1], result[1][2], result[1][3], result[1][0], result[0][0])"
   ],
   "metadata": {
    "collapsed": false,
    "pycharm": {
     "name": "#%%\n"
    }
   }
  },
  {
   "cell_type": "markdown",
   "source": [],
   "metadata": {
    "collapsed": false,
    "pycharm": {
     "name": "#%% md\n"
    }
   }
  },
  {
   "cell_type": "markdown",
   "source": [
    "#### 4.2.3 Podział (0,8 | 0,2)"
   ],
   "metadata": {
    "collapsed": false,
    "pycharm": {
     "name": "#%% md\n"
    }
   }
  },
  {
   "cell_type": "markdown",
   "source": [
    "W kolejnym podziale ***0,8*** danych przypada zbiorowi trenująco-walidacyjnego, jednocześnie zapewniając ***0,2*** danych zbiorowi testowemu."
   ],
   "metadata": {
    "collapsed": false,
    "pycharm": {
     "name": "#%% md\n"
    }
   }
  },
  {
   "cell_type": "code",
   "execution_count": 71,
   "outputs": [
    {
     "name": "stdout",
     "output_type": "stream",
     "text": [
      "***************** Results (3 folds) *****************\n",
      "\n",
      "---------- Validation set -------\n",
      "Average accuracy: 0.58934\n",
      "Average precision: 0.72327\n",
      "Average recall: 0.28745\n",
      "Average f1 score: 0.41138\n",
      "\n",
      "---------- Test set -------------\n",
      "Accuracy: 0.58315\n",
      "Precision: 0.72077\n",
      "Recall: 0.27057\n",
      "F1 score: 0.39345\n"
     ]
    }
   ],
   "source": [
    "result = simulate_cross_validation(X, y, train_size=0.8, k=3, print_matrix=False, print_deep=False)"
   ],
   "metadata": {
    "collapsed": false,
    "pycharm": {
     "name": "#%%\n"
    }
   }
  },
  {
   "cell_type": "code",
   "execution_count": 72,
   "outputs": [],
   "source": [
    "results_cross_validation.update_results(\"Cross validation\", \"0,8  |  0,2\", 3, result[1][1], result[1][2], result[1][3], result[1][0], result[0][0])"
   ],
   "metadata": {
    "collapsed": false,
    "pycharm": {
     "name": "#%%\n"
    }
   }
  },
  {
   "cell_type": "markdown",
   "source": [],
   "metadata": {
    "collapsed": false,
    "pycharm": {
     "name": "#%% md\n"
    }
   }
  },
  {
   "cell_type": "code",
   "execution_count": 73,
   "outputs": [
    {
     "name": "stdout",
     "output_type": "stream",
     "text": [
      "***************** Results (4 folds) *****************\n",
      "\n",
      "---------- Validation set -------\n",
      "Average accuracy: 0.59051\n",
      "Average precision: 0.72104\n",
      "Average recall: 0.29316\n",
      "Average f1 score: 0.41592\n",
      "\n",
      "---------- Test set -------------\n",
      "Accuracy: 0.58315\n",
      "Precision: 0.72077\n",
      "Recall: 0.27057\n",
      "F1 score: 0.39345\n"
     ]
    }
   ],
   "source": [
    "result = simulate_cross_validation(X, y, train_size=0.8, k=4, print_matrix=False, print_deep=False)"
   ],
   "metadata": {
    "collapsed": false,
    "pycharm": {
     "name": "#%%\n"
    }
   }
  },
  {
   "cell_type": "code",
   "execution_count": 74,
   "outputs": [],
   "source": [
    "results_cross_validation.update_results(\"Cross validation\", \"0,8  |  0,2\", 4, result[1][1], result[1][2], result[1][3], result[1][0], result[0][0])"
   ],
   "metadata": {
    "collapsed": false,
    "pycharm": {
     "name": "#%%\n"
    }
   }
  },
  {
   "cell_type": "markdown",
   "source": [],
   "metadata": {
    "collapsed": false,
    "pycharm": {
     "name": "#%% md\n"
    }
   }
  },
  {
   "cell_type": "code",
   "execution_count": 75,
   "outputs": [
    {
     "name": "stdout",
     "output_type": "stream",
     "text": [
      "***************** Results (5 folds) *****************\n",
      "\n",
      "---------- Validation set -------\n",
      "Average accuracy: 0.58943\n",
      "Average precision: 0.72135\n",
      "Average recall: 0.28981\n",
      "Average f1 score: 0.41333\n",
      "\n",
      "---------- Test set -------------\n",
      "Accuracy: 0.58315\n",
      "Precision: 0.72077\n",
      "Recall: 0.27057\n",
      "F1 score: 0.39345\n"
     ]
    }
   ],
   "source": [
    "result = simulate_cross_validation(X, y, train_size=0.8, k=5, print_matrix=False, print_deep=False)"
   ],
   "metadata": {
    "collapsed": false,
    "pycharm": {
     "name": "#%%\n"
    }
   }
  },
  {
   "cell_type": "code",
   "execution_count": 76,
   "outputs": [],
   "source": [
    "results_cross_validation.update_results(\"Cross validation\", \"0,8  |  0,2\", 5, result[1][1], result[1][2], result[1][3], result[1][0], result[0][0])"
   ],
   "metadata": {
    "collapsed": false,
    "pycharm": {
     "name": "#%%\n"
    }
   }
  },
  {
   "cell_type": "markdown",
   "source": [],
   "metadata": {
    "collapsed": false,
    "pycharm": {
     "name": "#%% md\n"
    }
   }
  },
  {
   "cell_type": "code",
   "execution_count": 77,
   "outputs": [
    {
     "name": "stdout",
     "output_type": "stream",
     "text": [
      "***************** Results (6 folds) *****************\n",
      "\n",
      "---------- Validation set -------\n",
      "Average accuracy: 0.59013\n",
      "Average precision: 0.71935\n",
      "Average recall: 0.2934\n",
      "Average f1 score: 0.41606\n",
      "\n",
      "---------- Test set -------------\n",
      "Accuracy: 0.58315\n",
      "Precision: 0.72077\n",
      "Recall: 0.27057\n",
      "F1 score: 0.39345\n"
     ]
    }
   ],
   "source": [
    "result = simulate_cross_validation(X, y, train_size=0.8, k=6, print_matrix=False, print_deep=False)"
   ],
   "metadata": {
    "collapsed": false,
    "pycharm": {
     "name": "#%%\n"
    }
   }
  },
  {
   "cell_type": "code",
   "execution_count": 78,
   "outputs": [],
   "source": [
    "results_cross_validation.update_results(\"Cross validation\", \"0,8  |  0,2\", 6, result[1][1], result[1][2], result[1][3], result[1][0], result[0][0])"
   ],
   "metadata": {
    "collapsed": false,
    "pycharm": {
     "name": "#%%\n"
    }
   }
  },
  {
   "cell_type": "markdown",
   "source": [],
   "metadata": {
    "collapsed": false,
    "pycharm": {
     "name": "#%% md\n"
    }
   }
  },
  {
   "cell_type": "code",
   "execution_count": 79,
   "outputs": [
    {
     "name": "stdout",
     "output_type": "stream",
     "text": [
      "***************** Results (8 folds) *****************\n",
      "\n",
      "---------- Validation set -------\n",
      "Average accuracy: 0.5897\n",
      "Average precision: 0.71955\n",
      "Average recall: 0.29213\n",
      "Average f1 score: 0.41512\n",
      "\n",
      "---------- Test set -------------\n",
      "Accuracy: 0.58315\n",
      "Precision: 0.72077\n",
      "Recall: 0.27057\n",
      "F1 score: 0.39345\n"
     ]
    }
   ],
   "source": [
    "result = simulate_cross_validation(X, y, train_size=0.8, k=8, print_matrix=False, print_deep=False)"
   ],
   "metadata": {
    "collapsed": false,
    "pycharm": {
     "name": "#%%\n"
    }
   }
  },
  {
   "cell_type": "code",
   "execution_count": 80,
   "outputs": [],
   "source": [
    "results_cross_validation.update_results(\"Cross validation\", \"0,8  |  0,2\", 8, result[1][1], result[1][2], result[1][3], result[1][0], result[0][0])"
   ],
   "metadata": {
    "collapsed": false,
    "pycharm": {
     "name": "#%%\n"
    }
   }
  },
  {
   "cell_type": "markdown",
   "source": [],
   "metadata": {
    "collapsed": false,
    "pycharm": {
     "name": "#%% md\n"
    }
   }
  },
  {
   "cell_type": "code",
   "execution_count": 81,
   "outputs": [
    {
     "name": "stdout",
     "output_type": "stream",
     "text": [
      "***************** Results (10 folds) *****************\n",
      "\n",
      "---------- Validation set -------\n",
      "Average accuracy: 0.58959\n",
      "Average precision: 0.71917\n",
      "Average recall: 0.29201\n",
      "Average f1 score: 0.41491\n",
      "\n",
      "---------- Test set -------------\n",
      "Accuracy: 0.58315\n",
      "Precision: 0.72077\n",
      "Recall: 0.27057\n",
      "F1 score: 0.39345\n"
     ]
    }
   ],
   "source": [
    "result = simulate_cross_validation(X, y, train_size=0.8, k=10, print_matrix=False, print_deep=False)"
   ],
   "metadata": {
    "collapsed": false,
    "pycharm": {
     "name": "#%%\n"
    }
   }
  },
  {
   "cell_type": "code",
   "execution_count": 82,
   "outputs": [],
   "source": [
    "results_cross_validation.update_results(\"Cross validation\", \"0,8  |  0,2\", 10, result[1][1], result[1][2], result[1][3], result[1][0], result[0][0])"
   ],
   "metadata": {
    "collapsed": false,
    "pycharm": {
     "name": "#%%\n"
    }
   }
  },
  {
   "cell_type": "markdown",
   "source": [],
   "metadata": {
    "collapsed": false,
    "pycharm": {
     "name": "#%% md\n"
    }
   }
  },
  {
   "cell_type": "code",
   "execution_count": 83,
   "outputs": [
    {
     "name": "stdout",
     "output_type": "stream",
     "text": [
      "***************** Results (20 folds) *****************\n",
      "\n",
      "---------- Validation set -------\n",
      "Average accuracy: 0.58932\n",
      "Average precision: 0.71929\n",
      "Average recall: 0.29105\n",
      "Average f1 score: 0.41408\n",
      "\n",
      "---------- Test set -------------\n",
      "Accuracy: 0.58315\n",
      "Precision: 0.72077\n",
      "Recall: 0.27057\n",
      "F1 score: 0.39345\n"
     ]
    }
   ],
   "source": [
    "result = simulate_cross_validation(X, y, train_size=0.8, k=20, print_matrix=False, print_deep=False)"
   ],
   "metadata": {
    "collapsed": false,
    "pycharm": {
     "name": "#%%\n"
    }
   }
  },
  {
   "cell_type": "code",
   "execution_count": 84,
   "outputs": [],
   "source": [
    "results_cross_validation.update_results(\"Cross validation\", \"0,8  |  0,2\", 20, result[1][1], result[1][2], result[1][3], result[1][0], result[0][0])"
   ],
   "metadata": {
    "collapsed": false,
    "pycharm": {
     "name": "#%%\n"
    }
   }
  },
  {
   "cell_type": "markdown",
   "source": [],
   "metadata": {
    "collapsed": false,
    "pycharm": {
     "name": "#%% md\n"
    }
   }
  },
  {
   "cell_type": "markdown",
   "source": [
    "#### 4.2.4 Podział (0,9 | 0,1)"
   ],
   "metadata": {
    "collapsed": false,
    "pycharm": {
     "name": "#%% md\n"
    }
   }
  },
  {
   "cell_type": "markdown",
   "source": [
    "W tym przypadku zbiór trenująco-walidacyjny jest ***10***-razy większy od zbioru testowego i wynosi ***0,9***."
   ],
   "metadata": {
    "collapsed": false,
    "pycharm": {
     "name": "#%% md\n"
    }
   }
  },
  {
   "cell_type": "code",
   "execution_count": 85,
   "outputs": [
    {
     "name": "stdout",
     "output_type": "stream",
     "text": [
      "***************** Results (3 folds) *****************\n",
      "\n",
      "---------- Validation set -------\n",
      "Average accuracy: 0.59399\n",
      "Average precision: 0.73155\n",
      "Average recall: 0.2998\n",
      "Average f1 score: 0.42112\n",
      "\n",
      "---------- Test set -------------\n",
      "Accuracy: 0.58505\n",
      "Precision: 0.69591\n",
      "Recall: 0.3002\n",
      "F1 score: 0.41946\n"
     ]
    }
   ],
   "source": [
    "result = simulate_cross_validation(X, y, train_size=0.9, k=3, print_matrix=False, print_deep=False)"
   ],
   "metadata": {
    "collapsed": false,
    "pycharm": {
     "name": "#%%\n"
    }
   }
  },
  {
   "cell_type": "code",
   "execution_count": 86,
   "outputs": [],
   "source": [
    "results_cross_validation.update_results(\"Cross validation\", \"0,9  |  0,1\", 3, result[1][1], result[1][2], result[1][3], result[1][0], result[0][0])"
   ],
   "metadata": {
    "collapsed": false,
    "pycharm": {
     "name": "#%%\n"
    }
   }
  },
  {
   "cell_type": "markdown",
   "source": [],
   "metadata": {
    "collapsed": false,
    "pycharm": {
     "name": "#%% md\n"
    }
   }
  },
  {
   "cell_type": "code",
   "execution_count": 87,
   "outputs": [
    {
     "name": "stdout",
     "output_type": "stream",
     "text": [
      "***************** Results (4 folds) *****************\n",
      "\n",
      "---------- Validation set -------\n",
      "Average accuracy: 0.59187\n",
      "Average precision: 0.72952\n",
      "Average recall: 0.29258\n",
      "Average f1 score: 0.41601\n",
      "\n",
      "---------- Test set -------------\n",
      "Accuracy: 0.58505\n",
      "Precision: 0.69591\n",
      "Recall: 0.3002\n",
      "F1 score: 0.41946\n"
     ]
    }
   ],
   "source": [
    "result = simulate_cross_validation(X, y, train_size=0.9, k=4, print_matrix=False, print_deep=False)"
   ],
   "metadata": {
    "collapsed": false,
    "pycharm": {
     "name": "#%%\n"
    }
   }
  },
  {
   "cell_type": "code",
   "execution_count": 88,
   "outputs": [],
   "source": [
    "results_cross_validation.update_results(\"Cross validation\", \"0,9  |  0,1\", 4, result[1][1], result[1][2], result[1][3], result[1][0], result[0][0])"
   ],
   "metadata": {
    "collapsed": false,
    "pycharm": {
     "name": "#%%\n"
    }
   }
  },
  {
   "cell_type": "markdown",
   "source": [],
   "metadata": {
    "collapsed": false,
    "pycharm": {
     "name": "#%% md\n"
    }
   }
  },
  {
   "cell_type": "code",
   "execution_count": 89,
   "outputs": [
    {
     "name": "stdout",
     "output_type": "stream",
     "text": [
      "***************** Results (5 folds) *****************\n",
      "\n",
      "---------- Validation set -------\n",
      "Average accuracy: 0.59197\n",
      "Average precision: 0.7284\n",
      "Average recall: 0.29288\n",
      "Average f1 score: 0.41664\n",
      "\n",
      "---------- Test set -------------\n",
      "Accuracy: 0.58505\n",
      "Precision: 0.69591\n",
      "Recall: 0.3002\n",
      "F1 score: 0.41946\n"
     ]
    }
   ],
   "source": [
    "result = simulate_cross_validation(X, y, train_size=0.9, k=5, print_matrix=False, print_deep=False)"
   ],
   "metadata": {
    "collapsed": false,
    "pycharm": {
     "name": "#%%\n"
    }
   }
  },
  {
   "cell_type": "code",
   "execution_count": 90,
   "outputs": [],
   "source": [
    "results_cross_validation.update_results(\"Cross validation\", \"0,9  |  0,1\", 5, result[1][1], result[1][2], result[1][3], result[1][0], result[0][0])"
   ],
   "metadata": {
    "collapsed": false,
    "pycharm": {
     "name": "#%%\n"
    }
   }
  },
  {
   "cell_type": "markdown",
   "source": [],
   "metadata": {
    "collapsed": false,
    "pycharm": {
     "name": "#%% md\n"
    }
   }
  },
  {
   "cell_type": "code",
   "execution_count": 91,
   "outputs": [
    {
     "name": "stdout",
     "output_type": "stream",
     "text": [
      "***************** Results (6 folds) *****************\n",
      "\n",
      "---------- Validation set -------\n",
      "Average accuracy: 0.58993\n",
      "Average precision: 0.72082\n",
      "Average recall: 0.29166\n",
      "Average f1 score: 0.4147\n",
      "\n",
      "---------- Test set -------------\n",
      "Accuracy: 0.58505\n",
      "Precision: 0.69591\n",
      "Recall: 0.3002\n",
      "F1 score: 0.41946\n"
     ]
    }
   ],
   "source": [
    "result = simulate_cross_validation(X, y, train_size=0.9, k=6, print_matrix=False, print_deep=False)"
   ],
   "metadata": {
    "collapsed": false,
    "pycharm": {
     "name": "#%%\n"
    }
   }
  },
  {
   "cell_type": "code",
   "execution_count": 92,
   "outputs": [],
   "source": [
    "results_cross_validation.update_results(\"Cross validation\", \"0,9  |  0,1\", 6, result[1][1], result[1][2], result[1][3], result[1][0], result[0][0])"
   ],
   "metadata": {
    "collapsed": false,
    "pycharm": {
     "name": "#%%\n"
    }
   }
  },
  {
   "cell_type": "markdown",
   "source": [],
   "metadata": {
    "collapsed": false,
    "pycharm": {
     "name": "#%% md\n"
    }
   }
  },
  {
   "cell_type": "code",
   "execution_count": 93,
   "outputs": [
    {
     "name": "stdout",
     "output_type": "stream",
     "text": [
      "***************** Results (8 folds) *****************\n",
      "\n",
      "---------- Validation set -------\n",
      "Average accuracy: 0.58966\n",
      "Average precision: 0.72119\n",
      "Average recall: 0.29015\n",
      "Average f1 score: 0.41356\n",
      "\n",
      "---------- Test set -------------\n",
      "Accuracy: 0.58505\n",
      "Precision: 0.69591\n",
      "Recall: 0.3002\n",
      "F1 score: 0.41946\n"
     ]
    }
   ],
   "source": [
    "result = simulate_cross_validation(X, y, train_size=0.9, k=8, print_matrix=False, print_deep=False)"
   ],
   "metadata": {
    "collapsed": false,
    "pycharm": {
     "name": "#%%\n"
    }
   }
  },
  {
   "cell_type": "code",
   "execution_count": 94,
   "outputs": [],
   "source": [
    "results_cross_validation.update_results(\"Cross validation\", \"0,9  |  0,1\", 8, result[1][1], result[1][2], result[1][3], result[1][0], result[0][0])"
   ],
   "metadata": {
    "collapsed": false,
    "pycharm": {
     "name": "#%%\n"
    }
   }
  },
  {
   "cell_type": "markdown",
   "source": [],
   "metadata": {
    "collapsed": false,
    "pycharm": {
     "name": "#%% md\n"
    }
   }
  },
  {
   "cell_type": "code",
   "execution_count": 95,
   "outputs": [
    {
     "name": "stdout",
     "output_type": "stream",
     "text": [
      "***************** Results (10 folds) *****************\n",
      "\n",
      "---------- Validation set -------\n",
      "Average accuracy: 0.58958\n",
      "Average precision: 0.72084\n",
      "Average recall: 0.29006\n",
      "Average f1 score: 0.41348\n",
      "\n",
      "---------- Test set -------------\n",
      "Accuracy: 0.58505\n",
      "Precision: 0.69591\n",
      "Recall: 0.3002\n",
      "F1 score: 0.41946\n"
     ]
    }
   ],
   "source": [
    "result = simulate_cross_validation(X, y, train_size=0.9, k=10, print_matrix=False, print_deep=False)"
   ],
   "metadata": {
    "collapsed": false,
    "pycharm": {
     "name": "#%%\n"
    }
   }
  },
  {
   "cell_type": "code",
   "execution_count": 96,
   "outputs": [],
   "source": [
    "results_cross_validation.update_results(\"Cross validation\", \"0,9  |  0,1\", 10, result[1][1], result[1][2], result[1][3], result[1][0], result[0][0])"
   ],
   "metadata": {
    "collapsed": false,
    "pycharm": {
     "name": "#%%\n"
    }
   }
  },
  {
   "cell_type": "markdown",
   "source": [],
   "metadata": {
    "collapsed": false,
    "pycharm": {
     "name": "#%% md\n"
    }
   }
  },
  {
   "cell_type": "code",
   "execution_count": 97,
   "outputs": [
    {
     "name": "stdout",
     "output_type": "stream",
     "text": [
      "***************** Results (20 folds) *****************\n",
      "\n",
      "---------- Validation set -------\n",
      "Average accuracy: 0.58931\n",
      "Average precision: 0.7194\n",
      "Average recall: 0.29028\n",
      "Average f1 score: 0.41346\n",
      "\n",
      "---------- Test set -------------\n",
      "Accuracy: 0.58505\n",
      "Precision: 0.69591\n",
      "Recall: 0.3002\n",
      "F1 score: 0.41946\n"
     ]
    }
   ],
   "source": [
    "result = simulate_cross_validation(X, y, train_size=0.9, k=20, print_matrix=False, print_deep=False)"
   ],
   "metadata": {
    "collapsed": false,
    "pycharm": {
     "name": "#%%\n"
    }
   }
  },
  {
   "cell_type": "code",
   "execution_count": 98,
   "outputs": [],
   "source": [
    "results_cross_validation.update_results(\"Cross validation\", \"0,9  |  0,1\", 20, result[1][1], result[1][2], result[1][3], result[1][0], result[0][0])"
   ],
   "metadata": {
    "collapsed": false,
    "pycharm": {
     "name": "#%%\n"
    }
   }
  },
  {
   "cell_type": "markdown",
   "source": [],
   "metadata": {
    "collapsed": false,
    "pycharm": {
     "name": "#%% md\n"
    }
   }
  },
  {
   "cell_type": "markdown",
   "source": [
    "#### 4.2.5 Podział (0,95 | 0,05)"
   ],
   "metadata": {
    "collapsed": false,
    "pycharm": {
     "name": "#%% md\n"
    }
   }
  },
  {
   "cell_type": "markdown",
   "source": [
    "Na koniec przeprowadzona została analiza dla podziału, w którym ***95%*** danych znajduje się w zbiorze trenująco-walidacyjnym, natomiast ***5%*** danych w zbiorze testowym."
   ],
   "metadata": {
    "collapsed": false,
    "pycharm": {
     "name": "#%% md\n"
    }
   }
  },
  {
   "cell_type": "code",
   "execution_count": 99,
   "outputs": [
    {
     "name": "stdout",
     "output_type": "stream",
     "text": [
      "***************** Results (3 folds) *****************\n",
      "\n",
      "---------- Validation set -------\n",
      "Average accuracy: 0.59271\n",
      "Average precision: 0.72213\n",
      "Average recall: 0.30074\n",
      "Average f1 score: 0.42411\n",
      "\n",
      "---------- Test set -------------\n",
      "Accuracy: 0.57934\n",
      "Precision: 0.70157\n",
      "Recall: 0.30351\n",
      "F1 score: 0.42372\n"
     ]
    }
   ],
   "source": [
    "result = simulate_cross_validation(X, y, train_size=0.95, k=3, print_matrix=False, print_deep=False)"
   ],
   "metadata": {
    "collapsed": false,
    "pycharm": {
     "name": "#%%\n"
    }
   }
  },
  {
   "cell_type": "code",
   "execution_count": 100,
   "outputs": [],
   "source": [
    "results_cross_validation.update_results(\"Cross validation\", \"0,95  |  0,05\", 3, result[1][1], result[1][2], result[1][3], result[1][0], result[0][0])"
   ],
   "metadata": {
    "collapsed": false,
    "pycharm": {
     "name": "#%%\n"
    }
   }
  },
  {
   "cell_type": "markdown",
   "source": [],
   "metadata": {
    "collapsed": false,
    "pycharm": {
     "name": "#%% md\n"
    }
   }
  },
  {
   "cell_type": "code",
   "execution_count": 101,
   "outputs": [
    {
     "name": "stdout",
     "output_type": "stream",
     "text": [
      "***************** Results (4 folds) *****************\n",
      "\n",
      "---------- Validation set -------\n",
      "Average accuracy: 0.59123\n",
      "Average precision: 0.72186\n",
      "Average recall: 0.29612\n",
      "Average f1 score: 0.41935\n",
      "\n",
      "---------- Test set -------------\n",
      "Accuracy: 0.57934\n",
      "Precision: 0.70157\n",
      "Recall: 0.30351\n",
      "F1 score: 0.42372\n"
     ]
    }
   ],
   "source": [
    "result = simulate_cross_validation(X, y, train_size=0.95, k=4, print_matrix=False, print_deep=False)"
   ],
   "metadata": {
    "collapsed": false,
    "pycharm": {
     "name": "#%%\n"
    }
   }
  },
  {
   "cell_type": "code",
   "execution_count": 102,
   "outputs": [],
   "source": [
    "results_cross_validation.update_results(\"Cross validation\", \"0,95  |  0,05\", 4, result[1][1], result[1][2], result[1][3], result[1][0], result[0][0])"
   ],
   "metadata": {
    "collapsed": false,
    "pycharm": {
     "name": "#%%\n"
    }
   }
  },
  {
   "cell_type": "markdown",
   "source": [],
   "metadata": {
    "collapsed": false,
    "pycharm": {
     "name": "#%% md\n"
    }
   }
  },
  {
   "cell_type": "code",
   "execution_count": 103,
   "outputs": [
    {
     "name": "stdout",
     "output_type": "stream",
     "text": [
      "***************** Results (5 folds) *****************\n",
      "\n",
      "---------- Validation set -------\n",
      "Average accuracy: 0.59093\n",
      "Average precision: 0.721\n",
      "Average recall: 0.29631\n",
      "Average f1 score: 0.41931\n",
      "\n",
      "---------- Test set -------------\n",
      "Accuracy: 0.57934\n",
      "Precision: 0.70157\n",
      "Recall: 0.30351\n",
      "F1 score: 0.42372\n"
     ]
    }
   ],
   "source": [
    "result = simulate_cross_validation(X, y, train_size=0.95, k=5, print_matrix=False, print_deep=False)"
   ],
   "metadata": {
    "collapsed": false,
    "pycharm": {
     "name": "#%%\n"
    }
   }
  },
  {
   "cell_type": "code",
   "execution_count": 104,
   "outputs": [],
   "source": [
    "results_cross_validation.update_results(\"Cross validation\", \"0,95  |  0,05\", 5, result[1][1], result[1][2], result[1][3], result[1][0], result[0][0])"
   ],
   "metadata": {
    "collapsed": false,
    "pycharm": {
     "name": "#%%\n"
    }
   }
  },
  {
   "cell_type": "markdown",
   "source": [],
   "metadata": {
    "collapsed": false,
    "pycharm": {
     "name": "#%% md\n"
    }
   }
  },
  {
   "cell_type": "code",
   "execution_count": 105,
   "outputs": [
    {
     "name": "stdout",
     "output_type": "stream",
     "text": [
      "***************** Results (6 folds) *****************\n",
      "\n",
      "---------- Validation set -------\n",
      "Average accuracy: 0.59095\n",
      "Average precision: 0.72102\n",
      "Average recall: 0.29616\n",
      "Average f1 score: 0.41933\n",
      "\n",
      "---------- Test set -------------\n",
      "Accuracy: 0.57934\n",
      "Precision: 0.70157\n",
      "Recall: 0.30351\n",
      "F1 score: 0.42372\n"
     ]
    }
   ],
   "source": [
    "result = simulate_cross_validation(X, y, train_size=0.95, k=6, print_matrix=False, print_deep=False)"
   ],
   "metadata": {
    "collapsed": false,
    "pycharm": {
     "name": "#%%\n"
    }
   }
  },
  {
   "cell_type": "code",
   "execution_count": 106,
   "outputs": [],
   "source": [
    "results_cross_validation.update_results(\"Cross validation\", \"0,95  |  0,05\", 6, result[1][1], result[1][2], result[1][3], result[1][0], result[0][0])"
   ],
   "metadata": {
    "collapsed": false,
    "pycharm": {
     "name": "#%%\n"
    }
   }
  },
  {
   "cell_type": "markdown",
   "source": [],
   "metadata": {
    "collapsed": false,
    "pycharm": {
     "name": "#%% md\n"
    }
   }
  },
  {
   "cell_type": "code",
   "execution_count": 107,
   "outputs": [
    {
     "name": "stdout",
     "output_type": "stream",
     "text": [
      "***************** Results (8 folds) *****************\n",
      "\n",
      "---------- Validation set -------\n",
      "Average accuracy: 0.59057\n",
      "Average precision: 0.72068\n",
      "Average recall: 0.29535\n",
      "Average f1 score: 0.41862\n",
      "\n",
      "---------- Test set -------------\n",
      "Accuracy: 0.57934\n",
      "Precision: 0.70157\n",
      "Recall: 0.30351\n",
      "F1 score: 0.42372\n"
     ]
    }
   ],
   "source": [
    "result = simulate_cross_validation(X, y, train_size=0.95, k=8, print_matrix=False, print_deep=False)"
   ],
   "metadata": {
    "collapsed": false,
    "pycharm": {
     "name": "#%%\n"
    }
   }
  },
  {
   "cell_type": "code",
   "execution_count": 108,
   "outputs": [],
   "source": [
    "results_cross_validation.update_results(\"Cross validation\", \"0,95  |  0,05\", 8, result[1][1], result[1][2], result[1][3], result[1][0], result[0][0])"
   ],
   "metadata": {
    "collapsed": false,
    "pycharm": {
     "name": "#%%\n"
    }
   }
  },
  {
   "cell_type": "markdown",
   "source": [],
   "metadata": {
    "collapsed": false,
    "pycharm": {
     "name": "#%% md\n"
    }
   }
  },
  {
   "cell_type": "code",
   "execution_count": 109,
   "outputs": [
    {
     "name": "stdout",
     "output_type": "stream",
     "text": [
      "***************** Results (10 folds) *****************\n",
      "\n",
      "---------- Validation set -------\n",
      "Average accuracy: 0.59072\n",
      "Average precision: 0.72092\n",
      "Average recall: 0.29551\n",
      "Average f1 score: 0.41887\n",
      "\n",
      "---------- Test set -------------\n",
      "Accuracy: 0.57934\n",
      "Precision: 0.70157\n",
      "Recall: 0.30351\n",
      "F1 score: 0.42372\n"
     ]
    }
   ],
   "source": [
    "result = simulate_cross_validation(X, y, train_size=0.95, k=10, print_matrix=False, print_deep=False)"
   ],
   "metadata": {
    "collapsed": false,
    "pycharm": {
     "name": "#%%\n"
    }
   }
  },
  {
   "cell_type": "code",
   "execution_count": 110,
   "outputs": [],
   "source": [
    "results_cross_validation.update_results(\"Cross validation\", \"0,95  |  0,05\", 10, result[1][1], result[1][2], result[1][3], result[1][0], result[0][0])"
   ],
   "metadata": {
    "collapsed": false,
    "pycharm": {
     "name": "#%%\n"
    }
   }
  },
  {
   "cell_type": "markdown",
   "source": [],
   "metadata": {
    "collapsed": false,
    "pycharm": {
     "name": "#%% md\n"
    }
   }
  },
  {
   "cell_type": "code",
   "execution_count": 111,
   "outputs": [
    {
     "name": "stdout",
     "output_type": "stream",
     "text": [
      "***************** Results (20 folds) *****************\n",
      "\n",
      "---------- Validation set -------\n",
      "Average accuracy: 0.59096\n",
      "Average precision: 0.72147\n",
      "Average recall: 0.29581\n",
      "Average f1 score: 0.41933\n",
      "\n",
      "---------- Test set -------------\n",
      "Accuracy: 0.57934\n",
      "Precision: 0.70157\n",
      "Recall: 0.30351\n",
      "F1 score: 0.42372\n"
     ]
    }
   ],
   "source": [
    "result = simulate_cross_validation(X, y, train_size=0.95, k=20, print_matrix=False, print_deep=False)"
   ],
   "metadata": {
    "collapsed": false,
    "pycharm": {
     "name": "#%%\n"
    }
   }
  },
  {
   "cell_type": "code",
   "execution_count": 112,
   "outputs": [],
   "source": [
    "results_cross_validation.update_results(\"Cross validation\", \"0,95  |  0,05\", 20, result[1][1], result[1][2], result[1][3], result[1][0], result[0][0])"
   ],
   "metadata": {
    "collapsed": false,
    "pycharm": {
     "name": "#%%\n"
    }
   }
  },
  {
   "cell_type": "markdown",
   "source": [
    " Poniżej, analogicznie jak wcześniej, zamieszczona została tabela zawierająca wyniki przeprowadzone w omawianym podpunkcie."
   ],
   "metadata": {
    "collapsed": false,
    "pycharm": {
     "name": "#%% md\n"
    }
   }
  },
  {
   "cell_type": "code",
   "execution_count": 113,
   "outputs": [
    {
     "data": {
      "text/plain": "                Type Sets size (training|validation|test)  Folds number  \\\n0   Cross validation                         0,6  |   0,4             3   \n1   Cross validation                         0,6  |   0,4             4   \n2   Cross validation                         0,6  |   0,4             5   \n3   Cross validation                         0,6  |   0,4             6   \n4   Cross validation                         0,6  |   0,4             8   \n5   Cross validation                         0,6  |   0,4            10   \n6   Cross validation                         0,6  |   0,4            20   \n7   Cross validation                          0,7  |  0,3             3   \n8   Cross validation                          0,7  |  0,3             4   \n9   Cross validation                          0,7  |  0,3             5   \n10  Cross validation                          0,7  |  0,3             6   \n11  Cross validation                          0,7  |  0,3             8   \n12  Cross validation                          0,7  |  0,3            10   \n13  Cross validation                          0,7  |  0,3            20   \n14  Cross validation                          0,8  |  0,2             3   \n15  Cross validation                          0,8  |  0,2             4   \n16  Cross validation                          0,8  |  0,2             5   \n17  Cross validation                          0,8  |  0,2             6   \n18  Cross validation                          0,8  |  0,2             8   \n19  Cross validation                          0,8  |  0,2            10   \n20  Cross validation                          0,8  |  0,2            20   \n21  Cross validation                          0,9  |  0,1             3   \n22  Cross validation                          0,9  |  0,1             4   \n23  Cross validation                          0,9  |  0,1             5   \n24  Cross validation                          0,9  |  0,1             6   \n25  Cross validation                          0,9  |  0,1             8   \n26  Cross validation                          0,9  |  0,1            10   \n27  Cross validation                          0,9  |  0,1            20   \n28  Cross validation                        0,95  |  0,05             3   \n29  Cross validation                        0,95  |  0,05             4   \n30  Cross validation                        0,95  |  0,05             5   \n31  Cross validation                        0,95  |  0,05             6   \n32  Cross validation                        0,95  |  0,05             8   \n33  Cross validation                        0,95  |  0,05            10   \n34  Cross validation                        0,95  |  0,05            20   \n\n    Precision (test set)  Recall (test set)  F1 score (test set)  \\\n0                0.72606            0.25464              0.37704   \n1                0.72606            0.25464              0.37704   \n2                0.72606            0.25464              0.37704   \n3                0.72606            0.25464              0.37704   \n4                0.72606            0.25464              0.37704   \n5                0.72606            0.25464              0.37704   \n6                0.72606            0.25464              0.37704   \n7                0.72142            0.27191              0.39495   \n8                0.72142            0.27191              0.39495   \n9                0.72142            0.27191              0.39495   \n10               0.72142            0.27191              0.39495   \n11               0.72142            0.27191              0.39495   \n12               0.72142            0.27191              0.39495   \n13               0.72142            0.27191              0.39495   \n14               0.72077            0.27057              0.39345   \n15               0.72077            0.27057              0.39345   \n16               0.72077            0.27057              0.39345   \n17               0.72077            0.27057              0.39345   \n18               0.72077            0.27057              0.39345   \n19               0.72077            0.27057              0.39345   \n20               0.72077            0.27057              0.39345   \n21               0.69591            0.30020              0.41946   \n22               0.69591            0.30020              0.41946   \n23               0.69591            0.30020              0.41946   \n24               0.69591            0.30020              0.41946   \n25               0.69591            0.30020              0.41946   \n26               0.69591            0.30020              0.41946   \n27               0.69591            0.30020              0.41946   \n28               0.70157            0.30351              0.42372   \n29               0.70157            0.30351              0.42372   \n30               0.70157            0.30351              0.42372   \n31               0.70157            0.30351              0.42372   \n32               0.70157            0.30351              0.42372   \n33               0.70157            0.30351              0.42372   \n34               0.70157            0.30351              0.42372   \n\n    Accuracy (test set)  Accuracy (validation set)  \n0               0.57790                    0.59101  \n1               0.57790                    0.59004  \n2               0.57790                    0.59043  \n3               0.57790                    0.59021  \n4               0.57790                    0.59045  \n5               0.57790                    0.59067  \n6               0.57790                    0.59069  \n7               0.58251                    0.59077  \n8               0.58251                    0.58994  \n9               0.58251                    0.58920  \n10              0.58251                    0.58862  \n11              0.58251                    0.58776  \n12              0.58251                    0.58724  \n13              0.58251                    0.58635  \n14              0.58315                    0.58934  \n15              0.58315                    0.59051  \n16              0.58315                    0.58943  \n17              0.58315                    0.59013  \n18              0.58315                    0.58970  \n19              0.58315                    0.58959  \n20              0.58315                    0.58932  \n21              0.58505                    0.59399  \n22              0.58505                    0.59187  \n23              0.58505                    0.59197  \n24              0.58505                    0.58993  \n25              0.58505                    0.58966  \n26              0.58505                    0.58958  \n27              0.58505                    0.58931  \n28              0.57934                    0.59271  \n29              0.57934                    0.59123  \n30              0.57934                    0.59093  \n31              0.57934                    0.59095  \n32              0.57934                    0.59057  \n33              0.57934                    0.59072  \n34              0.57934                    0.59096  ",
      "text/html": "<div>\n<style scoped>\n    .dataframe tbody tr th:only-of-type {\n        vertical-align: middle;\n    }\n\n    .dataframe tbody tr th {\n        vertical-align: top;\n    }\n\n    .dataframe thead th {\n        text-align: right;\n    }\n</style>\n<table border=\"1\" class=\"dataframe\">\n  <thead>\n    <tr style=\"text-align: right;\">\n      <th></th>\n      <th>Type</th>\n      <th>Sets size (training|validation|test)</th>\n      <th>Folds number</th>\n      <th>Precision (test set)</th>\n      <th>Recall (test set)</th>\n      <th>F1 score (test set)</th>\n      <th>Accuracy (test set)</th>\n      <th>Accuracy (validation set)</th>\n    </tr>\n  </thead>\n  <tbody>\n    <tr>\n      <th>0</th>\n      <td>Cross validation</td>\n      <td>0,6  |   0,4</td>\n      <td>3</td>\n      <td>0.72606</td>\n      <td>0.25464</td>\n      <td>0.37704</td>\n      <td>0.57790</td>\n      <td>0.59101</td>\n    </tr>\n    <tr>\n      <th>1</th>\n      <td>Cross validation</td>\n      <td>0,6  |   0,4</td>\n      <td>4</td>\n      <td>0.72606</td>\n      <td>0.25464</td>\n      <td>0.37704</td>\n      <td>0.57790</td>\n      <td>0.59004</td>\n    </tr>\n    <tr>\n      <th>2</th>\n      <td>Cross validation</td>\n      <td>0,6  |   0,4</td>\n      <td>5</td>\n      <td>0.72606</td>\n      <td>0.25464</td>\n      <td>0.37704</td>\n      <td>0.57790</td>\n      <td>0.59043</td>\n    </tr>\n    <tr>\n      <th>3</th>\n      <td>Cross validation</td>\n      <td>0,6  |   0,4</td>\n      <td>6</td>\n      <td>0.72606</td>\n      <td>0.25464</td>\n      <td>0.37704</td>\n      <td>0.57790</td>\n      <td>0.59021</td>\n    </tr>\n    <tr>\n      <th>4</th>\n      <td>Cross validation</td>\n      <td>0,6  |   0,4</td>\n      <td>8</td>\n      <td>0.72606</td>\n      <td>0.25464</td>\n      <td>0.37704</td>\n      <td>0.57790</td>\n      <td>0.59045</td>\n    </tr>\n    <tr>\n      <th>5</th>\n      <td>Cross validation</td>\n      <td>0,6  |   0,4</td>\n      <td>10</td>\n      <td>0.72606</td>\n      <td>0.25464</td>\n      <td>0.37704</td>\n      <td>0.57790</td>\n      <td>0.59067</td>\n    </tr>\n    <tr>\n      <th>6</th>\n      <td>Cross validation</td>\n      <td>0,6  |   0,4</td>\n      <td>20</td>\n      <td>0.72606</td>\n      <td>0.25464</td>\n      <td>0.37704</td>\n      <td>0.57790</td>\n      <td>0.59069</td>\n    </tr>\n    <tr>\n      <th>7</th>\n      <td>Cross validation</td>\n      <td>0,7  |  0,3</td>\n      <td>3</td>\n      <td>0.72142</td>\n      <td>0.27191</td>\n      <td>0.39495</td>\n      <td>0.58251</td>\n      <td>0.59077</td>\n    </tr>\n    <tr>\n      <th>8</th>\n      <td>Cross validation</td>\n      <td>0,7  |  0,3</td>\n      <td>4</td>\n      <td>0.72142</td>\n      <td>0.27191</td>\n      <td>0.39495</td>\n      <td>0.58251</td>\n      <td>0.58994</td>\n    </tr>\n    <tr>\n      <th>9</th>\n      <td>Cross validation</td>\n      <td>0,7  |  0,3</td>\n      <td>5</td>\n      <td>0.72142</td>\n      <td>0.27191</td>\n      <td>0.39495</td>\n      <td>0.58251</td>\n      <td>0.58920</td>\n    </tr>\n    <tr>\n      <th>10</th>\n      <td>Cross validation</td>\n      <td>0,7  |  0,3</td>\n      <td>6</td>\n      <td>0.72142</td>\n      <td>0.27191</td>\n      <td>0.39495</td>\n      <td>0.58251</td>\n      <td>0.58862</td>\n    </tr>\n    <tr>\n      <th>11</th>\n      <td>Cross validation</td>\n      <td>0,7  |  0,3</td>\n      <td>8</td>\n      <td>0.72142</td>\n      <td>0.27191</td>\n      <td>0.39495</td>\n      <td>0.58251</td>\n      <td>0.58776</td>\n    </tr>\n    <tr>\n      <th>12</th>\n      <td>Cross validation</td>\n      <td>0,7  |  0,3</td>\n      <td>10</td>\n      <td>0.72142</td>\n      <td>0.27191</td>\n      <td>0.39495</td>\n      <td>0.58251</td>\n      <td>0.58724</td>\n    </tr>\n    <tr>\n      <th>13</th>\n      <td>Cross validation</td>\n      <td>0,7  |  0,3</td>\n      <td>20</td>\n      <td>0.72142</td>\n      <td>0.27191</td>\n      <td>0.39495</td>\n      <td>0.58251</td>\n      <td>0.58635</td>\n    </tr>\n    <tr>\n      <th>14</th>\n      <td>Cross validation</td>\n      <td>0,8  |  0,2</td>\n      <td>3</td>\n      <td>0.72077</td>\n      <td>0.27057</td>\n      <td>0.39345</td>\n      <td>0.58315</td>\n      <td>0.58934</td>\n    </tr>\n    <tr>\n      <th>15</th>\n      <td>Cross validation</td>\n      <td>0,8  |  0,2</td>\n      <td>4</td>\n      <td>0.72077</td>\n      <td>0.27057</td>\n      <td>0.39345</td>\n      <td>0.58315</td>\n      <td>0.59051</td>\n    </tr>\n    <tr>\n      <th>16</th>\n      <td>Cross validation</td>\n      <td>0,8  |  0,2</td>\n      <td>5</td>\n      <td>0.72077</td>\n      <td>0.27057</td>\n      <td>0.39345</td>\n      <td>0.58315</td>\n      <td>0.58943</td>\n    </tr>\n    <tr>\n      <th>17</th>\n      <td>Cross validation</td>\n      <td>0,8  |  0,2</td>\n      <td>6</td>\n      <td>0.72077</td>\n      <td>0.27057</td>\n      <td>0.39345</td>\n      <td>0.58315</td>\n      <td>0.59013</td>\n    </tr>\n    <tr>\n      <th>18</th>\n      <td>Cross validation</td>\n      <td>0,8  |  0,2</td>\n      <td>8</td>\n      <td>0.72077</td>\n      <td>0.27057</td>\n      <td>0.39345</td>\n      <td>0.58315</td>\n      <td>0.58970</td>\n    </tr>\n    <tr>\n      <th>19</th>\n      <td>Cross validation</td>\n      <td>0,8  |  0,2</td>\n      <td>10</td>\n      <td>0.72077</td>\n      <td>0.27057</td>\n      <td>0.39345</td>\n      <td>0.58315</td>\n      <td>0.58959</td>\n    </tr>\n    <tr>\n      <th>20</th>\n      <td>Cross validation</td>\n      <td>0,8  |  0,2</td>\n      <td>20</td>\n      <td>0.72077</td>\n      <td>0.27057</td>\n      <td>0.39345</td>\n      <td>0.58315</td>\n      <td>0.58932</td>\n    </tr>\n    <tr>\n      <th>21</th>\n      <td>Cross validation</td>\n      <td>0,9  |  0,1</td>\n      <td>3</td>\n      <td>0.69591</td>\n      <td>0.30020</td>\n      <td>0.41946</td>\n      <td>0.58505</td>\n      <td>0.59399</td>\n    </tr>\n    <tr>\n      <th>22</th>\n      <td>Cross validation</td>\n      <td>0,9  |  0,1</td>\n      <td>4</td>\n      <td>0.69591</td>\n      <td>0.30020</td>\n      <td>0.41946</td>\n      <td>0.58505</td>\n      <td>0.59187</td>\n    </tr>\n    <tr>\n      <th>23</th>\n      <td>Cross validation</td>\n      <td>0,9  |  0,1</td>\n      <td>5</td>\n      <td>0.69591</td>\n      <td>0.30020</td>\n      <td>0.41946</td>\n      <td>0.58505</td>\n      <td>0.59197</td>\n    </tr>\n    <tr>\n      <th>24</th>\n      <td>Cross validation</td>\n      <td>0,9  |  0,1</td>\n      <td>6</td>\n      <td>0.69591</td>\n      <td>0.30020</td>\n      <td>0.41946</td>\n      <td>0.58505</td>\n      <td>0.58993</td>\n    </tr>\n    <tr>\n      <th>25</th>\n      <td>Cross validation</td>\n      <td>0,9  |  0,1</td>\n      <td>8</td>\n      <td>0.69591</td>\n      <td>0.30020</td>\n      <td>0.41946</td>\n      <td>0.58505</td>\n      <td>0.58966</td>\n    </tr>\n    <tr>\n      <th>26</th>\n      <td>Cross validation</td>\n      <td>0,9  |  0,1</td>\n      <td>10</td>\n      <td>0.69591</td>\n      <td>0.30020</td>\n      <td>0.41946</td>\n      <td>0.58505</td>\n      <td>0.58958</td>\n    </tr>\n    <tr>\n      <th>27</th>\n      <td>Cross validation</td>\n      <td>0,9  |  0,1</td>\n      <td>20</td>\n      <td>0.69591</td>\n      <td>0.30020</td>\n      <td>0.41946</td>\n      <td>0.58505</td>\n      <td>0.58931</td>\n    </tr>\n    <tr>\n      <th>28</th>\n      <td>Cross validation</td>\n      <td>0,95  |  0,05</td>\n      <td>3</td>\n      <td>0.70157</td>\n      <td>0.30351</td>\n      <td>0.42372</td>\n      <td>0.57934</td>\n      <td>0.59271</td>\n    </tr>\n    <tr>\n      <th>29</th>\n      <td>Cross validation</td>\n      <td>0,95  |  0,05</td>\n      <td>4</td>\n      <td>0.70157</td>\n      <td>0.30351</td>\n      <td>0.42372</td>\n      <td>0.57934</td>\n      <td>0.59123</td>\n    </tr>\n    <tr>\n      <th>30</th>\n      <td>Cross validation</td>\n      <td>0,95  |  0,05</td>\n      <td>5</td>\n      <td>0.70157</td>\n      <td>0.30351</td>\n      <td>0.42372</td>\n      <td>0.57934</td>\n      <td>0.59093</td>\n    </tr>\n    <tr>\n      <th>31</th>\n      <td>Cross validation</td>\n      <td>0,95  |  0,05</td>\n      <td>6</td>\n      <td>0.70157</td>\n      <td>0.30351</td>\n      <td>0.42372</td>\n      <td>0.57934</td>\n      <td>0.59095</td>\n    </tr>\n    <tr>\n      <th>32</th>\n      <td>Cross validation</td>\n      <td>0,95  |  0,05</td>\n      <td>8</td>\n      <td>0.70157</td>\n      <td>0.30351</td>\n      <td>0.42372</td>\n      <td>0.57934</td>\n      <td>0.59057</td>\n    </tr>\n    <tr>\n      <th>33</th>\n      <td>Cross validation</td>\n      <td>0,95  |  0,05</td>\n      <td>10</td>\n      <td>0.70157</td>\n      <td>0.30351</td>\n      <td>0.42372</td>\n      <td>0.57934</td>\n      <td>0.59072</td>\n    </tr>\n    <tr>\n      <th>34</th>\n      <td>Cross validation</td>\n      <td>0,95  |  0,05</td>\n      <td>20</td>\n      <td>0.70157</td>\n      <td>0.30351</td>\n      <td>0.42372</td>\n      <td>0.57934</td>\n      <td>0.59096</td>\n    </tr>\n  </tbody>\n</table>\n</div>"
     },
     "execution_count": 113,
     "metadata": {},
     "output_type": "execute_result"
    }
   ],
   "source": [
    "results_cross_validation.results"
   ],
   "metadata": {
    "collapsed": false,
    "pycharm": {
     "name": "#%%\n"
    }
   }
  },
  {
   "cell_type": "markdown",
   "source": [
    "Podobnie jak w przy podziale na zbiór trenujący, walidacyjny i testowy, z im większym zbiorem trenującym (w tym przypadku \"trenująco-walidacyjnym\") tym większą obserwujemy nie tylko pełność, ale i wynik $F_1$. Niestety, patrząc na wyniki na zbiorze testowym, nie idzie w pełni w parze z dokładnością, która początkowo rośnie, jednakże dla podziału ***0,95 | 0,05*** ponownie obserwujemy jej spadek. Ciekawa jest natomiast relacja pomiędzy wartościami dokładności na zbiorze testowym, a jej średnim wynikiem dla zbiorów walidacyjnych. Zarówno na początku tabeli, jak i pod koniec obserwujemy większe rozbieżności, podczas gdy w środkowej części tabeli różnice są znacznie mniejsze. Warto również podkreślić, że wyniki uzyskane dla zbiorów walidacyjnych są do siebie zbliżone."
   ],
   "metadata": {
    "collapsed": false,
    "pycharm": {
     "name": "#%% md\n"
    }
   }
  },
  {
   "cell_type": "markdown",
   "source": [
    "## 5. Podsumowanie"
   ],
   "metadata": {
    "collapsed": false,
    "pycharm": {
     "name": "#%% md\n"
    }
   }
  },
  {
   "cell_type": "markdown",
   "source": [
    "Dla zwiększenia czytelności otrzymanych rezultatów, poniżej została zamieszczona zbiorcza tabela, która przedstawia wyniki powyższych doświadczeń."
   ],
   "metadata": {
    "collapsed": false,
    "pycharm": {
     "name": "#%% md\n"
    }
   }
  },
  {
   "cell_type": "code",
   "execution_count": 114,
   "outputs": [],
   "source": [
    "results = pd.concat([results_standard.results, results_cross_validation.results])"
   ],
   "metadata": {
    "collapsed": false,
    "pycharm": {
     "name": "#%%\n"
    }
   }
  },
  {
   "cell_type": "code",
   "execution_count": 115,
   "outputs": [
    {
     "data": {
      "text/plain": "                Type Sets size (training|validation|test) Folds number  \\\n0           Standard                 0,6  | 0,2   |   0,2       -----    \n1           Standard                 0,7  | 0,15  |  0,15       -----    \n2           Standard                 0,8  | 0,1   |   0,1       -----    \n3           Standard                 0,9  | 0,05  |  0,05       -----    \n4           Standard                 0,95 | 0,025 | 0,025       -----    \n0   Cross validation                         0,6  |   0,4            3   \n1   Cross validation                         0,6  |   0,4            4   \n2   Cross validation                         0,6  |   0,4            5   \n3   Cross validation                         0,6  |   0,4            6   \n4   Cross validation                         0,6  |   0,4            8   \n5   Cross validation                         0,6  |   0,4           10   \n6   Cross validation                         0,6  |   0,4           20   \n7   Cross validation                          0,7  |  0,3            3   \n8   Cross validation                          0,7  |  0,3            4   \n9   Cross validation                          0,7  |  0,3            5   \n10  Cross validation                          0,7  |  0,3            6   \n11  Cross validation                          0,7  |  0,3            8   \n12  Cross validation                          0,7  |  0,3           10   \n13  Cross validation                          0,7  |  0,3           20   \n14  Cross validation                          0,8  |  0,2            3   \n15  Cross validation                          0,8  |  0,2            4   \n16  Cross validation                          0,8  |  0,2            5   \n17  Cross validation                          0,8  |  0,2            6   \n18  Cross validation                          0,8  |  0,2            8   \n19  Cross validation                          0,8  |  0,2           10   \n20  Cross validation                          0,8  |  0,2           20   \n21  Cross validation                          0,9  |  0,1            3   \n22  Cross validation                          0,9  |  0,1            4   \n23  Cross validation                          0,9  |  0,1            5   \n24  Cross validation                          0,9  |  0,1            6   \n25  Cross validation                          0,9  |  0,1            8   \n26  Cross validation                          0,9  |  0,1           10   \n27  Cross validation                          0,9  |  0,1           20   \n28  Cross validation                        0,95  |  0,05            3   \n29  Cross validation                        0,95  |  0,05            4   \n30  Cross validation                        0,95  |  0,05            5   \n31  Cross validation                        0,95  |  0,05            6   \n32  Cross validation                        0,95  |  0,05            8   \n33  Cross validation                        0,95  |  0,05           10   \n34  Cross validation                        0,95  |  0,05           20   \n\n    Precision (test set)  Recall (test set)  F1 score (test set)  \\\n0                0.72139            0.25765              0.37970   \n1                0.72080            0.26933              0.39214   \n2                0.71820            0.27294              0.39555   \n3                0.69717            0.29753              0.41707   \n4                0.70604            0.30499              0.42597   \n0                0.72606            0.25464              0.37704   \n1                0.72606            0.25464              0.37704   \n2                0.72606            0.25464              0.37704   \n3                0.72606            0.25464              0.37704   \n4                0.72606            0.25464              0.37704   \n5                0.72606            0.25464              0.37704   \n6                0.72606            0.25464              0.37704   \n7                0.72142            0.27191              0.39495   \n8                0.72142            0.27191              0.39495   \n9                0.72142            0.27191              0.39495   \n10               0.72142            0.27191              0.39495   \n11               0.72142            0.27191              0.39495   \n12               0.72142            0.27191              0.39495   \n13               0.72142            0.27191              0.39495   \n14               0.72077            0.27057              0.39345   \n15               0.72077            0.27057              0.39345   \n16               0.72077            0.27057              0.39345   \n17               0.72077            0.27057              0.39345   \n18               0.72077            0.27057              0.39345   \n19               0.72077            0.27057              0.39345   \n20               0.72077            0.27057              0.39345   \n21               0.69591            0.30020              0.41946   \n22               0.69591            0.30020              0.41946   \n23               0.69591            0.30020              0.41946   \n24               0.69591            0.30020              0.41946   \n25               0.69591            0.30020              0.41946   \n26               0.69591            0.30020              0.41946   \n27               0.69591            0.30020              0.41946   \n28               0.70157            0.30351              0.42372   \n29               0.70157            0.30351              0.42372   \n30               0.70157            0.30351              0.42372   \n31               0.70157            0.30351              0.42372   \n32               0.70157            0.30351              0.42372   \n33               0.70157            0.30351              0.42372   \n34               0.70157            0.30351              0.42372   \n\n    Accuracy (test set)  Accuracy (validation set)  \n0               0.57947                    0.57633  \n1               0.58042                    0.58461  \n2               0.58419                    0.58211  \n3               0.58223                    0.58788  \n4               0.58165                    0.57703  \n0               0.57790                    0.59101  \n1               0.57790                    0.59004  \n2               0.57790                    0.59043  \n3               0.57790                    0.59021  \n4               0.57790                    0.59045  \n5               0.57790                    0.59067  \n6               0.57790                    0.59069  \n7               0.58251                    0.59077  \n8               0.58251                    0.58994  \n9               0.58251                    0.58920  \n10              0.58251                    0.58862  \n11              0.58251                    0.58776  \n12              0.58251                    0.58724  \n13              0.58251                    0.58635  \n14              0.58315                    0.58934  \n15              0.58315                    0.59051  \n16              0.58315                    0.58943  \n17              0.58315                    0.59013  \n18              0.58315                    0.58970  \n19              0.58315                    0.58959  \n20              0.58315                    0.58932  \n21              0.58505                    0.59399  \n22              0.58505                    0.59187  \n23              0.58505                    0.59197  \n24              0.58505                    0.58993  \n25              0.58505                    0.58966  \n26              0.58505                    0.58958  \n27              0.58505                    0.58931  \n28              0.57934                    0.59271  \n29              0.57934                    0.59123  \n30              0.57934                    0.59093  \n31              0.57934                    0.59095  \n32              0.57934                    0.59057  \n33              0.57934                    0.59072  \n34              0.57934                    0.59096  ",
      "text/html": "<div>\n<style scoped>\n    .dataframe tbody tr th:only-of-type {\n        vertical-align: middle;\n    }\n\n    .dataframe tbody tr th {\n        vertical-align: top;\n    }\n\n    .dataframe thead th {\n        text-align: right;\n    }\n</style>\n<table border=\"1\" class=\"dataframe\">\n  <thead>\n    <tr style=\"text-align: right;\">\n      <th></th>\n      <th>Type</th>\n      <th>Sets size (training|validation|test)</th>\n      <th>Folds number</th>\n      <th>Precision (test set)</th>\n      <th>Recall (test set)</th>\n      <th>F1 score (test set)</th>\n      <th>Accuracy (test set)</th>\n      <th>Accuracy (validation set)</th>\n    </tr>\n  </thead>\n  <tbody>\n    <tr>\n      <th>0</th>\n      <td>Standard</td>\n      <td>0,6  | 0,2   |   0,2</td>\n      <td>-----</td>\n      <td>0.72139</td>\n      <td>0.25765</td>\n      <td>0.37970</td>\n      <td>0.57947</td>\n      <td>0.57633</td>\n    </tr>\n    <tr>\n      <th>1</th>\n      <td>Standard</td>\n      <td>0,7  | 0,15  |  0,15</td>\n      <td>-----</td>\n      <td>0.72080</td>\n      <td>0.26933</td>\n      <td>0.39214</td>\n      <td>0.58042</td>\n      <td>0.58461</td>\n    </tr>\n    <tr>\n      <th>2</th>\n      <td>Standard</td>\n      <td>0,8  | 0,1   |   0,1</td>\n      <td>-----</td>\n      <td>0.71820</td>\n      <td>0.27294</td>\n      <td>0.39555</td>\n      <td>0.58419</td>\n      <td>0.58211</td>\n    </tr>\n    <tr>\n      <th>3</th>\n      <td>Standard</td>\n      <td>0,9  | 0,05  |  0,05</td>\n      <td>-----</td>\n      <td>0.69717</td>\n      <td>0.29753</td>\n      <td>0.41707</td>\n      <td>0.58223</td>\n      <td>0.58788</td>\n    </tr>\n    <tr>\n      <th>4</th>\n      <td>Standard</td>\n      <td>0,95 | 0,025 | 0,025</td>\n      <td>-----</td>\n      <td>0.70604</td>\n      <td>0.30499</td>\n      <td>0.42597</td>\n      <td>0.58165</td>\n      <td>0.57703</td>\n    </tr>\n    <tr>\n      <th>0</th>\n      <td>Cross validation</td>\n      <td>0,6  |   0,4</td>\n      <td>3</td>\n      <td>0.72606</td>\n      <td>0.25464</td>\n      <td>0.37704</td>\n      <td>0.57790</td>\n      <td>0.59101</td>\n    </tr>\n    <tr>\n      <th>1</th>\n      <td>Cross validation</td>\n      <td>0,6  |   0,4</td>\n      <td>4</td>\n      <td>0.72606</td>\n      <td>0.25464</td>\n      <td>0.37704</td>\n      <td>0.57790</td>\n      <td>0.59004</td>\n    </tr>\n    <tr>\n      <th>2</th>\n      <td>Cross validation</td>\n      <td>0,6  |   0,4</td>\n      <td>5</td>\n      <td>0.72606</td>\n      <td>0.25464</td>\n      <td>0.37704</td>\n      <td>0.57790</td>\n      <td>0.59043</td>\n    </tr>\n    <tr>\n      <th>3</th>\n      <td>Cross validation</td>\n      <td>0,6  |   0,4</td>\n      <td>6</td>\n      <td>0.72606</td>\n      <td>0.25464</td>\n      <td>0.37704</td>\n      <td>0.57790</td>\n      <td>0.59021</td>\n    </tr>\n    <tr>\n      <th>4</th>\n      <td>Cross validation</td>\n      <td>0,6  |   0,4</td>\n      <td>8</td>\n      <td>0.72606</td>\n      <td>0.25464</td>\n      <td>0.37704</td>\n      <td>0.57790</td>\n      <td>0.59045</td>\n    </tr>\n    <tr>\n      <th>5</th>\n      <td>Cross validation</td>\n      <td>0,6  |   0,4</td>\n      <td>10</td>\n      <td>0.72606</td>\n      <td>0.25464</td>\n      <td>0.37704</td>\n      <td>0.57790</td>\n      <td>0.59067</td>\n    </tr>\n    <tr>\n      <th>6</th>\n      <td>Cross validation</td>\n      <td>0,6  |   0,4</td>\n      <td>20</td>\n      <td>0.72606</td>\n      <td>0.25464</td>\n      <td>0.37704</td>\n      <td>0.57790</td>\n      <td>0.59069</td>\n    </tr>\n    <tr>\n      <th>7</th>\n      <td>Cross validation</td>\n      <td>0,7  |  0,3</td>\n      <td>3</td>\n      <td>0.72142</td>\n      <td>0.27191</td>\n      <td>0.39495</td>\n      <td>0.58251</td>\n      <td>0.59077</td>\n    </tr>\n    <tr>\n      <th>8</th>\n      <td>Cross validation</td>\n      <td>0,7  |  0,3</td>\n      <td>4</td>\n      <td>0.72142</td>\n      <td>0.27191</td>\n      <td>0.39495</td>\n      <td>0.58251</td>\n      <td>0.58994</td>\n    </tr>\n    <tr>\n      <th>9</th>\n      <td>Cross validation</td>\n      <td>0,7  |  0,3</td>\n      <td>5</td>\n      <td>0.72142</td>\n      <td>0.27191</td>\n      <td>0.39495</td>\n      <td>0.58251</td>\n      <td>0.58920</td>\n    </tr>\n    <tr>\n      <th>10</th>\n      <td>Cross validation</td>\n      <td>0,7  |  0,3</td>\n      <td>6</td>\n      <td>0.72142</td>\n      <td>0.27191</td>\n      <td>0.39495</td>\n      <td>0.58251</td>\n      <td>0.58862</td>\n    </tr>\n    <tr>\n      <th>11</th>\n      <td>Cross validation</td>\n      <td>0,7  |  0,3</td>\n      <td>8</td>\n      <td>0.72142</td>\n      <td>0.27191</td>\n      <td>0.39495</td>\n      <td>0.58251</td>\n      <td>0.58776</td>\n    </tr>\n    <tr>\n      <th>12</th>\n      <td>Cross validation</td>\n      <td>0,7  |  0,3</td>\n      <td>10</td>\n      <td>0.72142</td>\n      <td>0.27191</td>\n      <td>0.39495</td>\n      <td>0.58251</td>\n      <td>0.58724</td>\n    </tr>\n    <tr>\n      <th>13</th>\n      <td>Cross validation</td>\n      <td>0,7  |  0,3</td>\n      <td>20</td>\n      <td>0.72142</td>\n      <td>0.27191</td>\n      <td>0.39495</td>\n      <td>0.58251</td>\n      <td>0.58635</td>\n    </tr>\n    <tr>\n      <th>14</th>\n      <td>Cross validation</td>\n      <td>0,8  |  0,2</td>\n      <td>3</td>\n      <td>0.72077</td>\n      <td>0.27057</td>\n      <td>0.39345</td>\n      <td>0.58315</td>\n      <td>0.58934</td>\n    </tr>\n    <tr>\n      <th>15</th>\n      <td>Cross validation</td>\n      <td>0,8  |  0,2</td>\n      <td>4</td>\n      <td>0.72077</td>\n      <td>0.27057</td>\n      <td>0.39345</td>\n      <td>0.58315</td>\n      <td>0.59051</td>\n    </tr>\n    <tr>\n      <th>16</th>\n      <td>Cross validation</td>\n      <td>0,8  |  0,2</td>\n      <td>5</td>\n      <td>0.72077</td>\n      <td>0.27057</td>\n      <td>0.39345</td>\n      <td>0.58315</td>\n      <td>0.58943</td>\n    </tr>\n    <tr>\n      <th>17</th>\n      <td>Cross validation</td>\n      <td>0,8  |  0,2</td>\n      <td>6</td>\n      <td>0.72077</td>\n      <td>0.27057</td>\n      <td>0.39345</td>\n      <td>0.58315</td>\n      <td>0.59013</td>\n    </tr>\n    <tr>\n      <th>18</th>\n      <td>Cross validation</td>\n      <td>0,8  |  0,2</td>\n      <td>8</td>\n      <td>0.72077</td>\n      <td>0.27057</td>\n      <td>0.39345</td>\n      <td>0.58315</td>\n      <td>0.58970</td>\n    </tr>\n    <tr>\n      <th>19</th>\n      <td>Cross validation</td>\n      <td>0,8  |  0,2</td>\n      <td>10</td>\n      <td>0.72077</td>\n      <td>0.27057</td>\n      <td>0.39345</td>\n      <td>0.58315</td>\n      <td>0.58959</td>\n    </tr>\n    <tr>\n      <th>20</th>\n      <td>Cross validation</td>\n      <td>0,8  |  0,2</td>\n      <td>20</td>\n      <td>0.72077</td>\n      <td>0.27057</td>\n      <td>0.39345</td>\n      <td>0.58315</td>\n      <td>0.58932</td>\n    </tr>\n    <tr>\n      <th>21</th>\n      <td>Cross validation</td>\n      <td>0,9  |  0,1</td>\n      <td>3</td>\n      <td>0.69591</td>\n      <td>0.30020</td>\n      <td>0.41946</td>\n      <td>0.58505</td>\n      <td>0.59399</td>\n    </tr>\n    <tr>\n      <th>22</th>\n      <td>Cross validation</td>\n      <td>0,9  |  0,1</td>\n      <td>4</td>\n      <td>0.69591</td>\n      <td>0.30020</td>\n      <td>0.41946</td>\n      <td>0.58505</td>\n      <td>0.59187</td>\n    </tr>\n    <tr>\n      <th>23</th>\n      <td>Cross validation</td>\n      <td>0,9  |  0,1</td>\n      <td>5</td>\n      <td>0.69591</td>\n      <td>0.30020</td>\n      <td>0.41946</td>\n      <td>0.58505</td>\n      <td>0.59197</td>\n    </tr>\n    <tr>\n      <th>24</th>\n      <td>Cross validation</td>\n      <td>0,9  |  0,1</td>\n      <td>6</td>\n      <td>0.69591</td>\n      <td>0.30020</td>\n      <td>0.41946</td>\n      <td>0.58505</td>\n      <td>0.58993</td>\n    </tr>\n    <tr>\n      <th>25</th>\n      <td>Cross validation</td>\n      <td>0,9  |  0,1</td>\n      <td>8</td>\n      <td>0.69591</td>\n      <td>0.30020</td>\n      <td>0.41946</td>\n      <td>0.58505</td>\n      <td>0.58966</td>\n    </tr>\n    <tr>\n      <th>26</th>\n      <td>Cross validation</td>\n      <td>0,9  |  0,1</td>\n      <td>10</td>\n      <td>0.69591</td>\n      <td>0.30020</td>\n      <td>0.41946</td>\n      <td>0.58505</td>\n      <td>0.58958</td>\n    </tr>\n    <tr>\n      <th>27</th>\n      <td>Cross validation</td>\n      <td>0,9  |  0,1</td>\n      <td>20</td>\n      <td>0.69591</td>\n      <td>0.30020</td>\n      <td>0.41946</td>\n      <td>0.58505</td>\n      <td>0.58931</td>\n    </tr>\n    <tr>\n      <th>28</th>\n      <td>Cross validation</td>\n      <td>0,95  |  0,05</td>\n      <td>3</td>\n      <td>0.70157</td>\n      <td>0.30351</td>\n      <td>0.42372</td>\n      <td>0.57934</td>\n      <td>0.59271</td>\n    </tr>\n    <tr>\n      <th>29</th>\n      <td>Cross validation</td>\n      <td>0,95  |  0,05</td>\n      <td>4</td>\n      <td>0.70157</td>\n      <td>0.30351</td>\n      <td>0.42372</td>\n      <td>0.57934</td>\n      <td>0.59123</td>\n    </tr>\n    <tr>\n      <th>30</th>\n      <td>Cross validation</td>\n      <td>0,95  |  0,05</td>\n      <td>5</td>\n      <td>0.70157</td>\n      <td>0.30351</td>\n      <td>0.42372</td>\n      <td>0.57934</td>\n      <td>0.59093</td>\n    </tr>\n    <tr>\n      <th>31</th>\n      <td>Cross validation</td>\n      <td>0,95  |  0,05</td>\n      <td>6</td>\n      <td>0.70157</td>\n      <td>0.30351</td>\n      <td>0.42372</td>\n      <td>0.57934</td>\n      <td>0.59095</td>\n    </tr>\n    <tr>\n      <th>32</th>\n      <td>Cross validation</td>\n      <td>0,95  |  0,05</td>\n      <td>8</td>\n      <td>0.70157</td>\n      <td>0.30351</td>\n      <td>0.42372</td>\n      <td>0.57934</td>\n      <td>0.59057</td>\n    </tr>\n    <tr>\n      <th>33</th>\n      <td>Cross validation</td>\n      <td>0,95  |  0,05</td>\n      <td>10</td>\n      <td>0.70157</td>\n      <td>0.30351</td>\n      <td>0.42372</td>\n      <td>0.57934</td>\n      <td>0.59072</td>\n    </tr>\n    <tr>\n      <th>34</th>\n      <td>Cross validation</td>\n      <td>0,95  |  0,05</td>\n      <td>20</td>\n      <td>0.70157</td>\n      <td>0.30351</td>\n      <td>0.42372</td>\n      <td>0.57934</td>\n      <td>0.59096</td>\n    </tr>\n  </tbody>\n</table>\n</div>"
     },
     "execution_count": 115,
     "metadata": {},
     "output_type": "execute_result"
    }
   ],
   "source": [
    "results"
   ],
   "metadata": {
    "collapsed": false,
    "pycharm": {
     "name": "#%%\n"
    }
   }
  },
  {
   "cell_type": "markdown",
   "source": [
    "Mając na uwadze dotychczasowe obserwacje, a także wyniki zamieszczone w powyższej tabeli, możemy dojść do szeregu wniosków. Pierwszym z nich jest fakt, że wraz ze wzrostem wielkości zbioru trenującego obserwujemy wzrost pełności i wyniku $F_1$, w większości przypadków, kosztem precyzji. Jeśli chodzi o dokładność, to ogólnie rzecz biorąc lepsze wyniki, szczególnie na zbiorze walidacyjnym, osiągamy dla metody walidacji krzyżowej. W jej przypadku liczba ***k*** określająca ilość fragmentów nie wpływa znacząco na uzyskane wyniki, co jest spowodowane w głównej mierze dość dużym zbiorem danych zawierającym ponad ***69000*** próbek. Istotnym czynnikiem, który, podobnie jak dla tradycyjnego podziału na zbiór trenujący, walidacyjny i testowy, wpływa na końcowe rezultaty, jest stosunek wielkości zbiorów. Najlepsze wyniki, dla przykładów wykorzystujących 3 zbiory, uzyskujemy dla podziału, w którym zbiór trenujący zawiera ***80%*** i ***90%*** danych. Podobnie sytuacja wygląda dla doświadczeń wykorzystujących walidację krzyżową. Tutaj bardzo widoczne jest także to, że dla wspomnianych wielkości zbioru treningowego (a tak naprawdę \"trenująco-walidacyjnego\") różnice pomiędzy dokładnością osiągniętą na zbiorach walidacyjnych i testowych są najmniejsze."
   ],
   "metadata": {
    "collapsed": false,
    "pycharm": {
     "name": "#%% md\n"
    }
   }
  }
 ],
 "metadata": {
  "kernelspec": {
   "display_name": "Python 3",
   "language": "python",
   "name": "python3"
  },
  "language_info": {
   "codemirror_mode": {
    "name": "ipython",
    "version": 2
   },
   "file_extension": ".py",
   "mimetype": "text/x-python",
   "name": "python",
   "nbconvert_exporter": "python",
   "pygments_lexer": "ipython2",
   "version": "2.7.6"
  }
 },
 "nbformat": 4,
 "nbformat_minor": 0
}