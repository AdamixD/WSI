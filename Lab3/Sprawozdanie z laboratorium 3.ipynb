{
 "cells": [
  {
   "cell_type": "markdown",
   "source": [
    "# Sprawozdanie z laboratorium 3"
   ],
   "metadata": {
    "collapsed": false,
    "pycharm": {
     "name": "#%% md\n"
    }
   }
  },
  {
   "cell_type": "markdown",
   "source": [
    "***Autor: Adam Dąbkowski***"
   ],
   "metadata": {
    "collapsed": false,
    "pycharm": {
     "name": "#%% md\n"
    }
   }
  },
  {
   "cell_type": "markdown",
   "source": [
    "Celem trzeciego laboratorium jest zaimplementowanie algorytmu ***minimax*** z obcinaniem $\\alpha - \\beta$, który różnych ruchów o tej samej jakości zwraca losowy z nich. Dodatkowo należy wykorzystać implementację, aby porównać wpływ doboru głębokości przeszukiwania dla gry Pick."
   ],
   "metadata": {
    "collapsed": false,
    "pycharm": {
     "name": "#%% md\n"
    }
   }
  },
  {
   "cell_type": "markdown",
   "source": [
    "### 0. Importowanie niezbędnych bibliotek i klas"
   ],
   "metadata": {
    "collapsed": false,
    "pycharm": {
     "name": "#%% md\n"
    }
   }
  },
  {
   "cell_type": "code",
   "execution_count": 2,
   "outputs": [],
   "source": [
    "import itertools\n",
    "from typing import Iterable, List, Optional\n",
    "from Lab3.two_player_games.game import Game\n",
    "from Lab3.two_player_games.move import Move\n",
    "from Lab3.two_player_games.player import Player\n",
    "from Lab3.two_player_games.state import State\n",
    "\n",
    "from copy import deepcopy\n",
    "import random"
   ],
   "metadata": {
    "collapsed": false,
    "pycharm": {
     "name": "#%%\n"
    }
   }
  },
  {
   "cell_type": "markdown",
   "source": [
    "### 1. Implementacja"
   ],
   "metadata": {
    "collapsed": false,
    "pycharm": {
     "name": "#%% md\n"
    }
   }
  },
  {
   "cell_type": "markdown",
   "source": [
    "Aby algorytm ***minimax*** mógł wybrać ruch, który znacznie przybliży gracza do zwycięstwa, konieczne jest określenie jakości danego ruchu. W tym celu konieczne jest zaimplementowanie funkcji heurystycznej, która na podstawie danego stanu gry określi, czy dobór liczb, jest dobry, bądź nie."
   ],
   "metadata": {
    "collapsed": false,
    "pycharm": {
     "name": "#%% md\n"
    }
   }
  },
  {
   "cell_type": "markdown",
   "source": [
    "Zanim skorzystamy z funkcji heurystycznej, konieczne jest najpierw przekształcenie klasy ***Pick***. Chodzi tu mianowicie o wyznaczenie za pomocą metody **get_game_combinations()** wszystkich możliwych kombinacji liczb w danej grze, które będzie reprezentowane przez ***self.game_combinations***."
   ],
   "metadata": {
    "collapsed": false,
    "pycharm": {
     "name": "#%% md\n"
    }
   }
  },
  {
   "cell_type": "code",
   "execution_count": 21,
   "outputs": [],
   "source": [
    "class Pick(Game):\n",
    "    \"\"\"Class that represents the Pick game\"\"\"\n",
    "    FIRST_PLAYER_DEFAULT_CHAR = '1'\n",
    "    SECOND_PLAYER_DEFAULT_CHAR = '2'\n",
    "\n",
    "    def __init__(self, first_player: Player = None, second_player: Player = None, n: int = 4):\n",
    "        \"\"\"\n",
    "        Initializes game.\n",
    "\n",
    "        Parameters:\n",
    "            first_player: the player that will go first (if None is passed, a player will be created)\n",
    "            second_player: the player that will go second (if None is passed, a player will be created)\n",
    "            n: the subset size of picked numbers that should sum up to aim value\n",
    "        \"\"\"\n",
    "        self.first_player = first_player or Player(self.FIRST_PLAYER_DEFAULT_CHAR)\n",
    "        self.second_player = second_player or Player(self.SECOND_PLAYER_DEFAULT_CHAR)\n",
    "\n",
    "        state = PickState(self.first_player, self.second_player, n)\n",
    "\n",
    "        super().__init__(state)\n",
    "\n",
    "        self.game_combinations = self.get_game_combinations()\n",
    "\n",
    "    def get_game_combinations(self):\n",
    "        potential_numbers = range(1, self.state.max_number + 1)\n",
    "\n",
    "        def backtrack(start, aim_value):\n",
    "            combinations = []\n",
    "            for index in range(start, len(potential_numbers)):\n",
    "                number = potential_numbers[index]\n",
    "                if index > start and number == potential_numbers[index - 1]:\n",
    "                    continue\n",
    "                if number < aim_value:\n",
    "                    combinations.extend([number] + comb for comb in backtrack(index + 1, aim_value - number))\n",
    "                else:\n",
    "                    if number == aim_value:\n",
    "                        combinations.append([number])\n",
    "                    break\n",
    "            return combinations\n",
    "\n",
    "        game_combinations = backtrack(0, self.state.aim_value)\n",
    "        game_combinations = [combination for combination in game_combinations if len(combination) == self.state.n]\n",
    "\n",
    "        return game_combinations\n",
    "\n",
    "\n",
    "class PickMove(Move):\n",
    "    \"\"\"\n",
    "    Class that represents a move in the PickMove game\n",
    "\n",
    "    Variables:\n",
    "        number: selected number (from 1 to n^2)\n",
    "    \"\"\"\n",
    "\n",
    "    def __init__(self, number: int):\n",
    "        self.number = number\n",
    "\n",
    "    def __eq__(self, o: object) -> bool:\n",
    "        if not isinstance(o, PickMove):\n",
    "            return False\n",
    "        return self.number == o.number\n",
    "\n",
    "    def __str__(self):\n",
    "        return str(self.number)\n",
    "\n",
    "\n",
    "class PickState(State):\n",
    "    \"\"\"Class that represents a state in the PickState game\"\"\"\n",
    "\n",
    "    def __init__(self,\n",
    "                 current_player: Player, other_player: Player, n,\n",
    "                 current_player_numbers: List[int] = None,\n",
    "                 other_player_numbers: List[int] = None):\n",
    "        \"\"\"Creates the state. Do not call directly.\"\"\"\n",
    "\n",
    "        if current_player_numbers is None:\n",
    "            current_player_numbers = []\n",
    "        if other_player_numbers is None:\n",
    "            other_player_numbers = []\n",
    "\n",
    "        self.current_player_numbers = current_player_numbers\n",
    "        self.other_player_numbers = other_player_numbers\n",
    "        self.selected_numbers = set(self.current_player_numbers).union(self.other_player_numbers)\n",
    "        self.n = n\n",
    "        self.max_number = n ** 2\n",
    "        self.aim_value = int((n ** 2 * (n ** 2 + 1)) / (2 * n))\n",
    "        super().__init__(current_player, other_player)\n",
    "\n",
    "    def get_moves(self) -> Iterable[PickMove]:\n",
    "        return [PickMove(number) for number in range(1, self.max_number + 1) if number not in self.selected_numbers]\n",
    "\n",
    "    def make_move(self, move: PickMove) -> 'PickState':\n",
    "        if move.number > self.max_number or move.number in self.selected_numbers:\n",
    "            raise ValueError(\"Invalid move\")\n",
    "        else:\n",
    "            next_player = self._other_player\n",
    "            next_player_numbers = self.other_player_numbers\n",
    "\n",
    "            other_player = self._current_player\n",
    "            other_player_numbers = self.current_player_numbers + [move.number]\n",
    "\n",
    "        return PickState(\n",
    "            next_player, other_player, self.n, next_player_numbers, other_player_numbers\n",
    "        )\n",
    "\n",
    "    def is_finished(self) -> bool:\n",
    "        return self._check_if_sums_to_aim_value(self.current_player_numbers) or \\\n",
    "               self._check_if_sums_to_aim_value(self.other_player_numbers) or \\\n",
    "               len(self.selected_numbers) == self.max_number\n",
    "\n",
    "    def get_winner(self) -> Optional[Player]:\n",
    "        if not self.is_finished():\n",
    "            return None\n",
    "        if self._check_if_sums_to_aim_value(self.current_player_numbers):\n",
    "            return self._current_player\n",
    "        elif self._check_if_sums_to_aim_value(self.other_player_numbers):\n",
    "            return self._other_player\n",
    "        else:\n",
    "            return None\n",
    "\n",
    "    def __str__(self) -> str:\n",
    "        return f\"n: {self.n}, aim_value: {self.aim_value}\" \\\n",
    "               f\"\\nCurrent player: {self._current_player.char}, Numbers: \" \\\n",
    "               f\"{'[]' if not self.current_player_numbers else sorted(self.current_player_numbers)},\" \\\n",
    "               f\"\\nOther player: {self._other_player.char}, Numbers: \" \\\n",
    "               f\"{'[]' if not self.other_player_numbers else sorted(self.other_player_numbers)}\"\n",
    "\n",
    "    # below are helper methods for the public interface\n",
    "\n",
    "    def _check_if_sums_to_aim_value(self, numbers: List[int]) -> bool:\n",
    "        return self.aim_value in [sum(i) for i in itertools.combinations(numbers, self.n)]"
   ],
   "metadata": {
    "collapsed": false,
    "pycharm": {
     "name": "#%%\n"
    }
   }
  },
  {
   "cell_type": "markdown",
   "source": [
    "Mając wyznaczone kombinacje liczb, możemy przejść do implementacji funkcji heurystycznej **get_heuristic_score()**. Funkcja ta na podstawie wykonanych już ruchów gracza, a także potencjalnych ruchów, które gracz jest w stanie wykonać, wyznacza heurystyczny wynik wskazujący na częstość występowania danych liczb w danych kombinacjach. Im wynik wyższy, tym lepiej. Jeżeli zdarzy się sytuacja, w której wewnątrz kombinacji znajdzie się zbiór, który sumuje się do oczekiwanej wartości, zwracany jest wynik ***-100000*** lub ***100000*** w zależności od tego, czy mamy do czynienia z ***max_player***, czy nie."
   ],
   "metadata": {
    "collapsed": false,
    "pycharm": {
     "name": "#%% md\n"
    }
   }
  },
  {
   "cell_type": "code",
   "execution_count": 22,
   "outputs": [],
   "source": [
    "def get_heuristic_score(game, max_player):\n",
    "    if not game.is_finished():\n",
    "        heuristic_score = 0\n",
    "        potential_combinations = []\n",
    "\n",
    "        player_moves = game.state.current_player_numbers\n",
    "        potential_moves = [item.number for item in game.state.get_moves()]\n",
    "\n",
    "        for combination in game.game_combinations:\n",
    "            invalid_combination = False\n",
    "            for item in combination:\n",
    "                invalid_combination = True if item not in potential_moves and item not in player_moves else False\n",
    "                if invalid_combination:\n",
    "                    break\n",
    "            if not invalid_combination:\n",
    "                potential_combinations.append(combination)\n",
    "\n",
    "        for combination in potential_combinations:\n",
    "            combination_score = 0\n",
    "            for number in combination:\n",
    "                combination_score += 1 if number in player_moves else 0\n",
    "\n",
    "            heuristic_score += combination_score\n",
    "\n",
    "        return -heuristic_score if max_player else heuristic_score\n",
    "    else:\n",
    "        if game.get_winner():\n",
    "            return -100000 if max_player else 100000\n",
    "        else:\n",
    "            return 0"
   ],
   "metadata": {
    "collapsed": false,
    "pycharm": {
     "name": "#%%\n"
    }
   }
  },
  {
   "cell_type": "markdown",
   "source": [
    "Mając tak zaimplementowaną funkcję heurystyczną, jesteśmy już w stanie skorzystać z algorytmu ***minimax***, z obcinaniem $\\alpha - \\beta$. Algorytm ten jest zgodny z wymaganiem postawionym w poleceniu, a mianowicie dla różnych ruchów o tej samej jakości zwraca losowy z nich."
   ],
   "metadata": {
    "collapsed": false,
    "pycharm": {
     "name": "#%% md\n"
    }
   }
  },
  {
   "cell_type": "code",
   "execution_count": 23,
   "outputs": [],
   "source": [
    "def minimax_alpha_beta(game, depth, alpha, beta, max_player):\n",
    "    if depth == 0 or game.state.is_finished():\n",
    "        return [get_heuristic_score(game, max_player), 0]\n",
    "\n",
    "    if max_player:\n",
    "        max_value = float('-inf')\n",
    "        best_moves = {}\n",
    "\n",
    "        for move in game.get_moves():\n",
    "            current_game = deepcopy(game)\n",
    "            current_game.make_move(move)\n",
    "            [value, _ ] = minimax_alpha_beta(current_game, depth - 1, alpha, beta, False)\n",
    "\n",
    "            if value > max_value:\n",
    "                max_value = value\n",
    "                best_moves = {f\"{max_value}\": [move]}\n",
    "\n",
    "            if value == max_value:\n",
    "                best_moves[f\"{max_value}\"].append(move)\n",
    "\n",
    "            if max_value >= beta:\n",
    "                break\n",
    "\n",
    "            alpha = max(alpha, max_value)\n",
    "\n",
    "        return [max_value, random.choice(best_moves[f\"{max_value}\"])]\n",
    "\n",
    "    else:\n",
    "        min_value = float('inf')\n",
    "        best_moves = {}\n",
    "\n",
    "        for move in game.get_moves():\n",
    "            current_game = deepcopy(game)\n",
    "            current_game.make_move(move)\n",
    "\n",
    "            [value, _ ] = minimax_alpha_beta(current_game, depth - 1, alpha, beta, True)\n",
    "\n",
    "            if value < min_value:\n",
    "                min_value = value\n",
    "                best_moves = {f\"{min_value}\": [move]}\n",
    "\n",
    "            if value == min_value:\n",
    "                best_moves[f\"{min_value}\"].append(move)\n",
    "\n",
    "            if min_value <= alpha:\n",
    "                break\n",
    "\n",
    "            beta = min(beta, min_value)\n",
    "\n",
    "        return [min_value, random.choice(best_moves[f\"{min_value}\"])]"
   ],
   "metadata": {
    "collapsed": false,
    "pycharm": {
     "name": "#%%\n"
    }
   }
  },
  {
   "cell_type": "markdown",
   "source": [
    "Aby móc przetestować powyższą implementację, utworzona została funkcja **game_simulation()** , która jako parametry wejściowe przyjmuje ***n*** - rozmiar zadania, ***first_player_depth*** - głębokość przeszukiwania dla pierwszego gracza oraz ***second_player_depth*** - głębokość przeszukiwania dla drugiego gracza."
   ],
   "metadata": {
    "collapsed": false,
    "pycharm": {
     "name": "#%% md\n"
    }
   }
  },
  {
   "cell_type": "code",
   "execution_count": 24,
   "outputs": [],
   "source": [
    "def game_simulation(n=4, first_player_depth=1, second_player_depth=1):\n",
    "    game = Pick(n=n)\n",
    "    turn = 1\n",
    "\n",
    "    while game.is_finished() is False:\n",
    "        print(f\"Turn {turn} ------------------------------------------------------------------------------------------\")\n",
    "\n",
    "        [heuristic_score, move] = minimax_alpha_beta(game, first_player_depth, float('-inf'), float('inf'), True)\n",
    "        game.make_move(move)\n",
    "\n",
    "        print(f\"Player {game.state._other_player.char}: selected move = {move.number}, heuristic_score = {heuristic_score}, player moves = {game.state.other_player_numbers}\")\n",
    "\n",
    "        if game.is_finished():\n",
    "            break\n",
    "\n",
    "        [heuristic_score, move] = minimax_alpha_beta(game, second_player_depth, float('-inf'), float('inf'), True)\n",
    "        game.make_move(move)\n",
    "\n",
    "        print(f\"Player {game.state._other_player.char}: selected move = {move.number}, heuristic_score = {heuristic_score}, player moves = {game.state.other_player_numbers}\")\n",
    "\n",
    "        turn += 1\n",
    "\n",
    "    if game.state.get_winner():\n",
    "        print(f\"Winner = Player {game.state.get_winner().char}\")\n",
    "    else:\n",
    "        print(f\"Draw\")"
   ],
   "metadata": {
    "collapsed": false,
    "pycharm": {
     "name": "#%%\n"
    }
   }
  },
  {
   "cell_type": "markdown",
   "source": [
    "### 2. Symulacja"
   ],
   "metadata": {
    "collapsed": false,
    "pycharm": {
     "name": "#%% md\n"
    }
   }
  },
  {
   "cell_type": "markdown",
   "source": [
    "Symulacja została przeprowadzona dla różnych kombinacji wartości ***first_player_depth*** oraz ***second_player_depth***, tak aby zobaczyć, jak znaczący wpływ ma kolejność wykonywania ruchów oraz głębokość przeszukiwania."
   ],
   "metadata": {
    "collapsed": false,
    "pycharm": {
     "name": "#%% md\n"
    }
   }
  },
  {
   "cell_type": "markdown",
   "source": [
    "<b>2.1 ***first_player_depth > second_player_depth***</b>"
   ],
   "metadata": {
    "collapsed": false,
    "pycharm": {
     "name": "#%% md\n"
    }
   }
  },
  {
   "cell_type": "code",
   "execution_count": 19,
   "outputs": [
    {
     "name": "stdout",
     "output_type": "stream",
     "text": [
      "Turn 1 ------------------------------------------------------------------------------------------\n",
      "Player 1: selected move = 15, heuristic_score = -18, player moves = [15]\n",
      "Player 2: selected move = 16, heuristic_score = 19, player moves = [16]\n",
      "Turn 2 ------------------------------------------------------------------------------------------\n",
      "Player 1: selected move = 1, heuristic_score = -26, player moves = [15, 1]\n",
      "Player 2: selected move = 9, heuristic_score = 26, player moves = [16, 9]\n",
      "Turn 3 ------------------------------------------------------------------------------------------\n",
      "Player 1: selected move = 3, heuristic_score = -32, player moves = [15, 1, 3]\n",
      "Player 2: selected move = 2, heuristic_score = 32, player moves = [16, 9, 2]\n",
      "Turn 4 ------------------------------------------------------------------------------------------\n",
      "Player 1: selected move = 8, heuristic_score = -34, player moves = [15, 1, 3, 8]\n",
      "Player 2: selected move = 7, heuristic_score = 100000, player moves = [16, 9, 2, 7]\n",
      "Winner = Player 2\n"
     ]
    }
   ],
   "source": [
    "game_simulation(n=4, first_player_depth=2, second_player_depth=1)"
   ],
   "metadata": {
    "collapsed": false,
    "pycharm": {
     "name": "#%%\n"
    }
   }
  },
  {
   "cell_type": "code",
   "execution_count": 14,
   "outputs": [
    {
     "name": "stdout",
     "output_type": "stream",
     "text": [
      "Turn 1 ------------------------------------------------------------------------------------------\n",
      "Player 1: selected move = 7, heuristic_score = 14, player moves = [7]\n",
      "Player 2: selected move = 1, heuristic_score = 20, player moves = [1]\n",
      "Turn 2 ------------------------------------------------------------------------------------------\n",
      "Player 1: selected move = 2, heuristic_score = 21, player moves = [7, 2]\n",
      "Player 2: selected move = 3, heuristic_score = 33, player moves = [1, 3]\n",
      "Turn 3 ------------------------------------------------------------------------------------------\n",
      "Player 1: selected move = 13, heuristic_score = 27, player moves = [7, 2, 13]\n",
      "Player 2: selected move = 16, heuristic_score = 39, player moves = [1, 3, 16]\n",
      "Turn 4 ------------------------------------------------------------------------------------------\n",
      "Player 1: selected move = 12, heuristic_score = 100000, player moves = [7, 2, 13, 12]\n",
      "Winner = Player 1\n"
     ]
    }
   ],
   "source": [
    "game_simulation(n=4, first_player_depth=3, second_player_depth=1)"
   ],
   "metadata": {
    "collapsed": false,
    "pycharm": {
     "name": "#%%\n"
    }
   }
  },
  {
   "cell_type": "code",
   "execution_count": 19,
   "outputs": [
    {
     "name": "stdout",
     "output_type": "stream",
     "text": [
      "Turn 1 ------------------------------------------------------------------------------------------\n",
      "Player 1: selected move = 8, heuristic_score = 14, player moves = [8]\n",
      "Player 2: selected move = 14, heuristic_score = -13, player moves = [14]\n",
      "Turn 2 ------------------------------------------------------------------------------------------\n",
      "Player 1: selected move = 9, heuristic_score = 23, player moves = [8, 9]\n",
      "Player 2: selected move = 4, heuristic_score = -23, player moves = [14, 4]\n",
      "Turn 3 ------------------------------------------------------------------------------------------\n",
      "Player 1: selected move = 6, heuristic_score = 27, player moves = [8, 9, 6]\n",
      "Player 2: selected move = 16, heuristic_score = -27, player moves = [14, 4, 16]\n",
      "Turn 4 ------------------------------------------------------------------------------------------\n",
      "Player 1: selected move = 15, heuristic_score = 100000, player moves = [8, 9, 6, 15]\n",
      "Player 2: selected move = 12, heuristic_score = -100000, player moves = [14, 4, 16, 12]\n",
      "Turn 5 ------------------------------------------------------------------------------------------\n",
      "Player 1: selected move = 7, heuristic_score = 100000, player moves = [8, 9, 6, 15, 7]\n",
      "Player 2: selected move = 2, heuristic_score = 100000, player moves = [14, 4, 16, 12, 2]\n",
      "Winner = Player 2\n"
     ]
    }
   ],
   "source": [
    "game_simulation(n=4, first_player_depth=3, second_player_depth=2)"
   ],
   "metadata": {
    "collapsed": false,
    "pycharm": {
     "name": "#%%\n"
    }
   }
  },
  {
   "cell_type": "code",
   "execution_count": 25,
   "outputs": [
    {
     "name": "stdout",
     "output_type": "stream",
     "text": [
      "Turn 1 ------------------------------------------------------------------------------------------\n",
      "Player 1: selected move = 4, heuristic_score = -26, player moves = [4]\n",
      "Player 2: selected move = 1, heuristic_score = 20, player moves = [1]\n",
      "Turn 2 ------------------------------------------------------------------------------------------\n",
      "Player 1: selected move = 16, heuristic_score = -34, player moves = [4, 16]\n",
      "Player 2: selected move = 14, heuristic_score = 28, player moves = [1, 14]\n",
      "Turn 3 ------------------------------------------------------------------------------------------\n",
      "Player 1: selected move = 11, heuristic_score = -33, player moves = [4, 16, 11]\n",
      "Player 2: selected move = 15, heuristic_score = 36, player moves = [1, 14, 15]\n",
      "Turn 4 ------------------------------------------------------------------------------------------\n",
      "Player 1: selected move = 2, heuristic_score = 100000, player moves = [4, 16, 11, 2]\n",
      "Player 2: selected move = 3, heuristic_score = 35, player moves = [1, 14, 15, 3]\n",
      "Turn 5 ------------------------------------------------------------------------------------------\n",
      "Player 1: selected move = 13, heuristic_score = 100000, player moves = [4, 16, 11, 2, 13]\n",
      "Player 2: selected move = 8, heuristic_score = 34, player moves = [1, 14, 15, 3, 8]\n",
      "Turn 6 ------------------------------------------------------------------------------------------\n",
      "Player 1: selected move = 6, heuristic_score = 100000, player moves = [4, 16, 11, 2, 13, 6]\n",
      "Winner = Player 1\n"
     ]
    }
   ],
   "source": [
    "game_simulation(n=4, first_player_depth=4, second_player_depth=1)"
   ],
   "metadata": {
    "collapsed": false,
    "pycharm": {
     "name": "#%%\n"
    }
   }
  },
  {
   "cell_type": "code",
   "execution_count": 15,
   "outputs": [
    {
     "name": "stdout",
     "output_type": "stream",
     "text": [
      "Turn 1 ------------------------------------------------------------------------------------------\n",
      "Player 1: selected move = 13, heuristic_score = -26, player moves = [13]\n",
      "Player 2: selected move = 1, heuristic_score = -13, player moves = [1]\n",
      "Turn 2 ------------------------------------------------------------------------------------------\n",
      "Player 1: selected move = 16, heuristic_score = -35, player moves = [13, 16]\n",
      "Player 2: selected move = 2, heuristic_score = -16, player moves = [1, 2]\n",
      "Turn 3 ------------------------------------------------------------------------------------------\n",
      "Player 1: selected move = 15, heuristic_score = -29, player moves = [13, 16, 15]\n",
      "Player 2: selected move = 4, heuristic_score = -14, player moves = [1, 2, 4]\n",
      "Turn 4 ------------------------------------------------------------------------------------------\n",
      "Player 1: selected move = 14, heuristic_score = -18, player moves = [13, 16, 15, 14]\n",
      "Player 2: selected move = 3, heuristic_score = -7, player moves = [1, 2, 4, 3]\n",
      "Turn 5 ------------------------------------------------------------------------------------------\n",
      "Player 1: selected move = 12, heuristic_score = -8, player moves = [13, 16, 15, 14, 12]\n",
      "Player 2: selected move = 5, heuristic_score = -2, player moves = [1, 2, 4, 3, 5]\n",
      "Turn 6 ------------------------------------------------------------------------------------------\n",
      "Player 1: selected move = 10, heuristic_score = -2, player moves = [13, 16, 15, 14, 12, 10]\n",
      "Player 2: selected move = 11, heuristic_score = 0, player moves = [1, 2, 4, 3, 5, 11]\n",
      "Turn 7 ------------------------------------------------------------------------------------------\n",
      "Player 1: selected move = 8, heuristic_score = 0, player moves = [13, 16, 15, 14, 12, 10, 8]\n",
      "Player 2: selected move = 9, heuristic_score = 0, player moves = [1, 2, 4, 3, 5, 11, 9]\n",
      "Turn 8 ------------------------------------------------------------------------------------------\n",
      "Player 1: selected move = 6, heuristic_score = 0, player moves = [13, 16, 15, 14, 12, 10, 8, 6]\n",
      "Player 2: selected move = 7, heuristic_score = 0, player moves = [1, 2, 4, 3, 5, 11, 9, 7]\n",
      "Draw\n"
     ]
    }
   ],
   "source": [
    "game_simulation(n=4, first_player_depth=4, second_player_depth=2)"
   ],
   "metadata": {
    "collapsed": false,
    "pycharm": {
     "name": "#%%\n"
    }
   }
  },
  {
   "cell_type": "code",
   "execution_count": 27,
   "outputs": [
    {
     "name": "stdout",
     "output_type": "stream",
     "text": [
      "Turn 1 ------------------------------------------------------------------------------------------\n",
      "Player 1: selected move = 7, heuristic_score = -26, player moves = [7]\n",
      "Player 2: selected move = 2, heuristic_score = 29, player moves = [2]\n",
      "Turn 2 ------------------------------------------------------------------------------------------\n",
      "Player 1: selected move = 9, heuristic_score = -34, player moves = [7, 9]\n",
      "Player 2: selected move = 15, heuristic_score = 37, player moves = [2, 15]\n",
      "Turn 3 ------------------------------------------------------------------------------------------\n",
      "Player 1: selected move = 10, heuristic_score = -36, player moves = [7, 9, 10]\n",
      "Player 2: selected move = 8, heuristic_score = 36, player moves = [2, 15, 8]\n",
      "Turn 4 ------------------------------------------------------------------------------------------\n",
      "Player 1: selected move = 11, heuristic_score = 100000, player moves = [7, 9, 10, 11]\n",
      "Player 2: selected move = 16, heuristic_score = -100000, player moves = [2, 15, 8, 16]\n",
      "Turn 5 ------------------------------------------------------------------------------------------\n",
      "Player 1: selected move = 6, heuristic_score = 100000, player moves = [7, 9, 10, 11, 6]\n",
      "Winner = Player 1\n"
     ]
    }
   ],
   "source": [
    "game_simulation(n=4, first_player_depth=4, second_player_depth=3)"
   ],
   "metadata": {
    "collapsed": false,
    "pycharm": {
     "name": "#%%\n"
    }
   }
  },
  {
   "cell_type": "markdown",
   "source": [
    "<b>2.2 ***first_player_depth < second_player_depth***</b>"
   ],
   "metadata": {
    "collapsed": false,
    "pycharm": {
     "name": "#%% md\n"
    }
   }
  },
  {
   "cell_type": "code",
   "execution_count": 14,
   "outputs": [
    {
     "name": "stdout",
     "output_type": "stream",
     "text": [
      "Turn 1 ------------------------------------------------------------------------------------------\n",
      "Player 1: selected move = 8, heuristic_score = 0, player moves = [8]\n",
      "Player 2: selected move = 15, heuristic_score = -13, player moves = [15]\n",
      "Turn 2 ------------------------------------------------------------------------------------------\n",
      "Player 1: selected move = 16, heuristic_score = 15, player moves = [8, 16]\n",
      "Player 2: selected move = 1, heuristic_score = -20, player moves = [15, 1]\n",
      "Turn 3 ------------------------------------------------------------------------------------------\n",
      "Player 1: selected move = 9, heuristic_score = 20, player moves = [8, 16, 9]\n",
      "Player 2: selected move = 5, heuristic_score = -24, player moves = [15, 1, 5]\n",
      "Turn 4 ------------------------------------------------------------------------------------------\n",
      "Player 1: selected move = 7, heuristic_score = 26, player moves = [8, 16, 9, 7]\n",
      "Player 2: selected move = 13, heuristic_score = 100000, player moves = [15, 1, 5, 13]\n",
      "Winner = Player 2\n"
     ]
    }
   ],
   "source": [
    "game_simulation(n=4, first_player_depth=1, second_player_depth=2)"
   ],
   "metadata": {
    "collapsed": false,
    "pycharm": {
     "name": "#%%\n"
    }
   }
  },
  {
   "cell_type": "code",
   "execution_count": 7,
   "outputs": [
    {
     "name": "stdout",
     "output_type": "stream",
     "text": [
      "Turn 1 ------------------------------------------------------------------------------------------\n",
      "Player 1: selected move = 1, heuristic_score = 0, player moves = [1]\n",
      "Player 2: selected move = 13, heuristic_score = 26, player moves = [13]\n",
      "Turn 2 ------------------------------------------------------------------------------------------\n",
      "Player 1: selected move = 15, heuristic_score = 16, player moves = [1, 15]\n",
      "Player 2: selected move = 3, heuristic_score = 32, player moves = [13, 3]\n",
      "Turn 3 ------------------------------------------------------------------------------------------\n",
      "Player 1: selected move = 9, heuristic_score = 25, player moves = [1, 15, 9]\n",
      "Player 2: selected move = 12, heuristic_score = 35, player moves = [13, 3, 12]\n",
      "Turn 4 ------------------------------------------------------------------------------------------\n",
      "Player 1: selected move = 16, heuristic_score = 30, player moves = [1, 15, 9, 16]\n",
      "Player 2: selected move = 6, heuristic_score = 100000, player moves = [13, 3, 12, 6]\n",
      "Winner = Player 2\n"
     ]
    }
   ],
   "source": [
    "game_simulation(n=4, first_player_depth=1, second_player_depth=3)"
   ],
   "metadata": {
    "collapsed": false,
    "pycharm": {
     "name": "#%%\n"
    }
   }
  },
  {
   "cell_type": "code",
   "execution_count": 13,
   "outputs": [
    {
     "name": "stdout",
     "output_type": "stream",
     "text": [
      "Turn 1 ------------------------------------------------------------------------------------------\n",
      "Player 1: selected move = 4, heuristic_score = 0, player moves = [4]\n",
      "Player 2: selected move = 13, heuristic_score = -21, player moves = [13]\n",
      "Turn 2 ------------------------------------------------------------------------------------------\n",
      "Player 1: selected move = 15, heuristic_score = 14, player moves = [4, 15]\n",
      "Player 2: selected move = 11, heuristic_score = -27, player moves = [13, 11]\n",
      "Turn 3 ------------------------------------------------------------------------------------------\n",
      "Player 1: selected move = 16, heuristic_score = 26, player moves = [4, 15, 16]\n",
      "Player 2: selected move = 7, heuristic_score = -29, player moves = [13, 11, 7]\n",
      "Turn 4 ------------------------------------------------------------------------------------------\n",
      "Player 1: selected move = 1, heuristic_score = 31, player moves = [4, 15, 16, 1]\n",
      "Player 2: selected move = 3, heuristic_score = 100000, player moves = [13, 11, 7, 3]\n",
      "Winner = Player 2\n"
     ]
    }
   ],
   "source": [
    "game_simulation(n=4, first_player_depth=1, second_player_depth=4)"
   ],
   "metadata": {
    "collapsed": false,
    "pycharm": {
     "name": "#%%\n"
    }
   }
  },
  {
   "cell_type": "code",
   "execution_count": 13,
   "outputs": [
    {
     "name": "stdout",
     "output_type": "stream",
     "text": [
      "Turn 1 ------------------------------------------------------------------------------------------\n",
      "Player 1: selected move = 12, heuristic_score = -18, player moves = [12]\n",
      "Player 2: selected move = 9, heuristic_score = 29, player moves = [9]\n",
      "Turn 2 ------------------------------------------------------------------------------------------\n",
      "Player 1: selected move = 10, heuristic_score = -29, player moves = [12, 10]\n",
      "Player 2: selected move = 16, heuristic_score = 36, player moves = [9, 16]\n",
      "Turn 3 ------------------------------------------------------------------------------------------\n",
      "Player 1: selected move = 15, heuristic_score = -36, player moves = [12, 10, 15]\n",
      "Player 2: selected move = 2, heuristic_score = 40, player moves = [9, 16, 2]\n",
      "Turn 4 ------------------------------------------------------------------------------------------\n",
      "Player 1: selected move = 7, heuristic_score = -40, player moves = [12, 10, 15, 7]\n",
      "Player 2: selected move = 5, heuristic_score = 100000, player moves = [9, 16, 2, 5]\n",
      "Turn 5 ------------------------------------------------------------------------------------------\n",
      "Player 1: selected move = 14, heuristic_score = -100000, player moves = [12, 10, 15, 7, 14]\n",
      "Player 2: selected move = 4, heuristic_score = 100000, player moves = [9, 16, 2, 5, 4]\n",
      "Winner = Player 2\n"
     ]
    }
   ],
   "source": [
    "game_simulation(n=4, first_player_depth=2, second_player_depth=3)"
   ],
   "metadata": {
    "collapsed": false,
    "pycharm": {
     "name": "#%%\n"
    }
   }
  },
  {
   "cell_type": "code",
   "execution_count": 40,
   "outputs": [
    {
     "name": "stdout",
     "output_type": "stream",
     "text": [
      "Turn 1 ------------------------------------------------------------------------------------------\n",
      "Player 1: selected move = 1, heuristic_score = -18, player moves = [1]\n",
      "Player 2: selected move = 6, heuristic_score = -22, player moves = [6]\n",
      "Turn 2 ------------------------------------------------------------------------------------------\n",
      "Player 1: selected move = 16, heuristic_score = -24, player moves = [1, 16]\n",
      "Player 2: selected move = 15, heuristic_score = -28, player moves = [6, 15]\n",
      "Turn 3 ------------------------------------------------------------------------------------------\n",
      "Player 1: selected move = 2, heuristic_score = -29, player moves = [1, 16, 2]\n",
      "Player 2: selected move = 3, heuristic_score = -27, player moves = [6, 15, 3]\n",
      "Turn 4 ------------------------------------------------------------------------------------------\n",
      "Player 1: selected move = 12, heuristic_score = -31, player moves = [1, 16, 2, 12]\n",
      "Player 2: selected move = 10, heuristic_score = 100000, player moves = [6, 15, 3, 10]\n",
      "Winner = Player 2\n"
     ]
    }
   ],
   "source": [
    "game_simulation(n=4, first_player_depth=2, second_player_depth=4)"
   ],
   "metadata": {
    "collapsed": false,
    "pycharm": {
     "name": "#%%\n"
    }
   }
  },
  {
   "cell_type": "code",
   "execution_count": 14,
   "outputs": [
    {
     "name": "stdout",
     "output_type": "stream",
     "text": [
      "Turn 1 ------------------------------------------------------------------------------------------\n",
      "Player 1: selected move = 8, heuristic_score = -18, player moves = [8]\n",
      "Player 2: selected move = 10, heuristic_score = -21, player moves = [10]\n",
      "Turn 2 ------------------------------------------------------------------------------------------\n",
      "Player 1: selected move = 16, heuristic_score = -27, player moves = [8, 16]\n",
      "Player 2: selected move = 14, heuristic_score = -27, player moves = [10, 14]\n",
      "Turn 3 ------------------------------------------------------------------------------------------\n",
      "Player 1: selected move = 15, heuristic_score = -31, player moves = [8, 16, 15]\n",
      "Player 2: selected move = 1, heuristic_score = -20, player moves = [10, 14, 1]\n",
      "Turn 4 ------------------------------------------------------------------------------------------\n",
      "Player 1: selected move = 9, heuristic_score = -36, player moves = [8, 16, 15, 9]\n",
      "Player 2: selected move = 11, heuristic_score = -100000, player moves = [10, 14, 1, 11]\n",
      "Turn 5 ------------------------------------------------------------------------------------------\n",
      "Player 1: selected move = 2, heuristic_score = 100000, player moves = [8, 16, 15, 9, 2]\n",
      "Winner = Player 1\n"
     ]
    }
   ],
   "source": [
    "game_simulation(n=4, first_player_depth=2, second_player_depth=4)"
   ],
   "metadata": {
    "collapsed": false,
    "pycharm": {
     "name": "#%%\n"
    }
   }
  },
  {
   "cell_type": "code",
   "execution_count": 31,
   "outputs": [
    {
     "name": "stdout",
     "output_type": "stream",
     "text": [
      "Turn 1 ------------------------------------------------------------------------------------------\n",
      "Player 1: selected move = 8, heuristic_score = 14, player moves = [8]\n",
      "Player 2: selected move = 11, heuristic_score = -21, player moves = [11]\n",
      "Turn 2 ------------------------------------------------------------------------------------------\n",
      "Player 1: selected move = 9, heuristic_score = 23, player moves = [8, 9]\n",
      "Player 2: selected move = 16, heuristic_score = -26, player moves = [11, 16]\n",
      "Turn 3 ------------------------------------------------------------------------------------------\n",
      "Player 1: selected move = 15, heuristic_score = 26, player moves = [8, 9, 15]\n",
      "Player 2: selected move = 5, heuristic_score = -100000, player moves = [11, 16, 5]\n",
      "Turn 4 ------------------------------------------------------------------------------------------\n",
      "Player 1: selected move = 3, heuristic_score = 100000, player moves = [8, 9, 15, 3]\n",
      "Player 2: selected move = 2, heuristic_score = 100000, player moves = [11, 16, 5, 2]\n",
      "Winner = Player 2\n"
     ]
    }
   ],
   "source": [
    "game_simulation(n=4, first_player_depth=3, second_player_depth=4)"
   ],
   "metadata": {
    "collapsed": false,
    "pycharm": {
     "name": "#%%\n"
    }
   }
  },
  {
   "cell_type": "code",
   "execution_count": 30,
   "outputs": [
    {
     "name": "stdout",
     "output_type": "stream",
     "text": [
      "Turn 1 ------------------------------------------------------------------------------------------\n",
      "Player 1: selected move = 7, heuristic_score = 22, player moves = [7]\n",
      "Player 2: selected move = 5, heuristic_score = -26, player moves = [5]\n",
      "Turn 2 ------------------------------------------------------------------------------------------\n",
      "Player 1: selected move = 16, heuristic_score = 28, player moves = [7, 16]\n",
      "Player 2: selected move = 13, heuristic_score = -100000, player moves = [5, 13]\n",
      "Turn 3 ------------------------------------------------------------------------------------------\n",
      "Player 1: selected move = 14, heuristic_score = 100000, player moves = [7, 16, 14]\n",
      "Player 2: selected move = 15, heuristic_score = 100000, player moves = [5, 13, 15]\n",
      "Turn 4 ------------------------------------------------------------------------------------------\n",
      "Player 1: selected move = 1, heuristic_score = 100000, player moves = [7, 16, 14, 1]\n",
      "Player 2: selected move = 11, heuristic_score = -100000, player moves = [5, 13, 15, 11]\n",
      "Turn 5 ------------------------------------------------------------------------------------------\n",
      "Player 1: selected move = 3, heuristic_score = 100000, player moves = [7, 16, 14, 1, 3]\n",
      "Winner = Player 1\n"
     ]
    }
   ],
   "source": [
    "game_simulation(n=4, first_player_depth=5, second_player_depth=6)"
   ],
   "metadata": {
    "collapsed": false,
    "pycharm": {
     "name": "#%%\n"
    }
   }
  },
  {
   "cell_type": "markdown",
   "source": [
    "<b>2.3 ***first_player_depth = second_player_depth***</b>"
   ],
   "metadata": {
    "collapsed": false,
    "pycharm": {
     "name": "#%% md\n"
    }
   }
  },
  {
   "cell_type": "code",
   "execution_count": 48,
   "outputs": [
    {
     "name": "stdout",
     "output_type": "stream",
     "text": [
      "Turn 1 ------------------------------------------------------------------------------------------\n",
      "Player 1: selected move = 5, heuristic_score = 0, player moves = [5]\n",
      "Player 2: selected move = 1, heuristic_score = 20, player moves = [1]\n",
      "Turn 2 ------------------------------------------------------------------------------------------\n",
      "Player 1: selected move = 2, heuristic_score = 16, player moves = [5, 2]\n",
      "Player 2: selected move = 3, heuristic_score = 34, player moves = [1, 3]\n",
      "Turn 3 ------------------------------------------------------------------------------------------\n",
      "Player 1: selected move = 4, heuristic_score = 27, player moves = [5, 2, 4]\n",
      "Player 2: selected move = 16, heuristic_score = 41, player moves = [1, 3, 16]\n",
      "Turn 4 ------------------------------------------------------------------------------------------\n",
      "Player 1: selected move = 15, heuristic_score = 28, player moves = [5, 2, 4, 15]\n",
      "Player 2: selected move = 14, heuristic_score = 100000, player moves = [1, 3, 16, 14]\n",
      "Winner = Player 2\n"
     ]
    }
   ],
   "source": [
    "game_simulation(n=4, first_player_depth=1, second_player_depth=1)"
   ],
   "metadata": {
    "collapsed": false,
    "pycharm": {
     "name": "#%%\n"
    }
   }
  },
  {
   "cell_type": "code",
   "execution_count": 23,
   "outputs": [
    {
     "name": "stdout",
     "output_type": "stream",
     "text": [
      "Turn 1 ------------------------------------------------------------------------------------------\n",
      "Player 1: selected move = 2, heuristic_score = 0, player moves = [2]\n",
      "Player 2: selected move = 1, heuristic_score = 19, player moves = [1]\n",
      "Turn 2 ------------------------------------------------------------------------------------------\n",
      "Player 1: selected move = 3, heuristic_score = 17, player moves = [2, 3]\n",
      "Player 2: selected move = 4, heuristic_score = 34, player moves = [1, 4]\n",
      "Turn 3 ------------------------------------------------------------------------------------------\n",
      "Player 1: selected move = 5, heuristic_score = 28, player moves = [2, 3, 5]\n",
      "Player 2: selected move = 9, heuristic_score = 39, player moves = [1, 4, 9]\n",
      "Turn 4 ------------------------------------------------------------------------------------------\n",
      "Player 1: selected move = 12, heuristic_score = 31, player moves = [2, 3, 5, 12]\n",
      "Player 2: selected move = 8, heuristic_score = 38, player moves = [1, 4, 9, 8]\n",
      "Turn 5 ------------------------------------------------------------------------------------------\n",
      "Player 1: selected move = 14, heuristic_score = 100000, player moves = [2, 3, 5, 12, 14]\n",
      "Winner = Player 1\n"
     ]
    }
   ],
   "source": [
    "game_simulation(n=4, first_player_depth=1, second_player_depth=1)"
   ],
   "metadata": {
    "collapsed": false,
    "pycharm": {
     "name": "#%%\n"
    }
   }
  },
  {
   "cell_type": "code",
   "execution_count": 20,
   "outputs": [
    {
     "name": "stdout",
     "output_type": "stream",
     "text": [
      "Turn 1 ------------------------------------------------------------------------------------------\n",
      "Player 1: selected move = 14, heuristic_score = -18, player moves = [14]\n",
      "Player 2: selected move = 1, heuristic_score = -13, player moves = [1]\n",
      "Turn 2 ------------------------------------------------------------------------------------------\n",
      "Player 1: selected move = 16, heuristic_score = -26, player moves = [14, 16]\n",
      "Player 2: selected move = 3, heuristic_score = -16, player moves = [1, 3]\n",
      "Turn 3 ------------------------------------------------------------------------------------------\n",
      "Player 1: selected move = 15, heuristic_score = -23, player moves = [14, 16, 15]\n",
      "Player 2: selected move = 2, heuristic_score = -12, player moves = [1, 3, 2]\n",
      "Turn 4 ------------------------------------------------------------------------------------------\n",
      "Player 1: selected move = 13, heuristic_score = -18, player moves = [14, 16, 15, 13]\n",
      "Player 2: selected move = 4, heuristic_score = -7, player moves = [1, 3, 2, 4]\n",
      "Turn 5 ------------------------------------------------------------------------------------------\n",
      "Player 1: selected move = 11, heuristic_score = -10, player moves = [14, 16, 15, 13, 11]\n",
      "Player 2: selected move = 6, heuristic_score = -3, player moves = [1, 3, 2, 4, 6]\n",
      "Turn 6 ------------------------------------------------------------------------------------------\n",
      "Player 1: selected move = 12, heuristic_score = -3, player moves = [14, 16, 15, 13, 11, 12]\n",
      "Player 2: selected move = 5, heuristic_score = 0, player moves = [1, 3, 2, 4, 6, 5]\n",
      "Turn 7 ------------------------------------------------------------------------------------------\n",
      "Player 1: selected move = 8, heuristic_score = 0, player moves = [14, 16, 15, 13, 11, 12, 8]\n",
      "Player 2: selected move = 9, heuristic_score = 0, player moves = [1, 3, 2, 4, 6, 5, 9]\n",
      "Turn 8 ------------------------------------------------------------------------------------------\n",
      "Player 1: selected move = 7, heuristic_score = 0, player moves = [14, 16, 15, 13, 11, 12, 8, 7]\n",
      "Player 2: selected move = 10, heuristic_score = 0, player moves = [1, 3, 2, 4, 6, 5, 9, 10]\n",
      "Draw\n"
     ]
    }
   ],
   "source": [
    "game_simulation(n=4, first_player_depth=2, second_player_depth=2)"
   ],
   "metadata": {
    "collapsed": false,
    "pycharm": {
     "name": "#%%\n"
    }
   }
  },
  {
   "cell_type": "code",
   "execution_count": 33,
   "outputs": [
    {
     "name": "stdout",
     "output_type": "stream",
     "text": [
      "Turn 1 ------------------------------------------------------------------------------------------\n",
      "Player 1: selected move = 9, heuristic_score = 14, player moves = [9]\n",
      "Player 2: selected move = 15, heuristic_score = 29, player moves = [15]\n",
      "Turn 2 ------------------------------------------------------------------------------------------\n",
      "Player 1: selected move = 13, heuristic_score = 22, player moves = [9, 13]\n",
      "Player 2: selected move = 2, heuristic_score = 36, player moves = [15, 2]\n",
      "Turn 3 ------------------------------------------------------------------------------------------\n",
      "Player 1: selected move = 1, heuristic_score = 27, player moves = [9, 13, 1]\n",
      "Player 2: selected move = 11, heuristic_score = 35, player moves = [15, 2, 11]\n",
      "Turn 4 ------------------------------------------------------------------------------------------\n",
      "Player 1: selected move = 6, heuristic_score = 25, player moves = [9, 13, 1, 6]\n",
      "Player 2: selected move = 14, heuristic_score = 100000, player moves = [15, 2, 11, 14]\n",
      "Turn 5 ------------------------------------------------------------------------------------------\n",
      "Player 1: selected move = 3, heuristic_score = -100000, player moves = [9, 13, 1, 6, 3]\n",
      "Player 2: selected move = 8, heuristic_score = 100000, player moves = [15, 2, 11, 14, 8]\n",
      "Turn 6 ------------------------------------------------------------------------------------------\n",
      "Player 1: selected move = 12, heuristic_score = 100000, player moves = [9, 13, 1, 6, 3, 12]\n",
      "Winner = Player 1\n"
     ]
    }
   ],
   "source": [
    "game_simulation(n=4, first_player_depth=3, second_player_depth=3)"
   ],
   "metadata": {
    "collapsed": false,
    "pycharm": {
     "name": "#%%\n"
    }
   }
  },
  {
   "cell_type": "code",
   "execution_count": 25,
   "outputs": [
    {
     "name": "stdout",
     "output_type": "stream",
     "text": [
      "Turn 1 ------------------------------------------------------------------------------------------\n",
      "Player 1: selected move = 9, heuristic_score = -26, player moves = [9]\n",
      "Player 2: selected move = 13, heuristic_score = -21, player moves = [13]\n",
      "Turn 2 ------------------------------------------------------------------------------------------\n",
      "Player 1: selected move = 6, heuristic_score = -33, player moves = [9, 6]\n",
      "Player 2: selected move = 8, heuristic_score = -25, player moves = [13, 8]\n",
      "Turn 3 ------------------------------------------------------------------------------------------\n",
      "Player 1: selected move = 14, heuristic_score = -31, player moves = [9, 6, 14]\n",
      "Player 2: selected move = 15, heuristic_score = -100000, player moves = [13, 8, 15]\n",
      "Turn 4 ------------------------------------------------------------------------------------------\n",
      "Player 1: selected move = 4, heuristic_score = 100000, player moves = [9, 6, 14, 4]\n",
      "Player 2: selected move = 1, heuristic_score = -100000, player moves = [13, 8, 15, 1]\n",
      "Turn 5 ------------------------------------------------------------------------------------------\n",
      "Player 1: selected move = 16, heuristic_score = 100000, player moves = [9, 6, 14, 4, 16]\n",
      "Player 2: selected move = 7, heuristic_score = 100000, player moves = [13, 8, 15, 1, 7]\n",
      "Turn 6 ------------------------------------------------------------------------------------------\n",
      "Player 1: selected move = 3, heuristic_score = 100000, player moves = [9, 6, 14, 4, 16, 3]\n",
      "Winner = Player 1\n"
     ]
    }
   ],
   "source": [
    "game_simulation(n=4, first_player_depth=4, second_player_depth=4)"
   ],
   "metadata": {
    "collapsed": false,
    "pycharm": {
     "name": "#%%\n"
    }
   }
  },
  {
   "cell_type": "markdown",
   "source": [
    "### 3. Podsumowanie"
   ],
   "metadata": {
    "collapsed": false,
    "pycharm": {
     "name": "#%% md\n"
    }
   }
  },
  {
   "cell_type": "markdown",
   "source": [
    "Analizując powyższe symulacje, zauważamy, że w zdecydowanej większości przypadków o tym, kto zwycięży, decyduje głębokość przeszukiwania. Oczywiście zdarza się, że zwycięży gracz cechujący się mniejszą głębokością, jednakże występuje to szczególnie w przypadkach, gdy głębokości obu graczy są do siebie podobne. Innym ważnym czynnikiem jest kolejność wykonywania ruchu. Widzimy to, chociażby dla ***first_player_depth=5***, ***second_player_depth=6***. Pomimo faktu, że drugi gracz ma większą głębokość przeszukiwania, w danej sytuacji wygrywa gracz pierwszy. Wpływ na to ma głównie to, że zarówno wartość ***5***, jak i ***6*** są to wartości bardzo duże, i nawet jeżeli głębokość ***5*** jest mniejsza, to i tak jest na tyle duża, aby umożliwić zwycięstwo graczowi pierwszemu. W przypadku identycznych głębokości przeszukiwania pojedynek jest bardziej wyrównany, jednakże inicjatywę ma zawsze gracz pierwszy i to on wygrywa częściej. Może się tak zdarzyć, że osiągnięty zostanie remis, co widzimy dla głębokości równej ***2***, ale także dla ***first_player_depth=4*** i ***second_player_depth=2***"
   ],
   "metadata": {
    "collapsed": false,
    "pycharm": {
     "name": "#%% md\n"
    }
   }
  },
  {
   "cell_type": "markdown",
   "source": [
    "| First Player Depth | Second Player Depth | Result              |\n",
    "|--------------------|---------------------|---------------------|\n",
    "| 1                  | 1                   | Player 1 / Player 2 |\n",
    "| 2                  | 1                   | Player 2            |\n",
    "| 3                  | 1                   | Player 1            |\n",
    "| 4                  | 1                   | Player 1            |\n",
    "| 2                  | 2                   | Draw                |\n",
    "| 3                  | 2                   | Player 2            |\n",
    "| 4                  | 2                   | Draw                |\n",
    "| 3                  | 3                   | Player 1            |\n",
    "| 4                  | 3                   | Player 1            |\n",
    "| 4                  | 4                   | Player 1            |\n",
    "| 1                  | 2                   | Player 2            |\n",
    "| 1                  | 3                   | Player 2            |\n",
    "| 1                  | 4                   | Player 2            |\n",
    "| 2                  | 3                   | Player 2            |\n",
    "| 2                  | 4                   | Player 1 / Player 2 |\n",
    "| 3                  | 4                   | Player 2            |\n",
    "| 5                  | 6                   | Player 1            |"
   ],
   "metadata": {
    "collapsed": false,
    "pycharm": {
     "name": "#%% md\n"
    }
   }
  },
  {
   "cell_type": "code",
   "execution_count": null,
   "outputs": [],
   "source": [],
   "metadata": {
    "collapsed": false,
    "pycharm": {
     "name": "#%%\n"
    }
   }
  }
 ],
 "metadata": {
  "kernelspec": {
   "display_name": "Python 3",
   "language": "python",
   "name": "python3"
  },
  "language_info": {
   "codemirror_mode": {
    "name": "ipython",
    "version": 2
   },
   "file_extension": ".py",
   "mimetype": "text/x-python",
   "name": "python",
   "nbconvert_exporter": "python",
   "pygments_lexer": "ipython2",
   "version": "2.7.6"
  }
 },
 "nbformat": 4,
 "nbformat_minor": 0
}