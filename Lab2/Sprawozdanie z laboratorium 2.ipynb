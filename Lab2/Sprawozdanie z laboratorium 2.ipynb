{
 "cells": [
  {
   "cell_type": "markdown",
   "source": [],
   "metadata": {
    "collapsed": false,
    "pycharm": {
     "name": "#%% md\n"
    }
   }
  },
  {
   "cell_type": "markdown",
   "source": [
    "# Sprawozdanie z laboratorium 2"
   ],
   "metadata": {
    "collapsed": false,
    "pycharm": {
     "name": "#%% md\n"
    }
   }
  },
  {
   "cell_type": "markdown",
   "source": [
    "***Autor: Adam Dąbkowski***"
   ],
   "metadata": {
    "collapsed": false,
    "pycharm": {
     "name": "#%% md\n"
    }
   }
  },
  {
   "cell_type": "markdown",
   "source": [
    "Celem drugiego laboratorium jest zaimplementowanie algorytmu genetycznego z selekcją ruletkową, krzyżowaniem jednopunktowym oraz sukcesją generacyjną. Dodatkowo należy zbadać wpływ doboru parametrów na przykładzie danego problemu."
   ],
   "metadata": {
    "collapsed": false,
    "pycharm": {
     "name": "#%% md\n"
    }
   }
  },
  {
   "cell_type": "markdown",
   "source": [
    "## 0. Importowanie niezbędnych bibliotek"
   ],
   "metadata": {
    "collapsed": false,
    "pycharm": {
     "name": "#%% md\n"
    }
   }
  },
  {
   "cell_type": "code",
   "execution_count": 1,
   "outputs": [],
   "source": [
    "import random\n",
    "import copy\n",
    "from utils import *"
   ],
   "metadata": {
    "collapsed": false,
    "pycharm": {
     "name": "#%%\n"
    }
   }
  },
  {
   "cell_type": "markdown",
   "source": [
    "## 1. Tworzenie populacji"
   ],
   "metadata": {
    "collapsed": false,
    "pycharm": {
     "name": "#%% md\n"
    }
   }
  },
  {
   "cell_type": "code",
   "execution_count": 2,
   "outputs": [],
   "source": [
    "class PopulationCreator:\n",
    "    def __init__(self, population_size, individual_size):\n",
    "        self._population_size = population_size\n",
    "        self._individual_size = individual_size\n",
    "\n",
    "    def create_population(self):\n",
    "        population = []\n",
    "\n",
    "        for i in range(self._population_size):\n",
    "            individual = []\n",
    "            for j in range(self._individual_size):\n",
    "                individual.append(random.randint(0, 1))\n",
    "            population.append(np.array(individual))\n",
    "\n",
    "        return np.array(population)"
   ],
   "metadata": {
    "collapsed": false,
    "pycharm": {
     "name": "#%%\n"
    }
   }
  },
  {
   "cell_type": "markdown",
   "source": [
    "## 2. Zdefiniowanie problemu (funkcji celu)"
   ],
   "metadata": {
    "collapsed": false,
    "pycharm": {
     "name": "#%% md\n"
    }
   }
  },
  {
   "cell_type": "code",
   "execution_count": 3,
   "outputs": [],
   "source": [
    "def problem(x):\n",
    "    h0 = 200\n",
    "    v0 = 0\n",
    "    fuel = x.sum()\n",
    "    m0 = 200 + fuel\n",
    "\n",
    "    for i in x:\n",
    "        m0 -= i * 1\n",
    "        a = (45/m0) * i - 0.09\n",
    "        v0 = v0 + a\n",
    "        h0 = h0 + v0\n",
    "\n",
    "        if (0 <= h0 < 2) and abs(v0) < 2:\n",
    "            return 2000 - fuel\n",
    "\n",
    "        elif h0 < 0:\n",
    "            return -1000 - fuel\n",
    "\n",
    "    return - fuel"
   ],
   "metadata": {
    "collapsed": false,
    "pycharm": {
     "name": "#%%\n"
    }
   }
  },
  {
   "cell_type": "markdown",
   "source": [
    "## 3. Implementacja algorytmu genetycznego"
   ],
   "metadata": {
    "collapsed": false,
    "pycharm": {
     "name": "#%% md\n"
    }
   }
  },
  {
   "cell_type": "markdown",
   "source": [
    "Głównym zadaniem drugiego laboratorium jest implementacja algorytmu genetycznego. W tym celu stworzona została klasa ***GeneticAlgorithmSolver***. Podczas tworzenia obiektu tej klasy istnieje możliwość podania czterech parametrów:\n",
    "- ***t_max*** - liczba iteracji (domyślna wartość wynosi $1000$)\n",
    "- ***pc*** - prawdopodobieństwo krzyżowania (domyślna wartość wynosi $0,5$)\n",
    "- ***pm*** - prawdopodobieństwo mutacji (domyślna wartość wynosi $0,05$)\n",
    "- ***u*** - liczba osobników w populacji (domyślna wartość wynosi $250$)"
   ],
   "metadata": {
    "collapsed": false,
    "pycharm": {
     "name": "#%% md\n"
    }
   }
  },
  {
   "cell_type": "markdown",
   "source": [
    "Klasa ***GeneticAlgorithmSolver*** zawiera także sześć metod:\n",
    "- ***get_parameters()*** - metoda ta zwraca wartości parametrów\n",
    "- ***solve()*** - metoda zawierająca w sobie algorytm genetyczny, wykorzystuje metody ***score()*** , ***find_best()*** , ***selection()*** , ***crossing_and_mutation()*** . W wyniku jej wywołania otrzymujemy najlepszego osobnika i wartość funkcji celu\n",
    "- ***score()*** - metoda zwracająca wyniki dla osobników w populacji\n",
    "- ***find_best()*** - metoda zwracająca najlepszego osobnika\n",
    "- ***selection()*** - metoda, której zadaniem jest wybranie lepszych osobników z większym prawdopodobieństwem\n",
    "- ***crossing_and_mutation()*** - metoda odpowiedzialna za krzyżowanie i mutację"
   ],
   "metadata": {
    "collapsed": false,
    "pycharm": {
     "name": "#%% md\n"
    }
   }
  },
  {
   "cell_type": "code",
   "execution_count": 4,
   "outputs": [],
   "source": [
    "class GeneticAlgorithmSolver:\n",
    "    def __init__(self, t_max=1000, pc=0.5, pm=0.05, u=250):\n",
    "        self._t_max = t_max\n",
    "        self._pc = pc\n",
    "        self._pm = pm\n",
    "        self._u = u\n",
    "\n",
    "    def get_parameters(self):\n",
    "        return {\n",
    "            \"t_max\": self._t_max,\n",
    "            \"pc\": self._pc,\n",
    "            \"pm\": self._pm,\n",
    "            \"u\": self._u\n",
    "        }\n",
    "\n",
    "    def solve(self, problem, pop0, printing=False):\n",
    "        t = 0\n",
    "        P = pop0\n",
    "        O = self.score(problem, P)\n",
    "        x_best, o_best = self.find_best(P, O)\n",
    "        t_best = 0\n",
    "        while t < self._t_max:\n",
    "            S = self.selection(P, O, self._u)\n",
    "            M = self.crossing_and_mutation(S, self._pc, self._pm, self._u)\n",
    "            O = self.score(problem, M)\n",
    "            x, o = self.find_best(M, O)\n",
    "\n",
    "            if o > o_best:\n",
    "                x_best = x\n",
    "                o_best = o\n",
    "                t_best = t\n",
    "\n",
    "            P = M\n",
    "            t += 1\n",
    "\n",
    "            if printing:\n",
    "                print(f\"Iteration {t}: Best score = {o}, Best score to date = {o_best}\")\n",
    "\n",
    "        if printing:\n",
    "            print(f\" \")\n",
    "            print(f\"Best score = {o_best}, Iteration {t_best}\")\n",
    "\n",
    "        return x_best, o_best\n",
    "\n",
    "    @staticmethod\n",
    "    def score(problem, P):\n",
    "        return [problem(x) for x in P]\n",
    "\n",
    "    @staticmethod\n",
    "    def find_best(P, O):\n",
    "        index = np.argmax(O)\n",
    "        return P[index], O[index]\n",
    "\n",
    "    @staticmethod\n",
    "    def selection(P, O, u):\n",
    "        O = [o + (1000 + P.shape[1]) for o in O]\n",
    "        O = [o / sum(O) for o in O]\n",
    "        indices = np.arange(0, P.shape[0])\n",
    "        selected_indices = np.random.choice(indices, u, replace=True, p=O)\n",
    "\n",
    "        return P[selected_indices]\n",
    "\n",
    "    @staticmethod\n",
    "    def crossing_and_mutation(S, pc, pm, u):\n",
    "        M = []\n",
    "\n",
    "        # crossing\n",
    "        for i in range(0, u - 1, 2):\n",
    "            individual_1 = S[i]\n",
    "            individual_2 = S[i + 1]\n",
    "\n",
    "            if random.random() < pc:\n",
    "                crossing_point = random.randint(1, len(individual_1))\n",
    "                individual_1_crossed = copy.deepcopy(individual_1)\n",
    "                individual_2_crossed = copy.deepcopy(individual_2)\n",
    "\n",
    "                individual_1_crossed[crossing_point:] = individual_2[crossing_point:]\n",
    "                individual_2_crossed[crossing_point:] = individual_1[crossing_point:]\n",
    "\n",
    "                M.append(individual_1_crossed)\n",
    "                M.append(individual_2_crossed)\n",
    "\n",
    "            else:\n",
    "                M.append(individual_1)\n",
    "                M.append(individual_2)\n",
    "\n",
    "\n",
    "\n",
    "        if u % 2 == 1:\n",
    "            M.append(S[-1])\n",
    "\n",
    "        # mutation\n",
    "        for individual in M:\n",
    "            for i in range(individual.shape[0]):\n",
    "                if random.random() < pm:\n",
    "                    individual[i] = 1 if individual[i] == 0 else 0\n",
    "        return np.array(M)"
   ],
   "metadata": {
    "collapsed": false,
    "pycharm": {
     "name": "#%%\n"
    }
   }
  },
  {
   "cell_type": "markdown",
   "source": [
    "## 4. Zastosowanie algorytmu genetycznego w celu wyznaczenia najlepszego osobnika"
   ],
   "metadata": {
    "collapsed": false,
    "pycharm": {
     "name": "#%% md\n"
    }
   }
  },
  {
   "cell_type": "markdown",
   "source": [
    "Po zaimplementowaniu algorytmu genetycznego, a także po zdefiniowaniu funkcji celu możemy przejść do testowania solvera w celu znalezienia największej wartości wspomnianej funkcji. Na początku wykorzystany zostanie solver z domyślnymi wartościami, jednakże należy najpierw utworzyć populację początkową. W naszych doświadczeniach liczba osobników w populacji początkowej będzie wynosiła $250$, natomiast wielkość osobnika będzie równa $200$."
   ],
   "metadata": {
    "collapsed": false,
    "pycharm": {
     "name": "#%% md\n"
    }
   }
  },
  {
   "cell_type": "code",
   "execution_count": 32,
   "outputs": [],
   "source": [
    "population_creator = PopulationCreator(population_size=250, individual_size=200)"
   ],
   "metadata": {
    "collapsed": false,
    "pycharm": {
     "name": "#%%\n"
    }
   }
  },
  {
   "cell_type": "code",
   "execution_count": 33,
   "outputs": [],
   "source": [
    "pop0 = population_creator.create_population()"
   ],
   "metadata": {
    "collapsed": false,
    "pycharm": {
     "name": "#%%\n"
    }
   }
  },
  {
   "cell_type": "markdown",
   "source": [
    "Następnie przechodzimy do stworzenia solvera."
   ],
   "metadata": {
    "collapsed": false,
    "pycharm": {
     "name": "#%% md\n"
    }
   }
  },
  {
   "cell_type": "code",
   "execution_count": 34,
   "outputs": [],
   "source": [
    "solver = GeneticAlgorithmSolver()"
   ],
   "metadata": {
    "collapsed": false,
    "pycharm": {
     "name": "#%%\n"
    }
   }
  },
  {
   "cell_type": "markdown",
   "source": [
    "Chcąc upewnić się jakie parametry ma nasz solver możemy wykorzystać metodę ***get_parameters()*** ."
   ],
   "metadata": {
    "collapsed": false,
    "pycharm": {
     "name": "#%% md\n"
    }
   }
  },
  {
   "cell_type": "code",
   "execution_count": 35,
   "outputs": [
    {
     "data": {
      "text/plain": "{'t_max': 1000, 'pc': 0.5, 'pm': 0.05, 'u': 250}"
     },
     "execution_count": 35,
     "metadata": {},
     "output_type": "execute_result"
    }
   ],
   "source": [
    "solver.get_parameters()"
   ],
   "metadata": {
    "collapsed": false,
    "pycharm": {
     "name": "#%%\n"
    }
   }
  },
  {
   "cell_type": "markdown",
   "source": [
    "Teraz możemy już przejść do rozwiązania naszego problemu."
   ],
   "metadata": {
    "collapsed": false,
    "pycharm": {
     "name": "#%% md\n"
    }
   }
  },
  {
   "cell_type": "code",
   "execution_count": 36,
   "outputs": [
    {
     "name": "stdout",
     "output_type": "stream",
     "text": [
      "Iteration 1: Best score = 1914, Best score to date = 1917\n",
      "Iteration 2: Best score = 1916, Best score to date = 1917\n",
      "Iteration 3: Best score = 1918, Best score to date = 1918\n",
      "Iteration 4: Best score = 1917, Best score to date = 1918\n",
      "Iteration 5: Best score = 1920, Best score to date = 1920\n",
      "Iteration 6: Best score = 1919, Best score to date = 1920\n",
      "Iteration 7: Best score = 1919, Best score to date = 1920\n",
      "Iteration 8: Best score = 1920, Best score to date = 1920\n",
      "Iteration 9: Best score = 1915, Best score to date = 1920\n",
      "Iteration 10: Best score = 1917, Best score to date = 1920\n",
      "Iteration 11: Best score = 1916, Best score to date = 1920\n",
      "Iteration 12: Best score = 1916, Best score to date = 1920\n",
      "Iteration 13: Best score = 1918, Best score to date = 1920\n",
      "Iteration 14: Best score = 1915, Best score to date = 1920\n",
      "Iteration 15: Best score = 1916, Best score to date = 1920\n",
      "Iteration 16: Best score = 1918, Best score to date = 1920\n",
      "Iteration 17: Best score = 1914, Best score to date = 1920\n",
      "Iteration 18: Best score = 1916, Best score to date = 1920\n",
      "Iteration 19: Best score = 1915, Best score to date = 1920\n",
      "Iteration 20: Best score = 1917, Best score to date = 1920\n",
      "Iteration 21: Best score = 1919, Best score to date = 1920\n",
      "Iteration 22: Best score = 1921, Best score to date = 1921\n",
      "Iteration 23: Best score = 1917, Best score to date = 1921\n",
      "Iteration 24: Best score = 1916, Best score to date = 1921\n",
      "Iteration 25: Best score = 1918, Best score to date = 1921\n",
      "Iteration 26: Best score = 1916, Best score to date = 1921\n",
      "Iteration 27: Best score = 1915, Best score to date = 1921\n",
      "Iteration 28: Best score = 1918, Best score to date = 1921\n",
      "Iteration 29: Best score = 1916, Best score to date = 1921\n",
      "Iteration 30: Best score = 1916, Best score to date = 1921\n",
      "Iteration 31: Best score = 1914, Best score to date = 1921\n",
      "Iteration 32: Best score = 1916, Best score to date = 1921\n",
      "Iteration 33: Best score = 1915, Best score to date = 1921\n",
      "Iteration 34: Best score = 1916, Best score to date = 1921\n",
      "Iteration 35: Best score = 1917, Best score to date = 1921\n",
      "Iteration 36: Best score = 1918, Best score to date = 1921\n",
      "Iteration 37: Best score = 1917, Best score to date = 1921\n",
      "Iteration 38: Best score = 1919, Best score to date = 1921\n",
      "Iteration 39: Best score = 1916, Best score to date = 1921\n",
      "Iteration 40: Best score = 1917, Best score to date = 1921\n",
      "Iteration 41: Best score = 1917, Best score to date = 1921\n",
      "Iteration 42: Best score = 1918, Best score to date = 1921\n",
      "Iteration 43: Best score = 1919, Best score to date = 1921\n",
      "Iteration 44: Best score = 1915, Best score to date = 1921\n",
      "Iteration 45: Best score = 1917, Best score to date = 1921\n",
      "Iteration 46: Best score = 1919, Best score to date = 1921\n",
      "Iteration 47: Best score = 1914, Best score to date = 1921\n",
      "Iteration 48: Best score = 1918, Best score to date = 1921\n",
      "Iteration 49: Best score = 1915, Best score to date = 1921\n",
      "Iteration 50: Best score = 1912, Best score to date = 1921\n",
      "Iteration 51: Best score = 1917, Best score to date = 1921\n",
      "Iteration 52: Best score = 1915, Best score to date = 1921\n",
      "Iteration 53: Best score = 1914, Best score to date = 1921\n",
      "Iteration 54: Best score = 1917, Best score to date = 1921\n",
      "Iteration 55: Best score = 1916, Best score to date = 1921\n",
      "Iteration 56: Best score = 1917, Best score to date = 1921\n",
      "Iteration 57: Best score = 1916, Best score to date = 1921\n",
      "Iteration 58: Best score = 1916, Best score to date = 1921\n",
      "Iteration 59: Best score = 1916, Best score to date = 1921\n",
      "Iteration 60: Best score = 1916, Best score to date = 1921\n",
      "Iteration 61: Best score = 1915, Best score to date = 1921\n",
      "Iteration 62: Best score = 1915, Best score to date = 1921\n",
      "Iteration 63: Best score = 1917, Best score to date = 1921\n",
      "Iteration 64: Best score = 1918, Best score to date = 1921\n",
      "Iteration 65: Best score = 1917, Best score to date = 1921\n",
      "Iteration 66: Best score = 1916, Best score to date = 1921\n",
      "Iteration 67: Best score = 1917, Best score to date = 1921\n",
      "Iteration 68: Best score = 1914, Best score to date = 1921\n",
      "Iteration 69: Best score = 1918, Best score to date = 1921\n",
      "Iteration 70: Best score = 1916, Best score to date = 1921\n",
      "Iteration 71: Best score = 1918, Best score to date = 1921\n",
      "Iteration 72: Best score = 1917, Best score to date = 1921\n",
      "Iteration 73: Best score = 1917, Best score to date = 1921\n",
      "Iteration 74: Best score = 1919, Best score to date = 1921\n",
      "Iteration 75: Best score = 1918, Best score to date = 1921\n",
      "Iteration 76: Best score = 1917, Best score to date = 1921\n",
      "Iteration 77: Best score = 1916, Best score to date = 1921\n",
      "Iteration 78: Best score = 1916, Best score to date = 1921\n",
      "Iteration 79: Best score = 1920, Best score to date = 1921\n",
      "Iteration 80: Best score = 1915, Best score to date = 1921\n",
      "Iteration 81: Best score = 1915, Best score to date = 1921\n",
      "Iteration 82: Best score = 1919, Best score to date = 1921\n",
      "Iteration 83: Best score = 1919, Best score to date = 1921\n",
      "Iteration 84: Best score = 1918, Best score to date = 1921\n",
      "Iteration 85: Best score = 1917, Best score to date = 1921\n",
      "Iteration 86: Best score = 1922, Best score to date = 1922\n",
      "Iteration 87: Best score = 1918, Best score to date = 1922\n",
      "Iteration 88: Best score = 1921, Best score to date = 1922\n",
      "Iteration 89: Best score = 1919, Best score to date = 1922\n",
      "Iteration 90: Best score = 1919, Best score to date = 1922\n",
      "Iteration 91: Best score = 1918, Best score to date = 1922\n",
      "Iteration 92: Best score = 1920, Best score to date = 1922\n",
      "Iteration 93: Best score = 1917, Best score to date = 1922\n",
      "Iteration 94: Best score = 1919, Best score to date = 1922\n",
      "Iteration 95: Best score = 1916, Best score to date = 1922\n",
      "Iteration 96: Best score = 1918, Best score to date = 1922\n",
      "Iteration 97: Best score = 1919, Best score to date = 1922\n",
      "Iteration 98: Best score = 1917, Best score to date = 1922\n",
      "Iteration 99: Best score = 1917, Best score to date = 1922\n",
      "Iteration 100: Best score = 1916, Best score to date = 1922\n",
      "Iteration 101: Best score = 1914, Best score to date = 1922\n",
      "Iteration 102: Best score = 1917, Best score to date = 1922\n",
      "Iteration 103: Best score = 1917, Best score to date = 1922\n",
      "Iteration 104: Best score = 1920, Best score to date = 1922\n",
      "Iteration 105: Best score = 1920, Best score to date = 1922\n",
      "Iteration 106: Best score = 1923, Best score to date = 1923\n",
      "Iteration 107: Best score = 1918, Best score to date = 1923\n",
      "Iteration 108: Best score = 1916, Best score to date = 1923\n",
      "Iteration 109: Best score = 1918, Best score to date = 1923\n",
      "Iteration 110: Best score = 1914, Best score to date = 1923\n",
      "Iteration 111: Best score = 1915, Best score to date = 1923\n",
      "Iteration 112: Best score = 1919, Best score to date = 1923\n",
      "Iteration 113: Best score = 1918, Best score to date = 1923\n",
      "Iteration 114: Best score = 1915, Best score to date = 1923\n",
      "Iteration 115: Best score = 1919, Best score to date = 1923\n",
      "Iteration 116: Best score = 1916, Best score to date = 1923\n",
      "Iteration 117: Best score = 1917, Best score to date = 1923\n",
      "Iteration 118: Best score = 1920, Best score to date = 1923\n",
      "Iteration 119: Best score = 1917, Best score to date = 1923\n",
      "Iteration 120: Best score = 1917, Best score to date = 1923\n",
      "Iteration 121: Best score = 1918, Best score to date = 1923\n",
      "Iteration 122: Best score = 1919, Best score to date = 1923\n",
      "Iteration 123: Best score = 1916, Best score to date = 1923\n",
      "Iteration 124: Best score = 1916, Best score to date = 1923\n",
      "Iteration 125: Best score = 1915, Best score to date = 1923\n",
      "Iteration 126: Best score = 1916, Best score to date = 1923\n",
      "Iteration 127: Best score = 1916, Best score to date = 1923\n",
      "Iteration 128: Best score = 1916, Best score to date = 1923\n",
      "Iteration 129: Best score = 1915, Best score to date = 1923\n",
      "Iteration 130: Best score = 1917, Best score to date = 1923\n",
      "Iteration 131: Best score = 1917, Best score to date = 1923\n",
      "Iteration 132: Best score = 1915, Best score to date = 1923\n",
      "Iteration 133: Best score = 1916, Best score to date = 1923\n",
      "Iteration 134: Best score = 1918, Best score to date = 1923\n",
      "Iteration 135: Best score = 1918, Best score to date = 1923\n",
      "Iteration 136: Best score = 1917, Best score to date = 1923\n",
      "Iteration 137: Best score = 1916, Best score to date = 1923\n",
      "Iteration 138: Best score = 1915, Best score to date = 1923\n",
      "Iteration 139: Best score = 1918, Best score to date = 1923\n",
      "Iteration 140: Best score = 1915, Best score to date = 1923\n",
      "Iteration 141: Best score = 1919, Best score to date = 1923\n",
      "Iteration 142: Best score = 1919, Best score to date = 1923\n",
      "Iteration 143: Best score = 1918, Best score to date = 1923\n",
      "Iteration 144: Best score = 1917, Best score to date = 1923\n",
      "Iteration 145: Best score = 1920, Best score to date = 1923\n",
      "Iteration 146: Best score = 1919, Best score to date = 1923\n",
      "Iteration 147: Best score = 1915, Best score to date = 1923\n",
      "Iteration 148: Best score = 1915, Best score to date = 1923\n",
      "Iteration 149: Best score = 1916, Best score to date = 1923\n",
      "Iteration 150: Best score = 1917, Best score to date = 1923\n",
      "Iteration 151: Best score = 1916, Best score to date = 1923\n",
      "Iteration 152: Best score = 1915, Best score to date = 1923\n",
      "Iteration 153: Best score = 1916, Best score to date = 1923\n",
      "Iteration 154: Best score = 1919, Best score to date = 1923\n",
      "Iteration 155: Best score = 1918, Best score to date = 1923\n",
      "Iteration 156: Best score = 1921, Best score to date = 1923\n",
      "Iteration 157: Best score = 1918, Best score to date = 1923\n",
      "Iteration 158: Best score = 1921, Best score to date = 1923\n",
      "Iteration 159: Best score = 1918, Best score to date = 1923\n",
      "Iteration 160: Best score = 1916, Best score to date = 1923\n",
      "Iteration 161: Best score = 1915, Best score to date = 1923\n",
      "Iteration 162: Best score = 1915, Best score to date = 1923\n",
      "Iteration 163: Best score = 1918, Best score to date = 1923\n",
      "Iteration 164: Best score = 1915, Best score to date = 1923\n",
      "Iteration 165: Best score = 1913, Best score to date = 1923\n",
      "Iteration 166: Best score = 1915, Best score to date = 1923\n",
      "Iteration 167: Best score = 1916, Best score to date = 1923\n",
      "Iteration 168: Best score = 1917, Best score to date = 1923\n",
      "Iteration 169: Best score = 1918, Best score to date = 1923\n",
      "Iteration 170: Best score = 1918, Best score to date = 1923\n",
      "Iteration 171: Best score = 1917, Best score to date = 1923\n",
      "Iteration 172: Best score = 1916, Best score to date = 1923\n",
      "Iteration 173: Best score = 1918, Best score to date = 1923\n",
      "Iteration 174: Best score = 1917, Best score to date = 1923\n",
      "Iteration 175: Best score = 1920, Best score to date = 1923\n",
      "Iteration 176: Best score = 1916, Best score to date = 1923\n",
      "Iteration 177: Best score = 1917, Best score to date = 1923\n",
      "Iteration 178: Best score = 1915, Best score to date = 1923\n",
      "Iteration 179: Best score = 1916, Best score to date = 1923\n",
      "Iteration 180: Best score = 1916, Best score to date = 1923\n",
      "Iteration 181: Best score = 1917, Best score to date = 1923\n",
      "Iteration 182: Best score = 1916, Best score to date = 1923\n",
      "Iteration 183: Best score = 1915, Best score to date = 1923\n",
      "Iteration 184: Best score = 1918, Best score to date = 1923\n",
      "Iteration 185: Best score = 1917, Best score to date = 1923\n",
      "Iteration 186: Best score = 1919, Best score to date = 1923\n",
      "Iteration 187: Best score = 1916, Best score to date = 1923\n",
      "Iteration 188: Best score = 1917, Best score to date = 1923\n",
      "Iteration 189: Best score = 1919, Best score to date = 1923\n",
      "Iteration 190: Best score = 1918, Best score to date = 1923\n",
      "Iteration 191: Best score = 1917, Best score to date = 1923\n",
      "Iteration 192: Best score = 1918, Best score to date = 1923\n",
      "Iteration 193: Best score = 1918, Best score to date = 1923\n",
      "Iteration 194: Best score = 1920, Best score to date = 1923\n",
      "Iteration 195: Best score = 1922, Best score to date = 1923\n",
      "Iteration 196: Best score = 1918, Best score to date = 1923\n",
      "Iteration 197: Best score = 1917, Best score to date = 1923\n",
      "Iteration 198: Best score = 1919, Best score to date = 1923\n",
      "Iteration 199: Best score = 1918, Best score to date = 1923\n",
      "Iteration 200: Best score = 1920, Best score to date = 1923\n",
      "Iteration 201: Best score = 1920, Best score to date = 1923\n",
      "Iteration 202: Best score = 1923, Best score to date = 1923\n",
      "Iteration 203: Best score = 1917, Best score to date = 1923\n",
      "Iteration 204: Best score = 1919, Best score to date = 1923\n",
      "Iteration 205: Best score = 1917, Best score to date = 1923\n",
      "Iteration 206: Best score = 1919, Best score to date = 1923\n",
      "Iteration 207: Best score = 1917, Best score to date = 1923\n",
      "Iteration 208: Best score = 1916, Best score to date = 1923\n",
      "Iteration 209: Best score = 1917, Best score to date = 1923\n",
      "Iteration 210: Best score = 1916, Best score to date = 1923\n",
      "Iteration 211: Best score = 1920, Best score to date = 1923\n",
      "Iteration 212: Best score = 1921, Best score to date = 1923\n",
      "Iteration 213: Best score = 1915, Best score to date = 1923\n",
      "Iteration 214: Best score = 1916, Best score to date = 1923\n",
      "Iteration 215: Best score = 1914, Best score to date = 1923\n",
      "Iteration 216: Best score = 1916, Best score to date = 1923\n",
      "Iteration 217: Best score = 1917, Best score to date = 1923\n",
      "Iteration 218: Best score = 1915, Best score to date = 1923\n",
      "Iteration 219: Best score = 1916, Best score to date = 1923\n",
      "Iteration 220: Best score = 1917, Best score to date = 1923\n",
      "Iteration 221: Best score = 1915, Best score to date = 1923\n",
      "Iteration 222: Best score = 1916, Best score to date = 1923\n",
      "Iteration 223: Best score = 1917, Best score to date = 1923\n",
      "Iteration 224: Best score = 1915, Best score to date = 1923\n",
      "Iteration 225: Best score = 1918, Best score to date = 1923\n",
      "Iteration 226: Best score = 1917, Best score to date = 1923\n",
      "Iteration 227: Best score = 1916, Best score to date = 1923\n",
      "Iteration 228: Best score = 1916, Best score to date = 1923\n",
      "Iteration 229: Best score = 1920, Best score to date = 1923\n",
      "Iteration 230: Best score = 1918, Best score to date = 1923\n",
      "Iteration 231: Best score = 1918, Best score to date = 1923\n",
      "Iteration 232: Best score = 1917, Best score to date = 1923\n",
      "Iteration 233: Best score = 1917, Best score to date = 1923\n",
      "Iteration 234: Best score = 1923, Best score to date = 1923\n",
      "Iteration 235: Best score = 1918, Best score to date = 1923\n",
      "Iteration 236: Best score = 1917, Best score to date = 1923\n",
      "Iteration 237: Best score = 1916, Best score to date = 1923\n",
      "Iteration 238: Best score = 1918, Best score to date = 1923\n",
      "Iteration 239: Best score = 1919, Best score to date = 1923\n",
      "Iteration 240: Best score = 1916, Best score to date = 1923\n",
      "Iteration 241: Best score = 1920, Best score to date = 1923\n",
      "Iteration 242: Best score = 1917, Best score to date = 1923\n",
      "Iteration 243: Best score = 1917, Best score to date = 1923\n",
      "Iteration 244: Best score = 1917, Best score to date = 1923\n",
      "Iteration 245: Best score = 1919, Best score to date = 1923\n",
      "Iteration 246: Best score = 1919, Best score to date = 1923\n",
      "Iteration 247: Best score = 1919, Best score to date = 1923\n",
      "Iteration 248: Best score = 1920, Best score to date = 1923\n",
      "Iteration 249: Best score = 1920, Best score to date = 1923\n",
      "Iteration 250: Best score = 1919, Best score to date = 1923\n",
      "Iteration 251: Best score = 1919, Best score to date = 1923\n",
      "Iteration 252: Best score = 1917, Best score to date = 1923\n",
      "Iteration 253: Best score = 1917, Best score to date = 1923\n",
      "Iteration 254: Best score = 1919, Best score to date = 1923\n",
      "Iteration 255: Best score = 1916, Best score to date = 1923\n",
      "Iteration 256: Best score = 1915, Best score to date = 1923\n",
      "Iteration 257: Best score = 1915, Best score to date = 1923\n",
      "Iteration 258: Best score = 1917, Best score to date = 1923\n",
      "Iteration 259: Best score = 1915, Best score to date = 1923\n",
      "Iteration 260: Best score = 1915, Best score to date = 1923\n",
      "Iteration 261: Best score = 1917, Best score to date = 1923\n",
      "Iteration 262: Best score = 1915, Best score to date = 1923\n",
      "Iteration 263: Best score = 1916, Best score to date = 1923\n",
      "Iteration 264: Best score = 1915, Best score to date = 1923\n",
      "Iteration 265: Best score = 1914, Best score to date = 1923\n",
      "Iteration 266: Best score = 1917, Best score to date = 1923\n",
      "Iteration 267: Best score = 1916, Best score to date = 1923\n",
      "Iteration 268: Best score = 1916, Best score to date = 1923\n",
      "Iteration 269: Best score = 1917, Best score to date = 1923\n",
      "Iteration 270: Best score = 1921, Best score to date = 1923\n",
      "Iteration 271: Best score = 1920, Best score to date = 1923\n",
      "Iteration 272: Best score = 1918, Best score to date = 1923\n",
      "Iteration 273: Best score = 1917, Best score to date = 1923\n",
      "Iteration 274: Best score = 1914, Best score to date = 1923\n",
      "Iteration 275: Best score = 1915, Best score to date = 1923\n",
      "Iteration 276: Best score = 1917, Best score to date = 1923\n",
      "Iteration 277: Best score = 1914, Best score to date = 1923\n",
      "Iteration 278: Best score = 1914, Best score to date = 1923\n",
      "Iteration 279: Best score = 1916, Best score to date = 1923\n",
      "Iteration 280: Best score = 1917, Best score to date = 1923\n",
      "Iteration 281: Best score = 1919, Best score to date = 1923\n",
      "Iteration 282: Best score = 1917, Best score to date = 1923\n",
      "Iteration 283: Best score = 1920, Best score to date = 1923\n",
      "Iteration 284: Best score = 1922, Best score to date = 1923\n",
      "Iteration 285: Best score = 1918, Best score to date = 1923\n",
      "Iteration 286: Best score = 1917, Best score to date = 1923\n",
      "Iteration 287: Best score = 1917, Best score to date = 1923\n",
      "Iteration 288: Best score = 1922, Best score to date = 1923\n",
      "Iteration 289: Best score = 1930, Best score to date = 1930\n",
      "Iteration 290: Best score = 1926, Best score to date = 1930\n",
      "Iteration 291: Best score = 1916, Best score to date = 1930\n",
      "Iteration 292: Best score = 1919, Best score to date = 1930\n",
      "Iteration 293: Best score = 1919, Best score to date = 1930\n",
      "Iteration 294: Best score = 1922, Best score to date = 1930\n",
      "Iteration 295: Best score = 1921, Best score to date = 1930\n",
      "Iteration 296: Best score = 1919, Best score to date = 1930\n",
      "Iteration 297: Best score = 1919, Best score to date = 1930\n",
      "Iteration 298: Best score = 1917, Best score to date = 1930\n",
      "Iteration 299: Best score = 1917, Best score to date = 1930\n",
      "Iteration 300: Best score = 1919, Best score to date = 1930\n",
      "Iteration 301: Best score = 1924, Best score to date = 1930\n",
      "Iteration 302: Best score = 1919, Best score to date = 1930\n",
      "Iteration 303: Best score = 1918, Best score to date = 1930\n",
      "Iteration 304: Best score = 1917, Best score to date = 1930\n",
      "Iteration 305: Best score = 1917, Best score to date = 1930\n",
      "Iteration 306: Best score = 1917, Best score to date = 1930\n",
      "Iteration 307: Best score = 1915, Best score to date = 1930\n",
      "Iteration 308: Best score = 1918, Best score to date = 1930\n",
      "Iteration 309: Best score = 1919, Best score to date = 1930\n",
      "Iteration 310: Best score = 1918, Best score to date = 1930\n",
      "Iteration 311: Best score = 1919, Best score to date = 1930\n",
      "Iteration 312: Best score = 1918, Best score to date = 1930\n",
      "Iteration 313: Best score = 1916, Best score to date = 1930\n",
      "Iteration 314: Best score = 1918, Best score to date = 1930\n",
      "Iteration 315: Best score = 1918, Best score to date = 1930\n",
      "Iteration 316: Best score = 1918, Best score to date = 1930\n",
      "Iteration 317: Best score = 1922, Best score to date = 1930\n",
      "Iteration 318: Best score = 1921, Best score to date = 1930\n",
      "Iteration 319: Best score = 1916, Best score to date = 1930\n",
      "Iteration 320: Best score = 1919, Best score to date = 1930\n",
      "Iteration 321: Best score = 1918, Best score to date = 1930\n",
      "Iteration 322: Best score = 1917, Best score to date = 1930\n",
      "Iteration 323: Best score = 1917, Best score to date = 1930\n",
      "Iteration 324: Best score = 1918, Best score to date = 1930\n",
      "Iteration 325: Best score = 1918, Best score to date = 1930\n",
      "Iteration 326: Best score = 1916, Best score to date = 1930\n",
      "Iteration 327: Best score = 1916, Best score to date = 1930\n",
      "Iteration 328: Best score = 1922, Best score to date = 1930\n",
      "Iteration 329: Best score = 1923, Best score to date = 1930\n",
      "Iteration 330: Best score = 1918, Best score to date = 1930\n",
      "Iteration 331: Best score = 1916, Best score to date = 1930\n",
      "Iteration 332: Best score = 1918, Best score to date = 1930\n",
      "Iteration 333: Best score = 1917, Best score to date = 1930\n",
      "Iteration 334: Best score = 1919, Best score to date = 1930\n",
      "Iteration 335: Best score = 1916, Best score to date = 1930\n",
      "Iteration 336: Best score = 1917, Best score to date = 1930\n",
      "Iteration 337: Best score = 1920, Best score to date = 1930\n",
      "Iteration 338: Best score = 1916, Best score to date = 1930\n",
      "Iteration 339: Best score = 1921, Best score to date = 1930\n",
      "Iteration 340: Best score = 1917, Best score to date = 1930\n",
      "Iteration 341: Best score = 1918, Best score to date = 1930\n",
      "Iteration 342: Best score = 1919, Best score to date = 1930\n",
      "Iteration 343: Best score = 1914, Best score to date = 1930\n",
      "Iteration 344: Best score = 1919, Best score to date = 1930\n",
      "Iteration 345: Best score = 1919, Best score to date = 1930\n",
      "Iteration 346: Best score = 1919, Best score to date = 1930\n",
      "Iteration 347: Best score = 1918, Best score to date = 1930\n",
      "Iteration 348: Best score = 1918, Best score to date = 1930\n",
      "Iteration 349: Best score = 1915, Best score to date = 1930\n",
      "Iteration 350: Best score = 1917, Best score to date = 1930\n",
      "Iteration 351: Best score = 1919, Best score to date = 1930\n",
      "Iteration 352: Best score = 1919, Best score to date = 1930\n",
      "Iteration 353: Best score = 1918, Best score to date = 1930\n",
      "Iteration 354: Best score = 1917, Best score to date = 1930\n",
      "Iteration 355: Best score = 1917, Best score to date = 1930\n",
      "Iteration 356: Best score = 1917, Best score to date = 1930\n",
      "Iteration 357: Best score = 1919, Best score to date = 1930\n",
      "Iteration 358: Best score = 1917, Best score to date = 1930\n",
      "Iteration 359: Best score = 1919, Best score to date = 1930\n",
      "Iteration 360: Best score = 1918, Best score to date = 1930\n",
      "Iteration 361: Best score = 1919, Best score to date = 1930\n",
      "Iteration 362: Best score = 1918, Best score to date = 1930\n",
      "Iteration 363: Best score = 1919, Best score to date = 1930\n",
      "Iteration 364: Best score = 1916, Best score to date = 1930\n",
      "Iteration 365: Best score = 1917, Best score to date = 1930\n",
      "Iteration 366: Best score = 1919, Best score to date = 1930\n",
      "Iteration 367: Best score = 1916, Best score to date = 1930\n",
      "Iteration 368: Best score = 1917, Best score to date = 1930\n",
      "Iteration 369: Best score = 1916, Best score to date = 1930\n",
      "Iteration 370: Best score = 1917, Best score to date = 1930\n",
      "Iteration 371: Best score = 1917, Best score to date = 1930\n",
      "Iteration 372: Best score = 1921, Best score to date = 1930\n",
      "Iteration 373: Best score = 1915, Best score to date = 1930\n",
      "Iteration 374: Best score = 1920, Best score to date = 1930\n",
      "Iteration 375: Best score = 1915, Best score to date = 1930\n",
      "Iteration 376: Best score = 1918, Best score to date = 1930\n",
      "Iteration 377: Best score = 1916, Best score to date = 1930\n",
      "Iteration 378: Best score = 1917, Best score to date = 1930\n",
      "Iteration 379: Best score = 1918, Best score to date = 1930\n",
      "Iteration 380: Best score = 1917, Best score to date = 1930\n",
      "Iteration 381: Best score = 1914, Best score to date = 1930\n",
      "Iteration 382: Best score = 1917, Best score to date = 1930\n",
      "Iteration 383: Best score = 1915, Best score to date = 1930\n",
      "Iteration 384: Best score = 1916, Best score to date = 1930\n",
      "Iteration 385: Best score = 1915, Best score to date = 1930\n",
      "Iteration 386: Best score = 1917, Best score to date = 1930\n",
      "Iteration 387: Best score = 1917, Best score to date = 1930\n",
      "Iteration 388: Best score = 1915, Best score to date = 1930\n",
      "Iteration 389: Best score = 1916, Best score to date = 1930\n",
      "Iteration 390: Best score = 1916, Best score to date = 1930\n",
      "Iteration 391: Best score = 1915, Best score to date = 1930\n",
      "Iteration 392: Best score = 1919, Best score to date = 1930\n",
      "Iteration 393: Best score = 1919, Best score to date = 1930\n",
      "Iteration 394: Best score = 1920, Best score to date = 1930\n",
      "Iteration 395: Best score = 1919, Best score to date = 1930\n",
      "Iteration 396: Best score = 1917, Best score to date = 1930\n",
      "Iteration 397: Best score = 1917, Best score to date = 1930\n",
      "Iteration 398: Best score = 1919, Best score to date = 1930\n",
      "Iteration 399: Best score = 1919, Best score to date = 1930\n",
      "Iteration 400: Best score = 1914, Best score to date = 1930\n",
      "Iteration 401: Best score = 1916, Best score to date = 1930\n",
      "Iteration 402: Best score = 1917, Best score to date = 1930\n",
      "Iteration 403: Best score = 1916, Best score to date = 1930\n",
      "Iteration 404: Best score = 1918, Best score to date = 1930\n",
      "Iteration 405: Best score = 1918, Best score to date = 1930\n",
      "Iteration 406: Best score = 1921, Best score to date = 1930\n",
      "Iteration 407: Best score = 1918, Best score to date = 1930\n",
      "Iteration 408: Best score = 1921, Best score to date = 1930\n",
      "Iteration 409: Best score = 1917, Best score to date = 1930\n",
      "Iteration 410: Best score = 1918, Best score to date = 1930\n",
      "Iteration 411: Best score = 1918, Best score to date = 1930\n",
      "Iteration 412: Best score = 1918, Best score to date = 1930\n",
      "Iteration 413: Best score = 1916, Best score to date = 1930\n",
      "Iteration 414: Best score = 1917, Best score to date = 1930\n",
      "Iteration 415: Best score = 1917, Best score to date = 1930\n",
      "Iteration 416: Best score = 1920, Best score to date = 1930\n",
      "Iteration 417: Best score = 1918, Best score to date = 1930\n",
      "Iteration 418: Best score = 1917, Best score to date = 1930\n",
      "Iteration 419: Best score = 1915, Best score to date = 1930\n",
      "Iteration 420: Best score = 1918, Best score to date = 1930\n",
      "Iteration 421: Best score = 1918, Best score to date = 1930\n",
      "Iteration 422: Best score = 1919, Best score to date = 1930\n",
      "Iteration 423: Best score = 1916, Best score to date = 1930\n",
      "Iteration 424: Best score = 1918, Best score to date = 1930\n",
      "Iteration 425: Best score = 1920, Best score to date = 1930\n",
      "Iteration 426: Best score = 1919, Best score to date = 1930\n",
      "Iteration 427: Best score = 1918, Best score to date = 1930\n",
      "Iteration 428: Best score = 1917, Best score to date = 1930\n",
      "Iteration 429: Best score = 1919, Best score to date = 1930\n",
      "Iteration 430: Best score = 1917, Best score to date = 1930\n",
      "Iteration 431: Best score = 1917, Best score to date = 1930\n",
      "Iteration 432: Best score = 1914, Best score to date = 1930\n",
      "Iteration 433: Best score = 1915, Best score to date = 1930\n",
      "Iteration 434: Best score = 1916, Best score to date = 1930\n",
      "Iteration 435: Best score = 1918, Best score to date = 1930\n",
      "Iteration 436: Best score = 1917, Best score to date = 1930\n",
      "Iteration 437: Best score = 1917, Best score to date = 1930\n",
      "Iteration 438: Best score = 1917, Best score to date = 1930\n",
      "Iteration 439: Best score = 1919, Best score to date = 1930\n",
      "Iteration 440: Best score = 1916, Best score to date = 1930\n",
      "Iteration 441: Best score = 1914, Best score to date = 1930\n",
      "Iteration 442: Best score = 1918, Best score to date = 1930\n",
      "Iteration 443: Best score = 1920, Best score to date = 1930\n",
      "Iteration 444: Best score = 1917, Best score to date = 1930\n",
      "Iteration 445: Best score = 1920, Best score to date = 1930\n",
      "Iteration 446: Best score = 1918, Best score to date = 1930\n",
      "Iteration 447: Best score = 1919, Best score to date = 1930\n",
      "Iteration 448: Best score = 1920, Best score to date = 1930\n",
      "Iteration 449: Best score = 1918, Best score to date = 1930\n",
      "Iteration 450: Best score = 1915, Best score to date = 1930\n",
      "Iteration 451: Best score = 1919, Best score to date = 1930\n",
      "Iteration 452: Best score = 1919, Best score to date = 1930\n",
      "Iteration 453: Best score = 1917, Best score to date = 1930\n",
      "Iteration 454: Best score = 1919, Best score to date = 1930\n",
      "Iteration 455: Best score = 1918, Best score to date = 1930\n",
      "Iteration 456: Best score = 1916, Best score to date = 1930\n",
      "Iteration 457: Best score = 1918, Best score to date = 1930\n",
      "Iteration 458: Best score = 1920, Best score to date = 1930\n",
      "Iteration 459: Best score = 1919, Best score to date = 1930\n",
      "Iteration 460: Best score = 1921, Best score to date = 1930\n",
      "Iteration 461: Best score = 1921, Best score to date = 1930\n",
      "Iteration 462: Best score = 1922, Best score to date = 1930\n",
      "Iteration 463: Best score = 1919, Best score to date = 1930\n",
      "Iteration 464: Best score = 1916, Best score to date = 1930\n",
      "Iteration 465: Best score = 1918, Best score to date = 1930\n",
      "Iteration 466: Best score = 1916, Best score to date = 1930\n",
      "Iteration 467: Best score = 1919, Best score to date = 1930\n",
      "Iteration 468: Best score = 1917, Best score to date = 1930\n",
      "Iteration 469: Best score = 1916, Best score to date = 1930\n",
      "Iteration 470: Best score = 1914, Best score to date = 1930\n",
      "Iteration 471: Best score = 1922, Best score to date = 1930\n",
      "Iteration 472: Best score = 1919, Best score to date = 1930\n",
      "Iteration 473: Best score = 1918, Best score to date = 1930\n",
      "Iteration 474: Best score = 1916, Best score to date = 1930\n",
      "Iteration 475: Best score = 1916, Best score to date = 1930\n",
      "Iteration 476: Best score = 1918, Best score to date = 1930\n",
      "Iteration 477: Best score = 1921, Best score to date = 1930\n",
      "Iteration 478: Best score = 1917, Best score to date = 1930\n",
      "Iteration 479: Best score = 1918, Best score to date = 1930\n",
      "Iteration 480: Best score = 1920, Best score to date = 1930\n",
      "Iteration 481: Best score = 1918, Best score to date = 1930\n",
      "Iteration 482: Best score = 1917, Best score to date = 1930\n",
      "Iteration 483: Best score = 1916, Best score to date = 1930\n",
      "Iteration 484: Best score = 1916, Best score to date = 1930\n",
      "Iteration 485: Best score = 1919, Best score to date = 1930\n",
      "Iteration 486: Best score = 1916, Best score to date = 1930\n",
      "Iteration 487: Best score = 1917, Best score to date = 1930\n",
      "Iteration 488: Best score = 1917, Best score to date = 1930\n",
      "Iteration 489: Best score = 1916, Best score to date = 1930\n",
      "Iteration 490: Best score = 1918, Best score to date = 1930\n",
      "Iteration 491: Best score = 1918, Best score to date = 1930\n",
      "Iteration 492: Best score = 1916, Best score to date = 1930\n",
      "Iteration 493: Best score = 1917, Best score to date = 1930\n",
      "Iteration 494: Best score = 1917, Best score to date = 1930\n",
      "Iteration 495: Best score = 1920, Best score to date = 1930\n",
      "Iteration 496: Best score = 1920, Best score to date = 1930\n",
      "Iteration 497: Best score = 1918, Best score to date = 1930\n",
      "Iteration 498: Best score = 1919, Best score to date = 1930\n",
      "Iteration 499: Best score = 1920, Best score to date = 1930\n",
      "Iteration 500: Best score = 1919, Best score to date = 1930\n",
      "Iteration 501: Best score = 1923, Best score to date = 1930\n",
      "Iteration 502: Best score = 1918, Best score to date = 1930\n",
      "Iteration 503: Best score = 1918, Best score to date = 1930\n",
      "Iteration 504: Best score = 1918, Best score to date = 1930\n",
      "Iteration 505: Best score = 1916, Best score to date = 1930\n",
      "Iteration 506: Best score = 1917, Best score to date = 1930\n",
      "Iteration 507: Best score = 1921, Best score to date = 1930\n",
      "Iteration 508: Best score = 1921, Best score to date = 1930\n",
      "Iteration 509: Best score = 1921, Best score to date = 1930\n",
      "Iteration 510: Best score = 1917, Best score to date = 1930\n",
      "Iteration 511: Best score = 1916, Best score to date = 1930\n",
      "Iteration 512: Best score = 1916, Best score to date = 1930\n",
      "Iteration 513: Best score = 1917, Best score to date = 1930\n",
      "Iteration 514: Best score = 1915, Best score to date = 1930\n",
      "Iteration 515: Best score = 1918, Best score to date = 1930\n",
      "Iteration 516: Best score = 1923, Best score to date = 1930\n",
      "Iteration 517: Best score = 1917, Best score to date = 1930\n",
      "Iteration 518: Best score = 1914, Best score to date = 1930\n",
      "Iteration 519: Best score = 1914, Best score to date = 1930\n",
      "Iteration 520: Best score = 1917, Best score to date = 1930\n",
      "Iteration 521: Best score = 1917, Best score to date = 1930\n",
      "Iteration 522: Best score = 1920, Best score to date = 1930\n",
      "Iteration 523: Best score = 1917, Best score to date = 1930\n",
      "Iteration 524: Best score = 1917, Best score to date = 1930\n",
      "Iteration 525: Best score = 1921, Best score to date = 1930\n",
      "Iteration 526: Best score = 1920, Best score to date = 1930\n",
      "Iteration 527: Best score = 1922, Best score to date = 1930\n",
      "Iteration 528: Best score = 1923, Best score to date = 1930\n",
      "Iteration 529: Best score = 1918, Best score to date = 1930\n",
      "Iteration 530: Best score = 1915, Best score to date = 1930\n",
      "Iteration 531: Best score = 1917, Best score to date = 1930\n",
      "Iteration 532: Best score = 1916, Best score to date = 1930\n",
      "Iteration 533: Best score = 1915, Best score to date = 1930\n",
      "Iteration 534: Best score = 1916, Best score to date = 1930\n",
      "Iteration 535: Best score = 1916, Best score to date = 1930\n",
      "Iteration 536: Best score = 1915, Best score to date = 1930\n",
      "Iteration 537: Best score = 1917, Best score to date = 1930\n",
      "Iteration 538: Best score = 1915, Best score to date = 1930\n",
      "Iteration 539: Best score = 1915, Best score to date = 1930\n",
      "Iteration 540: Best score = 1916, Best score to date = 1930\n",
      "Iteration 541: Best score = 1917, Best score to date = 1930\n",
      "Iteration 542: Best score = 1918, Best score to date = 1930\n",
      "Iteration 543: Best score = 1921, Best score to date = 1930\n",
      "Iteration 544: Best score = 1921, Best score to date = 1930\n",
      "Iteration 545: Best score = 1922, Best score to date = 1930\n",
      "Iteration 546: Best score = 1921, Best score to date = 1930\n",
      "Iteration 547: Best score = 1919, Best score to date = 1930\n",
      "Iteration 548: Best score = 1917, Best score to date = 1930\n",
      "Iteration 549: Best score = 1918, Best score to date = 1930\n",
      "Iteration 550: Best score = 1914, Best score to date = 1930\n",
      "Iteration 551: Best score = 1914, Best score to date = 1930\n",
      "Iteration 552: Best score = 1915, Best score to date = 1930\n",
      "Iteration 553: Best score = 1915, Best score to date = 1930\n",
      "Iteration 554: Best score = 1918, Best score to date = 1930\n",
      "Iteration 555: Best score = 1917, Best score to date = 1930\n",
      "Iteration 556: Best score = 1916, Best score to date = 1930\n",
      "Iteration 557: Best score = 1916, Best score to date = 1930\n",
      "Iteration 558: Best score = 1918, Best score to date = 1930\n",
      "Iteration 559: Best score = 1921, Best score to date = 1930\n",
      "Iteration 560: Best score = 1920, Best score to date = 1930\n",
      "Iteration 561: Best score = 1920, Best score to date = 1930\n",
      "Iteration 562: Best score = 1921, Best score to date = 1930\n",
      "Iteration 563: Best score = 1917, Best score to date = 1930\n",
      "Iteration 564: Best score = 1916, Best score to date = 1930\n",
      "Iteration 565: Best score = 1917, Best score to date = 1930\n",
      "Iteration 566: Best score = 1916, Best score to date = 1930\n",
      "Iteration 567: Best score = 1917, Best score to date = 1930\n",
      "Iteration 568: Best score = 1919, Best score to date = 1930\n",
      "Iteration 569: Best score = 1920, Best score to date = 1930\n",
      "Iteration 570: Best score = 1920, Best score to date = 1930\n",
      "Iteration 571: Best score = 1917, Best score to date = 1930\n",
      "Iteration 572: Best score = 1918, Best score to date = 1930\n",
      "Iteration 573: Best score = 1917, Best score to date = 1930\n",
      "Iteration 574: Best score = 1914, Best score to date = 1930\n",
      "Iteration 575: Best score = 1915, Best score to date = 1930\n",
      "Iteration 576: Best score = 1917, Best score to date = 1930\n",
      "Iteration 577: Best score = 1918, Best score to date = 1930\n",
      "Iteration 578: Best score = 1916, Best score to date = 1930\n",
      "Iteration 579: Best score = 1915, Best score to date = 1930\n",
      "Iteration 580: Best score = 1917, Best score to date = 1930\n",
      "Iteration 581: Best score = 1915, Best score to date = 1930\n",
      "Iteration 582: Best score = 1914, Best score to date = 1930\n",
      "Iteration 583: Best score = 1915, Best score to date = 1930\n",
      "Iteration 584: Best score = 1915, Best score to date = 1930\n",
      "Iteration 585: Best score = 1920, Best score to date = 1930\n",
      "Iteration 586: Best score = 1916, Best score to date = 1930\n",
      "Iteration 587: Best score = 1917, Best score to date = 1930\n",
      "Iteration 588: Best score = 1916, Best score to date = 1930\n",
      "Iteration 589: Best score = 1916, Best score to date = 1930\n",
      "Iteration 590: Best score = 1916, Best score to date = 1930\n",
      "Iteration 591: Best score = 1916, Best score to date = 1930\n",
      "Iteration 592: Best score = 1915, Best score to date = 1930\n",
      "Iteration 593: Best score = 1916, Best score to date = 1930\n",
      "Iteration 594: Best score = 1918, Best score to date = 1930\n",
      "Iteration 595: Best score = 1916, Best score to date = 1930\n",
      "Iteration 596: Best score = 1919, Best score to date = 1930\n",
      "Iteration 597: Best score = 1918, Best score to date = 1930\n",
      "Iteration 598: Best score = 1918, Best score to date = 1930\n",
      "Iteration 599: Best score = 1917, Best score to date = 1930\n",
      "Iteration 600: Best score = 1918, Best score to date = 1930\n",
      "Iteration 601: Best score = 1918, Best score to date = 1930\n",
      "Iteration 602: Best score = 1916, Best score to date = 1930\n",
      "Iteration 603: Best score = 1922, Best score to date = 1930\n",
      "Iteration 604: Best score = 1919, Best score to date = 1930\n",
      "Iteration 605: Best score = 1923, Best score to date = 1930\n",
      "Iteration 606: Best score = 1919, Best score to date = 1930\n",
      "Iteration 607: Best score = 1921, Best score to date = 1930\n",
      "Iteration 608: Best score = 1916, Best score to date = 1930\n",
      "Iteration 609: Best score = 1918, Best score to date = 1930\n",
      "Iteration 610: Best score = 1917, Best score to date = 1930\n",
      "Iteration 611: Best score = 1916, Best score to date = 1930\n",
      "Iteration 612: Best score = 1917, Best score to date = 1930\n",
      "Iteration 613: Best score = 1915, Best score to date = 1930\n",
      "Iteration 614: Best score = 1919, Best score to date = 1930\n",
      "Iteration 615: Best score = 1918, Best score to date = 1930\n",
      "Iteration 616: Best score = 1920, Best score to date = 1930\n",
      "Iteration 617: Best score = 1917, Best score to date = 1930\n",
      "Iteration 618: Best score = 1918, Best score to date = 1930\n",
      "Iteration 619: Best score = 1918, Best score to date = 1930\n",
      "Iteration 620: Best score = 1919, Best score to date = 1930\n",
      "Iteration 621: Best score = 1917, Best score to date = 1930\n",
      "Iteration 622: Best score = 1919, Best score to date = 1930\n",
      "Iteration 623: Best score = 1920, Best score to date = 1930\n",
      "Iteration 624: Best score = 1925, Best score to date = 1930\n",
      "Iteration 625: Best score = 1928, Best score to date = 1930\n",
      "Iteration 626: Best score = 1916, Best score to date = 1930\n",
      "Iteration 627: Best score = 1919, Best score to date = 1930\n",
      "Iteration 628: Best score = 1921, Best score to date = 1930\n",
      "Iteration 629: Best score = 1919, Best score to date = 1930\n",
      "Iteration 630: Best score = 1919, Best score to date = 1930\n",
      "Iteration 631: Best score = 1918, Best score to date = 1930\n",
      "Iteration 632: Best score = 1918, Best score to date = 1930\n",
      "Iteration 633: Best score = 1924, Best score to date = 1930\n",
      "Iteration 634: Best score = 1918, Best score to date = 1930\n",
      "Iteration 635: Best score = 1916, Best score to date = 1930\n",
      "Iteration 636: Best score = 1915, Best score to date = 1930\n",
      "Iteration 637: Best score = 1917, Best score to date = 1930\n",
      "Iteration 638: Best score = 1917, Best score to date = 1930\n",
      "Iteration 639: Best score = 1917, Best score to date = 1930\n",
      "Iteration 640: Best score = 1914, Best score to date = 1930\n",
      "Iteration 641: Best score = 1917, Best score to date = 1930\n",
      "Iteration 642: Best score = 1916, Best score to date = 1930\n",
      "Iteration 643: Best score = 1914, Best score to date = 1930\n",
      "Iteration 644: Best score = 1918, Best score to date = 1930\n",
      "Iteration 645: Best score = 1918, Best score to date = 1930\n",
      "Iteration 646: Best score = 1915, Best score to date = 1930\n",
      "Iteration 647: Best score = 1919, Best score to date = 1930\n",
      "Iteration 648: Best score = 1917, Best score to date = 1930\n",
      "Iteration 649: Best score = 1919, Best score to date = 1930\n",
      "Iteration 650: Best score = 1917, Best score to date = 1930\n",
      "Iteration 651: Best score = 1917, Best score to date = 1930\n",
      "Iteration 652: Best score = 1917, Best score to date = 1930\n",
      "Iteration 653: Best score = 1920, Best score to date = 1930\n",
      "Iteration 654: Best score = 1918, Best score to date = 1930\n",
      "Iteration 655: Best score = 1918, Best score to date = 1930\n",
      "Iteration 656: Best score = 1916, Best score to date = 1930\n",
      "Iteration 657: Best score = 1918, Best score to date = 1930\n",
      "Iteration 658: Best score = 1920, Best score to date = 1930\n",
      "Iteration 659: Best score = 1922, Best score to date = 1930\n",
      "Iteration 660: Best score = 1919, Best score to date = 1930\n",
      "Iteration 661: Best score = 1915, Best score to date = 1930\n",
      "Iteration 662: Best score = 1918, Best score to date = 1930\n",
      "Iteration 663: Best score = 1918, Best score to date = 1930\n",
      "Iteration 664: Best score = 1918, Best score to date = 1930\n",
      "Iteration 665: Best score = 1917, Best score to date = 1930\n",
      "Iteration 666: Best score = 1918, Best score to date = 1930\n",
      "Iteration 667: Best score = 1918, Best score to date = 1930\n",
      "Iteration 668: Best score = 1913, Best score to date = 1930\n",
      "Iteration 669: Best score = 1915, Best score to date = 1930\n",
      "Iteration 670: Best score = 1915, Best score to date = 1930\n",
      "Iteration 671: Best score = 1915, Best score to date = 1930\n",
      "Iteration 672: Best score = 1914, Best score to date = 1930\n",
      "Iteration 673: Best score = 1917, Best score to date = 1930\n",
      "Iteration 674: Best score = 1917, Best score to date = 1930\n",
      "Iteration 675: Best score = 1919, Best score to date = 1930\n",
      "Iteration 676: Best score = 1916, Best score to date = 1930\n",
      "Iteration 677: Best score = 1916, Best score to date = 1930\n",
      "Iteration 678: Best score = 1918, Best score to date = 1930\n",
      "Iteration 679: Best score = 1916, Best score to date = 1930\n",
      "Iteration 680: Best score = 1915, Best score to date = 1930\n",
      "Iteration 681: Best score = 1918, Best score to date = 1930\n",
      "Iteration 682: Best score = 1919, Best score to date = 1930\n",
      "Iteration 683: Best score = 1918, Best score to date = 1930\n",
      "Iteration 684: Best score = 1918, Best score to date = 1930\n",
      "Iteration 685: Best score = 1918, Best score to date = 1930\n",
      "Iteration 686: Best score = 1923, Best score to date = 1930\n",
      "Iteration 687: Best score = 1918, Best score to date = 1930\n",
      "Iteration 688: Best score = 1921, Best score to date = 1930\n",
      "Iteration 689: Best score = 1922, Best score to date = 1930\n",
      "Iteration 690: Best score = 1923, Best score to date = 1930\n",
      "Iteration 691: Best score = 1918, Best score to date = 1930\n",
      "Iteration 692: Best score = 1918, Best score to date = 1930\n",
      "Iteration 693: Best score = 1919, Best score to date = 1930\n",
      "Iteration 694: Best score = 1922, Best score to date = 1930\n",
      "Iteration 695: Best score = 1916, Best score to date = 1930\n",
      "Iteration 696: Best score = 1916, Best score to date = 1930\n",
      "Iteration 697: Best score = 1922, Best score to date = 1930\n",
      "Iteration 698: Best score = 1924, Best score to date = 1930\n",
      "Iteration 699: Best score = 1922, Best score to date = 1930\n",
      "Iteration 700: Best score = 1920, Best score to date = 1930\n",
      "Iteration 701: Best score = 1920, Best score to date = 1930\n",
      "Iteration 702: Best score = 1922, Best score to date = 1930\n",
      "Iteration 703: Best score = 1918, Best score to date = 1930\n",
      "Iteration 704: Best score = 1920, Best score to date = 1930\n",
      "Iteration 705: Best score = 1921, Best score to date = 1930\n",
      "Iteration 706: Best score = 1919, Best score to date = 1930\n",
      "Iteration 707: Best score = 1917, Best score to date = 1930\n",
      "Iteration 708: Best score = 1918, Best score to date = 1930\n",
      "Iteration 709: Best score = 1917, Best score to date = 1930\n",
      "Iteration 710: Best score = 1917, Best score to date = 1930\n",
      "Iteration 711: Best score = 1917, Best score to date = 1930\n",
      "Iteration 712: Best score = 1915, Best score to date = 1930\n",
      "Iteration 713: Best score = 1917, Best score to date = 1930\n",
      "Iteration 714: Best score = 1916, Best score to date = 1930\n",
      "Iteration 715: Best score = 1920, Best score to date = 1930\n",
      "Iteration 716: Best score = 1916, Best score to date = 1930\n",
      "Iteration 717: Best score = 1918, Best score to date = 1930\n",
      "Iteration 718: Best score = 1914, Best score to date = 1930\n",
      "Iteration 719: Best score = 1918, Best score to date = 1930\n",
      "Iteration 720: Best score = 1917, Best score to date = 1930\n",
      "Iteration 721: Best score = 1918, Best score to date = 1930\n",
      "Iteration 722: Best score = 1920, Best score to date = 1930\n",
      "Iteration 723: Best score = 1918, Best score to date = 1930\n",
      "Iteration 724: Best score = 1920, Best score to date = 1930\n",
      "Iteration 725: Best score = 1916, Best score to date = 1930\n",
      "Iteration 726: Best score = 1921, Best score to date = 1930\n",
      "Iteration 727: Best score = 1916, Best score to date = 1930\n",
      "Iteration 728: Best score = 1915, Best score to date = 1930\n",
      "Iteration 729: Best score = 1916, Best score to date = 1930\n",
      "Iteration 730: Best score = 1918, Best score to date = 1930\n",
      "Iteration 731: Best score = 1915, Best score to date = 1930\n",
      "Iteration 732: Best score = 1914, Best score to date = 1930\n",
      "Iteration 733: Best score = 1917, Best score to date = 1930\n",
      "Iteration 734: Best score = 1919, Best score to date = 1930\n",
      "Iteration 735: Best score = 1918, Best score to date = 1930\n",
      "Iteration 736: Best score = 1916, Best score to date = 1930\n",
      "Iteration 737: Best score = 1918, Best score to date = 1930\n",
      "Iteration 738: Best score = 1918, Best score to date = 1930\n",
      "Iteration 739: Best score = 1917, Best score to date = 1930\n",
      "Iteration 740: Best score = 1918, Best score to date = 1930\n",
      "Iteration 741: Best score = 1922, Best score to date = 1930\n",
      "Iteration 742: Best score = 1915, Best score to date = 1930\n",
      "Iteration 743: Best score = 1918, Best score to date = 1930\n",
      "Iteration 744: Best score = 1917, Best score to date = 1930\n",
      "Iteration 745: Best score = 1916, Best score to date = 1930\n",
      "Iteration 746: Best score = 1919, Best score to date = 1930\n",
      "Iteration 747: Best score = 1918, Best score to date = 1930\n",
      "Iteration 748: Best score = 1918, Best score to date = 1930\n",
      "Iteration 749: Best score = 1920, Best score to date = 1930\n",
      "Iteration 750: Best score = 1917, Best score to date = 1930\n",
      "Iteration 751: Best score = 1918, Best score to date = 1930\n",
      "Iteration 752: Best score = 1917, Best score to date = 1930\n",
      "Iteration 753: Best score = 1917, Best score to date = 1930\n",
      "Iteration 754: Best score = 1917, Best score to date = 1930\n",
      "Iteration 755: Best score = 1920, Best score to date = 1930\n",
      "Iteration 756: Best score = 1918, Best score to date = 1930\n",
      "Iteration 757: Best score = 1916, Best score to date = 1930\n",
      "Iteration 758: Best score = 1917, Best score to date = 1930\n",
      "Iteration 759: Best score = 1914, Best score to date = 1930\n",
      "Iteration 760: Best score = 1916, Best score to date = 1930\n",
      "Iteration 761: Best score = 1920, Best score to date = 1930\n",
      "Iteration 762: Best score = 1919, Best score to date = 1930\n",
      "Iteration 763: Best score = 1919, Best score to date = 1930\n",
      "Iteration 764: Best score = 1917, Best score to date = 1930\n",
      "Iteration 765: Best score = 1914, Best score to date = 1930\n",
      "Iteration 766: Best score = 1915, Best score to date = 1930\n",
      "Iteration 767: Best score = 1918, Best score to date = 1930\n",
      "Iteration 768: Best score = 1918, Best score to date = 1930\n",
      "Iteration 769: Best score = 1918, Best score to date = 1930\n",
      "Iteration 770: Best score = 1915, Best score to date = 1930\n",
      "Iteration 771: Best score = 1916, Best score to date = 1930\n",
      "Iteration 772: Best score = 1914, Best score to date = 1930\n",
      "Iteration 773: Best score = 1916, Best score to date = 1930\n",
      "Iteration 774: Best score = 1921, Best score to date = 1930\n",
      "Iteration 775: Best score = 1918, Best score to date = 1930\n",
      "Iteration 776: Best score = 1918, Best score to date = 1930\n",
      "Iteration 777: Best score = 1915, Best score to date = 1930\n",
      "Iteration 778: Best score = 1915, Best score to date = 1930\n",
      "Iteration 779: Best score = 1916, Best score to date = 1930\n",
      "Iteration 780: Best score = 1914, Best score to date = 1930\n",
      "Iteration 781: Best score = 1915, Best score to date = 1930\n",
      "Iteration 782: Best score = 1917, Best score to date = 1930\n",
      "Iteration 783: Best score = 1915, Best score to date = 1930\n",
      "Iteration 784: Best score = 1915, Best score to date = 1930\n",
      "Iteration 785: Best score = 1916, Best score to date = 1930\n",
      "Iteration 786: Best score = 1915, Best score to date = 1930\n",
      "Iteration 787: Best score = 1916, Best score to date = 1930\n",
      "Iteration 788: Best score = 1918, Best score to date = 1930\n",
      "Iteration 789: Best score = 1917, Best score to date = 1930\n",
      "Iteration 790: Best score = 1916, Best score to date = 1930\n",
      "Iteration 791: Best score = 1916, Best score to date = 1930\n",
      "Iteration 792: Best score = 1917, Best score to date = 1930\n",
      "Iteration 793: Best score = 1917, Best score to date = 1930\n",
      "Iteration 794: Best score = 1922, Best score to date = 1930\n",
      "Iteration 795: Best score = 1917, Best score to date = 1930\n",
      "Iteration 796: Best score = 1917, Best score to date = 1930\n",
      "Iteration 797: Best score = 1916, Best score to date = 1930\n",
      "Iteration 798: Best score = 1920, Best score to date = 1930\n",
      "Iteration 799: Best score = 1917, Best score to date = 1930\n",
      "Iteration 800: Best score = 1918, Best score to date = 1930\n",
      "Iteration 801: Best score = 1920, Best score to date = 1930\n",
      "Iteration 802: Best score = 1919, Best score to date = 1930\n",
      "Iteration 803: Best score = 1918, Best score to date = 1930\n",
      "Iteration 804: Best score = 1921, Best score to date = 1930\n",
      "Iteration 805: Best score = 1918, Best score to date = 1930\n",
      "Iteration 806: Best score = 1916, Best score to date = 1930\n",
      "Iteration 807: Best score = 1917, Best score to date = 1930\n",
      "Iteration 808: Best score = 1919, Best score to date = 1930\n",
      "Iteration 809: Best score = 1917, Best score to date = 1930\n",
      "Iteration 810: Best score = 1915, Best score to date = 1930\n",
      "Iteration 811: Best score = 1916, Best score to date = 1930\n",
      "Iteration 812: Best score = 1919, Best score to date = 1930\n",
      "Iteration 813: Best score = 1917, Best score to date = 1930\n",
      "Iteration 814: Best score = 1919, Best score to date = 1930\n",
      "Iteration 815: Best score = 1919, Best score to date = 1930\n",
      "Iteration 816: Best score = 1918, Best score to date = 1930\n",
      "Iteration 817: Best score = 1917, Best score to date = 1930\n",
      "Iteration 818: Best score = 1916, Best score to date = 1930\n",
      "Iteration 819: Best score = 1919, Best score to date = 1930\n",
      "Iteration 820: Best score = 1916, Best score to date = 1930\n",
      "Iteration 821: Best score = 1917, Best score to date = 1930\n",
      "Iteration 822: Best score = 1916, Best score to date = 1930\n",
      "Iteration 823: Best score = 1914, Best score to date = 1930\n",
      "Iteration 824: Best score = 1913, Best score to date = 1930\n",
      "Iteration 825: Best score = 1917, Best score to date = 1930\n",
      "Iteration 826: Best score = 1915, Best score to date = 1930\n",
      "Iteration 827: Best score = 1920, Best score to date = 1930\n",
      "Iteration 828: Best score = 1915, Best score to date = 1930\n",
      "Iteration 829: Best score = 1916, Best score to date = 1930\n",
      "Iteration 830: Best score = 1918, Best score to date = 1930\n",
      "Iteration 831: Best score = 1919, Best score to date = 1930\n",
      "Iteration 832: Best score = 1917, Best score to date = 1930\n",
      "Iteration 833: Best score = 1916, Best score to date = 1930\n",
      "Iteration 834: Best score = 1915, Best score to date = 1930\n",
      "Iteration 835: Best score = 1916, Best score to date = 1930\n",
      "Iteration 836: Best score = 1916, Best score to date = 1930\n",
      "Iteration 837: Best score = 1919, Best score to date = 1930\n",
      "Iteration 838: Best score = 1919, Best score to date = 1930\n",
      "Iteration 839: Best score = 1919, Best score to date = 1930\n",
      "Iteration 840: Best score = 1916, Best score to date = 1930\n",
      "Iteration 841: Best score = 1917, Best score to date = 1930\n",
      "Iteration 842: Best score = 1917, Best score to date = 1930\n",
      "Iteration 843: Best score = 1918, Best score to date = 1930\n",
      "Iteration 844: Best score = 1917, Best score to date = 1930\n",
      "Iteration 845: Best score = 1917, Best score to date = 1930\n",
      "Iteration 846: Best score = 1916, Best score to date = 1930\n",
      "Iteration 847: Best score = 1918, Best score to date = 1930\n",
      "Iteration 848: Best score = 1918, Best score to date = 1930\n",
      "Iteration 849: Best score = 1918, Best score to date = 1930\n",
      "Iteration 850: Best score = 1918, Best score to date = 1930\n",
      "Iteration 851: Best score = 1917, Best score to date = 1930\n",
      "Iteration 852: Best score = 1914, Best score to date = 1930\n",
      "Iteration 853: Best score = 1916, Best score to date = 1930\n",
      "Iteration 854: Best score = 1921, Best score to date = 1930\n",
      "Iteration 855: Best score = 1914, Best score to date = 1930\n",
      "Iteration 856: Best score = 1915, Best score to date = 1930\n",
      "Iteration 857: Best score = 1920, Best score to date = 1930\n",
      "Iteration 858: Best score = 1916, Best score to date = 1930\n",
      "Iteration 859: Best score = 1917, Best score to date = 1930\n",
      "Iteration 860: Best score = 1919, Best score to date = 1930\n",
      "Iteration 861: Best score = 1920, Best score to date = 1930\n",
      "Iteration 862: Best score = 1916, Best score to date = 1930\n",
      "Iteration 863: Best score = 1915, Best score to date = 1930\n",
      "Iteration 864: Best score = 1913, Best score to date = 1930\n",
      "Iteration 865: Best score = 1916, Best score to date = 1930\n",
      "Iteration 866: Best score = 1919, Best score to date = 1930\n",
      "Iteration 867: Best score = 1920, Best score to date = 1930\n",
      "Iteration 868: Best score = 1919, Best score to date = 1930\n",
      "Iteration 869: Best score = 1917, Best score to date = 1930\n",
      "Iteration 870: Best score = 1916, Best score to date = 1930\n",
      "Iteration 871: Best score = 1918, Best score to date = 1930\n",
      "Iteration 872: Best score = 1915, Best score to date = 1930\n",
      "Iteration 873: Best score = 1916, Best score to date = 1930\n",
      "Iteration 874: Best score = 1918, Best score to date = 1930\n",
      "Iteration 875: Best score = 1916, Best score to date = 1930\n",
      "Iteration 876: Best score = 1916, Best score to date = 1930\n",
      "Iteration 877: Best score = 1919, Best score to date = 1930\n",
      "Iteration 878: Best score = 1915, Best score to date = 1930\n",
      "Iteration 879: Best score = 1915, Best score to date = 1930\n",
      "Iteration 880: Best score = 1914, Best score to date = 1930\n",
      "Iteration 881: Best score = 1914, Best score to date = 1930\n",
      "Iteration 882: Best score = 1917, Best score to date = 1930\n",
      "Iteration 883: Best score = 1917, Best score to date = 1930\n",
      "Iteration 884: Best score = 1916, Best score to date = 1930\n",
      "Iteration 885: Best score = 1916, Best score to date = 1930\n",
      "Iteration 886: Best score = 1917, Best score to date = 1930\n",
      "Iteration 887: Best score = 1918, Best score to date = 1930\n",
      "Iteration 888: Best score = 1915, Best score to date = 1930\n",
      "Iteration 889: Best score = 1917, Best score to date = 1930\n",
      "Iteration 890: Best score = 1919, Best score to date = 1930\n",
      "Iteration 891: Best score = 1917, Best score to date = 1930\n",
      "Iteration 892: Best score = 1916, Best score to date = 1930\n",
      "Iteration 893: Best score = 1918, Best score to date = 1930\n",
      "Iteration 894: Best score = 1916, Best score to date = 1930\n",
      "Iteration 895: Best score = 1915, Best score to date = 1930\n",
      "Iteration 896: Best score = 1916, Best score to date = 1930\n",
      "Iteration 897: Best score = 1918, Best score to date = 1930\n",
      "Iteration 898: Best score = 1916, Best score to date = 1930\n",
      "Iteration 899: Best score = 1921, Best score to date = 1930\n",
      "Iteration 900: Best score = 1921, Best score to date = 1930\n",
      "Iteration 901: Best score = 1918, Best score to date = 1930\n",
      "Iteration 902: Best score = 1918, Best score to date = 1930\n",
      "Iteration 903: Best score = 1915, Best score to date = 1930\n",
      "Iteration 904: Best score = 1916, Best score to date = 1930\n",
      "Iteration 905: Best score = 1918, Best score to date = 1930\n",
      "Iteration 906: Best score = 1917, Best score to date = 1930\n",
      "Iteration 907: Best score = 1918, Best score to date = 1930\n",
      "Iteration 908: Best score = 1916, Best score to date = 1930\n",
      "Iteration 909: Best score = 1918, Best score to date = 1930\n",
      "Iteration 910: Best score = 1920, Best score to date = 1930\n",
      "Iteration 911: Best score = 1921, Best score to date = 1930\n",
      "Iteration 912: Best score = 1920, Best score to date = 1930\n",
      "Iteration 913: Best score = 1918, Best score to date = 1930\n",
      "Iteration 914: Best score = 1922, Best score to date = 1930\n",
      "Iteration 915: Best score = 1918, Best score to date = 1930\n",
      "Iteration 916: Best score = 1920, Best score to date = 1930\n",
      "Iteration 917: Best score = 1919, Best score to date = 1930\n",
      "Iteration 918: Best score = 1923, Best score to date = 1930\n",
      "Iteration 919: Best score = 1923, Best score to date = 1930\n",
      "Iteration 920: Best score = 1918, Best score to date = 1930\n",
      "Iteration 921: Best score = 1916, Best score to date = 1930\n",
      "Iteration 922: Best score = 1916, Best score to date = 1930\n",
      "Iteration 923: Best score = 1917, Best score to date = 1930\n",
      "Iteration 924: Best score = 1921, Best score to date = 1930\n",
      "Iteration 925: Best score = 1922, Best score to date = 1930\n",
      "Iteration 926: Best score = 1918, Best score to date = 1930\n",
      "Iteration 927: Best score = 1921, Best score to date = 1930\n",
      "Iteration 928: Best score = 1920, Best score to date = 1930\n",
      "Iteration 929: Best score = 1919, Best score to date = 1930\n",
      "Iteration 930: Best score = 1925, Best score to date = 1930\n",
      "Iteration 931: Best score = 1926, Best score to date = 1930\n",
      "Iteration 932: Best score = 1923, Best score to date = 1930\n",
      "Iteration 933: Best score = 1918, Best score to date = 1930\n",
      "Iteration 934: Best score = 1916, Best score to date = 1930\n",
      "Iteration 935: Best score = 1916, Best score to date = 1930\n",
      "Iteration 936: Best score = 1917, Best score to date = 1930\n",
      "Iteration 937: Best score = 1918, Best score to date = 1930\n",
      "Iteration 938: Best score = 1915, Best score to date = 1930\n",
      "Iteration 939: Best score = 1915, Best score to date = 1930\n",
      "Iteration 940: Best score = 1915, Best score to date = 1930\n",
      "Iteration 941: Best score = 1920, Best score to date = 1930\n",
      "Iteration 942: Best score = 1917, Best score to date = 1930\n",
      "Iteration 943: Best score = 1918, Best score to date = 1930\n",
      "Iteration 944: Best score = 1917, Best score to date = 1930\n",
      "Iteration 945: Best score = 1917, Best score to date = 1930\n",
      "Iteration 946: Best score = 1917, Best score to date = 1930\n",
      "Iteration 947: Best score = 1917, Best score to date = 1930\n",
      "Iteration 948: Best score = 1916, Best score to date = 1930\n",
      "Iteration 949: Best score = 1916, Best score to date = 1930\n",
      "Iteration 950: Best score = 1918, Best score to date = 1930\n",
      "Iteration 951: Best score = 1916, Best score to date = 1930\n",
      "Iteration 952: Best score = 1917, Best score to date = 1930\n",
      "Iteration 953: Best score = 1918, Best score to date = 1930\n",
      "Iteration 954: Best score = 1915, Best score to date = 1930\n",
      "Iteration 955: Best score = 1917, Best score to date = 1930\n",
      "Iteration 956: Best score = 1919, Best score to date = 1930\n",
      "Iteration 957: Best score = 1914, Best score to date = 1930\n",
      "Iteration 958: Best score = 1916, Best score to date = 1930\n",
      "Iteration 959: Best score = 1917, Best score to date = 1930\n",
      "Iteration 960: Best score = 1917, Best score to date = 1930\n",
      "Iteration 961: Best score = 1917, Best score to date = 1930\n",
      "Iteration 962: Best score = 1913, Best score to date = 1930\n",
      "Iteration 963: Best score = 1916, Best score to date = 1930\n",
      "Iteration 964: Best score = 1915, Best score to date = 1930\n",
      "Iteration 965: Best score = 1917, Best score to date = 1930\n",
      "Iteration 966: Best score = 1920, Best score to date = 1930\n",
      "Iteration 967: Best score = 1915, Best score to date = 1930\n",
      "Iteration 968: Best score = 1916, Best score to date = 1930\n",
      "Iteration 969: Best score = 1915, Best score to date = 1930\n",
      "Iteration 970: Best score = 1913, Best score to date = 1930\n",
      "Iteration 971: Best score = 1918, Best score to date = 1930\n",
      "Iteration 972: Best score = 1915, Best score to date = 1930\n",
      "Iteration 973: Best score = 1917, Best score to date = 1930\n",
      "Iteration 974: Best score = 1916, Best score to date = 1930\n",
      "Iteration 975: Best score = 1914, Best score to date = 1930\n",
      "Iteration 976: Best score = 1916, Best score to date = 1930\n",
      "Iteration 977: Best score = 1917, Best score to date = 1930\n",
      "Iteration 978: Best score = 1916, Best score to date = 1930\n",
      "Iteration 979: Best score = 1918, Best score to date = 1930\n",
      "Iteration 980: Best score = 1917, Best score to date = 1930\n",
      "Iteration 981: Best score = 1916, Best score to date = 1930\n",
      "Iteration 982: Best score = 1917, Best score to date = 1930\n",
      "Iteration 983: Best score = 1917, Best score to date = 1930\n",
      "Iteration 984: Best score = 1917, Best score to date = 1930\n",
      "Iteration 985: Best score = 1916, Best score to date = 1930\n",
      "Iteration 986: Best score = 1918, Best score to date = 1930\n",
      "Iteration 987: Best score = 1917, Best score to date = 1930\n",
      "Iteration 988: Best score = 1915, Best score to date = 1930\n",
      "Iteration 989: Best score = 1915, Best score to date = 1930\n",
      "Iteration 990: Best score = 1914, Best score to date = 1930\n",
      "Iteration 991: Best score = 1917, Best score to date = 1930\n",
      "Iteration 992: Best score = 1919, Best score to date = 1930\n",
      "Iteration 993: Best score = 1915, Best score to date = 1930\n",
      "Iteration 994: Best score = 1915, Best score to date = 1930\n",
      "Iteration 995: Best score = 1917, Best score to date = 1930\n",
      "Iteration 996: Best score = 1914, Best score to date = 1930\n",
      "Iteration 997: Best score = 1919, Best score to date = 1930\n",
      "Iteration 998: Best score = 1917, Best score to date = 1930\n",
      "Iteration 999: Best score = 1918, Best score to date = 1930\n",
      "Iteration 1000: Best score = 1919, Best score to date = 1930\n",
      " \n",
      "Best score = 1930, Iteration 288\n"
     ]
    }
   ],
   "source": [
    "x_best, o_best = solver.solve(problem, pop0, printing=True)"
   ],
   "metadata": {
    "collapsed": false,
    "pycharm": {
     "name": "#%%\n"
    }
   }
  },
  {
   "cell_type": "code",
   "execution_count": 37,
   "outputs": [
    {
     "data": {
      "text/plain": "array([0, 1, 0, 0, 0, 1, 0, 0, 0, 1, 1, 0, 1, 0, 1, 0, 0, 0, 0, 0, 0, 0,\n       0, 1, 0, 0, 0, 0, 0, 1, 0, 0, 0, 1, 1, 1, 1, 1, 0, 0, 1, 1, 1, 1,\n       1, 1, 0, 1, 0, 1, 1, 0, 0, 0, 0, 0, 0, 0, 1, 0, 1, 0, 1, 0, 1, 1,\n       1, 1, 1, 0, 0, 0, 0, 0, 0, 0, 0, 0, 1, 0, 0, 0, 1, 0, 0, 0, 1, 1,\n       0, 0, 0, 0, 0, 0, 1, 0, 0, 0, 0, 1, 0, 0, 1, 1, 0, 0, 0, 0, 1, 0,\n       1, 1, 0, 1, 1, 1, 0, 0, 1, 1, 1, 1, 1, 1, 1, 0, 0, 1, 0, 0, 1, 1,\n       0, 0, 1, 0, 1, 0, 1, 0, 0, 0, 0, 0, 0, 1, 0, 0, 1, 0, 1, 0, 0, 0,\n       0, 1, 0, 0, 0, 0, 0, 0, 1, 0, 1, 0, 1, 0, 0, 0, 0, 0, 0, 0, 0, 0,\n       0, 0, 0, 1, 0, 0, 1, 1, 0, 0, 1, 1, 0, 0, 0, 0, 0, 0, 0, 0, 0, 0,\n       1, 0])"
     },
     "execution_count": 37,
     "metadata": {},
     "output_type": "execute_result"
    }
   ],
   "source": [
    "x_best"
   ],
   "metadata": {
    "collapsed": false,
    "pycharm": {
     "name": "#%%\n"
    }
   }
  },
  {
   "cell_type": "markdown",
   "source": [
    "Uzyskany wynik to $1930$, który otrzymaliśmy w $288$ iteracji. Wynik ten możemy uznać za bardzo dobry, jednakże nie powinniśmy oceniać doboru hiperparametrów jedynie na podstawie jednego przebiegu. Dlatego w dalszej części sprawozdania nasze wnioski będziemy opierać na wskaźnikach jakości, które pochodzą z analizy zawierającej wiele przebiegów o tych samych hiperparametrach."
   ],
   "metadata": {
    "collapsed": false,
    "pycharm": {
     "name": "#%% md\n"
    }
   }
  },
  {
   "cell_type": "markdown",
   "source": [
    "## 5. Zastosowanie algorytmu genetycznego w celu wyznaczenia najlepszego osobnika - Badanie wpływu prawdopodobieństwa mutacji\n"
   ],
   "metadata": {
    "collapsed": false,
    "pycharm": {
     "name": "#%% md\n"
    }
   }
  },
  {
   "cell_type": "markdown",
   "source": [
    "Aby usprawnić analizę otrzymanych wyników, zaimplementowana została klasa ***GeneticAlgorithmAnalyzer***, która podczas tworzenia obiektu przyjmuje jako argumenty **solver**, **funkcję celu**, **generator populacji** oraz **liczbę przebiegów**, na podstawie których będziemy mogli ocenić dobór parametrów solvera, na podstawie zwracanych wartości takich jak: **wartość maksymalna**, **wartość minimalna**, **średnia wyników**, **mediana wyników** oraz **odchylenie standardowe**."
   ],
   "metadata": {
    "collapsed": false,
    "pycharm": {
     "name": "#%% md\n"
    }
   }
  },
  {
   "cell_type": "markdown",
   "source": [
    "Na początku przetestujemy solver z domyślnymi wartościami, tym razem dla wielu przebiegów."
   ],
   "metadata": {
    "collapsed": false,
    "pycharm": {
     "name": "#%% md\n"
    }
   }
  },
  {
   "cell_type": "code",
   "execution_count": 75,
   "outputs": [],
   "source": [
    "solver = GeneticAlgorithmSolver()"
   ],
   "metadata": {
    "collapsed": false,
    "pycharm": {
     "name": "#%%\n"
    }
   }
  },
  {
   "cell_type": "code",
   "execution_count": 76,
   "outputs": [],
   "source": [
    "analyzer = GeneticAlgorithmAnalyzer(solver=solver, population_creator=population_creator ,problem=problem, n_samples=30)"
   ],
   "metadata": {
    "collapsed": false,
    "pycharm": {
     "name": "#%%\n"
    }
   }
  },
  {
   "cell_type": "code",
   "execution_count": 77,
   "outputs": [
    {
     "name": "stdout",
     "output_type": "stream",
     "text": [
      "Sample 1: Best score = 1925\n",
      "Sample 2: Best score = 1932\n",
      "Sample 3: Best score = 1932\n",
      "Sample 4: Best score = 1927\n",
      "Sample 5: Best score = 1926\n",
      "Sample 6: Best score = 1926\n",
      "Sample 7: Best score = 1927\n",
      "Sample 8: Best score = 1927\n",
      "Sample 9: Best score = 1927\n",
      "Sample 10: Best score = 1924\n",
      "Sample 11: Best score = 1926\n",
      "Sample 12: Best score = 1925\n",
      "Sample 13: Best score = 1927\n",
      "Sample 14: Best score = 1925\n",
      "Sample 15: Best score = 1925\n",
      "Sample 16: Best score = 1925\n",
      "Sample 17: Best score = 1928\n",
      "Sample 18: Best score = 1925\n",
      "Sample 19: Best score = 1926\n",
      "Sample 20: Best score = 1927\n",
      "Sample 21: Best score = 1926\n",
      "Sample 22: Best score = 1925\n",
      "Sample 23: Best score = 1927\n",
      "Sample 24: Best score = 1925\n",
      "Sample 25: Best score = 1925\n",
      "Sample 26: Best score = 1929\n",
      "Sample 27: Best score = 1930\n",
      "Sample 28: Best score = 1926\n",
      "Sample 29: Best score = 1927\n",
      "Sample 30: Best score = 1926\n",
      " \n",
      "Best sample = 2\n",
      "Best score = 1932, Minimum score = 1924\n",
      "Average score = 1926.6, Median score = 1926.0, Standard deviation = 1.925270543759153\n"
     ]
    }
   ],
   "source": [
    "analyzer.analyze()"
   ],
   "metadata": {
    "collapsed": false,
    "pycharm": {
     "name": "#%%\n"
    }
   }
  },
  {
   "cell_type": "markdown",
   "source": [
    "Jak widać powyżej, wartość minimalna różni się od maksymalnej, która w jednym z przebiegów wynosi aż $1932$. Fakt ten potwierdza to, jak istotny jest sposób oceny doboru hiperparametrów nie na podstawie jednego przebiegu, a na ich znacznej ilości."
   ],
   "metadata": {
    "collapsed": false,
    "pycharm": {
     "name": "#%% md\n"
    }
   }
  },
  {
   "cell_type": "markdown",
   "source": [
    "Średnia otrzymanych wyników jest równa $1926,6$, co jest wartością zbliżoną do otrzymanej mediany wyników wynoszącej $1926$. Odchylenie standardowe wynosi w przybliżeniu $1,9253$, które, mając na uwadze otrzymane wyniki, jest stosunkowo małe. Jednakże w chwili obecnej nie jesteśmy w stanie stwierdzić, czy rzeczywiście tak jest, ponieważ nie wiemy, jak algorytm zadziała dla innych zestawów hiperparametrów. Pewni natomiast możemy być tego, że w każdym przebiegu rakiecie udało się wylądować, o czym świadczy wynik bliski wartości $2000$. Sprawdźmy jednak, czy uda nam się zredukować koszty startu rakiety tak, aby jeszcze bardziej zbliżyć się do wartości równej $2000$, zmieniając dobór hiperparametrów. Jednym z nich jest prawdopodobieństwo mutacji $pm$. O tym, jak jego wartość wpływa na otrzymane wyniki, przekonamy się w poniższych doświadczeniach.\n"
   ],
   "metadata": {
    "collapsed": false,
    "pycharm": {
     "name": "#%% md\n"
    }
   }
  },
  {
   "cell_type": "markdown",
   "source": [
    "#### 5.1 Badanie wpływu prawdopodobieństwa mutacji dla $t_{max} = 1000$"
   ],
   "metadata": {
    "collapsed": false,
    "pycharm": {
     "name": "#%% md\n"
    }
   }
  },
  {
   "cell_type": "markdown",
   "source": [
    "Aby końcowe wnioski były względnie uniwersalne, nasze rozważania zostaną przeprowadzone dla różnej liczby iteracji $t_{max}$ w danym przebiegu, przy stałej wielkości populacji równej $250$. Jako pierwsza zostanie przeprowadzona analiza dla domyślnej wartości $t_{max} = 1000$."
   ],
   "metadata": {
    "collapsed": false,
    "pycharm": {
     "name": "#%% md\n"
    }
   }
  },
  {
   "cell_type": "markdown",
   "source": [
    "Aby algorytm genetyczny działał jak najlepiej, zarówno prawdopodobieństwo krzyżowania, jak i prawdopodobieństwo mutacji muszą być dobrane w odpowiedni sposób. Na początku sprawdźmy, jak zachowa się algorytm, jeśli prawdopodobieństwo mutacji zostanie zwiększone. Dzięki temu zabiegowi zwiększymy różnorodność osobników w populacji. Być może umożliwi to nam, osiągniecie lepszych wyników. Na potrzeby eksperymentu $pm$ będzie przyjmowało kolejno wartości równe $0,1$, $0,2$ oraz $0,3$."
   ],
   "metadata": {
    "collapsed": false,
    "pycharm": {
     "name": "#%% md\n"
    }
   }
  },
  {
   "cell_type": "markdown",
   "source": [],
   "metadata": {
    "collapsed": false,
    "pycharm": {
     "name": "#%% md\n"
    }
   }
  },
  {
   "cell_type": "code",
   "execution_count": 78,
   "outputs": [],
   "source": [
    "solver = GeneticAlgorithmSolver(pm=0.1)"
   ],
   "metadata": {
    "collapsed": false,
    "pycharm": {
     "name": "#%%\n"
    }
   }
  },
  {
   "cell_type": "code",
   "execution_count": 79,
   "outputs": [],
   "source": [
    "analyzer = GeneticAlgorithmAnalyzer(solver=solver, population_creator=population_creator ,problem=problem, n_samples=30)"
   ],
   "metadata": {
    "collapsed": false,
    "pycharm": {
     "name": "#%%\n"
    }
   }
  },
  {
   "cell_type": "code",
   "execution_count": 80,
   "outputs": [
    {
     "name": "stdout",
     "output_type": "stream",
     "text": [
      "Sample 1: Best score = 1926\n",
      "Sample 2: Best score = 1924\n",
      "Sample 3: Best score = 1925\n",
      "Sample 4: Best score = 1926\n",
      "Sample 5: Best score = 1925\n",
      "Sample 6: Best score = 1926\n",
      "Sample 7: Best score = 1925\n",
      "Sample 8: Best score = 1925\n",
      "Sample 9: Best score = 1927\n",
      "Sample 10: Best score = 1924\n",
      "Sample 11: Best score = 1927\n",
      "Sample 12: Best score = 1925\n",
      "Sample 13: Best score = 1925\n",
      "Sample 14: Best score = 1928\n",
      "Sample 15: Best score = 1928\n",
      "Sample 16: Best score = 1927\n",
      "Sample 17: Best score = 1926\n",
      "Sample 18: Best score = 1925\n",
      "Sample 19: Best score = 1926\n",
      "Sample 20: Best score = 1925\n",
      "Sample 21: Best score = 1927\n",
      "Sample 22: Best score = 1925\n",
      "Sample 23: Best score = 1926\n",
      "Sample 24: Best score = 1926\n",
      "Sample 25: Best score = 1926\n",
      "Sample 26: Best score = 1925\n",
      "Sample 27: Best score = 1926\n",
      "Sample 28: Best score = 1927\n",
      "Sample 29: Best score = 1926\n",
      "Sample 30: Best score = 1925\n",
      " \n",
      "Best sample = 14\n",
      "Best score = 1928, Minimum score = 1924\n",
      "Average score = 1925.8, Median score = 1926.0, Standard deviation = 1.013245610238044\n"
     ]
    }
   ],
   "source": [
    "analyzer.analyze()"
   ],
   "metadata": {
    "collapsed": false,
    "pycharm": {
     "name": "#%%\n"
    }
   }
  },
  {
   "cell_type": "markdown",
   "source": [],
   "metadata": {
    "collapsed": false,
    "pycharm": {
     "name": "#%% md\n"
    }
   }
  },
  {
   "cell_type": "code",
   "execution_count": 84,
   "outputs": [],
   "source": [
    "solver = GeneticAlgorithmSolver(pm=0.2)"
   ],
   "metadata": {
    "collapsed": false,
    "pycharm": {
     "name": "#%%\n"
    }
   }
  },
  {
   "cell_type": "code",
   "execution_count": 85,
   "outputs": [],
   "source": [
    "analyzer = GeneticAlgorithmAnalyzer(solver=solver, population_creator=population_creator ,problem=problem, n_samples=30)"
   ],
   "metadata": {
    "collapsed": false,
    "pycharm": {
     "name": "#%%\n"
    }
   }
  },
  {
   "cell_type": "code",
   "execution_count": 86,
   "outputs": [
    {
     "name": "stdout",
     "output_type": "stream",
     "text": [
      "Sample 1: Best score = 1924\n",
      "Sample 2: Best score = 1926\n",
      "Sample 3: Best score = 1927\n",
      "Sample 4: Best score = 1924\n",
      "Sample 5: Best score = 1926\n",
      "Sample 6: Best score = 1924\n",
      "Sample 7: Best score = 1926\n",
      "Sample 8: Best score = 1925\n",
      "Sample 9: Best score = 1926\n",
      "Sample 10: Best score = 1923\n",
      "Sample 11: Best score = 1926\n",
      "Sample 12: Best score = 1925\n",
      "Sample 13: Best score = 1924\n",
      "Sample 14: Best score = 1926\n",
      "Sample 15: Best score = 1924\n",
      "Sample 16: Best score = 1925\n",
      "Sample 17: Best score = 1926\n",
      "Sample 18: Best score = 1925\n",
      "Sample 19: Best score = 1926\n",
      "Sample 20: Best score = 1928\n",
      "Sample 21: Best score = 1925\n",
      "Sample 22: Best score = 1928\n",
      "Sample 23: Best score = 1925\n",
      "Sample 24: Best score = 1928\n",
      "Sample 25: Best score = 1924\n",
      "Sample 26: Best score = 1924\n",
      "Sample 27: Best score = 1925\n",
      "Sample 28: Best score = 1924\n",
      "Sample 29: Best score = 1924\n",
      "Sample 30: Best score = 1925\n",
      " \n",
      "Best sample = 20\n",
      "Best score = 1928, Minimum score = 1923\n",
      "Average score = 1925.2666666666667, Median score = 1925.0, Standard deviation = 1.2892719737209144\n"
     ]
    }
   ],
   "source": [
    "analyzer.analyze()"
   ],
   "metadata": {
    "collapsed": false,
    "pycharm": {
     "name": "#%%\n"
    }
   }
  },
  {
   "cell_type": "markdown",
   "source": [],
   "metadata": {
    "collapsed": false,
    "pycharm": {
     "name": "#%% md\n"
    }
   }
  },
  {
   "cell_type": "code",
   "execution_count": 90,
   "outputs": [],
   "source": [
    "solver = GeneticAlgorithmSolver(pm=0.3)"
   ],
   "metadata": {
    "collapsed": false,
    "pycharm": {
     "name": "#%%\n"
    }
   }
  },
  {
   "cell_type": "code",
   "execution_count": 91,
   "outputs": [],
   "source": [
    "analyzer = GeneticAlgorithmAnalyzer(solver=solver, population_creator=population_creator ,problem=problem, n_samples=30)"
   ],
   "metadata": {
    "collapsed": false,
    "pycharm": {
     "name": "#%%\n"
    }
   }
  },
  {
   "cell_type": "code",
   "execution_count": 92,
   "outputs": [
    {
     "name": "stdout",
     "output_type": "stream",
     "text": [
      "Sample 1: Best score = 1925\n",
      "Sample 2: Best score = 1925\n",
      "Sample 3: Best score = 1924\n",
      "Sample 4: Best score = 1925\n",
      "Sample 5: Best score = 1923\n",
      "Sample 6: Best score = 1924\n",
      "Sample 7: Best score = 1925\n",
      "Sample 8: Best score = 1931\n",
      "Sample 9: Best score = 1924\n",
      "Sample 10: Best score = 1924\n",
      "Sample 11: Best score = 1925\n",
      "Sample 12: Best score = 1925\n",
      "Sample 13: Best score = 1925\n",
      "Sample 14: Best score = 1923\n",
      "Sample 15: Best score = 1925\n",
      "Sample 16: Best score = 1925\n",
      "Sample 17: Best score = 1928\n",
      "Sample 18: Best score = 1924\n",
      "Sample 19: Best score = 1924\n",
      "Sample 20: Best score = 1924\n",
      "Sample 21: Best score = 1924\n",
      "Sample 22: Best score = 1925\n",
      "Sample 23: Best score = 1925\n",
      "Sample 24: Best score = 1924\n",
      "Sample 25: Best score = 1925\n",
      "Sample 26: Best score = 1925\n",
      "Sample 27: Best score = 1925\n",
      "Sample 28: Best score = 1924\n",
      "Sample 29: Best score = 1924\n",
      "Sample 30: Best score = 1924\n",
      " \n",
      "Best sample = 8\n",
      "Best score = 1931, Minimum score = 1923\n",
      "Average score = 1924.7666666666667, Median score = 1925.0, Standard deviation = 1.4533486237727757\n"
     ]
    }
   ],
   "source": [
    "analyzer.analyze()"
   ],
   "metadata": {
    "collapsed": false,
    "pycharm": {
     "name": "#%%\n"
    }
   }
  },
  {
   "cell_type": "markdown",
   "source": [
    "Otrzymane średnie wyniki są zauważalnie gorsze od średniego wyniku, który otrzymaliśmy dla $pm = 0,05$. Dodatkowo zauważamy, że wraz ze wzrostem $pm$ rezultaty stają się coraz gorsze, co wskazuje, że osobniki są zaburzane w zbyt dużym stopniu. Aby potwierdzić nasze obserwacje, przeprowadźmy dodatkowo analizę dla $pm$ równego $0,5$ oraz $0,9$."
   ],
   "metadata": {
    "collapsed": false,
    "pycharm": {
     "name": "#%% md\n"
    }
   }
  },
  {
   "cell_type": "code",
   "execution_count": 9,
   "outputs": [],
   "source": [
    "solver = GeneticAlgorithmSolver(pm=0.5)"
   ],
   "metadata": {
    "collapsed": false,
    "pycharm": {
     "name": "#%%\n"
    }
   }
  },
  {
   "cell_type": "code",
   "execution_count": 10,
   "outputs": [],
   "source": [
    "analyzer = GeneticAlgorithmAnalyzer(solver=solver, population_creator=population_creator ,problem=problem, n_samples=30)"
   ],
   "metadata": {
    "collapsed": false,
    "pycharm": {
     "name": "#%%\n"
    }
   }
  },
  {
   "cell_type": "code",
   "execution_count": 11,
   "outputs": [
    {
     "name": "stdout",
     "output_type": "stream",
     "text": [
      "Sample 1: Best score = 1925\n",
      "Sample 2: Best score = 1924\n",
      "Sample 3: Best score = 1927\n",
      "Sample 4: Best score = 1925\n",
      "Sample 5: Best score = 1924\n",
      "Sample 6: Best score = 1924\n",
      "Sample 7: Best score = 1926\n",
      "Sample 8: Best score = 1926\n",
      "Sample 9: Best score = 1924\n",
      "Sample 10: Best score = 1924\n",
      "Sample 11: Best score = 1923\n",
      "Sample 12: Best score = 1923\n",
      "Sample 13: Best score = 1925\n",
      "Sample 14: Best score = 1925\n",
      "Sample 15: Best score = 1925\n",
      "Sample 16: Best score = 1923\n",
      "Sample 17: Best score = 1924\n",
      "Sample 18: Best score = 1926\n",
      "Sample 19: Best score = 1923\n",
      "Sample 20: Best score = 1925\n",
      "Sample 21: Best score = 1924\n",
      "Sample 22: Best score = 1924\n",
      "Sample 23: Best score = 1927\n",
      "Sample 24: Best score = 1926\n",
      "Sample 25: Best score = 1928\n",
      "Sample 26: Best score = 1927\n",
      "Sample 27: Best score = 1924\n",
      "Sample 28: Best score = 1926\n",
      "Sample 29: Best score = 1926\n",
      "Sample 30: Best score = 1923\n",
      " \n",
      "Best sample = 25\n",
      "Best score = 1928, Minimum score = 1923\n",
      "Average score = 1924.8666666666666, Median score = 1925.0, Standard deviation = 1.3597385369580761\n"
     ]
    }
   ],
   "source": [
    "analyzer.analyze()"
   ],
   "metadata": {
    "collapsed": false,
    "pycharm": {
     "name": "#%%\n"
    }
   }
  },
  {
   "cell_type": "markdown",
   "source": [],
   "metadata": {
    "collapsed": false,
    "pycharm": {
     "name": "#%% md\n"
    }
   }
  },
  {
   "cell_type": "code",
   "execution_count": 96,
   "outputs": [],
   "source": [
    "solver = GeneticAlgorithmSolver(pm=0.9)"
   ],
   "metadata": {
    "collapsed": false,
    "pycharm": {
     "name": "#%%\n"
    }
   }
  },
  {
   "cell_type": "code",
   "execution_count": 97,
   "outputs": [],
   "source": [
    "analyzer = GeneticAlgorithmAnalyzer(solver=solver, population_creator=population_creator ,problem=problem, n_samples=30)"
   ],
   "metadata": {
    "collapsed": false,
    "pycharm": {
     "name": "#%%\n"
    }
   }
  },
  {
   "cell_type": "code",
   "execution_count": 98,
   "outputs": [
    {
     "name": "stdout",
     "output_type": "stream",
     "text": [
      "Sample 1: Best score = 1928\n",
      "Sample 2: Best score = 1924\n",
      "Sample 3: Best score = 1924\n",
      "Sample 4: Best score = 1926\n",
      "Sample 5: Best score = 1925\n",
      "Sample 6: Best score = 1924\n",
      "Sample 7: Best score = 1923\n",
      "Sample 8: Best score = 1925\n",
      "Sample 9: Best score = 1924\n",
      "Sample 10: Best score = 1928\n",
      "Sample 11: Best score = 1922\n",
      "Sample 12: Best score = 1924\n",
      "Sample 13: Best score = 1925\n",
      "Sample 14: Best score = 1927\n",
      "Sample 15: Best score = 1924\n",
      "Sample 16: Best score = 1926\n",
      "Sample 17: Best score = 1926\n",
      "Sample 18: Best score = 1923\n",
      "Sample 19: Best score = 1923\n",
      "Sample 20: Best score = 1923\n",
      "Sample 21: Best score = 1924\n",
      "Sample 22: Best score = 1927\n",
      "Sample 23: Best score = 1926\n",
      "Sample 24: Best score = 1925\n",
      "Sample 25: Best score = 1926\n",
      "Sample 26: Best score = 1925\n",
      "Sample 27: Best score = 1925\n",
      "Sample 28: Best score = 1924\n",
      "Sample 29: Best score = 1924\n",
      "Sample 30: Best score = 1925\n",
      " \n",
      "Best sample = 1\n",
      "Best score = 1928, Minimum score = 1922\n",
      "Average score = 1924.8333333333333, Median score = 1925.0, Standard deviation = 1.4624940645653535\n",
      "Sample 1: Best score = 1925\n",
      "Sample 2: Best score = 1924\n",
      "Sample 3: Best score = 1925\n",
      "Sample 4: Best score = 1924\n",
      "Sample 5: Best score = 1924\n",
      "Sample 6: Best score = 1926\n",
      "Sample 7: Best score = 1926\n",
      "Sample 8: Best score = 1927\n",
      "Sample 9: Best score = 1925\n",
      "Sample 10: Best score = 1924\n",
      "Sample 11: Best score = 1924\n",
      "Sample 12: Best score = 1924\n",
      "Sample 13: Best score = 1925\n",
      "Sample 14: Best score = 1924\n",
      "Sample 15: Best score = 1923\n",
      "Sample 16: Best score = 1928\n",
      "Sample 17: Best score = 1924\n",
      "Sample 18: Best score = 1924\n",
      "Sample 19: Best score = 1924\n",
      "Sample 20: Best score = 1928\n",
      "Sample 21: Best score = 1923\n",
      "Sample 22: Best score = 1925\n",
      "Sample 23: Best score = 1924\n",
      "Sample 24: Best score = 1925\n",
      "Sample 25: Best score = 1924\n",
      "Sample 26: Best score = 1923\n",
      "Sample 27: Best score = 1925\n",
      "Sample 28: Best score = 1925\n",
      "Sample 29: Best score = 1926\n",
      "Sample 30: Best score = 1924\n",
      " \n",
      "Best sample = 16\n",
      "Best score = 1928, Minimum score = 1923\n",
      "Average score = 1924.7333333333333, Median score = 1924.0, Standard deviation = 1.2631530214330942\n"
     ]
    }
   ],
   "source": [
    "analyzer.analyze()"
   ],
   "metadata": {
    "collapsed": false,
    "pycharm": {
     "name": "#%%\n"
    }
   }
  },
  {
   "cell_type": "markdown",
   "source": [
    "Podobnie jak w poprzednich trzech przypadkach, rezultaty są gorsze od tych, które otrzymaliśmy dla $pm = 0,05$."
   ],
   "metadata": {
    "collapsed": false,
    "pycharm": {
     "name": "#%% md\n"
    }
   }
  },
  {
   "cell_type": "markdown",
   "source": [
    "Wiedząc, że zwiększanie wartości $pm$ względem domyślnej nie przynosi poprawy, spróbujmy zmniejszyć wartość $pm$, zmniejszając tym samym różnorodność osobników. Analizę przeprowadzimy dla $pm$ równego $0,01$, $0,005$ oraz $0,001$."
   ],
   "metadata": {
    "collapsed": false,
    "pycharm": {
     "name": "#%% md\n"
    }
   }
  },
  {
   "cell_type": "code",
   "execution_count": 102,
   "outputs": [],
   "source": [
    "solver = GeneticAlgorithmSolver(pm=0.01)"
   ],
   "metadata": {
    "collapsed": false,
    "pycharm": {
     "name": "#%%\n"
    }
   }
  },
  {
   "cell_type": "code",
   "execution_count": 103,
   "outputs": [],
   "source": [
    "analyzer = GeneticAlgorithmAnalyzer(solver=solver, population_creator=population_creator, problem=problem, n_samples=30)"
   ],
   "metadata": {
    "collapsed": false,
    "pycharm": {
     "name": "#%%\n"
    }
   }
  },
  {
   "cell_type": "code",
   "execution_count": 104,
   "outputs": [
    {
     "name": "stdout",
     "output_type": "stream",
     "text": [
      "Sample 1: Best score = 1925\n",
      "Sample 2: Best score = 1928\n",
      "Sample 3: Best score = 1926\n",
      "Sample 4: Best score = 1927\n",
      "Sample 5: Best score = 1925\n",
      "Sample 6: Best score = 1927\n",
      "Sample 7: Best score = 1928\n",
      "Sample 8: Best score = 1925\n",
      "Sample 9: Best score = 1925\n",
      "Sample 10: Best score = 1925\n",
      "Sample 11: Best score = 1925\n",
      "Sample 12: Best score = 1925\n",
      "Sample 13: Best score = 1925\n",
      "Sample 14: Best score = 1926\n",
      "Sample 15: Best score = 1925\n",
      "Sample 16: Best score = 1926\n",
      "Sample 17: Best score = 1924\n",
      "Sample 18: Best score = 1926\n",
      "Sample 19: Best score = 1927\n",
      "Sample 20: Best score = 1925\n",
      "Sample 21: Best score = 1927\n",
      "Sample 22: Best score = 1928\n",
      "Sample 23: Best score = 1926\n",
      "Sample 24: Best score = 1927\n",
      "Sample 25: Best score = 1927\n",
      "Sample 26: Best score = 1927\n",
      "Sample 27: Best score = 1927\n",
      "Sample 28: Best score = 1924\n",
      "Sample 29: Best score = 1926\n",
      "Sample 30: Best score = 1927\n",
      " \n",
      "Best sample = 2\n",
      "Best score = 1928, Minimum score = 1924\n",
      "Average score = 1926.0333333333333, Median score = 1926.0, Standard deviation = 1.1396880664852505\n"
     ]
    }
   ],
   "source": [
    "analyzer.analyze()"
   ],
   "metadata": {
    "collapsed": false,
    "pycharm": {
     "name": "#%%\n"
    }
   }
  },
  {
   "cell_type": "markdown",
   "source": [],
   "metadata": {
    "collapsed": false,
    "pycharm": {
     "name": "#%% md\n"
    }
   }
  },
  {
   "cell_type": "code",
   "execution_count": 108,
   "outputs": [],
   "source": [
    "solver = GeneticAlgorithmSolver(pm=0.005)"
   ],
   "metadata": {
    "collapsed": false,
    "pycharm": {
     "name": "#%%\n"
    }
   }
  },
  {
   "cell_type": "code",
   "execution_count": 109,
   "outputs": [],
   "source": [
    "analyzer = GeneticAlgorithmAnalyzer(solver=solver, population_creator=population_creator, problem=problem, n_samples=30)"
   ],
   "metadata": {
    "collapsed": false,
    "pycharm": {
     "name": "#%%\n"
    }
   }
  },
  {
   "cell_type": "code",
   "execution_count": 110,
   "outputs": [
    {
     "name": "stdout",
     "output_type": "stream",
     "text": [
      "Sample 1: Best score = 1926\n",
      "Sample 2: Best score = 1924\n",
      "Sample 3: Best score = 1929\n",
      "Sample 4: Best score = 1924\n",
      "Sample 5: Best score = 1925\n",
      "Sample 6: Best score = 1926\n",
      "Sample 7: Best score = 1924\n",
      "Sample 8: Best score = 1925\n",
      "Sample 9: Best score = 1927\n",
      "Sample 10: Best score = 1926\n",
      "Sample 11: Best score = 1926\n",
      "Sample 12: Best score = 1926\n",
      "Sample 13: Best score = 1926\n",
      "Sample 14: Best score = 1925\n",
      "Sample 15: Best score = 1927\n",
      "Sample 16: Best score = 1927\n",
      "Sample 17: Best score = 1924\n",
      "Sample 18: Best score = 1925\n",
      "Sample 19: Best score = 1926\n",
      "Sample 20: Best score = 1925\n",
      "Sample 21: Best score = 1928\n",
      "Sample 22: Best score = 1925\n",
      "Sample 23: Best score = 1925\n",
      "Sample 24: Best score = 1926\n",
      "Sample 25: Best score = 1926\n",
      "Sample 26: Best score = 1926\n",
      "Sample 27: Best score = 1926\n",
      "Sample 28: Best score = 1923\n",
      "Sample 29: Best score = 1926\n",
      "Sample 30: Best score = 1925\n",
      " \n",
      "Best sample = 3\n",
      "Best score = 1929, Minimum score = 1923\n",
      "Average score = 1925.6333333333334, Median score = 1926.0, Standard deviation = 1.2242911781471306\n"
     ]
    }
   ],
   "source": [
    "analyzer.analyze()"
   ],
   "metadata": {
    "collapsed": false,
    "pycharm": {
     "name": "#%%\n"
    }
   }
  },
  {
   "cell_type": "markdown",
   "source": [],
   "metadata": {
    "collapsed": false,
    "pycharm": {
     "name": "#%% md\n"
    }
   }
  },
  {
   "cell_type": "code",
   "execution_count": 15,
   "outputs": [],
   "source": [
    "solver = GeneticAlgorithmSolver(pm=0.001)"
   ],
   "metadata": {
    "collapsed": false,
    "pycharm": {
     "name": "#%%\n"
    }
   }
  },
  {
   "cell_type": "code",
   "execution_count": 16,
   "outputs": [],
   "source": [
    "analyzer = GeneticAlgorithmAnalyzer(solver=solver, population_creator=population_creator, problem=problem, n_samples=30)"
   ],
   "metadata": {
    "collapsed": false,
    "pycharm": {
     "name": "#%%\n"
    }
   }
  },
  {
   "cell_type": "code",
   "execution_count": 17,
   "outputs": [
    {
     "name": "stdout",
     "output_type": "stream",
     "text": [
      "Sample 1: Best score = 1925\n",
      "Sample 2: Best score = 1925\n",
      "Sample 3: Best score = 1923\n",
      "Sample 4: Best score = 1923\n",
      "Sample 5: Best score = 1926\n",
      "Sample 6: Best score = 1925\n",
      "Sample 7: Best score = 1924\n",
      "Sample 8: Best score = 1925\n",
      "Sample 9: Best score = 1926\n",
      "Sample 10: Best score = 1923\n",
      "Sample 11: Best score = 1925\n",
      "Sample 12: Best score = 1927\n",
      "Sample 13: Best score = 1923\n",
      "Sample 14: Best score = 1925\n",
      "Sample 15: Best score = 1925\n",
      "Sample 16: Best score = 1924\n",
      "Sample 17: Best score = 1928\n",
      "Sample 18: Best score = 1925\n",
      "Sample 19: Best score = 1924\n",
      "Sample 20: Best score = 1926\n",
      "Sample 21: Best score = 1925\n",
      "Sample 22: Best score = 1922\n",
      "Sample 23: Best score = 1927\n",
      "Sample 24: Best score = 1926\n",
      "Sample 25: Best score = 1922\n",
      "Sample 26: Best score = 1920\n",
      "Sample 27: Best score = 1927\n",
      "Sample 28: Best score = 1924\n",
      "Sample 29: Best score = 1924\n",
      "Sample 30: Best score = 1923\n",
      " \n",
      "Best sample = 17\n",
      "Best score = 1928, Minimum score = 1920\n",
      "Average score = 1924.5666666666666, Median score = 1925.0, Standard deviation = 1.7065234314893603\n"
     ]
    }
   ],
   "source": [
    "analyzer.analyze()"
   ],
   "metadata": {
    "collapsed": false,
    "pycharm": {
     "name": "#%%\n"
    }
   }
  },
  {
   "cell_type": "markdown",
   "source": [
    "I tym razem otrzymane rezultaty są gorsze od tych, które otrzymaliśmy dla domyślnej wartości $pm$. O ile jednak końcowy wynik dla $pm = 0,01$ jest bardzo dobry, o tyle dla $pm = 0,001$ otrzymany rezultat odbiega od tego dla $pm = 0.05$, jak i tych wygenerowanych dla $pm = 0.01$ i $pm = 0.005$."
   ],
   "metadata": {
    "collapsed": false,
    "pycharm": {
     "name": "#%% md\n"
    }
   }
  },
  {
   "cell_type": "markdown",
   "source": [
    "Na koniec sprawdźmy, co się stanie, gdy $pm$ będzie równe 0. Czy i w tym przypadku rezultat znowu się pogorszy?"
   ],
   "metadata": {
    "collapsed": false,
    "pycharm": {
     "name": "#%% md\n"
    }
   }
  },
  {
   "cell_type": "code",
   "execution_count": 28,
   "outputs": [],
   "source": [
    "solver = GeneticAlgorithmSolver(pm=0)"
   ],
   "metadata": {
    "collapsed": false,
    "pycharm": {
     "name": "#%%\n"
    }
   }
  },
  {
   "cell_type": "code",
   "execution_count": 29,
   "outputs": [],
   "source": [
    "analyzer = GeneticAlgorithmAnalyzer(solver=solver, population_creator=population_creator, problem=problem, n_samples=30)"
   ],
   "metadata": {
    "collapsed": false,
    "pycharm": {
     "name": "#%%\n"
    }
   }
  },
  {
   "cell_type": "code",
   "execution_count": 30,
   "outputs": [
    {
     "name": "stdout",
     "output_type": "stream",
     "text": [
      "Sample 1: Best score = 1920\n",
      "Sample 2: Best score = 1919\n",
      "Sample 3: Best score = 1924\n",
      "Sample 4: Best score = 1922\n",
      "Sample 5: Best score = 1923\n",
      "Sample 6: Best score = 1918\n",
      "Sample 7: Best score = 1920\n",
      "Sample 8: Best score = 1922\n",
      "Sample 9: Best score = 1922\n",
      "Sample 10: Best score = 1918\n",
      "Sample 11: Best score = 1924\n",
      "Sample 12: Best score = 1918\n",
      "Sample 13: Best score = 1920\n",
      "Sample 14: Best score = 1919\n",
      "Sample 15: Best score = 1921\n",
      "Sample 16: Best score = 1923\n",
      "Sample 17: Best score = 1921\n",
      "Sample 18: Best score = 1922\n",
      "Sample 19: Best score = 1921\n",
      "Sample 20: Best score = 1919\n",
      "Sample 21: Best score = 1922\n",
      "Sample 22: Best score = 1922\n",
      "Sample 23: Best score = 1918\n",
      "Sample 24: Best score = 1922\n",
      "Sample 25: Best score = 1921\n",
      "Sample 26: Best score = 1922\n",
      "Sample 27: Best score = 1921\n",
      "Sample 28: Best score = 1921\n",
      "Sample 29: Best score = 1920\n",
      "Sample 30: Best score = 1920\n",
      " \n",
      "Best sample = 3\n",
      "Best score = 1924, Minimum score = 1918\n",
      "Average score = 1920.8333333333333, Median score = 1921.0, Standard deviation = 1.694763175851488\n"
     ]
    }
   ],
   "source": [
    "analyzer.analyze()"
   ],
   "metadata": {
    "collapsed": false,
    "pycharm": {
     "name": "#%%\n"
    }
   }
  },
  {
   "cell_type": "markdown",
   "source": [
    "Jak łatwo zauważyć średni wynik dla $pm = 0$ ($1920,8333$) jest o wiele gorszy od tego, który otrzymaliśmy dla $pm = 0,05$ ($1926,6$). Różnica jest w przybliżeniu równa $6$. Oprócz tego widać jak duży wpływ na wynik ma sama obecność mutacji. Nawet przy prawdopodobieństwie mutacji równym $0,001$ wyniki są zauważalnie lepsze niż w przypadku, gdy prawdopodobieństwo to jest równe $0$ (różnica bliska $4$)."
   ],
   "metadata": {
    "collapsed": false,
    "pycharm": {
     "name": "#%% md\n"
    }
   }
  },
  {
   "cell_type": "markdown",
   "source": [
    "Poniżej zamieszczam wyniki z przeprowadzonych do tej pory doświadczeń:"
   ],
   "metadata": {
    "collapsed": false,
    "pycharm": {
     "name": "#%% md\n"
    }
   }
  },
  {
   "cell_type": "markdown",
   "source": [
    "| t_max | $pm$  | Średni wynik | Mediana | Odchylenie standardowe | Max  | Min  |\n",
    "|-------|-------|--------------|---------|------------------------|------|------|\n",
    "| 1000  | 0     | 1920.8333    | 1921    | 1.6948                 | 1924 | 1918 |\n",
    "| 1000  | 0.001 | 1924.5667    | 1925    | 1.7065                 | 1928 | 1920 |\n",
    "| 1000  | 0.005 | 1925.6333    | 1926    | 1.2242                 | 1929 | 1923 |\n",
    "| 1000  | 0.01  | 1926.0333    | 1926    | 1.1397                 | 1928 | 1924 |\n",
    "| 1000  | 0.05  | 1926.6       | 1926    | 1.9253                 | 1932 | 1924 |\n",
    "| 1000  | 0.1   | 1925.8       | 1926    | 1.0132                 | 1928 | 1924 |\n",
    "| 1000  | 0.2   | 1925.2667    | 1925    | 1.2893                 | 1928 | 1923 |\n",
    "| 1000  | 0.3   | 1924.7667    | 1925    | 1.4533                 | 1931 | 1923 |\n",
    "| 1000  | 0.5   | 1924.8667    | 1925    | 1.3597                 | 1928 | 1923 |\n",
    "| 1000  | 0.9   | 1924.7333    | 1924    | 1.2632                 | 1928 | 1923 |\n"
   ],
   "metadata": {
    "collapsed": false,
    "pycharm": {
     "name": "#%% md\n"
    }
   }
  },
  {
   "cell_type": "markdown",
   "source": [
    "| t_max   | Średni wynik (średnia) | Mediana (średnia) | Odchylenie standardowe (średnia) | Max (max) | Min (min) |\n",
    "|---------|------------------------|-------------------|----------------------------------|-----------|-----------|\n",
    "| 1000    | 1924.91                | 1924.9            | 1.4069                           | 1932      | 1918      |"
   ],
   "metadata": {
    "collapsed": false,
    "pycharm": {
     "name": "#%% md\n"
    }
   }
  },
  {
   "cell_type": "markdown",
   "source": [
    "#### 5.2 Badanie wpływu prawdopodobieństwa mutacji dla $t_{max} = 50$"
   ],
   "metadata": {
    "collapsed": false,
    "pycharm": {
     "name": "#%% md\n"
    }
   }
  },
  {
   "cell_type": "markdown",
   "source": [
    "W celu zachowania spójności rozważań doświadczenia zostaną przeprowadzone dla tych samych wartości hiperparametru $pm$, zmniejszona zostanie jedynie liczba iteracji w przebiegu do $50$."
   ],
   "metadata": {
    "collapsed": false,
    "pycharm": {
     "name": "#%% md\n"
    }
   }
  },
  {
   "cell_type": "code",
   "execution_count": 12,
   "outputs": [],
   "source": [
    "solver = GeneticAlgorithmSolver(pm=0, t_max=50)"
   ],
   "metadata": {
    "collapsed": false,
    "pycharm": {
     "name": "#%%\n"
    }
   }
  },
  {
   "cell_type": "code",
   "execution_count": 13,
   "outputs": [],
   "source": [
    "analyzer = GeneticAlgorithmAnalyzer(solver=solver, population_creator=population_creator, problem=problem, n_samples=30)"
   ],
   "metadata": {
    "collapsed": false,
    "pycharm": {
     "name": "#%%\n"
    }
   }
  },
  {
   "cell_type": "code",
   "execution_count": 14,
   "outputs": [
    {
     "name": "stdout",
     "output_type": "stream",
     "text": [
      "Sample 1: Best score = 1923\n",
      "Sample 2: Best score = 1919\n",
      "Sample 3: Best score = 1918\n",
      "Sample 4: Best score = 1920\n",
      "Sample 5: Best score = 1921\n",
      "Sample 6: Best score = 1917\n",
      "Sample 7: Best score = 1920\n",
      "Sample 8: Best score = 1920\n",
      "Sample 9: Best score = 1920\n",
      "Sample 10: Best score = 1918\n",
      "Sample 11: Best score = 1919\n",
      "Sample 12: Best score = 1919\n",
      "Sample 13: Best score = 1923\n",
      "Sample 14: Best score = 1920\n",
      "Sample 15: Best score = 1920\n",
      "Sample 16: Best score = 1919\n",
      "Sample 17: Best score = 1921\n",
      "Sample 18: Best score = 1921\n",
      "Sample 19: Best score = 1920\n",
      "Sample 20: Best score = 1918\n",
      "Sample 21: Best score = 1919\n",
      "Sample 22: Best score = 1921\n",
      "Sample 23: Best score = 1919\n",
      "Sample 24: Best score = 1918\n",
      "Sample 25: Best score = 1919\n",
      "Sample 26: Best score = 1920\n",
      "Sample 27: Best score = 1918\n",
      "Sample 28: Best score = 1922\n",
      "Sample 29: Best score = 1919\n",
      "Sample 30: Best score = 1920\n",
      " \n",
      "Best sample = 1\n",
      "Best score = 1923, Minimum score = 1917\n",
      "Average score = 1919.7, Median score = 1920.0, Standard deviation = 1.4177446878757827\n"
     ]
    }
   ],
   "source": [
    "analyzer.analyze()"
   ],
   "metadata": {
    "collapsed": false,
    "pycharm": {
     "name": "#%%\n"
    }
   }
  },
  {
   "cell_type": "markdown",
   "source": [],
   "metadata": {
    "collapsed": false,
    "pycharm": {
     "name": "#%% md\n"
    }
   }
  },
  {
   "cell_type": "code",
   "execution_count": 39,
   "outputs": [],
   "source": [
    "solver = GeneticAlgorithmSolver(pm=0.001, t_max=50)"
   ],
   "metadata": {
    "collapsed": false,
    "pycharm": {
     "name": "#%%\n"
    }
   }
  },
  {
   "cell_type": "code",
   "execution_count": 40,
   "outputs": [],
   "source": [
    "analyzer = GeneticAlgorithmAnalyzer(solver=solver, population_creator=population_creator, problem=problem, n_samples=30)"
   ],
   "metadata": {
    "collapsed": false,
    "pycharm": {
     "name": "#%%\n"
    }
   }
  },
  {
   "cell_type": "code",
   "execution_count": 41,
   "outputs": [
    {
     "name": "stdout",
     "output_type": "stream",
     "text": [
      "Sample 1: Best score = 1921\n",
      "Sample 2: Best score = 1923\n",
      "Sample 3: Best score = 1922\n",
      "Sample 4: Best score = 1922\n",
      "Sample 5: Best score = 1922\n",
      "Sample 6: Best score = 1920\n",
      "Sample 7: Best score = 1918\n",
      "Sample 8: Best score = 1918\n",
      "Sample 9: Best score = 1921\n",
      "Sample 10: Best score = 1919\n",
      "Sample 11: Best score = 1922\n",
      "Sample 12: Best score = 1922\n",
      "Sample 13: Best score = 1919\n",
      "Sample 14: Best score = 1919\n",
      "Sample 15: Best score = 1921\n",
      "Sample 16: Best score = 1918\n",
      "Sample 17: Best score = 1924\n",
      "Sample 18: Best score = 1918\n",
      "Sample 19: Best score = 1920\n",
      "Sample 20: Best score = 1919\n",
      "Sample 21: Best score = 1921\n",
      "Sample 22: Best score = 1923\n",
      "Sample 23: Best score = 1920\n",
      "Sample 24: Best score = 1920\n",
      "Sample 25: Best score = 1919\n",
      "Sample 26: Best score = 1921\n",
      "Sample 27: Best score = 1921\n",
      "Sample 28: Best score = 1921\n",
      "Sample 29: Best score = 1921\n",
      "Sample 30: Best score = 1918\n",
      " \n",
      "Best sample = 17\n",
      "Best score = 1924, Minimum score = 1918\n",
      "Average score = 1920.4333333333334, Median score = 1921.0, Standard deviation = 1.646882576938083\n"
     ]
    }
   ],
   "source": [
    "analyzer.analyze()"
   ],
   "metadata": {
    "collapsed": false,
    "pycharm": {
     "name": "#%%\n"
    }
   }
  },
  {
   "cell_type": "markdown",
   "source": [],
   "metadata": {
    "collapsed": false,
    "pycharm": {
     "name": "#%% md\n"
    }
   }
  },
  {
   "cell_type": "code",
   "execution_count": 36,
   "outputs": [],
   "source": [
    "solver = GeneticAlgorithmSolver(pm=0.005, t_max=50)"
   ],
   "metadata": {
    "collapsed": false,
    "pycharm": {
     "name": "#%%\n"
    }
   }
  },
  {
   "cell_type": "code",
   "execution_count": 37,
   "outputs": [],
   "source": [
    "analyzer = GeneticAlgorithmAnalyzer(solver=solver, population_creator=population_creator, problem=problem, n_samples=30)"
   ],
   "metadata": {
    "collapsed": false,
    "pycharm": {
     "name": "#%%\n"
    }
   }
  },
  {
   "cell_type": "code",
   "execution_count": 38,
   "outputs": [
    {
     "name": "stdout",
     "output_type": "stream",
     "text": [
      "Sample 1: Best score = 1925\n",
      "Sample 2: Best score = 1922\n",
      "Sample 3: Best score = 1921\n",
      "Sample 4: Best score = 1919\n",
      "Sample 5: Best score = 1920\n",
      "Sample 6: Best score = 1917\n",
      "Sample 7: Best score = 1921\n",
      "Sample 8: Best score = 1921\n",
      "Sample 9: Best score = 1920\n",
      "Sample 10: Best score = 1922\n",
      "Sample 11: Best score = 1920\n",
      "Sample 12: Best score = 1919\n",
      "Sample 13: Best score = 1918\n",
      "Sample 14: Best score = 1920\n",
      "Sample 15: Best score = 1921\n",
      "Sample 16: Best score = 1920\n",
      "Sample 17: Best score = 1920\n",
      "Sample 18: Best score = 1920\n",
      "Sample 19: Best score = 1920\n",
      "Sample 20: Best score = 1921\n",
      "Sample 21: Best score = 1919\n",
      "Sample 22: Best score = 1923\n",
      "Sample 23: Best score = 1918\n",
      "Sample 24: Best score = 1919\n",
      "Sample 25: Best score = 1920\n",
      "Sample 26: Best score = 1921\n",
      "Sample 27: Best score = 1919\n",
      "Sample 28: Best score = 1922\n",
      "Sample 29: Best score = 1921\n",
      "Sample 30: Best score = 1920\n",
      " \n",
      "Best sample = 1\n",
      "Best score = 1925, Minimum score = 1917\n",
      "Average score = 1920.3, Median score = 1920.0, Standard deviation = 1.5524174696260025\n"
     ]
    }
   ],
   "source": [
    "analyzer.analyze()"
   ],
   "metadata": {
    "collapsed": false,
    "pycharm": {
     "name": "#%%\n"
    }
   }
  },
  {
   "cell_type": "markdown",
   "source": [],
   "metadata": {
    "collapsed": false,
    "pycharm": {
     "name": "#%% md\n"
    }
   }
  },
  {
   "cell_type": "code",
   "execution_count": 33,
   "outputs": [],
   "source": [
    "solver = GeneticAlgorithmSolver(pm=0.01, t_max=50)"
   ],
   "metadata": {
    "collapsed": false,
    "pycharm": {
     "name": "#%%\n"
    }
   }
  },
  {
   "cell_type": "code",
   "execution_count": 34,
   "outputs": [],
   "source": [
    "analyzer = GeneticAlgorithmAnalyzer(solver=solver, population_creator=population_creator, problem=problem, n_samples=30)"
   ],
   "metadata": {
    "collapsed": false,
    "pycharm": {
     "name": "#%%\n"
    }
   }
  },
  {
   "cell_type": "code",
   "execution_count": 35,
   "outputs": [
    {
     "name": "stdout",
     "output_type": "stream",
     "text": [
      "Sample 1: Best score = 1920\n",
      "Sample 2: Best score = 1924\n",
      "Sample 3: Best score = 1920\n",
      "Sample 4: Best score = 1918\n",
      "Sample 5: Best score = 1921\n",
      "Sample 6: Best score = 1920\n",
      "Sample 7: Best score = 1926\n",
      "Sample 8: Best score = 1919\n",
      "Sample 9: Best score = 1922\n",
      "Sample 10: Best score = 1922\n",
      "Sample 11: Best score = 1921\n",
      "Sample 12: Best score = 1919\n",
      "Sample 13: Best score = 1921\n",
      "Sample 14: Best score = 1921\n",
      "Sample 15: Best score = 1921\n",
      "Sample 16: Best score = 1920\n",
      "Sample 17: Best score = 1920\n",
      "Sample 18: Best score = 1920\n",
      "Sample 19: Best score = 1923\n",
      "Sample 20: Best score = 1922\n",
      "Sample 21: Best score = 1920\n",
      "Sample 22: Best score = 1923\n",
      "Sample 23: Best score = 1922\n",
      "Sample 24: Best score = 1920\n",
      "Sample 25: Best score = 1923\n",
      "Sample 26: Best score = 1921\n",
      "Sample 27: Best score = 1923\n",
      "Sample 28: Best score = 1924\n",
      "Sample 29: Best score = 1924\n",
      "Sample 30: Best score = 1921\n",
      " \n",
      "Best sample = 7\n",
      "Best score = 1926, Minimum score = 1918\n",
      "Average score = 1921.3666666666666, Median score = 1921.0, Standard deviation = 1.7603661235347858\n"
     ]
    }
   ],
   "source": [
    "analyzer.analyze()"
   ],
   "metadata": {
    "collapsed": false,
    "pycharm": {
     "name": "#%%\n"
    }
   }
  },
  {
   "cell_type": "markdown",
   "source": [],
   "metadata": {
    "collapsed": false,
    "pycharm": {
     "name": "#%% md\n"
    }
   }
  },
  {
   "cell_type": "code",
   "execution_count": 30,
   "outputs": [],
   "source": [
    "solver = GeneticAlgorithmSolver(t_max=50)"
   ],
   "metadata": {
    "collapsed": false,
    "pycharm": {
     "name": "#%%\n"
    }
   }
  },
  {
   "cell_type": "code",
   "execution_count": 31,
   "outputs": [],
   "source": [
    "analyzer = GeneticAlgorithmAnalyzer(solver=solver, population_creator=population_creator, problem=problem, n_samples=30)"
   ],
   "metadata": {
    "collapsed": false,
    "pycharm": {
     "name": "#%%\n"
    }
   }
  },
  {
   "cell_type": "code",
   "execution_count": 32,
   "outputs": [
    {
     "name": "stdout",
     "output_type": "stream",
     "text": [
      "Sample 1: Best score = 1922\n",
      "Sample 2: Best score = 1922\n",
      "Sample 3: Best score = 1920\n",
      "Sample 4: Best score = 1925\n",
      "Sample 5: Best score = 1922\n",
      "Sample 6: Best score = 1922\n",
      "Sample 7: Best score = 1924\n",
      "Sample 8: Best score = 1923\n",
      "Sample 9: Best score = 1921\n",
      "Sample 10: Best score = 1924\n",
      "Sample 11: Best score = 1921\n",
      "Sample 12: Best score = 1922\n",
      "Sample 13: Best score = 1922\n",
      "Sample 14: Best score = 1921\n",
      "Sample 15: Best score = 1920\n",
      "Sample 16: Best score = 1922\n",
      "Sample 17: Best score = 1921\n",
      "Sample 18: Best score = 1924\n",
      "Sample 19: Best score = 1923\n",
      "Sample 20: Best score = 1924\n",
      "Sample 21: Best score = 1923\n",
      "Sample 22: Best score = 1923\n",
      "Sample 23: Best score = 1924\n",
      "Sample 24: Best score = 1923\n",
      "Sample 25: Best score = 1924\n",
      "Sample 26: Best score = 1922\n",
      "Sample 27: Best score = 1921\n",
      "Sample 28: Best score = 1923\n",
      "Sample 29: Best score = 1920\n",
      "Sample 30: Best score = 1923\n",
      " \n",
      "Best sample = 4\n",
      "Best score = 1925, Minimum score = 1920\n",
      "Average score = 1922.3666666666666, Median score = 1922.0, Standard deviation = 1.32874209519965\n"
     ]
    }
   ],
   "source": [
    "analyzer.analyze()"
   ],
   "metadata": {
    "collapsed": false,
    "pycharm": {
     "name": "#%%\n"
    }
   }
  },
  {
   "cell_type": "markdown",
   "source": [],
   "metadata": {
    "collapsed": false,
    "pycharm": {
     "name": "#%% md\n"
    }
   }
  },
  {
   "cell_type": "code",
   "execution_count": 15,
   "outputs": [],
   "source": [
    "solver = GeneticAlgorithmSolver(pm=0.1, t_max=50)"
   ],
   "metadata": {
    "collapsed": false,
    "pycharm": {
     "name": "#%%\n"
    }
   }
  },
  {
   "cell_type": "code",
   "execution_count": 16,
   "outputs": [],
   "source": [
    "analyzer = GeneticAlgorithmAnalyzer(solver=solver, population_creator=population_creator, problem=problem, n_samples=30)"
   ],
   "metadata": {
    "collapsed": false,
    "pycharm": {
     "name": "#%%\n"
    }
   }
  },
  {
   "cell_type": "code",
   "execution_count": 17,
   "outputs": [
    {
     "name": "stdout",
     "output_type": "stream",
     "text": [
      "Sample 1: Best score = 1921\n",
      "Sample 2: Best score = 1926\n",
      "Sample 3: Best score = 1923\n",
      "Sample 4: Best score = 1923\n",
      "Sample 5: Best score = 1920\n",
      "Sample 6: Best score = 1920\n",
      "Sample 7: Best score = 1922\n",
      "Sample 8: Best score = 1923\n",
      "Sample 9: Best score = 1920\n",
      "Sample 10: Best score = 1926\n",
      "Sample 11: Best score = 1925\n",
      "Sample 12: Best score = 1921\n",
      "Sample 13: Best score = 1922\n",
      "Sample 14: Best score = 1922\n",
      "Sample 15: Best score = 1920\n",
      "Sample 16: Best score = 1920\n",
      "Sample 17: Best score = 1924\n",
      "Sample 18: Best score = 1922\n",
      "Sample 19: Best score = 1926\n",
      "Sample 20: Best score = 1922\n",
      "Sample 21: Best score = 1922\n",
      "Sample 22: Best score = 1920\n",
      "Sample 23: Best score = 1923\n",
      "Sample 24: Best score = 1921\n",
      "Sample 25: Best score = 1922\n",
      "Sample 26: Best score = 1920\n",
      "Sample 27: Best score = 1921\n",
      "Sample 28: Best score = 1923\n",
      "Sample 29: Best score = 1924\n",
      "Sample 30: Best score = 1920\n",
      " \n",
      "Best sample = 2\n",
      "Best score = 1926, Minimum score = 1920\n",
      "Average score = 1922.1333333333334, Median score = 1922.0, Standard deviation = 1.8749814813900312\n"
     ]
    }
   ],
   "source": [
    "analyzer.analyze()"
   ],
   "metadata": {
    "collapsed": false,
    "pycharm": {
     "name": "#%%\n"
    }
   }
  },
  {
   "cell_type": "markdown",
   "source": [],
   "metadata": {
    "collapsed": false,
    "pycharm": {
     "name": "#%% md\n"
    }
   }
  },
  {
   "cell_type": "code",
   "execution_count": 18,
   "outputs": [],
   "source": [
    "solver = GeneticAlgorithmSolver(pm=0.2, t_max=50)"
   ],
   "metadata": {
    "collapsed": false,
    "pycharm": {
     "name": "#%%\n"
    }
   }
  },
  {
   "cell_type": "code",
   "execution_count": 19,
   "outputs": [],
   "source": [
    "analyzer = GeneticAlgorithmAnalyzer(solver=solver, population_creator=population_creator, problem=problem, n_samples=30)"
   ],
   "metadata": {
    "collapsed": false,
    "pycharm": {
     "name": "#%%\n"
    }
   }
  },
  {
   "cell_type": "code",
   "execution_count": 20,
   "outputs": [
    {
     "name": "stdout",
     "output_type": "stream",
     "text": [
      "Sample 1: Best score = 1921\n",
      "Sample 2: Best score = 1922\n",
      "Sample 3: Best score = 1923\n",
      "Sample 4: Best score = 1922\n",
      "Sample 5: Best score = 1921\n",
      "Sample 6: Best score = 1921\n",
      "Sample 7: Best score = 1922\n",
      "Sample 8: Best score = 1920\n",
      "Sample 9: Best score = 1919\n",
      "Sample 10: Best score = 1922\n",
      "Sample 11: Best score = 1923\n",
      "Sample 12: Best score = 1921\n",
      "Sample 13: Best score = 1924\n",
      "Sample 14: Best score = 1921\n",
      "Sample 15: Best score = 1922\n",
      "Sample 16: Best score = 1922\n",
      "Sample 17: Best score = 1925\n",
      "Sample 18: Best score = 1921\n",
      "Sample 19: Best score = 1921\n",
      "Sample 20: Best score = 1922\n",
      "Sample 21: Best score = 1922\n",
      "Sample 22: Best score = 1923\n",
      "Sample 23: Best score = 1924\n",
      "Sample 24: Best score = 1922\n",
      "Sample 25: Best score = 1923\n",
      "Sample 26: Best score = 1920\n",
      "Sample 27: Best score = 1920\n",
      "Sample 28: Best score = 1921\n",
      "Sample 29: Best score = 1919\n",
      "Sample 30: Best score = 1920\n",
      " \n",
      "Best sample = 17\n",
      "Best score = 1925, Minimum score = 1919\n",
      "Average score = 1921.6333333333334, Median score = 1922.0, Standard deviation = 1.4019827229875397\n"
     ]
    }
   ],
   "source": [
    "analyzer.analyze()"
   ],
   "metadata": {
    "collapsed": false,
    "pycharm": {
     "name": "#%%\n"
    }
   }
  },
  {
   "cell_type": "markdown",
   "source": [],
   "metadata": {
    "collapsed": false,
    "pycharm": {
     "name": "#%% md\n"
    }
   }
  },
  {
   "cell_type": "code",
   "execution_count": 21,
   "outputs": [],
   "source": [
    "solver = GeneticAlgorithmSolver(pm=0.3, t_max=50)"
   ],
   "metadata": {
    "collapsed": false,
    "pycharm": {
     "name": "#%%\n"
    }
   }
  },
  {
   "cell_type": "code",
   "execution_count": 22,
   "outputs": [],
   "source": [
    "analyzer = GeneticAlgorithmAnalyzer(solver=solver, population_creator=population_creator, problem=problem, n_samples=30)"
   ],
   "metadata": {
    "collapsed": false,
    "pycharm": {
     "name": "#%%\n"
    }
   }
  },
  {
   "cell_type": "code",
   "execution_count": 23,
   "outputs": [
    {
     "name": "stdout",
     "output_type": "stream",
     "text": [
      "Sample 1: Best score = 1923\n",
      "Sample 2: Best score = 1922\n",
      "Sample 3: Best score = 1923\n",
      "Sample 4: Best score = 1920\n",
      "Sample 5: Best score = 1920\n",
      "Sample 6: Best score = 1922\n",
      "Sample 7: Best score = 1921\n",
      "Sample 8: Best score = 1922\n",
      "Sample 9: Best score = 1921\n",
      "Sample 10: Best score = 1922\n",
      "Sample 11: Best score = 1923\n",
      "Sample 12: Best score = 1923\n",
      "Sample 13: Best score = 1922\n",
      "Sample 14: Best score = 1919\n",
      "Sample 15: Best score = 1926\n",
      "Sample 16: Best score = 1921\n",
      "Sample 17: Best score = 1921\n",
      "Sample 18: Best score = 1921\n",
      "Sample 19: Best score = 1924\n",
      "Sample 20: Best score = 1922\n",
      "Sample 21: Best score = 1921\n",
      "Sample 22: Best score = 1921\n",
      "Sample 23: Best score = 1920\n",
      "Sample 24: Best score = 1921\n",
      "Sample 25: Best score = 1922\n",
      "Sample 26: Best score = 1925\n",
      "Sample 27: Best score = 1920\n",
      "Sample 28: Best score = 1920\n",
      "Sample 29: Best score = 1922\n",
      "Sample 30: Best score = 1922\n",
      " \n",
      "Best sample = 15\n",
      "Best score = 1926, Minimum score = 1919\n",
      "Average score = 1921.7333333333333, Median score = 1922.0, Standard deviation = 1.5040685563571305\n"
     ]
    }
   ],
   "source": [
    "analyzer.analyze()"
   ],
   "metadata": {
    "collapsed": false,
    "pycharm": {
     "name": "#%%\n"
    }
   }
  },
  {
   "cell_type": "markdown",
   "source": [],
   "metadata": {
    "collapsed": false,
    "pycharm": {
     "name": "#%% md\n"
    }
   }
  },
  {
   "cell_type": "code",
   "execution_count": 24,
   "outputs": [],
   "source": [
    "solver = GeneticAlgorithmSolver(pm=0.5, t_max=50)"
   ],
   "metadata": {
    "collapsed": false,
    "pycharm": {
     "name": "#%%\n"
    }
   }
  },
  {
   "cell_type": "code",
   "execution_count": 25,
   "outputs": [],
   "source": [
    "analyzer = GeneticAlgorithmAnalyzer(solver=solver, population_creator=population_creator, problem=problem, n_samples=30)"
   ],
   "metadata": {
    "collapsed": false,
    "pycharm": {
     "name": "#%%\n"
    }
   }
  },
  {
   "cell_type": "code",
   "execution_count": 26,
   "outputs": [
    {
     "name": "stdout",
     "output_type": "stream",
     "text": [
      "Sample 1: Best score = 1921\n",
      "Sample 2: Best score = 1921\n",
      "Sample 3: Best score = 1921\n",
      "Sample 4: Best score = 1921\n",
      "Sample 5: Best score = 1921\n",
      "Sample 6: Best score = 1923\n",
      "Sample 7: Best score = 1920\n",
      "Sample 8: Best score = 1920\n",
      "Sample 9: Best score = 1925\n",
      "Sample 10: Best score = 1923\n",
      "Sample 11: Best score = 1921\n",
      "Sample 12: Best score = 1920\n",
      "Sample 13: Best score = 1921\n",
      "Sample 14: Best score = 1921\n",
      "Sample 15: Best score = 1922\n",
      "Sample 16: Best score = 1919\n",
      "Sample 17: Best score = 1923\n",
      "Sample 18: Best score = 1921\n",
      "Sample 19: Best score = 1921\n",
      "Sample 20: Best score = 1921\n",
      "Sample 21: Best score = 1920\n",
      "Sample 22: Best score = 1920\n",
      "Sample 23: Best score = 1921\n",
      "Sample 24: Best score = 1922\n",
      "Sample 25: Best score = 1922\n",
      "Sample 26: Best score = 1920\n",
      "Sample 27: Best score = 1923\n",
      "Sample 28: Best score = 1919\n",
      "Sample 29: Best score = 1923\n",
      "Sample 30: Best score = 1920\n",
      " \n",
      "Best sample = 9\n",
      "Best score = 1925, Minimum score = 1919\n",
      "Average score = 1921.2, Median score = 1921.0, Standard deviation = 1.32664991614216\n"
     ]
    }
   ],
   "source": [
    "analyzer.analyze()"
   ],
   "metadata": {
    "collapsed": false,
    "pycharm": {
     "name": "#%%\n"
    }
   }
  },
  {
   "cell_type": "markdown",
   "source": [],
   "metadata": {
    "collapsed": false,
    "pycharm": {
     "name": "#%% md\n"
    }
   }
  },
  {
   "cell_type": "code",
   "execution_count": 27,
   "outputs": [],
   "source": [
    "solver = GeneticAlgorithmSolver(pm=0.9, t_max=50)"
   ],
   "metadata": {
    "collapsed": false,
    "pycharm": {
     "name": "#%%\n"
    }
   }
  },
  {
   "cell_type": "code",
   "execution_count": 28,
   "outputs": [],
   "source": [
    "analyzer = GeneticAlgorithmAnalyzer(solver=solver, population_creator=population_creator, problem=problem, n_samples=30)"
   ],
   "metadata": {
    "collapsed": false,
    "pycharm": {
     "name": "#%%\n"
    }
   }
  },
  {
   "cell_type": "code",
   "execution_count": 29,
   "outputs": [
    {
     "name": "stdout",
     "output_type": "stream",
     "text": [
      "Sample 1: Best score = 1919\n",
      "Sample 2: Best score = 1921\n",
      "Sample 3: Best score = 1920\n",
      "Sample 4: Best score = 1921\n",
      "Sample 5: Best score = 1919\n",
      "Sample 6: Best score = 1921\n",
      "Sample 7: Best score = 1922\n",
      "Sample 8: Best score = 1922\n",
      "Sample 9: Best score = 1920\n",
      "Sample 10: Best score = 1921\n",
      "Sample 11: Best score = 1920\n",
      "Sample 12: Best score = 1926\n",
      "Sample 13: Best score = 1921\n",
      "Sample 14: Best score = 1922\n",
      "Sample 15: Best score = 1921\n",
      "Sample 16: Best score = 1919\n",
      "Sample 17: Best score = 1922\n",
      "Sample 18: Best score = 1920\n",
      "Sample 19: Best score = 1922\n",
      "Sample 20: Best score = 1920\n",
      "Sample 21: Best score = 1922\n",
      "Sample 22: Best score = 1918\n",
      "Sample 23: Best score = 1920\n",
      "Sample 24: Best score = 1920\n",
      "Sample 25: Best score = 1920\n",
      "Sample 26: Best score = 1921\n",
      "Sample 27: Best score = 1925\n",
      "Sample 28: Best score = 1920\n",
      "Sample 29: Best score = 1921\n",
      "Sample 30: Best score = 1921\n",
      " \n",
      "Best sample = 12\n",
      "Best score = 1926, Minimum score = 1918\n",
      "Average score = 1920.9, Median score = 1921.0, Standard deviation = 1.598957994028194\n"
     ]
    }
   ],
   "source": [
    "analyzer.analyze()"
   ],
   "metadata": {
    "collapsed": false,
    "pycharm": {
     "name": "#%%\n"
    }
   }
  },
  {
   "cell_type": "markdown",
   "source": [],
   "metadata": {
    "collapsed": false,
    "pycharm": {
     "name": "#%% md\n"
    }
   }
  },
  {
   "cell_type": "markdown",
   "source": [
    "Poniżej zamieszczam wyniki z przeprowadzonych doświadczeń dla $t_{max} = 50$:"
   ],
   "metadata": {
    "collapsed": false,
    "pycharm": {
     "name": "#%% md\n"
    }
   }
  },
  {
   "cell_type": "markdown",
   "source": [
    "| t_max  | $pm$  | Średni wynik   | Mediana   | Odchylenie standardowe   | Max  | Min  |\n",
    "|--------|-------|----------------|-----------|--------------------------|------|------|\n",
    "| 50     | 0     | 1919.7         | 1920      | 1.4177                   | 1923 | 1917 |\n",
    "| 50     | 0.001 | 1920.4333      | 1921      | 1.6469                   | 1924 | 1918 |\n",
    "| 50     | 0.005 | 1920.3         | 1920      | 1.5524                   | 1925 | 1917 |\n",
    "| 50     | 0.01  | 1921.3667      | 1921      | 1.7604                   | 1926 | 1918 |\n",
    "| 50     | 0.05  | 1922.3667      | 1922      | 1.3287                   | 1925 | 1920 |\n",
    "| 50     | 0.1   | 1922.1333      | 1922      | 1.8749                   | 1926 | 1920 |\n",
    "| 50     | 0.2   | 1921.6333      | 1922      | 1.4019                   | 1925 | 1919 |\n",
    "| 50     | 0.3   | 1921.7333      | 1922      | 1.5041                   | 1926 | 1919 |\n",
    "| 50     | 0.5   | 1921.2         | 1921      | 1.3266                   | 1925 | 1919 |\n",
    "| 50     | 0.9   | 1920.9         | 1921      | 1.5989                   | 1926 | 1918 |\n"
   ],
   "metadata": {
    "collapsed": false,
    "pycharm": {
     "name": "#%% md\n"
    }
   }
  },
  {
   "cell_type": "markdown",
   "source": [
    "| t_max  | Średni wynik (średnia)   | Mediana (średnia)   | Odchylenie standardowe (średnia)   | Max (max) | Min (min) |\n",
    "|--------|--------------------------|---------------------|------------------------------------|-----------|-----------|\n",
    "| 50     | 1921.1767                | 1921.2              | 1.5413                             | 1926      | 1917      |"
   ],
   "metadata": {
    "collapsed": false,
    "pycharm": {
     "name": "#%% md\n"
    }
   }
  },
  {
   "cell_type": "markdown",
   "source": [
    "#### 5.3 Badanie wpływu prawdopodobieństwa mutacji dla $t_{max} = 100$"
   ],
   "metadata": {
    "collapsed": false,
    "pycharm": {
     "name": "#%% md\n"
    }
   }
  },
  {
   "cell_type": "markdown",
   "source": [
    "W tym podpunkcie będziemy badali wpływ hiperparametru $pm$ dla $t_{max} = 100$. Rozważania są przeprowadzane analogicznie jak w poprzednich podpunktach."
   ],
   "metadata": {
    "collapsed": false,
    "pycharm": {
     "name": "#%% md\n"
    }
   }
  },
  {
   "cell_type": "code",
   "execution_count": 42,
   "outputs": [],
   "source": [
    "solver = GeneticAlgorithmSolver(pm=0, t_max=100)"
   ],
   "metadata": {
    "collapsed": false,
    "pycharm": {
     "name": "#%%\n"
    }
   }
  },
  {
   "cell_type": "code",
   "execution_count": 43,
   "outputs": [],
   "source": [
    "analyzer = GeneticAlgorithmAnalyzer(solver=solver, population_creator=population_creator, problem=problem, n_samples=30)"
   ],
   "metadata": {
    "collapsed": false,
    "pycharm": {
     "name": "#%%\n"
    }
   }
  },
  {
   "cell_type": "code",
   "execution_count": 44,
   "outputs": [
    {
     "name": "stdout",
     "output_type": "stream",
     "text": [
      "Sample 1: Best score = 1919\n",
      "Sample 2: Best score = 1918\n",
      "Sample 3: Best score = 1918\n",
      "Sample 4: Best score = 1919\n",
      "Sample 5: Best score = 1918\n",
      "Sample 6: Best score = 1921\n",
      "Sample 7: Best score = 1920\n",
      "Sample 8: Best score = 1920\n",
      "Sample 9: Best score = 1921\n",
      "Sample 10: Best score = 1922\n",
      "Sample 11: Best score = 1920\n",
      "Sample 12: Best score = 1918\n",
      "Sample 13: Best score = 1920\n",
      "Sample 14: Best score = 1921\n",
      "Sample 15: Best score = 1922\n",
      "Sample 16: Best score = 1921\n",
      "Sample 17: Best score = 1919\n",
      "Sample 18: Best score = 1917\n",
      "Sample 19: Best score = 1920\n",
      "Sample 20: Best score = 1919\n",
      "Sample 21: Best score = 1922\n",
      "Sample 22: Best score = 1920\n",
      "Sample 23: Best score = 1923\n",
      "Sample 24: Best score = 1921\n",
      "Sample 25: Best score = 1921\n",
      "Sample 26: Best score = 1922\n",
      "Sample 27: Best score = 1921\n",
      "Sample 28: Best score = 1923\n",
      "Sample 29: Best score = 1919\n",
      "Sample 30: Best score = 1921\n",
      " \n",
      "Best sample = 23\n",
      "Best score = 1923, Minimum score = 1917\n",
      "Average score = 1920.2, Median score = 1920.0, Standard deviation = 1.5362291495737217\n"
     ]
    }
   ],
   "source": [
    "analyzer.analyze()"
   ],
   "metadata": {
    "collapsed": false,
    "pycharm": {
     "name": "#%%\n"
    }
   }
  },
  {
   "cell_type": "markdown",
   "source": [],
   "metadata": {
    "collapsed": false,
    "pycharm": {
     "name": "#%% md\n"
    }
   }
  },
  {
   "cell_type": "code",
   "execution_count": 72,
   "outputs": [],
   "source": [
    "solver = GeneticAlgorithmSolver(pm=0.001, t_max=100)"
   ],
   "metadata": {
    "collapsed": false,
    "pycharm": {
     "name": "#%%\n"
    }
   }
  },
  {
   "cell_type": "code",
   "execution_count": 73,
   "outputs": [],
   "source": [
    "analyzer = GeneticAlgorithmAnalyzer(solver=solver, population_creator=population_creator, problem=problem, n_samples=30)"
   ],
   "metadata": {
    "collapsed": false,
    "pycharm": {
     "name": "#%%\n"
    }
   }
  },
  {
   "cell_type": "code",
   "execution_count": 74,
   "outputs": [
    {
     "name": "stdout",
     "output_type": "stream",
     "text": [
      "Sample 1: Best score = 1922\n",
      "Sample 2: Best score = 1918\n",
      "Sample 3: Best score = 1918\n",
      "Sample 4: Best score = 1923\n",
      "Sample 5: Best score = 1918\n",
      "Sample 6: Best score = 1919\n",
      "Sample 7: Best score = 1921\n",
      "Sample 8: Best score = 1920\n",
      "Sample 9: Best score = 1919\n",
      "Sample 10: Best score = 1920\n",
      "Sample 11: Best score = 1919\n",
      "Sample 12: Best score = 1920\n",
      "Sample 13: Best score = 1921\n",
      "Sample 14: Best score = 1923\n",
      "Sample 15: Best score = 1921\n",
      "Sample 16: Best score = 1921\n",
      "Sample 17: Best score = 1921\n",
      "Sample 18: Best score = 1919\n",
      "Sample 19: Best score = 1919\n",
      "Sample 20: Best score = 1920\n",
      "Sample 21: Best score = 1921\n",
      "Sample 22: Best score = 1920\n",
      "Sample 23: Best score = 1922\n",
      "Sample 24: Best score = 1927\n",
      "Sample 25: Best score = 1922\n",
      "Sample 26: Best score = 1923\n",
      "Sample 27: Best score = 1922\n",
      "Sample 28: Best score = 1919\n",
      "Sample 29: Best score = 1923\n",
      "Sample 30: Best score = 1923\n",
      " \n",
      "Best sample = 24\n",
      "Best score = 1927, Minimum score = 1918\n",
      "Average score = 1920.8, Median score = 1921.0, Standard deviation = 1.9561867668161614\n"
     ]
    }
   ],
   "source": [
    "analyzer.analyze()"
   ],
   "metadata": {
    "collapsed": false,
    "pycharm": {
     "name": "#%%\n"
    }
   }
  },
  {
   "cell_type": "markdown",
   "source": [],
   "metadata": {
    "collapsed": false,
    "pycharm": {
     "name": "#%% md\n"
    }
   }
  },
  {
   "cell_type": "code",
   "execution_count": 69,
   "outputs": [],
   "source": [
    "solver = GeneticAlgorithmSolver(pm=0.005, t_max=100)"
   ],
   "metadata": {
    "collapsed": false,
    "pycharm": {
     "name": "#%%\n"
    }
   }
  },
  {
   "cell_type": "code",
   "execution_count": 70,
   "outputs": [],
   "source": [
    "analyzer = GeneticAlgorithmAnalyzer(solver=solver, population_creator=population_creator, problem=problem, n_samples=30)"
   ],
   "metadata": {
    "collapsed": false,
    "pycharm": {
     "name": "#%%\n"
    }
   }
  },
  {
   "cell_type": "code",
   "execution_count": 71,
   "outputs": [
    {
     "name": "stdout",
     "output_type": "stream",
     "text": [
      "Sample 1: Best score = 1924\n",
      "Sample 2: Best score = 1923\n",
      "Sample 3: Best score = 1923\n",
      "Sample 4: Best score = 1922\n",
      "Sample 5: Best score = 1920\n",
      "Sample 6: Best score = 1922\n",
      "Sample 7: Best score = 1921\n",
      "Sample 8: Best score = 1925\n",
      "Sample 9: Best score = 1926\n",
      "Sample 10: Best score = 1923\n",
      "Sample 11: Best score = 1922\n",
      "Sample 12: Best score = 1922\n",
      "Sample 13: Best score = 1922\n",
      "Sample 14: Best score = 1924\n",
      "Sample 15: Best score = 1921\n",
      "Sample 16: Best score = 1922\n",
      "Sample 17: Best score = 1921\n",
      "Sample 18: Best score = 1921\n",
      "Sample 19: Best score = 1920\n",
      "Sample 20: Best score = 1922\n",
      "Sample 21: Best score = 1924\n",
      "Sample 22: Best score = 1920\n",
      "Sample 23: Best score = 1922\n",
      "Sample 24: Best score = 1921\n",
      "Sample 25: Best score = 1925\n",
      "Sample 26: Best score = 1922\n",
      "Sample 27: Best score = 1925\n",
      "Sample 28: Best score = 1921\n",
      "Sample 29: Best score = 1923\n",
      "Sample 30: Best score = 1922\n",
      " \n",
      "Best sample = 9\n",
      "Best score = 1926, Minimum score = 1920\n",
      "Average score = 1922.3666666666666, Median score = 1922.0, Standard deviation = 1.5595583420386114\n"
     ]
    }
   ],
   "source": [
    "analyzer.analyze()"
   ],
   "metadata": {
    "collapsed": false,
    "pycharm": {
     "name": "#%%\n"
    }
   }
  },
  {
   "cell_type": "markdown",
   "source": [],
   "metadata": {
    "collapsed": false,
    "pycharm": {
     "name": "#%% md\n"
    }
   }
  },
  {
   "cell_type": "code",
   "execution_count": 66,
   "outputs": [],
   "source": [
    "solver = GeneticAlgorithmSolver(pm=0.01, t_max=100)"
   ],
   "metadata": {
    "collapsed": false,
    "pycharm": {
     "name": "#%%\n"
    }
   }
  },
  {
   "cell_type": "code",
   "execution_count": 67,
   "outputs": [],
   "source": [
    "analyzer = GeneticAlgorithmAnalyzer(solver=solver, population_creator=population_creator, problem=problem, n_samples=30)"
   ],
   "metadata": {
    "collapsed": false,
    "pycharm": {
     "name": "#%%\n"
    }
   }
  },
  {
   "cell_type": "code",
   "execution_count": 68,
   "outputs": [
    {
     "name": "stdout",
     "output_type": "stream",
     "text": [
      "Sample 1: Best score = 1922\n",
      "Sample 2: Best score = 1922\n",
      "Sample 3: Best score = 1922\n",
      "Sample 4: Best score = 1920\n",
      "Sample 5: Best score = 1925\n",
      "Sample 6: Best score = 1922\n",
      "Sample 7: Best score = 1922\n",
      "Sample 8: Best score = 1922\n",
      "Sample 9: Best score = 1928\n",
      "Sample 10: Best score = 1922\n",
      "Sample 11: Best score = 1925\n",
      "Sample 12: Best score = 1924\n",
      "Sample 13: Best score = 1922\n",
      "Sample 14: Best score = 1923\n",
      "Sample 15: Best score = 1921\n",
      "Sample 16: Best score = 1921\n",
      "Sample 17: Best score = 1921\n",
      "Sample 18: Best score = 1926\n",
      "Sample 19: Best score = 1923\n",
      "Sample 20: Best score = 1925\n",
      "Sample 21: Best score = 1925\n",
      "Sample 22: Best score = 1921\n",
      "Sample 23: Best score = 1921\n",
      "Sample 24: Best score = 1924\n",
      "Sample 25: Best score = 1926\n",
      "Sample 26: Best score = 1921\n",
      "Sample 27: Best score = 1925\n",
      "Sample 28: Best score = 1925\n",
      "Sample 29: Best score = 1924\n",
      "Sample 30: Best score = 1923\n",
      " \n",
      "Best sample = 9\n",
      "Best score = 1928, Minimum score = 1920\n",
      "Average score = 1923.1, Median score = 1922.5, Standard deviation = 1.9209372712298542\n"
     ]
    }
   ],
   "source": [
    "analyzer.analyze()"
   ],
   "metadata": {
    "collapsed": false,
    "pycharm": {
     "name": "#%%\n"
    }
   }
  },
  {
   "cell_type": "markdown",
   "source": [],
   "metadata": {
    "collapsed": false,
    "pycharm": {
     "name": "#%% md\n"
    }
   }
  },
  {
   "cell_type": "code",
   "execution_count": 63,
   "outputs": [],
   "source": [
    "solver = GeneticAlgorithmSolver(t_max=100)"
   ],
   "metadata": {
    "collapsed": false,
    "pycharm": {
     "name": "#%%\n"
    }
   }
  },
  {
   "cell_type": "code",
   "execution_count": 64,
   "outputs": [],
   "source": [
    "analyzer = GeneticAlgorithmAnalyzer(solver=solver, population_creator=population_creator, problem=problem, n_samples=30)"
   ],
   "metadata": {
    "collapsed": false,
    "pycharm": {
     "name": "#%%\n"
    }
   }
  },
  {
   "cell_type": "code",
   "execution_count": 65,
   "outputs": [
    {
     "name": "stdout",
     "output_type": "stream",
     "text": [
      "Sample 1: Best score = 1922\n",
      "Sample 2: Best score = 1925\n",
      "Sample 3: Best score = 1923\n",
      "Sample 4: Best score = 1923\n",
      "Sample 5: Best score = 1923\n",
      "Sample 6: Best score = 1923\n",
      "Sample 7: Best score = 1924\n",
      "Sample 8: Best score = 1923\n",
      "Sample 9: Best score = 1920\n",
      "Sample 10: Best score = 1924\n",
      "Sample 11: Best score = 1926\n",
      "Sample 12: Best score = 1922\n",
      "Sample 13: Best score = 1925\n",
      "Sample 14: Best score = 1924\n",
      "Sample 15: Best score = 1923\n",
      "Sample 16: Best score = 1923\n",
      "Sample 17: Best score = 1924\n",
      "Sample 18: Best score = 1924\n",
      "Sample 19: Best score = 1923\n",
      "Sample 20: Best score = 1926\n",
      "Sample 21: Best score = 1922\n",
      "Sample 22: Best score = 1923\n",
      "Sample 23: Best score = 1924\n",
      "Sample 24: Best score = 1925\n",
      "Sample 25: Best score = 1924\n",
      "Sample 26: Best score = 1923\n",
      "Sample 27: Best score = 1923\n",
      "Sample 28: Best score = 1924\n",
      "Sample 29: Best score = 1922\n",
      "Sample 30: Best score = 1924\n",
      " \n",
      "Best sample = 11\n",
      "Best score = 1926, Minimum score = 1920\n",
      "Average score = 1923.4666666666667, Median score = 1923.0, Standard deviation = 1.2310790208412925\n"
     ]
    }
   ],
   "source": [
    "analyzer.analyze()"
   ],
   "metadata": {
    "collapsed": false,
    "pycharm": {
     "name": "#%%\n"
    }
   }
  },
  {
   "cell_type": "markdown",
   "source": [],
   "metadata": {
    "collapsed": false,
    "pycharm": {
     "name": "#%% md\n"
    }
   }
  },
  {
   "cell_type": "code",
   "execution_count": 45,
   "outputs": [],
   "source": [
    "solver = GeneticAlgorithmSolver(pm=0.1, t_max=100)"
   ],
   "metadata": {
    "collapsed": false,
    "pycharm": {
     "name": "#%%\n"
    }
   }
  },
  {
   "cell_type": "code",
   "execution_count": 46,
   "outputs": [],
   "source": [
    "analyzer = GeneticAlgorithmAnalyzer(solver=solver, population_creator=population_creator, problem=problem, n_samples=30)"
   ],
   "metadata": {
    "collapsed": false,
    "pycharm": {
     "name": "#%%\n"
    }
   }
  },
  {
   "cell_type": "code",
   "execution_count": 47,
   "outputs": [
    {
     "name": "stdout",
     "output_type": "stream",
     "text": [
      "Sample 1: Best score = 1923\n",
      "Sample 2: Best score = 1921\n",
      "Sample 3: Best score = 1923\n",
      "Sample 4: Best score = 1925\n",
      "Sample 5: Best score = 1925\n",
      "Sample 6: Best score = 1923\n",
      "Sample 7: Best score = 1922\n",
      "Sample 8: Best score = 1923\n",
      "Sample 9: Best score = 1922\n",
      "Sample 10: Best score = 1924\n",
      "Sample 11: Best score = 1924\n",
      "Sample 12: Best score = 1923\n",
      "Sample 13: Best score = 1923\n",
      "Sample 14: Best score = 1923\n",
      "Sample 15: Best score = 1923\n",
      "Sample 16: Best score = 1925\n",
      "Sample 17: Best score = 1925\n",
      "Sample 18: Best score = 1923\n",
      "Sample 19: Best score = 1923\n",
      "Sample 20: Best score = 1926\n",
      "Sample 21: Best score = 1922\n",
      "Sample 22: Best score = 1921\n",
      "Sample 23: Best score = 1923\n",
      "Sample 24: Best score = 1923\n",
      "Sample 25: Best score = 1922\n",
      "Sample 26: Best score = 1924\n",
      "Sample 27: Best score = 1920\n",
      "Sample 28: Best score = 1926\n",
      "Sample 29: Best score = 1925\n",
      "Sample 30: Best score = 1923\n",
      " \n",
      "Best sample = 20\n",
      "Best score = 1926, Minimum score = 1920\n",
      "Average score = 1923.2666666666667, Median score = 1923.0, Standard deviation = 1.412641340027806\n"
     ]
    }
   ],
   "source": [
    "analyzer.analyze()"
   ],
   "metadata": {
    "collapsed": false,
    "pycharm": {
     "name": "#%%\n"
    }
   }
  },
  {
   "cell_type": "markdown",
   "source": [],
   "metadata": {
    "collapsed": false,
    "pycharm": {
     "name": "#%% md\n"
    }
   }
  },
  {
   "cell_type": "code",
   "execution_count": 48,
   "outputs": [],
   "source": [
    "solver = GeneticAlgorithmSolver(pm=0.2, t_max=100)"
   ],
   "metadata": {
    "collapsed": false,
    "pycharm": {
     "name": "#%%\n"
    }
   }
  },
  {
   "cell_type": "code",
   "execution_count": 49,
   "outputs": [],
   "source": [
    "analyzer = GeneticAlgorithmAnalyzer(solver=solver, population_creator=population_creator, problem=problem, n_samples=30)"
   ],
   "metadata": {
    "collapsed": false,
    "pycharm": {
     "name": "#%%\n"
    }
   }
  },
  {
   "cell_type": "code",
   "execution_count": 50,
   "outputs": [
    {
     "name": "stdout",
     "output_type": "stream",
     "text": [
      "Sample 1: Best score = 1922\n",
      "Sample 2: Best score = 1921\n",
      "Sample 3: Best score = 1921\n",
      "Sample 4: Best score = 1924\n",
      "Sample 5: Best score = 1923\n",
      "Sample 6: Best score = 1923\n",
      "Sample 7: Best score = 1921\n",
      "Sample 8: Best score = 1925\n",
      "Sample 9: Best score = 1921\n",
      "Sample 10: Best score = 1923\n",
      "Sample 11: Best score = 1921\n",
      "Sample 12: Best score = 1924\n",
      "Sample 13: Best score = 1924\n",
      "Sample 14: Best score = 1923\n",
      "Sample 15: Best score = 1923\n",
      "Sample 16: Best score = 1923\n",
      "Sample 17: Best score = 1922\n",
      "Sample 18: Best score = 1921\n",
      "Sample 19: Best score = 1922\n",
      "Sample 20: Best score = 1924\n",
      "Sample 21: Best score = 1923\n",
      "Sample 22: Best score = 1926\n",
      "Sample 23: Best score = 1925\n",
      "Sample 24: Best score = 1922\n",
      "Sample 25: Best score = 1921\n",
      "Sample 26: Best score = 1924\n",
      "Sample 27: Best score = 1921\n",
      "Sample 28: Best score = 1921\n",
      "Sample 29: Best score = 1922\n",
      "Sample 30: Best score = 1921\n",
      " \n",
      "Best sample = 22\n",
      "Best score = 1926, Minimum score = 1921\n",
      "Average score = 1922.5666666666666, Median score = 1922.5, Standard deviation = 1.4302291968616625\n"
     ]
    }
   ],
   "source": [
    "analyzer.analyze()"
   ],
   "metadata": {
    "collapsed": false,
    "pycharm": {
     "name": "#%%\n"
    }
   }
  },
  {
   "cell_type": "markdown",
   "source": [],
   "metadata": {
    "collapsed": false,
    "pycharm": {
     "name": "#%% md\n"
    }
   }
  },
  {
   "cell_type": "code",
   "execution_count": 51,
   "outputs": [],
   "source": [
    "solver = GeneticAlgorithmSolver(pm=0.3, t_max=100)"
   ],
   "metadata": {
    "collapsed": false,
    "pycharm": {
     "name": "#%%\n"
    }
   }
  },
  {
   "cell_type": "code",
   "execution_count": 52,
   "outputs": [],
   "source": [
    "analyzer = GeneticAlgorithmAnalyzer(solver=solver, population_creator=population_creator, problem=problem, n_samples=30)"
   ],
   "metadata": {
    "collapsed": false,
    "pycharm": {
     "name": "#%%\n"
    }
   }
  },
  {
   "cell_type": "code",
   "execution_count": 53,
   "outputs": [
    {
     "name": "stdout",
     "output_type": "stream",
     "text": [
      "Sample 1: Best score = 1921\n",
      "Sample 2: Best score = 1921\n",
      "Sample 3: Best score = 1923\n",
      "Sample 4: Best score = 1919\n",
      "Sample 5: Best score = 1922\n",
      "Sample 6: Best score = 1921\n",
      "Sample 7: Best score = 1921\n",
      "Sample 8: Best score = 1924\n",
      "Sample 9: Best score = 1922\n",
      "Sample 10: Best score = 1921\n",
      "Sample 11: Best score = 1923\n",
      "Sample 12: Best score = 1923\n",
      "Sample 13: Best score = 1922\n",
      "Sample 14: Best score = 1925\n",
      "Sample 15: Best score = 1923\n",
      "Sample 16: Best score = 1923\n",
      "Sample 17: Best score = 1922\n",
      "Sample 18: Best score = 1923\n",
      "Sample 19: Best score = 1923\n",
      "Sample 20: Best score = 1922\n",
      "Sample 21: Best score = 1924\n",
      "Sample 22: Best score = 1922\n",
      "Sample 23: Best score = 1924\n",
      "Sample 24: Best score = 1923\n",
      "Sample 25: Best score = 1921\n",
      "Sample 26: Best score = 1921\n",
      "Sample 27: Best score = 1920\n",
      "Sample 28: Best score = 1922\n",
      "Sample 29: Best score = 1920\n",
      "Sample 30: Best score = 1922\n",
      " \n",
      "Best sample = 14\n",
      "Best score = 1925, Minimum score = 1919\n",
      "Average score = 1922.1, Median score = 1922.0, Standard deviation = 1.325393023471403\n"
     ]
    }
   ],
   "source": [
    "analyzer.analyze()"
   ],
   "metadata": {
    "collapsed": false,
    "pycharm": {
     "name": "#%%\n"
    }
   }
  },
  {
   "cell_type": "markdown",
   "source": [],
   "metadata": {
    "collapsed": false,
    "pycharm": {
     "name": "#%% md\n"
    }
   }
  },
  {
   "cell_type": "code",
   "execution_count": 54,
   "outputs": [],
   "source": [
    "solver = GeneticAlgorithmSolver(pm=0.5, t_max=100)"
   ],
   "metadata": {
    "collapsed": false,
    "pycharm": {
     "name": "#%%\n"
    }
   }
  },
  {
   "cell_type": "code",
   "execution_count": 55,
   "outputs": [],
   "source": [
    "analyzer = GeneticAlgorithmAnalyzer(solver=solver, population_creator=population_creator, problem=problem, n_samples=30)"
   ],
   "metadata": {
    "collapsed": false,
    "pycharm": {
     "name": "#%%\n"
    }
   }
  },
  {
   "cell_type": "code",
   "execution_count": 56,
   "outputs": [
    {
     "name": "stdout",
     "output_type": "stream",
     "text": [
      "Sample 1: Best score = 1921\n",
      "Sample 2: Best score = 1921\n",
      "Sample 3: Best score = 1922\n",
      "Sample 4: Best score = 1921\n",
      "Sample 5: Best score = 1921\n",
      "Sample 6: Best score = 1927\n",
      "Sample 7: Best score = 1923\n",
      "Sample 8: Best score = 1922\n",
      "Sample 9: Best score = 1922\n",
      "Sample 10: Best score = 1920\n",
      "Sample 11: Best score = 1923\n",
      "Sample 12: Best score = 1922\n",
      "Sample 13: Best score = 1922\n",
      "Sample 14: Best score = 1924\n",
      "Sample 15: Best score = 1925\n",
      "Sample 16: Best score = 1920\n",
      "Sample 17: Best score = 1924\n",
      "Sample 18: Best score = 1922\n",
      "Sample 19: Best score = 1921\n",
      "Sample 20: Best score = 1922\n",
      "Sample 21: Best score = 1921\n",
      "Sample 22: Best score = 1922\n",
      "Sample 23: Best score = 1924\n",
      "Sample 24: Best score = 1922\n",
      "Sample 25: Best score = 1924\n",
      "Sample 26: Best score = 1920\n",
      "Sample 27: Best score = 1923\n",
      "Sample 28: Best score = 1924\n",
      "Sample 29: Best score = 1923\n",
      "Sample 30: Best score = 1922\n",
      " \n",
      "Best sample = 6\n",
      "Best score = 1927, Minimum score = 1920\n",
      "Average score = 1922.3333333333333, Median score = 1922.0, Standard deviation = 1.5563490039905001\n"
     ]
    }
   ],
   "source": [
    "analyzer.analyze()"
   ],
   "metadata": {
    "collapsed": false,
    "pycharm": {
     "name": "#%%\n"
    }
   }
  },
  {
   "cell_type": "markdown",
   "source": [],
   "metadata": {
    "collapsed": false,
    "pycharm": {
     "name": "#%% md\n"
    }
   }
  },
  {
   "cell_type": "code",
   "execution_count": 57,
   "outputs": [],
   "source": [
    "solver = GeneticAlgorithmSolver(pm=0.9, t_max=100)"
   ],
   "metadata": {
    "collapsed": false,
    "pycharm": {
     "name": "#%%\n"
    }
   }
  },
  {
   "cell_type": "code",
   "execution_count": 58,
   "outputs": [],
   "source": [
    "analyzer = GeneticAlgorithmAnalyzer(solver=solver, population_creator=population_creator, problem=problem, n_samples=30)"
   ],
   "metadata": {
    "collapsed": false,
    "pycharm": {
     "name": "#%%\n"
    }
   }
  },
  {
   "cell_type": "code",
   "execution_count": 59,
   "outputs": [
    {
     "name": "stdout",
     "output_type": "stream",
     "text": [
      "Sample 1: Best score = 1921\n",
      "Sample 2: Best score = 1924\n",
      "Sample 3: Best score = 1920\n",
      "Sample 4: Best score = 1922\n",
      "Sample 5: Best score = 1921\n",
      "Sample 6: Best score = 1921\n",
      "Sample 7: Best score = 1920\n",
      "Sample 8: Best score = 1924\n",
      "Sample 9: Best score = 1922\n",
      "Sample 10: Best score = 1922\n",
      "Sample 11: Best score = 1923\n",
      "Sample 12: Best score = 1922\n",
      "Sample 13: Best score = 1925\n",
      "Sample 14: Best score = 1922\n",
      "Sample 15: Best score = 1925\n",
      "Sample 16: Best score = 1922\n",
      "Sample 17: Best score = 1924\n",
      "Sample 18: Best score = 1922\n",
      "Sample 19: Best score = 1920\n",
      "Sample 20: Best score = 1921\n",
      "Sample 21: Best score = 1924\n",
      "Sample 22: Best score = 1922\n",
      "Sample 23: Best score = 1924\n",
      "Sample 24: Best score = 1922\n",
      "Sample 25: Best score = 1922\n",
      "Sample 26: Best score = 1920\n",
      "Sample 27: Best score = 1922\n",
      "Sample 28: Best score = 1921\n",
      "Sample 29: Best score = 1923\n",
      "Sample 30: Best score = 1920\n",
      " \n",
      "Best sample = 13\n",
      "Best score = 1925, Minimum score = 1920\n",
      "Average score = 1922.1, Median score = 1922.0, Standard deviation = 1.468559384794046\n"
     ]
    }
   ],
   "source": [
    "analyzer.analyze()"
   ],
   "metadata": {
    "collapsed": false,
    "pycharm": {
     "name": "#%%\n"
    }
   }
  },
  {
   "cell_type": "markdown",
   "source": [],
   "metadata": {
    "collapsed": false,
    "pycharm": {
     "name": "#%% md\n"
    }
   }
  },
  {
   "cell_type": "markdown",
   "source": [
    "Poniżej zamieszczam wyniki z przeprowadzonych doświadczeń dla $t_{max} = 100$:"
   ],
   "metadata": {
    "collapsed": false,
    "pycharm": {
     "name": "#%% md\n"
    }
   }
  },
  {
   "cell_type": "markdown",
   "source": [
    "| t_max  | $pm$  | Średni wynik  | Mediana   | Odchylenie standardowe | Max  | Min  |\n",
    "|--------|-------|---------------|-----------|------------------------|------|------|\n",
    "| 100    | 0     | 1920.2        | 1920      | 1.5362                 | 1923 | 1917 |\n",
    "| 100    | 0.001 | 1920.8        | 1921      | 1.9562                 | 1927 | 1918 |\n",
    "| 100    | 0.005 | 1922.3667     | 1922      | 1.5596                 | 1926 | 1920 |\n",
    "| 100    | 0.01  | 1923.1        | 1922.5    | 1.9209                 | 1928 | 1920 |\n",
    "| 100    | 0.05  | 1923.4667     | 1923      | 1.2311                 | 1926 | 1920 |\n",
    "| 100    | 0.1   | 1923.2667     | 1923      | 1.4126                 | 1926 | 1920 |\n",
    "| 100    | 0.2   | 1922.5667     | 1922.5    | 1.4302                 | 1926 | 1921 |\n",
    "| 100    | 0.3   | 1922.1        | 1922      | 1.3254                 | 1925 | 1919 |\n",
    "| 100    | 0.5   | 1922.3333     | 1922      | 1.5563                 | 1927 | 1920 |\n",
    "| 100    | 0.9   | 1922.1        | 1922      | 1.4686                 | 1925 | 1920 |\n"
   ],
   "metadata": {
    "collapsed": false,
    "pycharm": {
     "name": "#%% md\n"
    }
   }
  },
  {
   "cell_type": "markdown",
   "source": [
    "| t_max  | Średni wynik (średnia) | Mediana (średnia) | Odchylenie standardowe (średnia) | Max (max) | Min (min) |\n",
    "|--------|------------------------|-------------------|----------------------------------|-----------|-----------|\n",
    "| 100    | 1922.23                | 1922              | 1.5397                           | 1928      | 1917      |"
   ],
   "metadata": {
    "collapsed": false,
    "pycharm": {
     "name": "#%% md\n"
    }
   }
  },
  {
   "cell_type": "markdown",
   "source": [
    "## 6. Podsumowanie"
   ],
   "metadata": {
    "collapsed": false,
    "pycharm": {
     "name": "#%% md\n"
    }
   }
  },
  {
   "cell_type": "markdown",
   "source": [
    "Przed przystąpieniem do formułowania wniosków jeszcze raz zaprezentuję zebrane dotąd rezultaty, tym razem w zbiorczej formie."
   ],
   "metadata": {
    "collapsed": false,
    "pycharm": {
     "name": "#%% md\n"
    }
   }
  },
  {
   "cell_type": "markdown",
   "source": [
    "| t_max  | $pm$    | Średni wynik   | Mediana   | Odchylenie standardowe   | Max  | Min  |\n",
    "|--------|---------|----------------|-----------|--------------------------|------|------|\n",
    "| 50     | 0       | 1919.7         | 1920      | 1.4177                   | 1923 | 1917 |\n",
    "| 50     | 0.001   | 1920.4333      | 1921      | 1.6469                   | 1924 | 1918 |\n",
    "| 50     | 0.005   | 1920.3         | 1920      | 1.5524                   | 1925 | 1917 |\n",
    "| 50     | 0.01    | 1921.3667      | 1921      | 1.7604                   | 1926 | 1918 |\n",
    "| 50     | 0.05    | 1922.3667      | 1922      | 1.3287                   | 1925 | 1920 |\n",
    "| 50     | 0.1     | 1922.1333      | 1922      | 1.8749                   | 1926 | 1920 |\n",
    "| 50     | 0.2     | 1921.6333      | 1922      | 1.4019                   | 1925 | 1919 |\n",
    "| 50     | 0.3     | 1921.7333      | 1922      | 1.5041                   | 1926 | 1919 |\n",
    "| 50     | 0.5     | 1921.2         | 1921      | 1.3266                   | 1925 | 1919 |\n",
    "| 50     | 0.9     | 1920.9         | 1921      | 1.5989                   | 1926 | 1918 |\n",
    "| 100    | 0       | 1920.2         | 1920      | 1.5362                   | 1923 | 1917 |\n",
    "| 100    | 0.001   | 1920.8         | 1921      | 1.9562                   | 1927 | 1918 |\n",
    "| 100    | 0.005   | 1922.3667      | 1922      | 1.5596                   | 1926 | 1920 |\n",
    "| 100    | 0.01    | 1923.1         | 1922.5    | 1.9209                   | 1928 | 1920 |\n",
    "| 100    | 0.05    | 1923.4667      | 1923      | 1.2311                   | 1926 | 1920 |\n",
    "| 100    | 0.1     | 1923.2667      | 1923      | 1.4126                   | 1926 | 1920 |\n",
    "| 100    | 0.2     | 1922.5667      | 1922.5    | 1.4302                   | 1926 | 1921 |\n",
    "| 100    | 0.3     | 1922.1         | 1922      | 1.3254                   | 1925 | 1919 |\n",
    "| 100    | 0.5     | 1922.3333      | 1922      | 1.5563                   | 1927 | 1920 |\n",
    "| 100    | 0.9     | 1922.1         | 1922      | 1.4686                   | 1925 | 1920 |\n",
    "| 1000   | 0       | 1920.8333      | 1921      | 1.6948                   | 1924 | 1918 |\n",
    "| 1000   | 0.001   | 1924.5667      | 1925      | 1.7065                   | 1928 | 1920 |\n",
    "| 1000   | 0.005   | 1925.6333      | 1926      | 1.2242                   | 1929 | 1923 |\n",
    "| 1000   | 0.01    | 1926.0333      | 1926      | 1.1397                   | 1928 | 1924 |\n",
    "| 1000   | 0.05    | 1926.6         | 1926      | 1.9253                   | 1932 | 1924 |\n",
    "| 1000   | 0.1     | 1925.8         | 1926      | 1.0132                   | 1928 | 1924 |\n",
    "| 1000   | 0.2     | 1925.2667      | 1925      | 1.2893                   | 1928 | 1923 |\n",
    "| 1000   | 0.3     | 1924.7667      | 1925      | 1.4533                   | 1931 | 1923 |\n",
    "| 1000   | 0.5     | 1924.8667      | 1925      | 1.3597                   | 1928 | 1923 |\n",
    "| 1000   | 0.9     | 1924.7333      | 1924      | 1.2632                   | 1928 | 1923 |\n"
   ],
   "metadata": {
    "collapsed": false,
    "pycharm": {
     "name": "#%% md\n"
    }
   }
  },
  {
   "cell_type": "markdown",
   "source": [
    "| t_max  | Średni wynik (średnia)  | Mediana (średnia) | Odchylenie standardowe (średnia) | Max (max) | Min (min) |\n",
    "|--------|-------------------------|-------------------|----------------------------------|-----------|-----------|\n",
    "| 50     | 1921.1767               | 1921.2            | 1.5413                           | 1926      | 1917      |\n",
    "| 100    | 1922.23                 | 1922              | 1.5397                           | 1928      | 1917      |\n",
    "| 1000   | 1924.91                 | 1924.9            | 1.4069                           | 1932      | 1918      |\n"
   ],
   "metadata": {
    "collapsed": false,
    "pycharm": {
     "name": "#%% md\n"
    }
   }
  },
  {
   "cell_type": "markdown",
   "source": [
    "Analizując powyższe dane, możemy stwierdzić, że zarówno dla $t_{max}$ równego $50$, $100$ jak i $1000$, wartość prawdopodobieństwa mutacji dająca najlepsze rezultaty nie może być zbyt mała, ale także zbyt duża. We wszystkich rozważanych przypadkach $t_{max}$ algorytm sprawdzał się najlepiej dla $pm = 0,05$ - naszej wartości domyślnej. Jest to wartość na tyle mała, że nie zaburza znacząco struktury osobnika, a także na tyle duża, że w znaczącym stopniu zwiększa różnorodność osobników, umożliwiając tym samym poprawienie efektywności krzyżowania w procesie wyznaczania najlepszego osobnika. W każdej z trzech przedstawionych sytuacji za każdym razem najgorsze średnie wyniki, jak i wartości minimalne otrzymywaliśmy dla $pm = 0$, co potwierdza nasze rozważania. Nawet minimalna wartość prawdopodobieństwa mutacji w zauważalny sposób poprawia wyniki, co widać szczególnie dla $t_{max} = 1000$.\n"
   ],
   "metadata": {
    "collapsed": false,
    "pycharm": {
     "name": "#%% md\n"
    }
   }
  },
  {
   "cell_type": "markdown",
   "source": [
    "Warto zauważyć także, że wraz ze wzrostem liczby iteracji w przebiegu $t_{max}$ zwiększa się także średni wynik, jak i mediana. Jest to fakt, którego mogliśmy się spodziewać od samego początku, ponieważ wraz ze wzrostem liczby iteracji, zwiększa się ilość nowych (powstałych na skutek mutacji i krzyżowania) osobników biorących udział w ewolucji, co pozytywnie wpływa na jakość populacji, która charakteryzuje się osobnikami o dużej wartości. Widzimy także, że z im większą liczbą iteracji mamy do czynienia tym średnia odchylenia standardowego staje się mniejsza. O ile dla $t_{max} = 50$ i $t_{max} = 100$ różnica jest pomijalna, o tyle dla $t_{max} = 1000$ różnica względem pozostałych przypadków jest już znacząco większa. Niestety ze względu na bardzo małe zróżnicowanie wyników w ramach jednego $t_{max}$ nie jesteśmy w stanie zaobserwować żadnej korelacji pomiędzy wartością odchylenia standardowego, a hiperparametrem $pm$, nawet po zwiększeniu liczby przebiegów (do $30$) wewnątrz jednej analizy, redukując tym samym losowość na rzecz bardziej zregularyzowanych zależności od konkretnego zestawu parametrów."
   ],
   "metadata": {
    "collapsed": false,
    "pycharm": {
     "name": "#%% md\n"
    }
   }
  },
  {
   "cell_type": "markdown",
   "source": [
    "Wraz ze wzrostem liczby $t_{max}$ jesteśmy w stanie osiągnąć lepszego osobnika o maksymalnej wartości w danej analizie (dla konkretnego $t_{max}$). Dla $t_{max} = 50$ najlepszy osobnik ma wartość $1926$ dla $t_{max} = 100$ jest to już 1928, natomiast dla $t_{max} = 1000$ najlepszy wychwycony osobnik ma wartość wynoszącą aż $1932$. Analogicznie jest w przypadku najgorszych osobników. Analizy względem wartości $pm$ przeprowadzone dla $t_{max} = 50$ cechują się znacznie niższymi wartościami najgorszych osobników niż te przeprowadzone dla $t_{max} = 1000$. Jednakże to, że dana analiza charakteryzuje się najlepszym uzyskanym osobnikiem w ramach jednej wartości $t_{max}$ wcale nie świadczy, że ma ona najwyższy średni wynik. Zarówno dla $t_{max} = 50$, jak i $t_{max} = 100$ analizą, która szczyci się osobnikiem o maksymalnej wartości, nie jest ta, która została przeprowadzona dla $pm = 0,05$ lecz np. ta o $pm = 0,09$ ( $t_{max} = 50$ ) lub $pm = 0,01$ ( $t_{max} = 100$ )."
   ],
   "metadata": {
    "collapsed": false,
    "pycharm": {
     "name": "#%% md\n"
    }
   }
  },
  {
   "cell_type": "markdown",
   "source": [
    "Patrząc obiektywnie na otrzymane rezultaty, możemy powiedzieć, że wszystkie wyniki są relatywnie do siebie podobne. Jest to spowodowane w głównej mierze przez samą specyfikę zadania. Gdybyśmy mieli do czynienia z zadaniem bardziej rozbudowanym, wyniki zapewne różniłyby się bardziej."
   ],
   "metadata": {
    "collapsed": false,
    "pycharm": {
     "name": "#%% md\n"
    }
   }
  }
 ],
 "metadata": {
  "kernelspec": {
   "display_name": "Python 3",
   "language": "python",
   "name": "python3"
  },
  "language_info": {
   "codemirror_mode": {
    "name": "ipython",
    "version": 2
   },
   "file_extension": ".py",
   "mimetype": "text/x-python",
   "name": "python",
   "nbconvert_exporter": "python",
   "pygments_lexer": "ipython2",
   "version": "2.7.6"
  }
 },
 "nbformat": 4,
 "nbformat_minor": 0
}