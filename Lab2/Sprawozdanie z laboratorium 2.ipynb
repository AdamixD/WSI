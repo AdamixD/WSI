{
 "cells": [
  {
   "cell_type": "markdown",
   "source": [
    "# Sprawozdanie z laboratorium 2"
   ],
   "metadata": {
    "collapsed": false,
    "pycharm": {
     "name": "#%% md\n"
    }
   }
  },
  {
   "cell_type": "markdown",
   "source": [
    "***Autor: Adam Dąbkowski***"
   ],
   "metadata": {
    "collapsed": false,
    "pycharm": {
     "name": "#%% md\n"
    }
   }
  },
  {
   "cell_type": "markdown",
   "source": [
    "Celem drugiego laboratorium jest zaimplementowanie algorytmu genetycznego z selekcją ruletkową, krzyżowaniem jednopunktowym oraz sukcesją generacyjną. Dodatkowo należy zbadać wpływ doboru parametrów na przykładzie danego problemu."
   ],
   "metadata": {
    "collapsed": false,
    "pycharm": {
     "name": "#%% md\n"
    }
   }
  },
  {
   "cell_type": "markdown",
   "source": [
    "## 0. Importowanie niezbędnych bibliotek"
   ],
   "metadata": {
    "collapsed": false,
    "pycharm": {
     "name": "#%% md\n"
    }
   }
  },
  {
   "cell_type": "code",
   "execution_count": 1,
   "outputs": [],
   "source": [
    "import random\n",
    "import copy\n",
    "from utils import *"
   ],
   "metadata": {
    "collapsed": false,
    "pycharm": {
     "name": "#%%\n"
    }
   }
  },
  {
   "cell_type": "markdown",
   "source": [
    "## 1. Tworzenie populacji"
   ],
   "metadata": {
    "collapsed": false,
    "pycharm": {
     "name": "#%% md\n"
    }
   }
  },
  {
   "cell_type": "code",
   "execution_count": 2,
   "outputs": [],
   "source": [
    "def create_population(population_size, individual_size):\n",
    "    population = []\n",
    "\n",
    "    for i in range(population_size):\n",
    "        individual = []\n",
    "        for j in range(individual_size):\n",
    "            individual.append(random.randint(0, 1))\n",
    "        population.append(np.array(individual))\n",
    "\n",
    "    return np.array(population)"
   ],
   "metadata": {
    "collapsed": false,
    "pycharm": {
     "name": "#%%\n"
    }
   }
  },
  {
   "cell_type": "markdown",
   "source": [
    "## 2. Zdefiniowanie problemu (funkcji celu)"
   ],
   "metadata": {
    "collapsed": false,
    "pycharm": {
     "name": "#%% md\n"
    }
   }
  },
  {
   "cell_type": "code",
   "execution_count": 3,
   "outputs": [],
   "source": [
    "def problem(x):\n",
    "    h0 = 200\n",
    "    v0 = 0\n",
    "    fuel = x.sum()\n",
    "    m0 = 200 + fuel\n",
    "\n",
    "    for i in x:\n",
    "        m0 -= i * 1\n",
    "        a = (45/m0) * i - 0.09\n",
    "        v0 = v0 + a\n",
    "        h0 = h0 + v0\n",
    "\n",
    "        if (0 <= h0 < 2) and abs(v0) < 2:\n",
    "            return 2000 - fuel\n",
    "\n",
    "        elif h0 < 0:\n",
    "            return -1000 - fuel\n",
    "\n",
    "    return - fuel"
   ],
   "metadata": {
    "collapsed": false,
    "pycharm": {
     "name": "#%%\n"
    }
   }
  },
  {
   "cell_type": "markdown",
   "source": [
    "## 3. Implementacja algorytmu genetycznego"
   ],
   "metadata": {
    "collapsed": false,
    "pycharm": {
     "name": "#%% md\n"
    }
   }
  },
  {
   "cell_type": "markdown",
   "source": [
    "Głównym zadaniem drugiego laboratorium jest implementacja algorytmu genetycznego. W tym celu stworzona została klasa ***GeneticAlgorithmSolver***. Podczas tworzenia obiektu tej klasy istnieje możliwość podania czterech parametrów:\n",
    "- ***t_max*** - liczba iteracji (domyślna wartość wynosi $1000$)\n",
    "- ***pc*** - prawdopodobieństwo krzyżowania (domyślna wartość wynosi $0,5$)\n",
    "- ***pm*** - prawdopodobieństwo mutacji (domyślna wartość wynosi $0,5$)\n",
    "- ***u*** - liczba osobników w populacji (domyślna wartość wynosi $20$)"
   ],
   "metadata": {
    "collapsed": false,
    "pycharm": {
     "name": "#%% md\n"
    }
   }
  },
  {
   "cell_type": "markdown",
   "source": [
    "Klasa ***GeneticAlgorithmSolver*** zawiera także sześć metod:\n",
    "- ***get_parameters()*** - metoda ta zwraca wartości parametrów\n",
    "- ***solve()*** - metoda zawierająca w sobie algorytm genetyczny, wykorzystuje metody ***score()*** , ***find_best()*** , ***selection()*** , ***crossing_and_mutation()*** . W wyniku jej wywołania otrzymujemy najlepszego osobnika i wartość funkcji celu\n",
    "- ***score()*** - metoda zwracająca wyniki dla osobników w populacji\n",
    "- ***find_best()*** - metoda zwracająca najlepszego osobnika\n",
    "- ***selection()*** - metoda, która zadaniem jest wybranie lepszych osobników z większym prawdopodobieństwem\n",
    "- ***crossing_and_mutation()*** - metoda odpowiedzialna za krzyżowanie i mutację"
   ],
   "metadata": {
    "collapsed": false,
    "pycharm": {
     "name": "#%% md\n"
    }
   }
  },
  {
   "cell_type": "code",
   "execution_count": 4,
   "outputs": [],
   "source": [
    "class GeneticAlgorithmSolver:\n",
    "    def __init__(self, t_max=1000, pc=0.5, pm=0.005, u=50):\n",
    "        self._t_max = t_max\n",
    "        self._pc = pc\n",
    "        self._pm = pm\n",
    "        self._u = u\n",
    "\n",
    "    def get_parameters(self):\n",
    "        return {\n",
    "            \"t_max\": self._t_max,\n",
    "            \"pc\": self._pc,\n",
    "            \"pm\": self._pm,\n",
    "            \"u\": self._u\n",
    "        }\n",
    "\n",
    "    def solve(self, problem, pop0):\n",
    "        t = 0\n",
    "        P = pop0\n",
    "        O = self.score(problem, P)\n",
    "        x_best, o_best = self.find_best(P, O)\n",
    "        while t < self._t_max:\n",
    "            S = self.selection(P, O, self._u)\n",
    "            M = self.crossing_and_mutation(S, self._pc, self._pm, self._u)\n",
    "            O = self.score(problem, M)\n",
    "            x, o = self.find_best(M, O)\n",
    "\n",
    "            if o > o_best:\n",
    "                x_best = x\n",
    "                o_best = o\n",
    "\n",
    "            P = M\n",
    "            t += 1\n",
    "\n",
    "        return x_best, o_best\n",
    "\n",
    "    @staticmethod\n",
    "    def score(problem, P):\n",
    "        return [problem(x) for x in P]\n",
    "\n",
    "    @staticmethod\n",
    "    def find_best(P, O):\n",
    "        index = np.argmax(O)\n",
    "        return P[index], O[index]\n",
    "\n",
    "    @staticmethod\n",
    "    def selection(P, O, u):\n",
    "        O = [o + (1000 + P.shape[1]) for o in O]\n",
    "        O = [o / sum(O) for o in O]\n",
    "        indices = np.arange(0, P.shape[0])\n",
    "        selected_indices = np.random.choice(indices, u, replace=True, p=O)\n",
    "\n",
    "        return P[selected_indices]\n",
    "\n",
    "    @staticmethod\n",
    "    def crossing_and_mutation(S, pc, pm, u):\n",
    "        M = []\n",
    "\n",
    "        # crossing\n",
    "        for i in range(0, u - 1, 2):\n",
    "            individual_1 = S[i]\n",
    "            individual_2 = S[i + 1]\n",
    "\n",
    "            if random.random() < pc:\n",
    "                crossing_point = random.randint(1, len(individual_1))\n",
    "                individual_1_crossed = copy.deepcopy(individual_1)\n",
    "                individual_2_crossed = copy.deepcopy(individual_2)\n",
    "\n",
    "                individual_1_crossed[crossing_point:] = individual_2[crossing_point:]\n",
    "                individual_2_crossed[crossing_point:] = individual_1[crossing_point:]\n",
    "\n",
    "                M.append(individual_1_crossed)\n",
    "                M.append(individual_2_crossed)\n",
    "\n",
    "            else:\n",
    "                M.append(individual_1)\n",
    "                M.append(individual_2)\n",
    "\n",
    "        if u % 2 == 1:\n",
    "            M.append(S[-1])\n",
    "\n",
    "        # mutation\n",
    "        for individual in M:\n",
    "            for i in range(individual.shape[0]):\n",
    "                if random.random() < pm:\n",
    "                    individual[i] = 1 if individual[i] == 0 else 0\n",
    "\n",
    "        return np.array(M)"
   ],
   "metadata": {
    "collapsed": false,
    "pycharm": {
     "name": "#%%\n"
    }
   }
  },
  {
   "cell_type": "markdown",
   "source": [
    "## 4. Zastosowanie algorytmu genetycznego w celu wyznaczenia najlepszego osobnika"
   ],
   "metadata": {
    "collapsed": false,
    "pycharm": {
     "name": "#%% md\n"
    }
   }
  },
  {
   "cell_type": "markdown",
   "source": [
    "Po zaimplementowaniu algorytmu genetycznego, a także po zdefiniowaniu funkcji celu możemy przejść do testowania solvera w celu znalezienia największej wartości wspomnianej funkcji. Na początku wykorzystany zostanie solver z domyślnymi wartościami, jednakże należy najpierw utworzyć populację początkową. W naszych doświadczeniach liczba osobników będzie wynosiła $1000$, natomiast wielkość osobnika będzie równa $200$."
   ],
   "metadata": {
    "collapsed": false,
    "pycharm": {
     "name": "#%% md\n"
    }
   }
  },
  {
   "cell_type": "code",
   "execution_count": 5,
   "outputs": [],
   "source": [
    "pop0 = create_population(population_size=1000, individual_size=200)"
   ],
   "metadata": {
    "collapsed": false,
    "pycharm": {
     "name": "#%%\n"
    }
   }
  },
  {
   "cell_type": "markdown",
   "source": [
    "Następnie przechodzimy do stworzenia solvera."
   ],
   "metadata": {
    "collapsed": false,
    "pycharm": {
     "name": "#%% md\n"
    }
   }
  },
  {
   "cell_type": "code",
   "execution_count": 6,
   "outputs": [],
   "source": [
    "solver = GeneticAlgorithmSolver()"
   ],
   "metadata": {
    "collapsed": false,
    "pycharm": {
     "name": "#%%\n"
    }
   }
  },
  {
   "cell_type": "markdown",
   "source": [
    "Chcąc upewnić się jakie parametry ma nasz solver możemy wykorzystać metodę ***get_parameters()*** ."
   ],
   "metadata": {
    "collapsed": false,
    "pycharm": {
     "name": "#%% md\n"
    }
   }
  },
  {
   "cell_type": "code",
   "execution_count": 7,
   "outputs": [
    {
     "data": {
      "text/plain": "{'t_max': 1000, 'pc': 0.5, 'pm': 0.005, 'u': 50}"
     },
     "execution_count": 7,
     "metadata": {},
     "output_type": "execute_result"
    }
   ],
   "source": [
    "solver.get_parameters()"
   ],
   "metadata": {
    "collapsed": false,
    "pycharm": {
     "name": "#%%\n"
    }
   }
  },
  {
   "cell_type": "markdown",
   "source": [
    "Teraz możemy już przejść do rozwiązania naszego problemu."
   ],
   "metadata": {
    "collapsed": false,
    "pycharm": {
     "name": "#%% md\n"
    }
   }
  },
  {
   "cell_type": "code",
   "execution_count": 8,
   "outputs": [],
   "source": [
    "x_best, o_best = solver.solve(problem, pop0)"
   ],
   "metadata": {
    "collapsed": false,
    "pycharm": {
     "name": "#%%\n"
    }
   }
  },
  {
   "cell_type": "code",
   "execution_count": 9,
   "outputs": [
    {
     "name": "stdout",
     "output_type": "stream",
     "text": [
      "Best score = 1926\n"
     ]
    }
   ],
   "source": [
    "print(f'Best score = {o_best}')"
   ],
   "metadata": {
    "collapsed": false,
    "pycharm": {
     "name": "#%%\n"
    }
   }
  },
  {
   "cell_type": "code",
   "execution_count": 10,
   "outputs": [
    {
     "data": {
      "text/plain": "array([1, 0, 0, 0, 0, 0, 1, 0, 1, 0, 0, 1, 0, 0, 0, 0, 0, 0, 0, 0, 0, 0,\n       0, 0, 0, 0, 0, 1, 0, 0, 1, 1, 0, 0, 1, 1, 0, 0, 0, 1, 1, 1, 0, 1,\n       0, 0, 1, 1, 0, 0, 0, 1, 0, 1, 0, 1, 1, 1, 1, 1, 0, 1, 1, 1, 1, 0,\n       1, 0, 0, 1, 0, 0, 0, 0, 1, 0, 1, 0, 0, 1, 1, 0, 1, 0, 0, 1, 1, 1,\n       1, 0, 0, 0, 0, 1, 1, 1, 1, 0, 1, 1, 0, 0, 0, 0, 1, 0, 1, 1, 0, 0,\n       0, 1, 1, 0, 0, 0, 1, 0, 0, 0, 0, 1, 1, 0, 0, 0, 1, 1, 1, 0, 0, 0,\n       0, 1, 0, 1, 0, 0, 0, 1, 0, 0, 0, 1, 0, 1, 0, 0, 1, 0, 0, 0, 0, 0,\n       0, 1, 1, 0, 1, 0, 1, 0, 1, 1, 0, 0, 0, 0, 0, 0, 0, 1, 0, 0, 0, 0,\n       0, 0, 1, 1, 0, 0, 0, 0, 1, 0, 0, 1, 0, 1, 0, 0, 0, 0, 1, 0, 0, 0,\n       1, 0])"
     },
     "execution_count": 10,
     "metadata": {},
     "output_type": "execute_result"
    }
   ],
   "source": [
    "x_best"
   ],
   "metadata": {
    "collapsed": false,
    "pycharm": {
     "name": "#%%\n"
    }
   }
  },
  {
   "cell_type": "markdown",
   "source": [
    "## 5. Zastosowanie algorytmu genetycznego w celu wyznaczenia najlepszego osobnika - Badanie wpływu hiperparametrów\n"
   ],
   "metadata": {
    "collapsed": false,
    "pycharm": {
     "name": "#%% md\n"
    }
   }
  },
  {
   "cell_type": "markdown",
   "source": [
    "Aby usprawnić analizę otrzymanych wyników, zaimplementowana została klasa ***GeneticAlgorithmAnalyzer***, która podczas tworzenia obiektu przyjmuje jako argumenty **solver**, **funkcję celu**, **populację początkową** oraz **liczbę przebiegów**, na podstawie których będziemy mogli ocenić dobór parametrów solvera."
   ],
   "metadata": {
    "collapsed": false,
    "pycharm": {
     "name": "#%% md\n"
    }
   }
  },
  {
   "cell_type": "markdown",
   "source": [
    "Na początku przetestujemy solver z domyślnymi wartościami."
   ],
   "metadata": {
    "collapsed": false,
    "pycharm": {
     "name": "#%% md\n"
    }
   }
  },
  {
   "cell_type": "code",
   "execution_count": 11,
   "outputs": [],
   "source": [
    "analyzer = GeneticAlgorithmAnalyzer(solver=solver, problem=problem, pop0=pop0, n_samples=25)"
   ],
   "metadata": {
    "collapsed": false,
    "pycharm": {
     "name": "#%%\n"
    }
   }
  },
  {
   "cell_type": "code",
   "execution_count": 12,
   "outputs": [
    {
     "name": "stdout",
     "output_type": "stream",
     "text": [
      "Sample 1: Best score = 1925\n",
      "Sample 2: Best score = 1923\n",
      "Sample 3: Best score = 1924\n",
      "Sample 4: Best score = 1924\n",
      "Sample 5: Best score = 1920\n",
      "Sample 6: Best score = 1921\n",
      "Sample 7: Best score = 1922\n",
      "Sample 8: Best score = 1924\n",
      "Sample 9: Best score = 1923\n",
      "Sample 10: Best score = 1925\n",
      "Sample 11: Best score = 1922\n",
      "Sample 12: Best score = 1922\n",
      "Sample 13: Best score = 1924\n",
      "Sample 14: Best score = 1921\n",
      "Sample 15: Best score = 1925\n",
      "Sample 16: Best score = 1922\n",
      "Sample 17: Best score = 1925\n",
      "Sample 18: Best score = 1922\n",
      "Sample 19: Best score = 1925\n",
      "Sample 20: Best score = 1921\n",
      "Sample 21: Best score = 1924\n",
      "Sample 22: Best score = 1922\n",
      "Sample 23: Best score = 1922\n",
      "Sample 24: Best score = 1926\n",
      "Sample 25: Best score = 1925\n",
      " \n",
      "Best sample = 24\n",
      "Best score = 1926, Minimum score = 1920\n",
      "Average score = 1923.16, Median score = 1923.0\n"
     ]
    }
   ],
   "source": [
    "analyzer.analyze()"
   ],
   "metadata": {
    "collapsed": false,
    "pycharm": {
     "name": "#%%\n"
    }
   }
  },
  {
   "cell_type": "markdown",
   "source": [
    "Jak widać powyżej, wartość minimalna różni się od maksymalnej, natomiast średnia wyników jest zbliżona do ich mediany. Na podstawie otrzymanych wyników możemy stwierdzić, że w każdym przebiegu rakieta wylądowała."
   ],
   "metadata": {
    "collapsed": false,
    "pycharm": {
     "name": "#%% md\n"
    }
   }
  },
  {
   "cell_type": "markdown",
   "source": [
    "Sprawdźmy jednak, czy uda nam się zredukować koszty startu rakiety tak, aby jeszcze bardziej zbliżyć się do wartości równej $2000$."
   ],
   "metadata": {
    "collapsed": false,
    "pycharm": {
     "name": "#%% md\n"
    }
   }
  },
  {
   "cell_type": "markdown",
   "source": [
    "#### 5.1 Badanie wpływu prawdopodobieństwa krzyżowania"
   ],
   "metadata": {
    "collapsed": false,
    "pycharm": {
     "name": "#%% md\n"
    }
   }
  },
  {
   "cell_type": "code",
   "execution_count": 14,
   "outputs": [],
   "source": [
    "solver = GeneticAlgorithmSolver(pc=0.7)"
   ],
   "metadata": {
    "collapsed": false,
    "pycharm": {
     "name": "#%%\n"
    }
   }
  },
  {
   "cell_type": "code",
   "execution_count": 15,
   "outputs": [],
   "source": [
    "analyzer = GeneticAlgorithmAnalyzer(solver=solver, problem=problem, pop0=pop0, n_samples=25)"
   ],
   "metadata": {
    "collapsed": false,
    "pycharm": {
     "name": "#%%\n"
    }
   }
  },
  {
   "cell_type": "code",
   "execution_count": 16,
   "outputs": [
    {
     "name": "stdout",
     "output_type": "stream",
     "text": [
      "Sample 1: Best score = 1920\n",
      "Sample 2: Best score = 1922\n",
      "Sample 3: Best score = 1925\n",
      "Sample 4: Best score = 1923\n",
      "Sample 5: Best score = 1924\n",
      "Sample 6: Best score = 1924\n",
      "Sample 7: Best score = 1921\n",
      "Sample 8: Best score = 1924\n",
      "Sample 9: Best score = 1927\n",
      "Sample 10: Best score = 1922\n",
      "Sample 11: Best score = 1924\n",
      "Sample 12: Best score = 1924\n",
      "Sample 13: Best score = 1925\n",
      "Sample 14: Best score = 1922\n",
      "Sample 15: Best score = 1923\n",
      "Sample 16: Best score = 1922\n",
      "Sample 17: Best score = 1924\n",
      "Sample 18: Best score = 1925\n",
      "Sample 19: Best score = 1921\n",
      "Sample 20: Best score = 1923\n",
      "Sample 21: Best score = 1921\n",
      "Sample 22: Best score = 1924\n",
      "Sample 23: Best score = 1923\n",
      "Sample 24: Best score = 1922\n",
      "Sample 25: Best score = 1924\n",
      " \n",
      "Best sample = 9\n",
      "Best score = 1927, Minimum score = 1920\n",
      "Average score = 1923.16, Median score = 1923.0\n"
     ]
    }
   ],
   "source": [
    "analyzer.analyze()"
   ],
   "metadata": {
    "collapsed": false,
    "pycharm": {
     "name": "#%%\n"
    }
   }
  },
  {
   "cell_type": "markdown",
   "source": [],
   "metadata": {
    "collapsed": false,
    "pycharm": {
     "name": "#%% md\n"
    }
   }
  },
  {
   "cell_type": "code",
   "execution_count": 17,
   "outputs": [],
   "source": [
    "solver = GeneticAlgorithmSolver(pc=0.4)"
   ],
   "metadata": {
    "collapsed": false,
    "pycharm": {
     "name": "#%%\n"
    }
   }
  },
  {
   "cell_type": "code",
   "execution_count": 18,
   "outputs": [],
   "source": [
    "analyzer = GeneticAlgorithmAnalyzer(solver=solver, problem=problem, pop0=pop0, n_samples=25)"
   ],
   "metadata": {
    "collapsed": false,
    "pycharm": {
     "name": "#%%\n"
    }
   }
  },
  {
   "cell_type": "code",
   "execution_count": 19,
   "outputs": [
    {
     "name": "stdout",
     "output_type": "stream",
     "text": [
      "Sample 1: Best score = 1924\n",
      "Sample 2: Best score = 1922\n",
      "Sample 3: Best score = 1923\n",
      "Sample 4: Best score = 1922\n",
      "Sample 5: Best score = 1921\n",
      "Sample 6: Best score = 1923\n",
      "Sample 7: Best score = 1923\n",
      "Sample 8: Best score = 1922\n",
      "Sample 9: Best score = 1920\n",
      "Sample 10: Best score = 1923\n",
      "Sample 11: Best score = 1922\n",
      "Sample 12: Best score = 1921\n",
      "Sample 13: Best score = 1922\n",
      "Sample 14: Best score = 1924\n",
      "Sample 15: Best score = 1926\n",
      "Sample 16: Best score = 1925\n",
      "Sample 17: Best score = 1922\n",
      "Sample 18: Best score = 1925\n",
      "Sample 19: Best score = 1922\n",
      "Sample 20: Best score = 1920\n",
      "Sample 21: Best score = 1921\n",
      "Sample 22: Best score = 1926\n",
      "Sample 23: Best score = 1921\n",
      "Sample 24: Best score = 1923\n",
      "Sample 25: Best score = 1923\n",
      " \n",
      "Best sample = 15\n",
      "Best score = 1926, Minimum score = 1920\n",
      "Average score = 1922.64, Median score = 1922.0\n"
     ]
    }
   ],
   "source": [
    "analyzer.analyze()"
   ],
   "metadata": {
    "collapsed": false,
    "pycharm": {
     "name": "#%%\n"
    }
   }
  },
  {
   "cell_type": "markdown",
   "source": [],
   "metadata": {
    "collapsed": false,
    "pycharm": {
     "name": "#%% md\n"
    }
   }
  },
  {
   "cell_type": "code",
   "execution_count": 20,
   "outputs": [],
   "source": [
    "solver = GeneticAlgorithmSolver(pc=0.3)"
   ],
   "metadata": {
    "collapsed": false,
    "pycharm": {
     "name": "#%%\n"
    }
   }
  },
  {
   "cell_type": "code",
   "execution_count": 21,
   "outputs": [],
   "source": [
    "analyzer = GeneticAlgorithmAnalyzer(solver=solver, problem=problem, pop0=pop0, n_samples=25)"
   ],
   "metadata": {
    "collapsed": false,
    "pycharm": {
     "name": "#%%\n"
    }
   }
  },
  {
   "cell_type": "code",
   "execution_count": 22,
   "outputs": [
    {
     "name": "stdout",
     "output_type": "stream",
     "text": [
      "Sample 1: Best score = 1922\n",
      "Sample 2: Best score = 1922\n",
      "Sample 3: Best score = 1924\n",
      "Sample 4: Best score = 1921\n",
      "Sample 5: Best score = 1922\n",
      "Sample 6: Best score = 1926\n",
      "Sample 7: Best score = 1921\n",
      "Sample 8: Best score = 1922\n",
      "Sample 9: Best score = 1925\n",
      "Sample 10: Best score = 1923\n",
      "Sample 11: Best score = 1919\n",
      "Sample 12: Best score = 1920\n",
      "Sample 13: Best score = 1923\n",
      "Sample 14: Best score = 1922\n",
      "Sample 15: Best score = 1923\n",
      "Sample 16: Best score = 1921\n",
      "Sample 17: Best score = 1921\n",
      "Sample 18: Best score = 1923\n",
      "Sample 19: Best score = 1923\n",
      "Sample 20: Best score = 1924\n",
      "Sample 21: Best score = 1923\n",
      "Sample 22: Best score = 1921\n",
      "Sample 23: Best score = 1920\n",
      "Sample 24: Best score = 1921\n",
      "Sample 25: Best score = 1921\n",
      " \n",
      "Best sample = 6\n",
      "Best score = 1926, Minimum score = 1919\n",
      "Average score = 1922.12, Median score = 1922.0\n"
     ]
    }
   ],
   "source": [
    "analyzer.analyze()"
   ],
   "metadata": {
    "collapsed": false,
    "pycharm": {
     "name": "#%%\n"
    }
   }
  },
  {
   "cell_type": "markdown",
   "source": [],
   "metadata": {
    "collapsed": false,
    "pycharm": {
     "name": "#%% md\n"
    }
   }
  },
  {
   "cell_type": "code",
   "execution_count": 23,
   "outputs": [],
   "source": [
    "solver = GeneticAlgorithmSolver(pc=0.2)"
   ],
   "metadata": {
    "collapsed": false,
    "pycharm": {
     "name": "#%%\n"
    }
   }
  },
  {
   "cell_type": "code",
   "execution_count": 24,
   "outputs": [],
   "source": [
    "analyzer = GeneticAlgorithmAnalyzer(solver=solver, problem=problem, pop0=pop0, n_samples=25)"
   ],
   "metadata": {
    "collapsed": false,
    "pycharm": {
     "name": "#%%\n"
    }
   }
  },
  {
   "cell_type": "code",
   "execution_count": 25,
   "outputs": [
    {
     "name": "stdout",
     "output_type": "stream",
     "text": [
      "Sample 1: Best score = 1924\n",
      "Sample 2: Best score = 1923\n",
      "Sample 3: Best score = 1926\n",
      "Sample 4: Best score = 1925\n",
      "Sample 5: Best score = 1920\n",
      "Sample 6: Best score = 1925\n",
      "Sample 7: Best score = 1924\n",
      "Sample 8: Best score = 1921\n",
      "Sample 9: Best score = 1921\n",
      "Sample 10: Best score = 1922\n",
      "Sample 11: Best score = 1924\n",
      "Sample 12: Best score = 1921\n",
      "Sample 13: Best score = 1924\n",
      "Sample 14: Best score = 1921\n",
      "Sample 15: Best score = 1920\n",
      "Sample 16: Best score = 1923\n",
      "Sample 17: Best score = 1922\n",
      "Sample 18: Best score = 1925\n",
      "Sample 19: Best score = 1923\n",
      "Sample 20: Best score = 1927\n",
      "Sample 21: Best score = 1923\n",
      "Sample 22: Best score = 1923\n",
      "Sample 23: Best score = 1921\n",
      "Sample 24: Best score = 1922\n",
      "Sample 25: Best score = 1921\n",
      " \n",
      "Best sample = 20\n",
      "Best score = 1927, Minimum score = 1920\n",
      "Average score = 1922.84, Median score = 1923.0\n"
     ]
    }
   ],
   "source": [
    "analyzer.analyze()"
   ],
   "metadata": {
    "collapsed": false,
    "pycharm": {
     "name": "#%%\n"
    }
   }
  },
  {
   "cell_type": "markdown",
   "source": [],
   "metadata": {
    "collapsed": false,
    "pycharm": {
     "name": "#%% md\n"
    }
   }
  },
  {
   "cell_type": "code",
   "execution_count": 26,
   "outputs": [],
   "source": [
    "solver = GeneticAlgorithmSolver(pc=0.1)"
   ],
   "metadata": {
    "collapsed": false,
    "pycharm": {
     "name": "#%%\n"
    }
   }
  },
  {
   "cell_type": "code",
   "execution_count": 27,
   "outputs": [],
   "source": [
    "analyzer = GeneticAlgorithmAnalyzer(solver=solver, problem=problem, pop0=pop0, n_samples=25)"
   ],
   "metadata": {
    "collapsed": false,
    "pycharm": {
     "name": "#%%\n"
    }
   }
  },
  {
   "cell_type": "code",
   "execution_count": 28,
   "outputs": [
    {
     "name": "stdout",
     "output_type": "stream",
     "text": [
      "Sample 1: Best score = 1925\n",
      "Sample 2: Best score = 1921\n",
      "Sample 3: Best score = 1923\n",
      "Sample 4: Best score = 1923\n",
      "Sample 5: Best score = 1921\n",
      "Sample 6: Best score = 1922\n",
      "Sample 7: Best score = 1922\n",
      "Sample 8: Best score = 1924\n",
      "Sample 9: Best score = 1924\n",
      "Sample 10: Best score = 1926\n",
      "Sample 11: Best score = 1923\n",
      "Sample 12: Best score = 1923\n",
      "Sample 13: Best score = 1925\n",
      "Sample 14: Best score = 1924\n",
      "Sample 15: Best score = 1925\n",
      "Sample 16: Best score = 1921\n",
      "Sample 17: Best score = 1924\n",
      "Sample 18: Best score = 1924\n",
      "Sample 19: Best score = 1923\n",
      "Sample 20: Best score = 1922\n",
      "Sample 21: Best score = 1924\n",
      "Sample 22: Best score = 1924\n",
      "Sample 23: Best score = 1921\n",
      "Sample 24: Best score = 1921\n",
      "Sample 25: Best score = 1924\n",
      " \n",
      "Best sample = 10\n",
      "Best score = 1926, Minimum score = 1921\n",
      "Average score = 1923.16, Median score = 1923.0\n"
     ]
    }
   ],
   "source": [
    "analyzer.analyze()"
   ],
   "metadata": {
    "collapsed": false,
    "pycharm": {
     "name": "#%%\n"
    }
   }
  },
  {
   "cell_type": "markdown",
   "source": [],
   "metadata": {
    "collapsed": false,
    "pycharm": {
     "name": "#%% md\n"
    }
   }
  },
  {
   "cell_type": "code",
   "execution_count": 29,
   "outputs": [],
   "source": [
    "solver = GeneticAlgorithmSolver(pc=0.05)"
   ],
   "metadata": {
    "collapsed": false,
    "pycharm": {
     "name": "#%%\n"
    }
   }
  },
  {
   "cell_type": "code",
   "execution_count": 30,
   "outputs": [],
   "source": [
    "analyzer = GeneticAlgorithmAnalyzer(solver=solver, problem=problem, pop0=pop0, n_samples=25)"
   ],
   "metadata": {
    "collapsed": false,
    "pycharm": {
     "name": "#%%\n"
    }
   }
  },
  {
   "cell_type": "code",
   "execution_count": 31,
   "outputs": [
    {
     "name": "stdout",
     "output_type": "stream",
     "text": [
      "Sample 1: Best score = 1923\n",
      "Sample 2: Best score = 1920\n",
      "Sample 3: Best score = 1923\n",
      "Sample 4: Best score = 1921\n",
      "Sample 5: Best score = 1923\n",
      "Sample 6: Best score = 1921\n",
      "Sample 7: Best score = 1922\n",
      "Sample 8: Best score = 1919\n",
      "Sample 9: Best score = 1924\n",
      "Sample 10: Best score = 1920\n",
      "Sample 11: Best score = 1923\n",
      "Sample 12: Best score = 1922\n",
      "Sample 13: Best score = 1921\n",
      "Sample 14: Best score = 1921\n",
      "Sample 15: Best score = 1921\n",
      "Sample 16: Best score = 1924\n",
      "Sample 17: Best score = 1922\n",
      "Sample 18: Best score = 1922\n",
      "Sample 19: Best score = 1921\n",
      "Sample 20: Best score = 1921\n",
      "Sample 21: Best score = 1922\n",
      "Sample 22: Best score = 1924\n",
      "Sample 23: Best score = 1923\n",
      "Sample 24: Best score = 1919\n",
      "Sample 25: Best score = 1922\n",
      " \n",
      "Best sample = 9\n",
      "Best score = 1924, Minimum score = 1919\n",
      "Average score = 1921.76, Median score = 1922.0\n"
     ]
    }
   ],
   "source": [
    "analyzer.analyze()"
   ],
   "metadata": {
    "collapsed": false,
    "pycharm": {
     "name": "#%%\n"
    }
   }
  },
  {
   "cell_type": "markdown",
   "source": [],
   "metadata": {
    "collapsed": false,
    "pycharm": {
     "name": "#%% md\n"
    }
   }
  },
  {
   "cell_type": "code",
   "execution_count": 32,
   "outputs": [],
   "source": [
    "solver = GeneticAlgorithmSolver(pc=0.01)"
   ],
   "metadata": {
    "collapsed": false,
    "pycharm": {
     "name": "#%%\n"
    }
   }
  },
  {
   "cell_type": "code",
   "execution_count": 33,
   "outputs": [],
   "source": [
    "analyzer = GeneticAlgorithmAnalyzer(solver=solver, problem=problem, pop0=pop0, n_samples=25)"
   ],
   "metadata": {
    "collapsed": false,
    "pycharm": {
     "name": "#%%\n"
    }
   }
  },
  {
   "cell_type": "code",
   "execution_count": 34,
   "outputs": [
    {
     "name": "stdout",
     "output_type": "stream",
     "text": [
      "Sample 1: Best score = 1922\n",
      "Sample 2: Best score = 1920\n",
      "Sample 3: Best score = 1921\n",
      "Sample 4: Best score = 1922\n",
      "Sample 5: Best score = 1921\n",
      "Sample 6: Best score = 1920\n",
      "Sample 7: Best score = 1922\n",
      "Sample 8: Best score = 1922\n",
      "Sample 9: Best score = 1923\n",
      "Sample 10: Best score = 1923\n",
      "Sample 11: Best score = 1923\n",
      "Sample 12: Best score = 1923\n",
      "Sample 13: Best score = 1923\n",
      "Sample 14: Best score = 1921\n",
      "Sample 15: Best score = 1922\n",
      "Sample 16: Best score = 1922\n",
      "Sample 17: Best score = 1922\n",
      "Sample 18: Best score = 1921\n",
      "Sample 19: Best score = 1920\n",
      "Sample 20: Best score = 1923\n",
      "Sample 21: Best score = 1922\n",
      "Sample 22: Best score = 1921\n",
      "Sample 23: Best score = 1920\n",
      "Sample 24: Best score = 1923\n",
      "Sample 25: Best score = 1923\n",
      " \n",
      "Best sample = 9\n",
      "Best score = 1923, Minimum score = 1920\n",
      "Average score = 1921.8, Median score = 1922.0\n"
     ]
    }
   ],
   "source": [
    "analyzer.analyze()"
   ],
   "metadata": {
    "collapsed": false,
    "pycharm": {
     "name": "#%%\n"
    }
   }
  },
  {
   "cell_type": "code",
   "execution_count": 35,
   "outputs": [],
   "source": [
    "solver = GeneticAlgorithmSolver(pc=0.005)"
   ],
   "metadata": {
    "collapsed": false,
    "pycharm": {
     "name": "#%%\n"
    }
   }
  },
  {
   "cell_type": "code",
   "execution_count": 36,
   "outputs": [],
   "source": [
    "analyzer = GeneticAlgorithmAnalyzer(solver=solver, problem=problem, pop0=pop0, n_samples=25)"
   ],
   "metadata": {
    "collapsed": false,
    "pycharm": {
     "name": "#%%\n"
    }
   }
  },
  {
   "cell_type": "code",
   "execution_count": 37,
   "outputs": [
    {
     "name": "stdout",
     "output_type": "stream",
     "text": [
      "Sample 1: Best score = 1922\n",
      "Sample 2: Best score = 1922\n",
      "Sample 3: Best score = 1920\n",
      "Sample 4: Best score = 1921\n",
      "Sample 5: Best score = 1925\n",
      "Sample 6: Best score = 1921\n",
      "Sample 7: Best score = 1923\n",
      "Sample 8: Best score = 1921\n",
      "Sample 9: Best score = 1919\n",
      "Sample 10: Best score = 1924\n",
      "Sample 11: Best score = 1920\n",
      "Sample 12: Best score = 1922\n",
      "Sample 13: Best score = 1924\n",
      "Sample 14: Best score = 1921\n",
      "Sample 15: Best score = 1920\n",
      "Sample 16: Best score = 1923\n",
      "Sample 17: Best score = 1923\n",
      "Sample 18: Best score = 1921\n",
      "Sample 19: Best score = 1924\n",
      "Sample 20: Best score = 1919\n",
      "Sample 21: Best score = 1924\n",
      "Sample 22: Best score = 1925\n",
      "Sample 23: Best score = 1922\n",
      "Sample 24: Best score = 1924\n",
      "Sample 25: Best score = 1920\n",
      " \n",
      "Best sample = 5\n",
      "Best score = 1925, Minimum score = 1919\n",
      "Average score = 1922.0, Median score = 1922.0\n"
     ]
    }
   ],
   "source": [
    "analyzer.analyze()"
   ],
   "metadata": {
    "collapsed": false,
    "pycharm": {
     "name": "#%%\n"
    }
   }
  },
  {
   "cell_type": "code",
   "execution_count": 38,
   "outputs": [],
   "source": [
    "solver = GeneticAlgorithmSolver(pc=0.001)"
   ],
   "metadata": {
    "collapsed": false,
    "pycharm": {
     "name": "#%%\n"
    }
   }
  },
  {
   "cell_type": "code",
   "execution_count": 39,
   "outputs": [],
   "source": [
    "analyzer = GeneticAlgorithmAnalyzer(solver=solver, problem=problem, pop0=pop0, n_samples=25)"
   ],
   "metadata": {
    "collapsed": false,
    "pycharm": {
     "name": "#%%\n"
    }
   }
  },
  {
   "cell_type": "code",
   "execution_count": 40,
   "outputs": [
    {
     "name": "stdout",
     "output_type": "stream",
     "text": [
      "Sample 1: Best score = 1922\n",
      "Sample 2: Best score = 1923\n",
      "Sample 3: Best score = 1921\n",
      "Sample 4: Best score = 1926\n",
      "Sample 5: Best score = 1923\n",
      "Sample 6: Best score = 1919\n",
      "Sample 7: Best score = 1920\n",
      "Sample 8: Best score = 1922\n",
      "Sample 9: Best score = 1924\n",
      "Sample 10: Best score = 1922\n",
      "Sample 11: Best score = 1921\n",
      "Sample 12: Best score = 1922\n",
      "Sample 13: Best score = 1925\n",
      "Sample 14: Best score = 1926\n",
      "Sample 15: Best score = 1920\n",
      "Sample 16: Best score = 1924\n",
      "Sample 17: Best score = 1921\n",
      "Sample 18: Best score = 1922\n",
      "Sample 19: Best score = 1919\n",
      "Sample 20: Best score = 1923\n",
      "Sample 21: Best score = 1919\n",
      "Sample 22: Best score = 1921\n",
      "Sample 23: Best score = 1923\n",
      "Sample 24: Best score = 1921\n",
      "Sample 25: Best score = 1921\n",
      " \n",
      "Best sample = 4\n",
      "Best score = 1926, Minimum score = 1919\n",
      "Average score = 1922.0, Median score = 1922.0\n"
     ]
    }
   ],
   "source": [
    "analyzer.analyze()"
   ],
   "metadata": {
    "collapsed": false,
    "pycharm": {
     "name": "#%%\n"
    }
   }
  },
  {
   "cell_type": "markdown",
   "source": [
    "#### 5.2 Badanie wpływu prawdopodobieństwa mutacji"
   ],
   "metadata": {
    "collapsed": false,
    "pycharm": {
     "name": "#%% md\n"
    }
   }
  },
  {
   "cell_type": "markdown",
   "source": [
    "#### 5.3 Badanie wpływu wielkości populacji"
   ],
   "metadata": {
    "collapsed": false,
    "pycharm": {
     "name": "#%% md\n"
    }
   }
  },
  {
   "cell_type": "code",
   "execution_count": 13,
   "outputs": [],
   "source": [
    "solver = GeneticAlgorithmSolver()"
   ],
   "metadata": {
    "collapsed": false,
    "pycharm": {
     "name": "#%%\n"
    }
   }
  }
 ],
 "metadata": {
  "kernelspec": {
   "display_name": "Python 3",
   "language": "python",
   "name": "python3"
  },
  "language_info": {
   "codemirror_mode": {
    "name": "ipython",
    "version": 2
   },
   "file_extension": ".py",
   "mimetype": "text/x-python",
   "name": "python",
   "nbconvert_exporter": "python",
   "pygments_lexer": "ipython2",
   "version": "2.7.6"
  }
 },
 "nbformat": 4,
 "nbformat_minor": 0
}