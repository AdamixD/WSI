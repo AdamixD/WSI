{
 "cells": [
  {
   "cell_type": "markdown",
   "source": [
    "# Sprawozdanie z laboratorium 2"
   ],
   "metadata": {
    "collapsed": false,
    "pycharm": {
     "name": "#%% md\n"
    }
   }
  },
  {
   "cell_type": "markdown",
   "source": [
    "***Autor: Adam Dąbkowski***"
   ],
   "metadata": {
    "collapsed": false,
    "pycharm": {
     "name": "#%% md\n"
    }
   }
  },
  {
   "cell_type": "markdown",
   "source": [
    "## 0. Importowanie niezbędnych bibliotek"
   ],
   "metadata": {
    "collapsed": false,
    "pycharm": {
     "name": "#%% md\n"
    }
   }
  },
  {
   "cell_type": "code",
   "execution_count": 690,
   "outputs": [],
   "source": [
    "import copy\n",
    "\n",
    "import numpy as np\n",
    "import random\n",
    "from utils import *"
   ],
   "metadata": {
    "collapsed": false,
    "pycharm": {
     "name": "#%%\n"
    }
   }
  },
  {
   "cell_type": "markdown",
   "source": [
    "## 1. Implementacja algorytmu genetycznego"
   ],
   "metadata": {
    "collapsed": false,
    "pycharm": {
     "name": "#%% md\n"
    }
   }
  },
  {
   "cell_type": "code",
   "execution_count": 691,
   "outputs": [],
   "source": [
    "def genetic_algorithm(q, t_max, pc, pm, u):\n",
    "    t = 0\n",
    "    P = create_population()\n",
    "    O = score(q, P)\n",
    "    x_best, o_best = find_best(P, O)\n",
    "    while t < t_max:\n",
    "        S = selection(P)\n",
    "        M = crossing_and_mutation(S, pc, pm, u)\n",
    "        O = score(q, M)\n",
    "        x, o = find_best(M, O)\n",
    "        if o < o_best:\n",
    "            x_best = x\n",
    "            o_best = o\n",
    "        P = M\n",
    "        t+=1"
   ],
   "metadata": {
    "collapsed": false,
    "pycharm": {
     "name": "#%%\n"
    }
   }
  },
  {
   "cell_type": "code",
   "execution_count": 692,
   "outputs": [
    {
     "data": {
      "text/plain": "array([[0, 1, 0, 1, 0, 1, 0, 0, 0, 1],\n       [1, 1, 0, 1, 1, 0, 1, 0, 0, 1],\n       [1, 0, 0, 0, 0, 0, 0, 0, 0, 0],\n       [0, 1, 0, 0, 0, 0, 1, 0, 1, 0],\n       [1, 1, 0, 0, 1, 0, 0, 1, 0, 0],\n       [0, 0, 1, 1, 0, 0, 1, 0, 0, 1],\n       [1, 1, 0, 1, 1, 0, 1, 1, 0, 1],\n       [1, 0, 1, 1, 0, 0, 0, 0, 1, 0],\n       [0, 0, 0, 1, 1, 1, 0, 1, 0, 0],\n       [0, 0, 1, 0, 1, 1, 1, 0, 1, 1],\n       [1, 0, 1, 1, 0, 0, 0, 1, 0, 0],\n       [1, 1, 0, 1, 1, 1, 0, 1, 0, 0],\n       [0, 0, 1, 0, 0, 1, 0, 1, 1, 1],\n       [1, 0, 0, 1, 0, 0, 0, 0, 0, 0],\n       [0, 0, 1, 0, 0, 1, 1, 1, 0, 0],\n       [0, 1, 0, 1, 0, 1, 1, 0, 0, 0],\n       [1, 1, 1, 0, 1, 0, 0, 0, 1, 1],\n       [1, 0, 1, 0, 0, 1, 1, 1, 0, 0],\n       [1, 0, 0, 0, 1, 1, 1, 1, 0, 0],\n       [0, 0, 1, 1, 1, 1, 1, 0, 1, 0],\n       [1, 1, 1, 1, 1, 1, 0, 0, 1, 0],\n       [1, 1, 1, 0, 0, 1, 0, 1, 1, 0],\n       [1, 0, 0, 1, 0, 1, 0, 0, 0, 0],\n       [1, 1, 1, 0, 0, 1, 1, 1, 0, 1],\n       [1, 0, 0, 0, 1, 1, 1, 0, 1, 1],\n       [0, 0, 0, 1, 1, 1, 1, 0, 1, 0],\n       [0, 1, 0, 1, 0, 1, 1, 1, 0, 1],\n       [0, 1, 0, 0, 0, 1, 0, 1, 0, 0],\n       [0, 1, 0, 1, 1, 0, 1, 1, 1, 0],\n       [0, 0, 1, 1, 1, 1, 0, 1, 0, 1],\n       [1, 0, 1, 0, 0, 0, 1, 0, 1, 1],\n       [1, 0, 1, 0, 1, 1, 0, 0, 0, 1],\n       [0, 1, 1, 0, 0, 0, 1, 0, 0, 0],\n       [1, 1, 1, 0, 1, 1, 1, 1, 1, 0],\n       [0, 0, 1, 0, 0, 1, 0, 0, 0, 1],\n       [1, 1, 1, 1, 0, 1, 1, 1, 1, 1],\n       [0, 1, 1, 1, 0, 0, 0, 0, 0, 1],\n       [0, 0, 0, 0, 1, 0, 1, 1, 0, 0],\n       [0, 1, 0, 0, 0, 1, 0, 0, 0, 1],\n       [1, 0, 1, 1, 0, 0, 0, 1, 1, 1],\n       [1, 0, 0, 0, 0, 1, 0, 1, 0, 0],\n       [0, 0, 0, 0, 1, 0, 0, 1, 1, 1],\n       [0, 1, 0, 0, 0, 0, 1, 1, 0, 0],\n       [0, 1, 1, 1, 1, 0, 0, 0, 0, 0],\n       [0, 1, 0, 0, 0, 1, 1, 0, 0, 1],\n       [0, 0, 0, 0, 1, 1, 0, 0, 1, 1],\n       [0, 0, 0, 1, 0, 1, 0, 0, 0, 0],\n       [0, 0, 1, 0, 1, 0, 0, 1, 0, 1],\n       [0, 1, 0, 1, 1, 0, 0, 1, 0, 0],\n       [1, 1, 1, 0, 1, 1, 1, 1, 0, 1],\n       [1, 1, 0, 1, 1, 1, 0, 0, 0, 1],\n       [0, 1, 1, 0, 1, 1, 0, 0, 0, 0],\n       [1, 1, 0, 0, 1, 0, 1, 0, 0, 0],\n       [0, 1, 0, 1, 0, 1, 0, 1, 1, 0],\n       [0, 0, 1, 0, 1, 1, 0, 0, 1, 0],\n       [0, 1, 0, 0, 1, 0, 0, 1, 1, 0],\n       [1, 1, 1, 0, 1, 1, 0, 0, 0, 1],\n       [0, 0, 1, 0, 0, 1, 1, 0, 1, 0],\n       [0, 0, 0, 0, 0, 0, 1, 0, 1, 0],\n       [1, 1, 0, 1, 0, 0, 0, 0, 1, 0],\n       [1, 0, 0, 1, 0, 0, 1, 1, 0, 0],\n       [0, 1, 1, 0, 0, 1, 1, 1, 0, 1],\n       [1, 0, 1, 0, 1, 0, 1, 0, 1, 1],\n       [1, 0, 0, 0, 1, 1, 1, 0, 1, 0],\n       [0, 0, 0, 0, 0, 1, 0, 0, 0, 0],\n       [1, 0, 1, 0, 1, 1, 0, 0, 0, 1],\n       [0, 0, 0, 1, 0, 0, 1, 0, 1, 0],\n       [1, 1, 1, 1, 0, 0, 0, 1, 1, 1],\n       [0, 1, 0, 1, 1, 0, 0, 0, 0, 0],\n       [0, 1, 1, 0, 0, 0, 0, 0, 0, 1],\n       [0, 0, 0, 0, 1, 0, 1, 0, 1, 1],\n       [0, 1, 1, 1, 0, 1, 1, 1, 1, 0],\n       [1, 1, 0, 0, 1, 0, 0, 1, 1, 0],\n       [1, 1, 0, 0, 0, 1, 1, 0, 0, 0],\n       [0, 1, 1, 0, 1, 1, 0, 1, 0, 0],\n       [0, 1, 1, 0, 1, 0, 1, 0, 1, 1],\n       [1, 0, 0, 1, 0, 0, 0, 0, 1, 1],\n       [0, 0, 1, 1, 1, 0, 1, 1, 0, 1],\n       [1, 0, 1, 0, 0, 1, 0, 1, 0, 1],\n       [0, 1, 1, 0, 1, 1, 1, 0, 1, 1],\n       [0, 1, 0, 1, 1, 1, 0, 0, 1, 0],\n       [0, 0, 1, 0, 1, 0, 1, 0, 1, 0],\n       [0, 0, 1, 0, 1, 0, 1, 1, 0, 1],\n       [1, 0, 1, 0, 0, 1, 0, 1, 0, 1],\n       [0, 1, 1, 0, 0, 0, 1, 0, 0, 0],\n       [1, 0, 0, 1, 0, 1, 0, 0, 0, 1],\n       [1, 1, 1, 1, 0, 1, 0, 1, 1, 1],\n       [0, 0, 1, 0, 0, 0, 1, 1, 0, 1],\n       [1, 1, 0, 0, 0, 1, 1, 0, 1, 1],\n       [1, 1, 1, 1, 0, 0, 0, 0, 1, 0],\n       [1, 0, 1, 1, 0, 1, 0, 1, 0, 0],\n       [0, 0, 0, 0, 0, 0, 1, 0, 0, 1],\n       [0, 0, 1, 0, 0, 0, 1, 0, 0, 1],\n       [0, 1, 1, 0, 1, 1, 0, 0, 0, 1],\n       [0, 1, 1, 1, 0, 0, 1, 0, 0, 0],\n       [0, 1, 0, 0, 1, 0, 0, 1, 0, 1],\n       [0, 0, 1, 1, 1, 1, 1, 0, 1, 0],\n       [1, 0, 0, 1, 0, 1, 1, 1, 0, 1],\n       [0, 1, 0, 0, 1, 0, 1, 1, 0, 0],\n       [0, 1, 0, 1, 0, 0, 1, 0, 0, 1]])"
     },
     "execution_count": 692,
     "metadata": {},
     "output_type": "execute_result"
    }
   ],
   "source": [
    "P = create_population(100, 10)\n",
    "P"
   ],
   "metadata": {
    "collapsed": false,
    "pycharm": {
     "name": "#%%\n"
    }
   }
  },
  {
   "cell_type": "code",
   "execution_count": 693,
   "outputs": [
    {
     "data": {
      "text/plain": "[-4,\n -6,\n -1,\n -3,\n -4,\n -4,\n -7,\n -4,\n -4,\n -6,\n -4,\n -6,\n -5,\n -2,\n -4,\n -4,\n -6,\n -5,\n -5,\n -6,\n -7,\n -6,\n -3,\n -7,\n -6,\n -5,\n -6,\n -3,\n -6,\n -6,\n -5,\n -5,\n -3,\n -8,\n -3,\n -9,\n -4,\n -3,\n -3,\n -6,\n -3,\n -4,\n -3,\n -4,\n -4,\n -4,\n -2,\n -4,\n -4,\n -8,\n -6,\n -4,\n -4,\n -5,\n -4,\n -4,\n -6,\n -4,\n -2,\n -4,\n -4,\n -6,\n -6,\n -5,\n -1,\n -5,\n -3,\n -7,\n -3,\n -3,\n -4,\n -7,\n -5,\n -4,\n -5,\n -6,\n -4,\n -6,\n -5,\n -7,\n -5,\n -4,\n -5,\n -5,\n -3,\n -4,\n -8,\n -4,\n -6,\n -5,\n -5,\n -2,\n -3,\n -5,\n -4,\n -4,\n -6,\n -6,\n -4,\n -4]"
     },
     "execution_count": 693,
     "metadata": {},
     "output_type": "execute_result"
    }
   ],
   "source": [
    "O = score(q, P)\n",
    "O"
   ],
   "metadata": {
    "collapsed": false,
    "pycharm": {
     "name": "#%%\n"
    }
   }
  },
  {
   "cell_type": "code",
   "execution_count": 694,
   "outputs": [
    {
     "data": {
      "text/plain": "(array([1, 0, 0, 0, 0, 0, 0, 0, 0, 0]), -1)"
     },
     "execution_count": 694,
     "metadata": {},
     "output_type": "execute_result"
    }
   ],
   "source": [
    "find_best(P, O)"
   ],
   "metadata": {
    "collapsed": false,
    "pycharm": {
     "name": "#%%\n"
    }
   }
  },
  {
   "cell_type": "code",
   "execution_count": 695,
   "outputs": [
    {
     "data": {
      "text/plain": "array([[0, 1, 0, 0, 0, 0, 1, 0, 1, 0],\n       [1, 1, 0, 1, 1, 0, 1, 1, 0, 1],\n       [0, 1, 1, 0, 1, 1, 0, 0, 0, 0],\n       [0, 0, 1, 1, 1, 1, 1, 0, 1, 0],\n       [0, 1, 0, 0, 1, 0, 0, 1, 0, 1],\n       [0, 0, 0, 0, 1, 0, 0, 1, 1, 1]])"
     },
     "execution_count": 695,
     "metadata": {},
     "output_type": "execute_result"
    }
   ],
   "source": [
    "S = selection(P, O, 6)\n",
    "S"
   ],
   "metadata": {
    "collapsed": false,
    "pycharm": {
     "name": "#%%\n"
    }
   }
  },
  {
   "cell_type": "code",
   "execution_count": 696,
   "outputs": [],
   "source": [
    "def crossing_and_mutation(S, pc, pm, u):\n",
    "    C = []\n",
    "\n",
    "    for i in range(0, u-1, 2):\n",
    "        individual_1 = S[i]\n",
    "        individual_2 = S[i+1]\n",
    "\n",
    "        if random.random() < pc:\n",
    "            crossing_point = random.randint(1, len(individual_1))\n",
    "            individual_1_crossed = copy.deepcopy(individual_1)\n",
    "            individual_2_crossed = copy.deepcopy(individual_2)\n",
    "\n",
    "            print(f\"Crossed: point = {crossing_point}\")\n",
    "\n",
    "            individual_1_crossed[crossing_point:] = individual_2[crossing_point:]\n",
    "            individual_2_crossed[crossing_point:] = individual_1[crossing_point:]\n",
    "\n",
    "            C.append(individual_1_crossed)\n",
    "            C.append(individual_2_crossed)\n",
    "\n",
    "            print(f\"Crossed: point = {crossing_point}\")\n",
    "            print(f\"Crossed: ind_1 = {individual_1}, {individual_1_crossed}\")\n",
    "            print(f\"Crossed: ind_2 = {individual_2}, {individual_2_crossed}\")\n",
    "\n",
    "        else:\n",
    "            C.append(individual_1)\n",
    "            C.append(individual_2)\n",
    "\n",
    "    if u % 2 == 1:\n",
    "        C.append(S[-1])\n",
    "\n",
    "    return np.array(C)"
   ],
   "metadata": {
    "collapsed": false,
    "pycharm": {
     "name": "#%%\n"
    }
   }
  },
  {
   "cell_type": "code",
   "execution_count": 697,
   "outputs": [
    {
     "name": "stdout",
     "output_type": "stream",
     "text": [
      "Crossed: point = 1\n",
      "ind_1 = [0 1 1 1 1 1 0 1 0]\n",
      "ind_2 = [1 1 0 1 1 0 0 0 0]\n",
      "Crossed: ind_1 = [0 1 1 0 1 1 0 0 0 0], [0 1 1 0 1 1 0 0 0 0]\n",
      "Crossed: ind_2 = [0 0 1 1 1 1 1 0 1 0], [0 0 1 1 1 1 1 0 1 0]\n",
      "Crossed: point = 1\n",
      "Crossed: ind_1 = [0 1 1 0 1 1 0 0 0 0], [0 0 1 1 1 1 1 0 1 0]\n",
      "Crossed: ind_2 = [0 0 1 1 1 1 1 0 1 0], [0 1 1 0 1 1 0 0 0 0]\n"
     ]
    },
    {
     "data": {
      "text/plain": "array([[0, 1, 0, 0, 0, 0, 1, 0, 1, 0],\n       [1, 1, 0, 1, 1, 0, 1, 1, 0, 1],\n       [0, 0, 1, 1, 1, 1, 1, 0, 1, 0],\n       [0, 1, 1, 0, 1, 1, 0, 0, 0, 0],\n       [0, 0, 0, 0, 1, 0, 0, 1, 1, 1]])"
     },
     "execution_count": 697,
     "metadata": {},
     "output_type": "execute_result"
    }
   ],
   "source": [
    "crossing_and_mutation(S, 0.7, 0.4, 5)"
   ],
   "metadata": {
    "collapsed": false,
    "pycharm": {
     "name": "#%%\n"
    }
   }
  },
  {
   "cell_type": "code",
   "execution_count": 697,
   "outputs": [],
   "source": [],
   "metadata": {
    "collapsed": false,
    "pycharm": {
     "name": "#%%\n"
    }
   }
  }
 ],
 "metadata": {
  "kernelspec": {
   "display_name": "Python 3",
   "language": "python",
   "name": "python3"
  },
  "language_info": {
   "codemirror_mode": {
    "name": "ipython",
    "version": 2
   },
   "file_extension": ".py",
   "mimetype": "text/x-python",
   "name": "python",
   "nbconvert_exporter": "python",
   "pygments_lexer": "ipython2",
   "version": "2.7.6"
  }
 },
 "nbformat": 4,
 "nbformat_minor": 0
}