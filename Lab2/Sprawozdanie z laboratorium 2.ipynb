{
 "cells": [
  {
   "cell_type": "markdown",
   "source": [
    "# Sprawozdanie z laboratorium 2"
   ],
   "metadata": {
    "collapsed": false,
    "pycharm": {
     "name": "#%% md\n"
    }
   }
  },
  {
   "cell_type": "markdown",
   "source": [
    "***Autor: Adam Dąbkowski***"
   ],
   "metadata": {
    "collapsed": false,
    "pycharm": {
     "name": "#%% md\n"
    }
   }
  },
  {
   "cell_type": "markdown",
   "source": [
    "Celem drugiego laboratorium jest zaimplementowanie algorytmu genetycznego z selekcją ruletkową, krzyżowaniem jednopunktowym oraz sukcesją generacyjną. Dodatkowo należy zbadać wpływ doboru parametrów na przykładzie danego problemu."
   ],
   "metadata": {
    "collapsed": false,
    "pycharm": {
     "name": "#%% md\n"
    }
   }
  },
  {
   "cell_type": "markdown",
   "source": [
    "## 0. Importowanie niezbędnych bibliotek"
   ],
   "metadata": {
    "collapsed": false,
    "pycharm": {
     "name": "#%% md\n"
    }
   }
  },
  {
   "cell_type": "code",
   "execution_count": 7,
   "outputs": [],
   "source": [
    "import random\n",
    "import copy\n",
    "from utils import *"
   ],
   "metadata": {
    "collapsed": false,
    "pycharm": {
     "name": "#%%\n"
    }
   }
  },
  {
   "cell_type": "markdown",
   "source": [
    "## 1. Tworzenie populacji"
   ],
   "metadata": {
    "collapsed": false,
    "pycharm": {
     "name": "#%% md\n"
    }
   }
  },
  {
   "cell_type": "code",
   "execution_count": 8,
   "outputs": [],
   "source": [
    "class PopulationCreator:\n",
    "    def __init__(self, population_size, individual_size):\n",
    "        self._population_size = population_size\n",
    "        self._individual_size = individual_size\n",
    "\n",
    "    def create_population(self):\n",
    "        population = []\n",
    "\n",
    "        for i in range(self._population_size):\n",
    "            individual = []\n",
    "            for j in range(self._individual_size):\n",
    "                individual.append(random.randint(0, 1))\n",
    "            population.append(np.array(individual))\n",
    "\n",
    "        return np.array(population)"
   ],
   "metadata": {
    "collapsed": false,
    "pycharm": {
     "name": "#%%\n"
    }
   }
  },
  {
   "cell_type": "markdown",
   "source": [
    "## 2. Zdefiniowanie problemu (funkcji celu)"
   ],
   "metadata": {
    "collapsed": false,
    "pycharm": {
     "name": "#%% md\n"
    }
   }
  },
  {
   "cell_type": "code",
   "execution_count": 9,
   "outputs": [],
   "source": [
    "def problem(x):\n",
    "    h0 = 200\n",
    "    v0 = 0\n",
    "    fuel = x.sum()\n",
    "    m0 = 200 + fuel\n",
    "\n",
    "    for i in x:\n",
    "        m0 -= i * 1\n",
    "        a = (45/m0) * i - 0.09\n",
    "        v0 = v0 + a\n",
    "        h0 = h0 + v0\n",
    "\n",
    "        if (0 <= h0 < 2) and abs(v0) < 2:\n",
    "            return 2000 - fuel\n",
    "\n",
    "        elif h0 < 0:\n",
    "            return -1000 - fuel\n",
    "\n",
    "    return - fuel"
   ],
   "metadata": {
    "collapsed": false,
    "pycharm": {
     "name": "#%%\n"
    }
   }
  },
  {
   "cell_type": "markdown",
   "source": [
    "## 3. Implementacja algorytmu genetycznego"
   ],
   "metadata": {
    "collapsed": false,
    "pycharm": {
     "name": "#%% md\n"
    }
   }
  },
  {
   "cell_type": "markdown",
   "source": [
    "Głównym zadaniem drugiego laboratorium jest implementacja algorytmu genetycznego. W tym celu stworzona została klasa ***GeneticAlgorithmSolver***. Podczas tworzenia obiektu tej klasy istnieje możliwość podania czterech parametrów:\n",
    "- ***t_max*** - liczba iteracji (domyślna wartość wynosi $1000$)\n",
    "- ***pc*** - prawdopodobieństwo krzyżowania (domyślna wartość wynosi $0,5$)\n",
    "- ***pm*** - prawdopodobieństwo mutacji (domyślna wartość wynosi $0,5$)\n",
    "- ***u*** - liczba osobników w populacji (domyślna wartość wynosi $20$)"
   ],
   "metadata": {
    "collapsed": false,
    "pycharm": {
     "name": "#%% md\n"
    }
   }
  },
  {
   "cell_type": "markdown",
   "source": [
    "Klasa ***GeneticAlgorithmSolver*** zawiera także sześć metod:\n",
    "- ***get_parameters()*** - metoda ta zwraca wartości parametrów\n",
    "- ***solve()*** - metoda zawierająca w sobie algorytm genetyczny, wykorzystuje metody ***score()*** , ***find_best()*** , ***selection()*** , ***crossing_and_mutation()*** . W wyniku jej wywołania otrzymujemy najlepszego osobnika i wartość funkcji celu\n",
    "- ***score()*** - metoda zwracająca wyniki dla osobników w populacji\n",
    "- ***find_best()*** - metoda zwracająca najlepszego osobnika\n",
    "- ***selection()*** - metoda, która zadaniem jest wybranie lepszych osobników z większym prawdopodobieństwem\n",
    "- ***crossing_and_mutation()*** - metoda odpowiedzialna za krzyżowanie i mutację"
   ],
   "metadata": {
    "collapsed": false,
    "pycharm": {
     "name": "#%% md\n"
    }
   }
  },
  {
   "cell_type": "code",
   "execution_count": 24,
   "outputs": [],
   "source": [
    "class GeneticAlgorithmSolver:\n",
    "    def __init__(self, t_max=1000, pc=0.5, pm=0.05, u=250):\n",
    "        self._t_max = t_max\n",
    "        self._pc = pc\n",
    "        self._pm = pm\n",
    "        self._u = u\n",
    "\n",
    "    def get_parameters(self):\n",
    "        return {\n",
    "            \"t_max\": self._t_max,\n",
    "            \"pc\": self._pc,\n",
    "            \"pm\": self._pm,\n",
    "            \"u\": self._u\n",
    "        }\n",
    "\n",
    "    def solve(self, problem, pop0, printing=False):\n",
    "        t = 0\n",
    "        P = pop0\n",
    "        O = self.score(problem, P)\n",
    "        x_best, o_best = self.find_best(P, O)\n",
    "        t_best = 0\n",
    "        while t < self._t_max:\n",
    "            S = self.selection(P, O, self._u)\n",
    "            M = self.crossing_and_mutation(S, self._pc, self._pm, self._u)\n",
    "            O = self.score(problem, M)\n",
    "            x, o = self.find_best(M, O)\n",
    "\n",
    "            if o > o_best:\n",
    "                x_best = x\n",
    "                o_best = o\n",
    "                t_best = t\n",
    "\n",
    "            P = M\n",
    "            t += 1\n",
    "\n",
    "            if printing:\n",
    "                print(f\"Iteration {t}: Best score = {o}, Best score to date = {o_best}\")\n",
    "\n",
    "        if printing:\n",
    "            print(f\" \")\n",
    "            print(f\"Best score = {o_best}, Iteration {t_best}\")\n",
    "\n",
    "        return x_best, o_best\n",
    "\n",
    "    @staticmethod\n",
    "    def score(problem, P):\n",
    "        return [problem(x) for x in P]\n",
    "\n",
    "    @staticmethod\n",
    "    def find_best(P, O):\n",
    "        index = np.argmax(O)\n",
    "        return P[index], O[index]\n",
    "\n",
    "    @staticmethod\n",
    "    def selection(P, O, u):\n",
    "        O = [o + (1000 + P.shape[1]) for o in O]\n",
    "        O = [o / sum(O) for o in O]\n",
    "        indices = np.arange(0, P.shape[0])\n",
    "        selected_indices = np.random.choice(indices, u, replace=True, p=O)\n",
    "\n",
    "        return P[selected_indices]\n",
    "\n",
    "    @staticmethod\n",
    "    def crossing_and_mutation(S, pc, pm, u):\n",
    "        M = []\n",
    "\n",
    "        # crossing\n",
    "        for i in range(0, u - 1, 2):\n",
    "            individual_1 = S[i]\n",
    "            individual_2 = S[i + 1]\n",
    "\n",
    "            if random.random() < pc:\n",
    "                crossing_point = random.randint(1, len(individual_1))\n",
    "                individual_1_crossed = copy.deepcopy(individual_1)\n",
    "                individual_2_crossed = copy.deepcopy(individual_2)\n",
    "\n",
    "                individual_1_crossed[crossing_point:] = individual_2[crossing_point:]\n",
    "                individual_2_crossed[crossing_point:] = individual_1[crossing_point:]\n",
    "\n",
    "                M.append(individual_1_crossed)\n",
    "                M.append(individual_2_crossed)\n",
    "\n",
    "            else:\n",
    "                M.append(individual_1)\n",
    "                M.append(individual_2)\n",
    "\n",
    "\n",
    "\n",
    "        if u % 2 == 1:\n",
    "            M.append(S[-1])\n",
    "\n",
    "        # mutation\n",
    "        for individual in M:\n",
    "            for i in range(individual.shape[0]):\n",
    "                if random.random() < pm:\n",
    "                    individual[i] = 1 if individual[i] == 0 else 0\n",
    "        return np.array(M)"
   ],
   "metadata": {
    "collapsed": false,
    "pycharm": {
     "name": "#%%\n"
    }
   }
  },
  {
   "cell_type": "markdown",
   "source": [
    "## 4. Zastosowanie algorytmu genetycznego w celu wyznaczenia najlepszego osobnika"
   ],
   "metadata": {
    "collapsed": false,
    "pycharm": {
     "name": "#%% md\n"
    }
   }
  },
  {
   "cell_type": "markdown",
   "source": [
    "Po zaimplementowaniu algorytmu genetycznego, a także po zdefiniowaniu funkcji celu możemy przejść do testowania solvera w celu znalezienia największej wartości wspomnianej funkcji. Na początku wykorzystany zostanie solver z domyślnymi wartościami, jednakże należy najpierw utworzyć populację początkową. W naszych doświadczeniach liczba osobników w populacji początkowej będzie wynosiła $250$, natomiast wielkość osobnika będzie równa $200$."
   ],
   "metadata": {
    "collapsed": false,
    "pycharm": {
     "name": "#%% md\n"
    }
   }
  },
  {
   "cell_type": "code",
   "execution_count": 11,
   "outputs": [],
   "source": [
    "population_creator = PopulationCreator(population_size=250, individual_size=200)"
   ],
   "metadata": {
    "collapsed": false,
    "pycharm": {
     "name": "#%%\n"
    }
   }
  },
  {
   "cell_type": "code",
   "execution_count": 12,
   "outputs": [],
   "source": [
    "pop0 = population_creator.create_population()"
   ],
   "metadata": {
    "collapsed": false,
    "pycharm": {
     "name": "#%%\n"
    }
   }
  },
  {
   "cell_type": "markdown",
   "source": [
    "Następnie przechodzimy do stworzenia solvera."
   ],
   "metadata": {
    "collapsed": false,
    "pycharm": {
     "name": "#%% md\n"
    }
   }
  },
  {
   "cell_type": "code",
   "execution_count": 13,
   "outputs": [],
   "source": [
    "solver = GeneticAlgorithmSolver()"
   ],
   "metadata": {
    "collapsed": false,
    "pycharm": {
     "name": "#%%\n"
    }
   }
  },
  {
   "cell_type": "markdown",
   "source": [
    "Chcąc upewnić się jakie parametry ma nasz solver możemy wykorzystać metodę ***get_parameters()*** ."
   ],
   "metadata": {
    "collapsed": false,
    "pycharm": {
     "name": "#%% md\n"
    }
   }
  },
  {
   "cell_type": "code",
   "execution_count": 14,
   "outputs": [
    {
     "data": {
      "text/plain": "{'t_max': 100, 'pc': 0.5, 'pm': 0.05, 'u': 250}"
     },
     "execution_count": 14,
     "metadata": {},
     "output_type": "execute_result"
    }
   ],
   "source": [
    "solver.get_parameters()"
   ],
   "metadata": {
    "collapsed": false,
    "pycharm": {
     "name": "#%%\n"
    }
   }
  },
  {
   "cell_type": "markdown",
   "source": [
    "Teraz możemy już przejść do rozwiązania naszego problemu."
   ],
   "metadata": {
    "collapsed": false,
    "pycharm": {
     "name": "#%% md\n"
    }
   }
  },
  {
   "cell_type": "code",
   "execution_count": 15,
   "outputs": [
    {
     "name": "stdout",
     "output_type": "stream",
     "text": [
      "Iteration 1: Best score = 1915, Best score to date = 1915\n",
      "Iteration 2: Best score = 1916, Best score to date = 1916\n",
      "Iteration 3: Best score = 1916, Best score to date = 1916\n",
      "Iteration 4: Best score = 1917, Best score to date = 1917\n",
      "Iteration 5: Best score = 1917, Best score to date = 1917\n",
      "Iteration 6: Best score = 1917, Best score to date = 1917\n",
      "Iteration 7: Best score = 1916, Best score to date = 1917\n",
      "Iteration 8: Best score = 1918, Best score to date = 1918\n",
      "Iteration 9: Best score = 1916, Best score to date = 1918\n",
      "Iteration 10: Best score = 1919, Best score to date = 1919\n",
      "Iteration 11: Best score = 1917, Best score to date = 1919\n",
      "Iteration 12: Best score = 1916, Best score to date = 1919\n",
      "Iteration 13: Best score = 1922, Best score to date = 1922\n",
      "Iteration 14: Best score = 1919, Best score to date = 1922\n",
      "Iteration 15: Best score = 1919, Best score to date = 1922\n",
      "Iteration 16: Best score = 1917, Best score to date = 1922\n",
      "Iteration 17: Best score = 1916, Best score to date = 1922\n",
      "Iteration 18: Best score = 1919, Best score to date = 1922\n",
      "Iteration 19: Best score = 1918, Best score to date = 1922\n",
      "Iteration 20: Best score = 1919, Best score to date = 1922\n",
      "Iteration 21: Best score = 1922, Best score to date = 1922\n",
      "Iteration 22: Best score = 1920, Best score to date = 1922\n",
      "Iteration 23: Best score = 1920, Best score to date = 1922\n",
      "Iteration 24: Best score = 1917, Best score to date = 1922\n",
      "Iteration 25: Best score = 1916, Best score to date = 1922\n",
      "Iteration 26: Best score = 1918, Best score to date = 1922\n",
      "Iteration 27: Best score = 1919, Best score to date = 1922\n",
      "Iteration 28: Best score = 1921, Best score to date = 1922\n",
      "Iteration 29: Best score = 1918, Best score to date = 1922\n",
      "Iteration 30: Best score = 1916, Best score to date = 1922\n",
      "Iteration 31: Best score = 1915, Best score to date = 1922\n",
      "Iteration 32: Best score = 1918, Best score to date = 1922\n",
      "Iteration 33: Best score = 1918, Best score to date = 1922\n",
      "Iteration 34: Best score = 1919, Best score to date = 1922\n",
      "Iteration 35: Best score = 1920, Best score to date = 1922\n",
      "Iteration 36: Best score = 1919, Best score to date = 1922\n",
      "Iteration 37: Best score = 1919, Best score to date = 1922\n",
      "Iteration 38: Best score = 1918, Best score to date = 1922\n",
      "Iteration 39: Best score = 1916, Best score to date = 1922\n",
      "Iteration 40: Best score = 1918, Best score to date = 1922\n",
      "Iteration 41: Best score = 1915, Best score to date = 1922\n",
      "Iteration 42: Best score = 1915, Best score to date = 1922\n",
      "Iteration 43: Best score = 1915, Best score to date = 1922\n",
      "Iteration 44: Best score = 1914, Best score to date = 1922\n",
      "Iteration 45: Best score = 1917, Best score to date = 1922\n",
      "Iteration 46: Best score = 1918, Best score to date = 1922\n",
      "Iteration 47: Best score = 1915, Best score to date = 1922\n",
      "Iteration 48: Best score = 1916, Best score to date = 1922\n",
      "Iteration 49: Best score = 1915, Best score to date = 1922\n",
      "Iteration 50: Best score = 1915, Best score to date = 1922\n",
      "Iteration 51: Best score = 1918, Best score to date = 1922\n",
      "Iteration 52: Best score = 1918, Best score to date = 1922\n",
      "Iteration 53: Best score = 1921, Best score to date = 1922\n",
      "Iteration 54: Best score = 1917, Best score to date = 1922\n",
      "Iteration 55: Best score = 1915, Best score to date = 1922\n",
      "Iteration 56: Best score = 1916, Best score to date = 1922\n",
      "Iteration 57: Best score = 1916, Best score to date = 1922\n",
      "Iteration 58: Best score = 1916, Best score to date = 1922\n",
      "Iteration 59: Best score = 1916, Best score to date = 1922\n",
      "Iteration 60: Best score = 1913, Best score to date = 1922\n",
      "Iteration 61: Best score = 1917, Best score to date = 1922\n",
      "Iteration 62: Best score = 1916, Best score to date = 1922\n",
      "Iteration 63: Best score = 1920, Best score to date = 1922\n",
      "Iteration 64: Best score = 1920, Best score to date = 1922\n",
      "Iteration 65: Best score = 1919, Best score to date = 1922\n",
      "Iteration 66: Best score = 1917, Best score to date = 1922\n",
      "Iteration 67: Best score = 1916, Best score to date = 1922\n",
      "Iteration 68: Best score = 1914, Best score to date = 1922\n",
      "Iteration 69: Best score = 1915, Best score to date = 1922\n",
      "Iteration 70: Best score = 1916, Best score to date = 1922\n",
      "Iteration 71: Best score = 1916, Best score to date = 1922\n",
      "Iteration 72: Best score = 1915, Best score to date = 1922\n",
      "Iteration 73: Best score = 1916, Best score to date = 1922\n",
      "Iteration 74: Best score = 1915, Best score to date = 1922\n",
      "Iteration 75: Best score = 1915, Best score to date = 1922\n",
      "Iteration 76: Best score = 1914, Best score to date = 1922\n",
      "Iteration 77: Best score = 1916, Best score to date = 1922\n",
      "Iteration 78: Best score = 1917, Best score to date = 1922\n",
      "Iteration 79: Best score = 1917, Best score to date = 1922\n",
      "Iteration 80: Best score = 1920, Best score to date = 1922\n",
      "Iteration 81: Best score = 1919, Best score to date = 1922\n",
      "Iteration 82: Best score = 1920, Best score to date = 1922\n",
      "Iteration 83: Best score = 1916, Best score to date = 1922\n",
      "Iteration 84: Best score = 1915, Best score to date = 1922\n",
      "Iteration 85: Best score = 1918, Best score to date = 1922\n",
      "Iteration 86: Best score = 1915, Best score to date = 1922\n",
      "Iteration 87: Best score = 1915, Best score to date = 1922\n",
      "Iteration 88: Best score = 1917, Best score to date = 1922\n",
      "Iteration 89: Best score = 1915, Best score to date = 1922\n",
      "Iteration 90: Best score = 1916, Best score to date = 1922\n",
      "Iteration 91: Best score = 1914, Best score to date = 1922\n",
      "Iteration 92: Best score = 1914, Best score to date = 1922\n",
      "Iteration 93: Best score = 1918, Best score to date = 1922\n",
      "Iteration 94: Best score = 1915, Best score to date = 1922\n",
      "Iteration 95: Best score = 1915, Best score to date = 1922\n",
      "Iteration 96: Best score = 1917, Best score to date = 1922\n",
      "Iteration 97: Best score = 1917, Best score to date = 1922\n",
      "Iteration 98: Best score = 1914, Best score to date = 1922\n",
      "Iteration 99: Best score = 1916, Best score to date = 1922\n",
      "Iteration 100: Best score = 1917, Best score to date = 1922\n",
      " \n",
      "Best score = 1922, Iteration 12\n"
     ]
    }
   ],
   "source": [
    "x_best, o_best = solver.solve(problem, pop0, printing=True)"
   ],
   "metadata": {
    "collapsed": false,
    "pycharm": {
     "name": "#%%\n"
    }
   }
  },
  {
   "cell_type": "code",
   "execution_count": 16,
   "outputs": [
    {
     "name": "stdout",
     "output_type": "stream",
     "text": [
      "Best score = 1922\n"
     ]
    }
   ],
   "source": [
    "print(f'Best score = {o_best}')"
   ],
   "metadata": {
    "collapsed": false,
    "pycharm": {
     "name": "#%%\n"
    }
   }
  },
  {
   "cell_type": "code",
   "execution_count": 17,
   "outputs": [
    {
     "data": {
      "text/plain": "array([0, 0, 1, 1, 1, 0, 0, 0, 1, 0, 0, 1, 0, 1, 1, 0, 1, 1, 0, 0, 0, 0,\n       1, 0, 1, 0, 0, 0, 0, 1, 0, 0, 1, 1, 0, 0, 0, 0, 0, 1, 0, 0, 0, 0,\n       0, 1, 0, 1, 1, 1, 1, 0, 0, 1, 1, 0, 1, 0, 1, 0, 0, 0, 1, 0, 1, 1,\n       1, 1, 0, 1, 0, 1, 1, 0, 1, 1, 0, 0, 1, 0, 1, 0, 0, 0, 0, 0, 0, 1,\n       1, 0, 1, 0, 1, 1, 0, 1, 1, 1, 0, 0, 0, 1, 0, 0, 1, 0, 0, 0, 1, 0,\n       1, 0, 0, 0, 1, 1, 0, 1, 1, 1, 1, 1, 0, 0, 0, 0, 0, 1, 0, 0, 0, 1,\n       0, 1, 1, 1, 1, 1, 1, 0, 1, 1, 1, 1, 0, 0, 0, 1, 0, 1, 0, 0, 0, 0,\n       0, 0, 1, 0, 0, 1, 0, 0, 0, 1, 0, 0, 0, 0, 0, 1, 0, 1, 0, 0, 0, 1,\n       0, 0, 0, 0, 0, 1, 0, 0, 1, 0, 0, 0, 0, 0, 0, 0, 1, 0, 0, 0, 0, 0,\n       0, 0])"
     },
     "execution_count": 17,
     "metadata": {},
     "output_type": "execute_result"
    }
   ],
   "source": [
    "x_best"
   ],
   "metadata": {
    "collapsed": false,
    "pycharm": {
     "name": "#%%\n"
    }
   }
  },
  {
   "cell_type": "markdown",
   "source": [
    "## 5. Zastosowanie algorytmu genetycznego w celu wyznaczenia najlepszego osobnika - Badanie wpływu hiperparametrów\n"
   ],
   "metadata": {
    "collapsed": false,
    "pycharm": {
     "name": "#%% md\n"
    }
   }
  },
  {
   "cell_type": "markdown",
   "source": [
    "Aby usprawnić analizę otrzymanych wyników, zaimplementowana została klasa ***GeneticAlgorithmAnalyzer***, która podczas tworzenia obiektu przyjmuje jako argumenty **solver**, **funkcję celu**, **populację początkową** oraz **liczbę przebiegów**, na podstawie których będziemy mogli ocenić dobór parametrów solvera."
   ],
   "metadata": {
    "collapsed": false,
    "pycharm": {
     "name": "#%% md\n"
    }
   }
  },
  {
   "cell_type": "markdown",
   "source": [
    "Na początku przetestujemy solver z domyślnymi wartościami."
   ],
   "metadata": {
    "collapsed": false,
    "pycharm": {
     "name": "#%% md\n"
    }
   }
  },
  {
   "cell_type": "code",
   "execution_count": 18,
   "outputs": [],
   "source": [
    "analyzer = GeneticAlgorithmAnalyzer(solver=solver, population_creator=population_creator, problem=problem, n_samples=25)"
   ],
   "metadata": {
    "collapsed": false,
    "pycharm": {
     "name": "#%%\n"
    }
   }
  },
  {
   "cell_type": "code",
   "execution_count": 19,
   "outputs": [
    {
     "name": "stdout",
     "output_type": "stream",
     "text": [
      "Sample 1: Best score = 1924\n",
      "Sample 2: Best score = 1923\n",
      "Sample 3: Best score = 1922\n",
      "Sample 4: Best score = 1925\n",
      "Sample 5: Best score = 1922\n",
      "Sample 6: Best score = 1926\n",
      "Sample 7: Best score = 1925\n",
      "Sample 8: Best score = 1924\n",
      "Sample 9: Best score = 1923\n",
      "Sample 10: Best score = 1924\n",
      "Sample 11: Best score = 1923\n",
      "Sample 12: Best score = 1926\n",
      "Sample 13: Best score = 1922\n",
      "Sample 14: Best score = 1923\n",
      "Sample 15: Best score = 1925\n",
      "Sample 16: Best score = 1923\n",
      "Sample 17: Best score = 1925\n",
      "Sample 18: Best score = 1922\n",
      "Sample 19: Best score = 1922\n",
      "Sample 20: Best score = 1924\n",
      "Sample 21: Best score = 1924\n",
      "Sample 22: Best score = 1924\n",
      "Sample 23: Best score = 1924\n",
      "Sample 24: Best score = 1922\n",
      "Sample 25: Best score = 1927\n",
      " \n",
      "Best sample = 25\n",
      "Best score = 1927, Minimum score = 1922\n",
      "Average score = 1923.76, Median score = 1924.0\n"
     ]
    }
   ],
   "source": [
    "analyzer.analyze()"
   ],
   "metadata": {
    "collapsed": false,
    "pycharm": {
     "name": "#%%\n"
    }
   }
  },
  {
   "cell_type": "markdown",
   "source": [
    "Jak widać powyżej, wartość minimalna różni się od maksymalnej, natomiast średnia wyników jest zbliżona do ich mediany. Na podstawie otrzymanych wyników możemy stwierdzić, że w każdym przebiegu znalazł się osobnik, który wskazuje, że rakieta wylądowała."
   ],
   "metadata": {
    "collapsed": false,
    "pycharm": {
     "name": "#%% md\n"
    }
   }
  },
  {
   "cell_type": "markdown",
   "source": [
    "Sprawdźmy jednak, czy uda nam się zredukować koszty startu rakiety tak, aby jeszcze bardziej zbliżyć się do wartości równej $2000$."
   ],
   "metadata": {
    "collapsed": false,
    "pycharm": {
     "name": "#%% md\n"
    }
   }
  },
  {
   "cell_type": "markdown",
   "source": [
    "#### 5.1 Badanie wpływu prawdopodobieństwa mutacji"
   ],
   "metadata": {
    "collapsed": false,
    "pycharm": {
     "name": "#%% md\n"
    }
   }
  },
  {
   "cell_type": "code",
   "execution_count": 49,
   "outputs": [],
   "source": [
    "solver = GeneticAlgorithmSolver()"
   ],
   "metadata": {
    "collapsed": false,
    "pycharm": {
     "name": "#%%\n"
    }
   }
  },
  {
   "cell_type": "code",
   "execution_count": 50,
   "outputs": [],
   "source": [
    "analyzer = GeneticAlgorithmAnalyzer(solver=solver, population_creator=population_creator ,problem=problem, n_samples=30)"
   ],
   "metadata": {
    "collapsed": false,
    "pycharm": {
     "name": "#%%\n"
    }
   }
  },
  {
   "cell_type": "code",
   "execution_count": 51,
   "outputs": [
    {
     "name": "stdout",
     "output_type": "stream",
     "text": [
      "Sample 1: Best score = 1925\n",
      "Sample 2: Best score = 1926\n",
      "Sample 3: Best score = 1927\n",
      "Sample 4: Best score = 1925\n",
      "Sample 5: Best score = 1926\n",
      "Sample 6: Best score = 1925\n",
      "Sample 7: Best score = 1928\n",
      "Sample 8: Best score = 1927\n",
      "Sample 9: Best score = 1925\n",
      "Sample 10: Best score = 1925\n",
      "Sample 11: Best score = 1926\n",
      "Sample 12: Best score = 1925\n",
      "Sample 13: Best score = 1926\n",
      "Sample 14: Best score = 1926\n",
      "Sample 15: Best score = 1926\n",
      "Sample 16: Best score = 1926\n",
      "Sample 17: Best score = 1926\n",
      "Sample 18: Best score = 1927\n",
      "Sample 19: Best score = 1923\n",
      "Sample 20: Best score = 1926\n",
      "Sample 21: Best score = 1926\n",
      "Sample 22: Best score = 1925\n",
      "Sample 23: Best score = 1926\n",
      "Sample 24: Best score = 1927\n",
      "Sample 25: Best score = 1924\n",
      "Sample 26: Best score = 1928\n",
      "Sample 27: Best score = 1926\n",
      "Sample 28: Best score = 1926\n",
      "Sample 29: Best score = 1924\n",
      "Sample 30: Best score = 1926\n",
      " \n",
      "Best sample = 7\n",
      "Best score = 1928, Minimum score = 1923\n",
      "Average score = 1925.8, Median score = 1926.0\n"
     ]
    }
   ],
   "source": [
    "analyzer.analyze()"
   ],
   "metadata": {
    "collapsed": false,
    "pycharm": {
     "name": "#%%\n"
    }
   }
  },
  {
   "cell_type": "markdown",
   "source": [],
   "metadata": {
    "collapsed": false,
    "pycharm": {
     "name": "#%% md\n"
    }
   }
  },
  {
   "cell_type": "markdown",
   "source": [],
   "metadata": {
    "collapsed": false,
    "pycharm": {
     "name": "#%% md\n"
    }
   }
  },
  {
   "cell_type": "code",
   "execution_count": 25,
   "outputs": [],
   "source": [
    "solver = GeneticAlgorithmSolver(pm=0.1)"
   ],
   "metadata": {
    "collapsed": false,
    "pycharm": {
     "name": "#%%\n"
    }
   }
  },
  {
   "cell_type": "code",
   "execution_count": 26,
   "outputs": [],
   "source": [
    "analyzer = GeneticAlgorithmAnalyzer(solver=solver, population_creator=population_creator ,problem=problem, n_samples=30)"
   ],
   "metadata": {
    "collapsed": false,
    "pycharm": {
     "name": "#%%\n"
    }
   }
  },
  {
   "cell_type": "code",
   "execution_count": 27,
   "outputs": [
    {
     "name": "stdout",
     "output_type": "stream",
     "text": [
      "Sample 1: Best score = 1926\n",
      "Sample 2: Best score = 1927\n",
      "Sample 3: Best score = 1927\n",
      "Sample 4: Best score = 1927\n",
      "Sample 5: Best score = 1925\n",
      "Sample 6: Best score = 1925\n",
      "Sample 7: Best score = 1925\n",
      "Sample 8: Best score = 1926\n",
      "Sample 9: Best score = 1925\n",
      "Sample 10: Best score = 1926\n",
      "Sample 11: Best score = 1927\n",
      "Sample 12: Best score = 1929\n",
      "Sample 13: Best score = 1926\n",
      "Sample 14: Best score = 1927\n",
      "Sample 15: Best score = 1929\n",
      "Sample 16: Best score = 1927\n",
      "Sample 17: Best score = 1928\n",
      "Sample 18: Best score = 1925\n",
      "Sample 19: Best score = 1933\n",
      "Sample 20: Best score = 1924\n",
      "Sample 21: Best score = 1926\n",
      "Sample 22: Best score = 1925\n",
      "Sample 23: Best score = 1926\n",
      "Sample 24: Best score = 1926\n",
      "Sample 25: Best score = 1927\n",
      "Sample 26: Best score = 1925\n",
      "Sample 27: Best score = 1925\n",
      "Sample 28: Best score = 1929\n",
      "Sample 29: Best score = 1926\n",
      "Sample 30: Best score = 1924\n",
      " \n",
      "Best sample = 19\n",
      "Best score = 1933, Minimum score = 1924\n",
      "Average score = 1926.4333333333334, Median score = 1926.0\n"
     ]
    }
   ],
   "source": [
    "analyzer.analyze()"
   ],
   "metadata": {
    "collapsed": false,
    "pycharm": {
     "name": "#%%\n"
    }
   }
  },
  {
   "cell_type": "markdown",
   "source": [],
   "metadata": {
    "collapsed": false,
    "pycharm": {
     "name": "#%% md\n"
    }
   }
  },
  {
   "cell_type": "markdown",
   "source": [],
   "metadata": {
    "collapsed": false,
    "pycharm": {
     "name": "#%% md\n"
    }
   }
  },
  {
   "cell_type": "code",
   "execution_count": 37,
   "outputs": [],
   "source": [
    "solver = GeneticAlgorithmSolver(pm=0.2)"
   ],
   "metadata": {
    "collapsed": false,
    "pycharm": {
     "name": "#%%\n"
    }
   }
  },
  {
   "cell_type": "code",
   "execution_count": 38,
   "outputs": [],
   "source": [
    "analyzer = GeneticAlgorithmAnalyzer(solver=solver, population_creator=population_creator ,problem=problem, n_samples=30)"
   ],
   "metadata": {
    "collapsed": false,
    "pycharm": {
     "name": "#%%\n"
    }
   }
  },
  {
   "cell_type": "code",
   "execution_count": 39,
   "outputs": [
    {
     "name": "stdout",
     "output_type": "stream",
     "text": [
      "Sample 1: Best score = 1927\n",
      "Sample 2: Best score = 1925\n",
      "Sample 3: Best score = 1925\n",
      "Sample 4: Best score = 1924\n",
      "Sample 5: Best score = 1928\n",
      "Sample 6: Best score = 1926\n",
      "Sample 7: Best score = 1925\n",
      "Sample 8: Best score = 1925\n",
      "Sample 9: Best score = 1926\n",
      "Sample 10: Best score = 1924\n",
      "Sample 11: Best score = 1926\n",
      "Sample 12: Best score = 1925\n",
      "Sample 13: Best score = 1924\n",
      "Sample 14: Best score = 1924\n",
      "Sample 15: Best score = 1927\n",
      "Sample 16: Best score = 1925\n",
      "Sample 17: Best score = 1928\n",
      "Sample 18: Best score = 1926\n",
      "Sample 19: Best score = 1927\n",
      "Sample 20: Best score = 1925\n",
      "Sample 21: Best score = 1924\n",
      "Sample 22: Best score = 1926\n",
      "Sample 23: Best score = 1931\n",
      "Sample 24: Best score = 1924\n",
      "Sample 25: Best score = 1925\n",
      "Sample 26: Best score = 1926\n",
      "Sample 27: Best score = 1924\n",
      "Sample 28: Best score = 1926\n",
      "Sample 29: Best score = 1925\n",
      "Sample 30: Best score = 1925\n",
      " \n",
      "Best sample = 23\n",
      "Best score = 1931, Minimum score = 1924\n",
      "Average score = 1925.6, Median score = 1925.0\n"
     ]
    }
   ],
   "source": [
    "analyzer.analyze()"
   ],
   "metadata": {
    "collapsed": false,
    "pycharm": {
     "name": "#%%\n"
    }
   }
  },
  {
   "cell_type": "markdown",
   "source": [],
   "metadata": {
    "collapsed": false,
    "pycharm": {
     "name": "#%% md\n"
    }
   }
  },
  {
   "cell_type": "markdown",
   "source": [],
   "metadata": {
    "collapsed": false,
    "pycharm": {
     "name": "#%% md\n"
    }
   }
  },
  {
   "cell_type": "code",
   "execution_count": 34,
   "outputs": [],
   "source": [
    "solver = GeneticAlgorithmSolver(pm=0.3)"
   ],
   "metadata": {
    "collapsed": false,
    "pycharm": {
     "name": "#%%\n"
    }
   }
  },
  {
   "cell_type": "code",
   "execution_count": 35,
   "outputs": [],
   "source": [
    "analyzer = GeneticAlgorithmAnalyzer(solver=solver, population_creator=population_creator ,problem=problem, n_samples=30)"
   ],
   "metadata": {
    "collapsed": false,
    "pycharm": {
     "name": "#%%\n"
    }
   }
  },
  {
   "cell_type": "code",
   "execution_count": 36,
   "outputs": [
    {
     "name": "stdout",
     "output_type": "stream",
     "text": [
      "Sample 1: Best score = 1924\n",
      "Sample 2: Best score = 1925\n",
      "Sample 3: Best score = 1925\n",
      "Sample 4: Best score = 1926\n",
      "Sample 5: Best score = 1925\n",
      "Sample 6: Best score = 1927\n",
      "Sample 7: Best score = 1924\n",
      "Sample 8: Best score = 1924\n",
      "Sample 9: Best score = 1924\n",
      "Sample 10: Best score = 1926\n",
      "Sample 11: Best score = 1928\n",
      "Sample 12: Best score = 1924\n",
      "Sample 13: Best score = 1924\n",
      "Sample 14: Best score = 1924\n",
      "Sample 15: Best score = 1924\n",
      "Sample 16: Best score = 1925\n",
      "Sample 17: Best score = 1924\n",
      "Sample 18: Best score = 1923\n",
      "Sample 19: Best score = 1925\n",
      "Sample 20: Best score = 1925\n",
      "Sample 21: Best score = 1926\n",
      "Sample 22: Best score = 1922\n",
      "Sample 23: Best score = 1924\n",
      "Sample 24: Best score = 1926\n",
      "Sample 25: Best score = 1926\n",
      "Sample 26: Best score = 1925\n",
      "Sample 27: Best score = 1926\n",
      "Sample 28: Best score = 1924\n",
      "Sample 29: Best score = 1928\n",
      "Sample 30: Best score = 1925\n",
      " \n",
      "Best sample = 11\n",
      "Best score = 1928, Minimum score = 1922\n",
      "Average score = 1924.9333333333334, Median score = 1925.0\n"
     ]
    }
   ],
   "source": [
    "analyzer.analyze()"
   ],
   "metadata": {
    "collapsed": false,
    "pycharm": {
     "name": "#%%\n"
    }
   }
  },
  {
   "cell_type": "markdown",
   "source": [],
   "metadata": {
    "collapsed": false,
    "pycharm": {
     "name": "#%% md\n"
    }
   }
  },
  {
   "cell_type": "markdown",
   "source": [],
   "metadata": {
    "collapsed": false,
    "pycharm": {
     "name": "#%% md\n"
    }
   }
  },
  {
   "cell_type": "code",
   "execution_count": 28,
   "outputs": [],
   "source": [
    "solver = GeneticAlgorithmSolver(pm=0.5)"
   ],
   "metadata": {
    "collapsed": false,
    "pycharm": {
     "name": "#%%\n"
    }
   }
  },
  {
   "cell_type": "code",
   "execution_count": 29,
   "outputs": [],
   "source": [
    "analyzer = GeneticAlgorithmAnalyzer(solver=solver, population_creator=population_creator ,problem=problem, n_samples=30)"
   ],
   "metadata": {
    "collapsed": false,
    "pycharm": {
     "name": "#%%\n"
    }
   }
  },
  {
   "cell_type": "code",
   "execution_count": 30,
   "outputs": [
    {
     "name": "stdout",
     "output_type": "stream",
     "text": [
      "Sample 1: Best score = 1924\n",
      "Sample 2: Best score = 1924\n",
      "Sample 3: Best score = 1926\n",
      "Sample 4: Best score = 1925\n",
      "Sample 5: Best score = 1926\n",
      "Sample 6: Best score = 1925\n",
      "Sample 7: Best score = 1925\n",
      "Sample 8: Best score = 1927\n",
      "Sample 9: Best score = 1923\n",
      "Sample 10: Best score = 1925\n",
      "Sample 11: Best score = 1924\n",
      "Sample 12: Best score = 1924\n",
      "Sample 13: Best score = 1924\n",
      "Sample 14: Best score = 1923\n",
      "Sample 15: Best score = 1927\n",
      "Sample 16: Best score = 1926\n",
      "Sample 17: Best score = 1926\n",
      "Sample 18: Best score = 1924\n",
      "Sample 19: Best score = 1923\n",
      "Sample 20: Best score = 1929\n",
      "Sample 21: Best score = 1924\n",
      "Sample 22: Best score = 1924\n",
      "Sample 23: Best score = 1924\n",
      "Sample 24: Best score = 1927\n",
      "Sample 25: Best score = 1925\n",
      "Sample 26: Best score = 1924\n",
      "Sample 27: Best score = 1924\n",
      "Sample 28: Best score = 1927\n",
      "Sample 29: Best score = 1924\n",
      "Sample 30: Best score = 1922\n",
      " \n",
      "Best sample = 20\n",
      "Best score = 1929, Minimum score = 1922\n",
      "Average score = 1924.8333333333333, Median score = 1924.0\n"
     ]
    }
   ],
   "source": [
    "analyzer.analyze()"
   ],
   "metadata": {
    "collapsed": false,
    "pycharm": {
     "name": "#%%\n"
    }
   }
  },
  {
   "cell_type": "markdown",
   "source": [],
   "metadata": {
    "collapsed": false,
    "pycharm": {
     "name": "#%% md\n"
    }
   }
  },
  {
   "cell_type": "markdown",
   "source": [],
   "metadata": {
    "collapsed": false,
    "pycharm": {
     "name": "#%% md\n"
    }
   }
  },
  {
   "cell_type": "code",
   "execution_count": 31,
   "outputs": [],
   "source": [
    "solver = GeneticAlgorithmSolver(pm=0.01)"
   ],
   "metadata": {
    "collapsed": false,
    "pycharm": {
     "name": "#%%\n"
    }
   }
  },
  {
   "cell_type": "code",
   "execution_count": 32,
   "outputs": [],
   "source": [
    "analyzer = GeneticAlgorithmAnalyzer(solver=solver, population_creator=population_creator, problem=problem, n_samples=30)"
   ],
   "metadata": {
    "collapsed": false,
    "pycharm": {
     "name": "#%%\n"
    }
   }
  },
  {
   "cell_type": "code",
   "execution_count": 33,
   "outputs": [
    {
     "name": "stdout",
     "output_type": "stream",
     "text": [
      "Sample 1: Best score = 1925\n",
      "Sample 2: Best score = 1924\n",
      "Sample 3: Best score = 1927\n",
      "Sample 4: Best score = 1925\n",
      "Sample 5: Best score = 1925\n",
      "Sample 6: Best score = 1926\n",
      "Sample 7: Best score = 1927\n",
      "Sample 8: Best score = 1926\n",
      "Sample 9: Best score = 1925\n",
      "Sample 10: Best score = 1924\n",
      "Sample 11: Best score = 1925\n",
      "Sample 12: Best score = 1925\n",
      "Sample 13: Best score = 1925\n",
      "Sample 14: Best score = 1925\n",
      "Sample 15: Best score = 1926\n",
      "Sample 16: Best score = 1925\n",
      "Sample 17: Best score = 1926\n",
      "Sample 18: Best score = 1929\n",
      "Sample 19: Best score = 1926\n",
      "Sample 20: Best score = 1925\n",
      "Sample 21: Best score = 1926\n",
      "Sample 22: Best score = 1925\n",
      "Sample 23: Best score = 1927\n",
      "Sample 24: Best score = 1925\n",
      "Sample 25: Best score = 1926\n",
      "Sample 26: Best score = 1925\n",
      "Sample 27: Best score = 1929\n",
      "Sample 28: Best score = 1926\n",
      "Sample 29: Best score = 1927\n",
      "Sample 30: Best score = 1928\n",
      " \n",
      "Best sample = 18\n",
      "Best score = 1929, Minimum score = 1924\n",
      "Average score = 1925.8333333333333, Median score = 1925.5\n"
     ]
    }
   ],
   "source": [
    "analyzer.analyze()"
   ],
   "metadata": {
    "collapsed": false,
    "pycharm": {
     "name": "#%%\n"
    }
   }
  },
  {
   "cell_type": "markdown",
   "source": [],
   "metadata": {
    "collapsed": false,
    "pycharm": {
     "name": "#%% md\n"
    }
   }
  },
  {
   "cell_type": "markdown",
   "source": [],
   "metadata": {
    "collapsed": false,
    "pycharm": {
     "name": "#%% md\n"
    }
   }
  },
  {
   "cell_type": "code",
   "execution_count": 46,
   "outputs": [],
   "source": [
    "solver = GeneticAlgorithmSolver(pm=0.005)"
   ],
   "metadata": {
    "collapsed": false,
    "pycharm": {
     "name": "#%%\n"
    }
   }
  },
  {
   "cell_type": "code",
   "execution_count": 47,
   "outputs": [],
   "source": [
    "analyzer = GeneticAlgorithmAnalyzer(solver=solver, population_creator=population_creator, problem=problem, n_samples=30)"
   ],
   "metadata": {
    "collapsed": false,
    "pycharm": {
     "name": "#%%\n"
    }
   }
  },
  {
   "cell_type": "code",
   "execution_count": 48,
   "outputs": [
    {
     "name": "stdout",
     "output_type": "stream",
     "text": [
      "Sample 1: Best score = 1927\n",
      "Sample 2: Best score = 1925\n",
      "Sample 3: Best score = 1927\n",
      "Sample 4: Best score = 1927\n",
      "Sample 5: Best score = 1925\n",
      "Sample 6: Best score = 1924\n",
      "Sample 7: Best score = 1927\n",
      "Sample 8: Best score = 1925\n",
      "Sample 9: Best score = 1926\n",
      "Sample 10: Best score = 1925\n",
      "Sample 11: Best score = 1927\n",
      "Sample 12: Best score = 1927\n",
      "Sample 13: Best score = 1926\n",
      "Sample 14: Best score = 1925\n",
      "Sample 15: Best score = 1926\n",
      "Sample 16: Best score = 1925\n",
      "Sample 17: Best score = 1926\n",
      "Sample 18: Best score = 1926\n",
      "Sample 19: Best score = 1926\n",
      "Sample 20: Best score = 1927\n",
      "Sample 21: Best score = 1925\n",
      "Sample 22: Best score = 1929\n",
      "Sample 23: Best score = 1925\n",
      "Sample 24: Best score = 1924\n",
      "Sample 25: Best score = 1925\n",
      "Sample 26: Best score = 1927\n",
      "Sample 27: Best score = 1927\n",
      "Sample 28: Best score = 1925\n",
      "Sample 29: Best score = 1928\n",
      "Sample 30: Best score = 1925\n",
      " \n",
      "Best sample = 22\n",
      "Best score = 1929, Minimum score = 1924\n",
      "Average score = 1925.9666666666667, Median score = 1926.0\n"
     ]
    }
   ],
   "source": [
    "analyzer.analyze()"
   ],
   "metadata": {
    "collapsed": false,
    "pycharm": {
     "name": "#%%\n"
    }
   }
  },
  {
   "cell_type": "markdown",
   "source": [],
   "metadata": {
    "collapsed": false,
    "pycharm": {
     "name": "#%% md\n"
    }
   }
  },
  {
   "cell_type": "code",
   "execution_count": 181,
   "outputs": [],
   "source": [
    "solver = GeneticAlgorithmSolver(pm=0.001)"
   ],
   "metadata": {
    "collapsed": false,
    "pycharm": {
     "name": "#%%\n"
    }
   }
  },
  {
   "cell_type": "code",
   "execution_count": 182,
   "outputs": [],
   "source": [
    "analyzer = GeneticAlgorithmAnalyzer(solver=solver, population_creator=population_creator, problem=problem, n_samples=30)"
   ],
   "metadata": {
    "collapsed": false,
    "pycharm": {
     "name": "#%%\n"
    }
   }
  },
  {
   "cell_type": "code",
   "execution_count": 183,
   "outputs": [
    {
     "name": "stdout",
     "output_type": "stream",
     "text": [
      "Sample 1: Best score = 1923\n",
      "Sample 2: Best score = 1927\n",
      "Sample 3: Best score = 1927\n",
      "Sample 4: Best score = 1925\n",
      "Sample 5: Best score = 1925\n",
      "Sample 6: Best score = 1925\n",
      "Sample 7: Best score = 1926\n",
      "Sample 8: Best score = 1920\n",
      "Sample 9: Best score = 1921\n",
      "Sample 10: Best score = 1926\n",
      "Sample 11: Best score = 1924\n",
      "Sample 12: Best score = 1926\n",
      "Sample 13: Best score = 1923\n",
      "Sample 14: Best score = 1928\n",
      "Sample 15: Best score = 1924\n",
      "Sample 16: Best score = 1923\n",
      "Sample 17: Best score = 1923\n",
      "Sample 18: Best score = 1926\n",
      "Sample 19: Best score = 1926\n",
      "Sample 20: Best score = 1924\n",
      "Sample 21: Best score = 1927\n",
      "Sample 22: Best score = 1925\n",
      "Sample 23: Best score = 1927\n",
      "Sample 24: Best score = 1924\n",
      "Sample 25: Best score = 1923\n",
      "Sample 26: Best score = 1921\n",
      "Sample 27: Best score = 1927\n",
      "Sample 28: Best score = 1927\n",
      "Sample 29: Best score = 1924\n",
      "Sample 30: Best score = 1923\n",
      " \n",
      "Best sample = 14\n",
      "Best score = 1928, Minimum score = 1920\n",
      "Average score = 1924.6666666666667, Median score = 1925.0\n"
     ]
    }
   ],
   "source": [
    "analyzer.analyze()"
   ],
   "metadata": {
    "collapsed": false,
    "pycharm": {
     "name": "#%%\n"
    }
   }
  },
  {
   "cell_type": "markdown",
   "source": [],
   "metadata": {
    "collapsed": false,
    "pycharm": {
     "name": "#%% md\n"
    }
   }
  },
  {
   "cell_type": "markdown",
   "source": [],
   "metadata": {
    "collapsed": false,
    "pycharm": {
     "name": "#%% md\n"
    }
   }
  },
  {
   "cell_type": "code",
   "execution_count": 40,
   "outputs": [],
   "source": [
    "solver = GeneticAlgorithmSolver(pm=0)"
   ],
   "metadata": {
    "collapsed": false,
    "pycharm": {
     "name": "#%%\n"
    }
   }
  },
  {
   "cell_type": "code",
   "execution_count": 41,
   "outputs": [],
   "source": [
    "analyzer = GeneticAlgorithmAnalyzer(solver=solver, population_creator=population_creator, problem=problem, n_samples=30)"
   ],
   "metadata": {
    "collapsed": false,
    "pycharm": {
     "name": "#%%\n"
    }
   }
  },
  {
   "cell_type": "code",
   "execution_count": 42,
   "outputs": [
    {
     "name": "stdout",
     "output_type": "stream",
     "text": [
      "Sample 1: Best score = 1923\n",
      "Sample 2: Best score = 1922\n",
      "Sample 3: Best score = 1920\n",
      "Sample 4: Best score = 1921\n",
      "Sample 5: Best score = 1921\n",
      "Sample 6: Best score = 1924\n",
      "Sample 7: Best score = 1920\n",
      "Sample 8: Best score = 1922\n",
      "Sample 9: Best score = 1921\n",
      "Sample 10: Best score = 1920\n",
      "Sample 11: Best score = 1921\n",
      "Sample 12: Best score = 1922\n",
      "Sample 13: Best score = 1921\n",
      "Sample 14: Best score = 1922\n",
      "Sample 15: Best score = 1918\n",
      "Sample 16: Best score = 1919\n",
      "Sample 17: Best score = 1922\n",
      "Sample 18: Best score = 1919\n",
      "Sample 19: Best score = 1920\n",
      "Sample 20: Best score = 1923\n",
      "Sample 21: Best score = 1921\n",
      "Sample 22: Best score = 1920\n",
      "Sample 23: Best score = 1921\n",
      "Sample 24: Best score = 1921\n",
      "Sample 25: Best score = 1919\n",
      "Sample 26: Best score = 1917\n",
      "Sample 27: Best score = 1920\n",
      "Sample 28: Best score = 1920\n",
      "Sample 29: Best score = 1919\n",
      "Sample 30: Best score = 1921\n",
      " \n",
      "Best sample = 6\n",
      "Best score = 1924, Minimum score = 1917\n",
      "Average score = 1920.6666666666667, Median score = 1921.0\n"
     ]
    }
   ],
   "source": [
    "analyzer.analyze()"
   ],
   "metadata": {
    "collapsed": false,
    "pycharm": {
     "name": "#%%\n"
    }
   }
  },
  {
   "cell_type": "markdown",
   "source": [
    "#### 5.2 Badanie wpływu prawdopodobieństwa krzyżowania"
   ],
   "metadata": {
    "collapsed": false,
    "pycharm": {
     "name": "#%% md\n"
    }
   }
  },
  {
   "cell_type": "markdown",
   "source": [],
   "metadata": {
    "collapsed": false,
    "pycharm": {
     "name": "#%% md\n"
    }
   }
  },
  {
   "cell_type": "markdown",
   "source": [],
   "metadata": {
    "collapsed": false,
    "pycharm": {
     "name": "#%% md\n"
    }
   }
  },
  {
   "cell_type": "markdown",
   "source": [],
   "metadata": {
    "collapsed": false,
    "pycharm": {
     "name": "#%% md\n"
    }
   }
  },
  {
   "cell_type": "markdown",
   "source": [],
   "metadata": {
    "collapsed": false,
    "pycharm": {
     "name": "#%% md\n"
    }
   }
  },
  {
   "cell_type": "markdown",
   "source": [],
   "metadata": {
    "collapsed": false,
    "pycharm": {
     "name": "#%% md\n"
    }
   }
  },
  {
   "cell_type": "markdown",
   "source": [],
   "metadata": {
    "collapsed": false,
    "pycharm": {
     "name": "#%% md\n"
    }
   }
  },
  {
   "cell_type": "code",
   "execution_count": 133,
   "outputs": [],
   "source": [
    "solver = GeneticAlgorithmSolver(pm=0, t_max=50)"
   ],
   "metadata": {
    "collapsed": false,
    "pycharm": {
     "name": "#%%\n"
    }
   }
  },
  {
   "cell_type": "code",
   "execution_count": 134,
   "outputs": [],
   "source": [
    "analyzer = GeneticAlgorithmAnalyzer(solver=solver, population_creator=population_creator, problem=problem, n_samples=30)"
   ],
   "metadata": {
    "collapsed": false,
    "pycharm": {
     "name": "#%%\n"
    }
   }
  },
  {
   "cell_type": "code",
   "execution_count": 135,
   "outputs": [
    {
     "name": "stdout",
     "output_type": "stream",
     "text": [
      "Sample 1: Best score = 1919\n",
      "Sample 2: Best score = 1919\n",
      "Sample 3: Best score = 1923\n",
      "Sample 4: Best score = 1919\n",
      "Sample 5: Best score = 1920\n",
      "Sample 6: Best score = 1918\n",
      "Sample 7: Best score = 1919\n",
      "Sample 8: Best score = 1923\n",
      "Sample 9: Best score = 1919\n",
      "Sample 10: Best score = 1922\n",
      "Sample 11: Best score = 1918\n",
      "Sample 12: Best score = 1920\n",
      "Sample 13: Best score = 1921\n",
      "Sample 14: Best score = 1924\n",
      "Sample 15: Best score = 1919\n",
      "Sample 16: Best score = 1918\n",
      "Sample 17: Best score = 1917\n",
      "Sample 18: Best score = 1918\n",
      "Sample 19: Best score = 1919\n",
      "Sample 20: Best score = 1922\n",
      "Sample 21: Best score = 1919\n",
      "Sample 22: Best score = 1917\n",
      "Sample 23: Best score = 1919\n",
      "Sample 24: Best score = 1920\n",
      "Sample 25: Best score = 1917\n",
      "Sample 26: Best score = 1919\n",
      "Sample 27: Best score = 1921\n",
      "Sample 28: Best score = 1920\n",
      "Sample 29: Best score = 1919\n",
      "Sample 30: Best score = 1923\n",
      " \n",
      "Best sample = 14\n",
      "Best score = 1924, Minimum score = 1917\n",
      "Average score = 1919.7, Median score = 1919.0\n"
     ]
    }
   ],
   "source": [
    "analyzer.analyze()"
   ],
   "metadata": {
    "collapsed": false,
    "pycharm": {
     "name": "#%%\n"
    }
   }
  },
  {
   "cell_type": "markdown",
   "source": [],
   "metadata": {
    "collapsed": false,
    "pycharm": {
     "name": "#%% md\n"
    }
   }
  },
  {
   "cell_type": "code",
   "execution_count": 136,
   "outputs": [],
   "source": [
    "solver = GeneticAlgorithmSolver(pm=0.1, t_max=50)"
   ],
   "metadata": {
    "collapsed": false,
    "pycharm": {
     "name": "#%%\n"
    }
   }
  },
  {
   "cell_type": "code",
   "execution_count": 137,
   "outputs": [],
   "source": [
    "analyzer = GeneticAlgorithmAnalyzer(solver=solver, population_creator=population_creator, problem=problem, n_samples=30)"
   ],
   "metadata": {
    "collapsed": false,
    "pycharm": {
     "name": "#%%\n"
    }
   }
  },
  {
   "cell_type": "code",
   "execution_count": 138,
   "outputs": [
    {
     "name": "stdout",
     "output_type": "stream",
     "text": [
      "Sample 1: Best score = 1922\n",
      "Sample 2: Best score = 1922\n",
      "Sample 3: Best score = 1922\n",
      "Sample 4: Best score = 1921\n",
      "Sample 5: Best score = 1921\n",
      "Sample 6: Best score = 1922\n",
      "Sample 7: Best score = 1924\n",
      "Sample 8: Best score = 1922\n",
      "Sample 9: Best score = 1922\n",
      "Sample 10: Best score = 1923\n",
      "Sample 11: Best score = 1922\n",
      "Sample 12: Best score = 1925\n",
      "Sample 13: Best score = 1924\n",
      "Sample 14: Best score = 1923\n",
      "Sample 15: Best score = 1924\n",
      "Sample 16: Best score = 1921\n",
      "Sample 17: Best score = 1922\n",
      "Sample 18: Best score = 1920\n",
      "Sample 19: Best score = 1922\n",
      "Sample 20: Best score = 1921\n",
      "Sample 21: Best score = 1923\n",
      "Sample 22: Best score = 1922\n",
      "Sample 23: Best score = 1923\n",
      "Sample 24: Best score = 1923\n",
      "Sample 25: Best score = 1924\n",
      "Sample 26: Best score = 1922\n",
      "Sample 27: Best score = 1922\n",
      "Sample 28: Best score = 1922\n",
      "Sample 29: Best score = 1922\n",
      "Sample 30: Best score = 1923\n",
      " \n",
      "Best sample = 12\n",
      "Best score = 1925, Minimum score = 1920\n",
      "Average score = 1922.3666666666666, Median score = 1922.0\n"
     ]
    }
   ],
   "source": [
    "analyzer.analyze()"
   ],
   "metadata": {
    "collapsed": false,
    "pycharm": {
     "name": "#%%\n"
    }
   }
  },
  {
   "cell_type": "markdown",
   "source": [],
   "metadata": {
    "collapsed": false,
    "pycharm": {
     "name": "#%% md\n"
    }
   }
  },
  {
   "cell_type": "code",
   "execution_count": 139,
   "outputs": [],
   "source": [
    "solver = GeneticAlgorithmSolver(pm=0.2, t_max=50)"
   ],
   "metadata": {
    "collapsed": false,
    "pycharm": {
     "name": "#%%\n"
    }
   }
  },
  {
   "cell_type": "code",
   "execution_count": 140,
   "outputs": [],
   "source": [
    "analyzer = GeneticAlgorithmAnalyzer(solver=solver, population_creator=population_creator, problem=problem, n_samples=30)"
   ],
   "metadata": {
    "collapsed": false,
    "pycharm": {
     "name": "#%%\n"
    }
   }
  },
  {
   "cell_type": "code",
   "execution_count": 141,
   "outputs": [
    {
     "name": "stdout",
     "output_type": "stream",
     "text": [
      "Sample 1: Best score = 1922\n",
      "Sample 2: Best score = 1921\n",
      "Sample 3: Best score = 1922\n",
      "Sample 4: Best score = 1920\n",
      "Sample 5: Best score = 1919\n",
      "Sample 6: Best score = 1920\n",
      "Sample 7: Best score = 1921\n",
      "Sample 8: Best score = 1920\n",
      "Sample 9: Best score = 1922\n",
      "Sample 10: Best score = 1921\n",
      "Sample 11: Best score = 1924\n",
      "Sample 12: Best score = 1919\n",
      "Sample 13: Best score = 1922\n",
      "Sample 14: Best score = 1925\n",
      "Sample 15: Best score = 1920\n",
      "Sample 16: Best score = 1922\n",
      "Sample 17: Best score = 1921\n",
      "Sample 18: Best score = 1922\n",
      "Sample 19: Best score = 1921\n",
      "Sample 20: Best score = 1922\n",
      "Sample 21: Best score = 1923\n",
      "Sample 22: Best score = 1925\n",
      "Sample 23: Best score = 1920\n",
      "Sample 24: Best score = 1921\n",
      "Sample 25: Best score = 1922\n",
      "Sample 26: Best score = 1921\n",
      "Sample 27: Best score = 1921\n",
      "Sample 28: Best score = 1924\n",
      "Sample 29: Best score = 1922\n",
      "Sample 30: Best score = 1922\n",
      " \n",
      "Best sample = 14\n",
      "Best score = 1925, Minimum score = 1919\n",
      "Average score = 1921.5666666666666, Median score = 1921.5\n"
     ]
    }
   ],
   "source": [
    "analyzer.analyze()"
   ],
   "metadata": {
    "collapsed": false,
    "pycharm": {
     "name": "#%%\n"
    }
   }
  },
  {
   "cell_type": "markdown",
   "source": [],
   "metadata": {
    "collapsed": false,
    "pycharm": {
     "name": "#%% md\n"
    }
   }
  },
  {
   "cell_type": "code",
   "execution_count": 142,
   "outputs": [],
   "source": [
    "solver = GeneticAlgorithmSolver(pm=0.3, t_max=50)"
   ],
   "metadata": {
    "collapsed": false,
    "pycharm": {
     "name": "#%%\n"
    }
   }
  },
  {
   "cell_type": "code",
   "execution_count": 143,
   "outputs": [],
   "source": [
    "analyzer = GeneticAlgorithmAnalyzer(solver=solver, population_creator=population_creator, problem=problem, n_samples=30)"
   ],
   "metadata": {
    "collapsed": false,
    "pycharm": {
     "name": "#%%\n"
    }
   }
  },
  {
   "cell_type": "code",
   "execution_count": 144,
   "outputs": [
    {
     "name": "stdout",
     "output_type": "stream",
     "text": [
      "Sample 1: Best score = 1922\n",
      "Sample 2: Best score = 1924\n",
      "Sample 3: Best score = 1919\n",
      "Sample 4: Best score = 1923\n",
      "Sample 5: Best score = 1923\n",
      "Sample 6: Best score = 1921\n",
      "Sample 7: Best score = 1921\n",
      "Sample 8: Best score = 1924\n",
      "Sample 9: Best score = 1922\n",
      "Sample 10: Best score = 1921\n",
      "Sample 11: Best score = 1921\n",
      "Sample 12: Best score = 1920\n",
      "Sample 13: Best score = 1922\n",
      "Sample 14: Best score = 1921\n",
      "Sample 15: Best score = 1920\n",
      "Sample 16: Best score = 1924\n",
      "Sample 17: Best score = 1922\n",
      "Sample 18: Best score = 1920\n",
      "Sample 19: Best score = 1921\n",
      "Sample 20: Best score = 1922\n",
      "Sample 21: Best score = 1921\n",
      "Sample 22: Best score = 1920\n",
      "Sample 23: Best score = 1919\n",
      "Sample 24: Best score = 1923\n",
      "Sample 25: Best score = 1920\n",
      "Sample 26: Best score = 1921\n",
      "Sample 27: Best score = 1924\n",
      "Sample 28: Best score = 1922\n",
      "Sample 29: Best score = 1920\n",
      "Sample 30: Best score = 1924\n",
      " \n",
      "Best sample = 2\n",
      "Best score = 1924, Minimum score = 1919\n",
      "Average score = 1921.5666666666666, Median score = 1921.0\n"
     ]
    }
   ],
   "source": [
    "analyzer.analyze()"
   ],
   "metadata": {
    "collapsed": false,
    "pycharm": {
     "name": "#%%\n"
    }
   }
  },
  {
   "cell_type": "markdown",
   "source": [],
   "metadata": {
    "collapsed": false,
    "pycharm": {
     "name": "#%% md\n"
    }
   }
  },
  {
   "cell_type": "code",
   "execution_count": 145,
   "outputs": [],
   "source": [
    "solver = GeneticAlgorithmSolver(pm=0.5, t_max=50)"
   ],
   "metadata": {
    "collapsed": false,
    "pycharm": {
     "name": "#%%\n"
    }
   }
  },
  {
   "cell_type": "code",
   "execution_count": 146,
   "outputs": [],
   "source": [
    "analyzer = GeneticAlgorithmAnalyzer(solver=solver, population_creator=population_creator, problem=problem, n_samples=30)"
   ],
   "metadata": {
    "collapsed": false,
    "pycharm": {
     "name": "#%%\n"
    }
   }
  },
  {
   "cell_type": "code",
   "execution_count": 147,
   "outputs": [
    {
     "name": "stdout",
     "output_type": "stream",
     "text": [
      "Sample 1: Best score = 1921\n",
      "Sample 2: Best score = 1922\n",
      "Sample 3: Best score = 1920\n",
      "Sample 4: Best score = 1921\n",
      "Sample 5: Best score = 1922\n",
      "Sample 6: Best score = 1923\n",
      "Sample 7: Best score = 1925\n",
      "Sample 8: Best score = 1923\n",
      "Sample 9: Best score = 1925\n",
      "Sample 10: Best score = 1920\n",
      "Sample 11: Best score = 1922\n",
      "Sample 12: Best score = 1920\n",
      "Sample 13: Best score = 1920\n",
      "Sample 14: Best score = 1923\n",
      "Sample 15: Best score = 1919\n",
      "Sample 16: Best score = 1920\n",
      "Sample 17: Best score = 1922\n",
      "Sample 18: Best score = 1921\n",
      "Sample 19: Best score = 1921\n",
      "Sample 20: Best score = 1922\n",
      "Sample 21: Best score = 1920\n",
      "Sample 22: Best score = 1920\n",
      "Sample 23: Best score = 1920\n",
      "Sample 24: Best score = 1921\n",
      "Sample 25: Best score = 1923\n",
      "Sample 26: Best score = 1921\n",
      "Sample 27: Best score = 1922\n",
      "Sample 28: Best score = 1922\n",
      "Sample 29: Best score = 1924\n",
      "Sample 30: Best score = 1920\n",
      " \n",
      "Best sample = 7\n",
      "Best score = 1925, Minimum score = 1919\n",
      "Average score = 1921.5, Median score = 1921.0\n"
     ]
    }
   ],
   "source": [
    "analyzer.analyze()"
   ],
   "metadata": {
    "collapsed": false,
    "pycharm": {
     "name": "#%%\n"
    }
   }
  },
  {
   "cell_type": "markdown",
   "source": [],
   "metadata": {
    "collapsed": false,
    "pycharm": {
     "name": "#%% md\n"
    }
   }
  },
  {
   "cell_type": "code",
   "execution_count": 148,
   "outputs": [],
   "source": [
    "solver = GeneticAlgorithmSolver(pm=0.9, t_max=50)"
   ],
   "metadata": {
    "collapsed": false,
    "pycharm": {
     "name": "#%%\n"
    }
   }
  },
  {
   "cell_type": "code",
   "execution_count": 149,
   "outputs": [],
   "source": [
    "analyzer = GeneticAlgorithmAnalyzer(solver=solver, population_creator=population_creator, problem=problem, n_samples=30)"
   ],
   "metadata": {
    "collapsed": false,
    "pycharm": {
     "name": "#%%\n"
    }
   }
  },
  {
   "cell_type": "code",
   "execution_count": 150,
   "outputs": [
    {
     "name": "stdout",
     "output_type": "stream",
     "text": [
      "Sample 1: Best score = 1923\n",
      "Sample 2: Best score = 1918\n",
      "Sample 3: Best score = 1920\n",
      "Sample 4: Best score = 1919\n",
      "Sample 5: Best score = 1923\n",
      "Sample 6: Best score = 1920\n",
      "Sample 7: Best score = 1922\n",
      "Sample 8: Best score = 1923\n",
      "Sample 9: Best score = 1920\n",
      "Sample 10: Best score = 1921\n",
      "Sample 11: Best score = 1923\n",
      "Sample 12: Best score = 1921\n",
      "Sample 13: Best score = 1921\n",
      "Sample 14: Best score = 1921\n",
      "Sample 15: Best score = 1918\n",
      "Sample 16: Best score = 1920\n",
      "Sample 17: Best score = 1919\n",
      "Sample 18: Best score = 1920\n",
      "Sample 19: Best score = 1920\n",
      "Sample 20: Best score = 1922\n",
      "Sample 21: Best score = 1921\n",
      "Sample 22: Best score = 1921\n",
      "Sample 23: Best score = 1920\n",
      "Sample 24: Best score = 1920\n",
      "Sample 25: Best score = 1923\n",
      "Sample 26: Best score = 1921\n",
      "Sample 27: Best score = 1921\n",
      "Sample 28: Best score = 1918\n",
      "Sample 29: Best score = 1923\n",
      "Sample 30: Best score = 1924\n",
      " \n",
      "Best sample = 30\n",
      "Best score = 1924, Minimum score = 1918\n",
      "Average score = 1920.8666666666666, Median score = 1921.0\n"
     ]
    }
   ],
   "source": [
    "analyzer.analyze()"
   ],
   "metadata": {
    "collapsed": false,
    "pycharm": {
     "name": "#%%\n"
    }
   }
  },
  {
   "cell_type": "markdown",
   "source": [],
   "metadata": {
    "collapsed": false,
    "pycharm": {
     "name": "#%% md\n"
    }
   }
  },
  {
   "cell_type": "markdown",
   "source": [],
   "metadata": {
    "collapsed": false,
    "pycharm": {
     "name": "#%% md\n"
    }
   }
  },
  {
   "cell_type": "code",
   "execution_count": 151,
   "outputs": [],
   "source": [
    "solver = GeneticAlgorithmSolver(t_max=50)"
   ],
   "metadata": {
    "collapsed": false,
    "pycharm": {
     "name": "#%%\n"
    }
   }
  },
  {
   "cell_type": "code",
   "execution_count": 152,
   "outputs": [],
   "source": [
    "analyzer = GeneticAlgorithmAnalyzer(solver=solver, population_creator=population_creator, problem=problem, n_samples=30)"
   ],
   "metadata": {
    "collapsed": false,
    "pycharm": {
     "name": "#%%\n"
    }
   }
  },
  {
   "cell_type": "code",
   "execution_count": 153,
   "outputs": [
    {
     "name": "stdout",
     "output_type": "stream",
     "text": [
      "Sample 1: Best score = 1925\n",
      "Sample 2: Best score = 1922\n",
      "Sample 3: Best score = 1922\n",
      "Sample 4: Best score = 1920\n",
      "Sample 5: Best score = 1924\n",
      "Sample 6: Best score = 1922\n",
      "Sample 7: Best score = 1924\n",
      "Sample 8: Best score = 1922\n",
      "Sample 9: Best score = 1923\n",
      "Sample 10: Best score = 1922\n",
      "Sample 11: Best score = 1922\n",
      "Sample 12: Best score = 1921\n",
      "Sample 13: Best score = 1922\n",
      "Sample 14: Best score = 1922\n",
      "Sample 15: Best score = 1921\n",
      "Sample 16: Best score = 1923\n",
      "Sample 17: Best score = 1922\n",
      "Sample 18: Best score = 1922\n",
      "Sample 19: Best score = 1921\n",
      "Sample 20: Best score = 1922\n",
      "Sample 21: Best score = 1921\n",
      "Sample 22: Best score = 1923\n",
      "Sample 23: Best score = 1926\n",
      "Sample 24: Best score = 1920\n",
      "Sample 25: Best score = 1923\n",
      "Sample 26: Best score = 1922\n",
      "Sample 27: Best score = 1922\n",
      "Sample 28: Best score = 1923\n",
      "Sample 29: Best score = 1922\n",
      "Sample 30: Best score = 1921\n",
      " \n",
      "Best sample = 23\n",
      "Best score = 1926, Minimum score = 1920\n",
      "Average score = 1922.2333333333333, Median score = 1922.0\n"
     ]
    }
   ],
   "source": [
    "analyzer.analyze()"
   ],
   "metadata": {
    "collapsed": false,
    "pycharm": {
     "name": "#%%\n"
    }
   }
  },
  {
   "cell_type": "markdown",
   "source": [],
   "metadata": {
    "collapsed": false,
    "pycharm": {
     "name": "#%% md\n"
    }
   }
  },
  {
   "cell_type": "code",
   "execution_count": 154,
   "outputs": [],
   "source": [
    "solver = GeneticAlgorithmSolver(pm=0.01, t_max=50)"
   ],
   "metadata": {
    "collapsed": false,
    "pycharm": {
     "name": "#%%\n"
    }
   }
  },
  {
   "cell_type": "code",
   "execution_count": 155,
   "outputs": [],
   "source": [
    "analyzer = GeneticAlgorithmAnalyzer(solver=solver, population_creator=population_creator, problem=problem, n_samples=30)"
   ],
   "metadata": {
    "collapsed": false,
    "pycharm": {
     "name": "#%%\n"
    }
   }
  },
  {
   "cell_type": "code",
   "execution_count": 156,
   "outputs": [
    {
     "name": "stdout",
     "output_type": "stream",
     "text": [
      "Sample 1: Best score = 1924\n",
      "Sample 2: Best score = 1921\n",
      "Sample 3: Best score = 1923\n",
      "Sample 4: Best score = 1919\n",
      "Sample 5: Best score = 1919\n",
      "Sample 6: Best score = 1923\n",
      "Sample 7: Best score = 1922\n",
      "Sample 8: Best score = 1922\n",
      "Sample 9: Best score = 1919\n",
      "Sample 10: Best score = 1920\n",
      "Sample 11: Best score = 1920\n",
      "Sample 12: Best score = 1921\n",
      "Sample 13: Best score = 1920\n",
      "Sample 14: Best score = 1920\n",
      "Sample 15: Best score = 1921\n",
      "Sample 16: Best score = 1925\n",
      "Sample 17: Best score = 1921\n",
      "Sample 18: Best score = 1923\n",
      "Sample 19: Best score = 1921\n",
      "Sample 20: Best score = 1920\n",
      "Sample 21: Best score = 1921\n",
      "Sample 22: Best score = 1919\n",
      "Sample 23: Best score = 1923\n",
      "Sample 24: Best score = 1921\n",
      "Sample 25: Best score = 1919\n",
      "Sample 26: Best score = 1921\n",
      "Sample 27: Best score = 1921\n",
      "Sample 28: Best score = 1919\n",
      "Sample 29: Best score = 1919\n",
      "Sample 30: Best score = 1922\n",
      " \n",
      "Best sample = 16\n",
      "Best score = 1925, Minimum score = 1919\n",
      "Average score = 1920.9666666666667, Median score = 1921.0\n"
     ]
    }
   ],
   "source": [
    "analyzer.analyze()"
   ],
   "metadata": {
    "collapsed": false,
    "pycharm": {
     "name": "#%%\n"
    }
   }
  },
  {
   "cell_type": "markdown",
   "source": [],
   "metadata": {
    "collapsed": false,
    "pycharm": {
     "name": "#%% md\n"
    }
   }
  },
  {
   "cell_type": "code",
   "execution_count": 157,
   "outputs": [],
   "source": [
    "solver = GeneticAlgorithmSolver(pm=0.005, t_max=50)"
   ],
   "metadata": {
    "collapsed": false,
    "pycharm": {
     "name": "#%%\n"
    }
   }
  },
  {
   "cell_type": "code",
   "execution_count": 158,
   "outputs": [],
   "source": [
    "analyzer = GeneticAlgorithmAnalyzer(solver=solver, population_creator=population_creator, problem=problem, n_samples=30)"
   ],
   "metadata": {
    "collapsed": false,
    "pycharm": {
     "name": "#%%\n"
    }
   }
  },
  {
   "cell_type": "code",
   "execution_count": 159,
   "outputs": [
    {
     "name": "stdout",
     "output_type": "stream",
     "text": [
      "Sample 1: Best score = 1922\n",
      "Sample 2: Best score = 1922\n",
      "Sample 3: Best score = 1922\n",
      "Sample 4: Best score = 1922\n",
      "Sample 5: Best score = 1920\n",
      "Sample 6: Best score = 1919\n",
      "Sample 7: Best score = 1920\n",
      "Sample 8: Best score = 1919\n",
      "Sample 9: Best score = 1921\n",
      "Sample 10: Best score = 1923\n",
      "Sample 11: Best score = 1925\n",
      "Sample 12: Best score = 1919\n",
      "Sample 13: Best score = 1922\n",
      "Sample 14: Best score = 1920\n",
      "Sample 15: Best score = 1922\n",
      "Sample 16: Best score = 1924\n",
      "Sample 17: Best score = 1923\n",
      "Sample 18: Best score = 1920\n",
      "Sample 19: Best score = 1921\n",
      "Sample 20: Best score = 1923\n",
      "Sample 21: Best score = 1919\n",
      "Sample 22: Best score = 1919\n",
      "Sample 23: Best score = 1919\n",
      "Sample 24: Best score = 1919\n",
      "Sample 25: Best score = 1920\n",
      "Sample 26: Best score = 1920\n",
      "Sample 27: Best score = 1920\n",
      "Sample 28: Best score = 1921\n",
      "Sample 29: Best score = 1919\n",
      "Sample 30: Best score = 1920\n",
      " \n",
      "Best sample = 11\n",
      "Best score = 1925, Minimum score = 1919\n",
      "Average score = 1920.8333333333333, Median score = 1920.0\n"
     ]
    }
   ],
   "source": [
    "analyzer.analyze()"
   ],
   "metadata": {
    "collapsed": false,
    "pycharm": {
     "name": "#%%\n"
    }
   }
  },
  {
   "cell_type": "markdown",
   "source": [],
   "metadata": {
    "collapsed": false,
    "pycharm": {
     "name": "#%% md\n"
    }
   }
  },
  {
   "cell_type": "code",
   "execution_count": 160,
   "outputs": [],
   "source": [
    "solver = GeneticAlgorithmSolver(pm=0.001, t_max=50)"
   ],
   "metadata": {
    "collapsed": false,
    "pycharm": {
     "name": "#%%\n"
    }
   }
  },
  {
   "cell_type": "code",
   "execution_count": 161,
   "outputs": [],
   "source": [
    "analyzer = GeneticAlgorithmAnalyzer(solver=solver, population_creator=population_creator, problem=problem, n_samples=30)"
   ],
   "metadata": {
    "collapsed": false,
    "pycharm": {
     "name": "#%%\n"
    }
   }
  },
  {
   "cell_type": "code",
   "execution_count": 162,
   "outputs": [
    {
     "name": "stdout",
     "output_type": "stream",
     "text": [
      "Sample 1: Best score = 1919\n",
      "Sample 2: Best score = 1920\n",
      "Sample 3: Best score = 1920\n",
      "Sample 4: Best score = 1919\n",
      "Sample 5: Best score = 1921\n",
      "Sample 6: Best score = 1920\n",
      "Sample 7: Best score = 1918\n",
      "Sample 8: Best score = 1920\n",
      "Sample 9: Best score = 1918\n",
      "Sample 10: Best score = 1919\n",
      "Sample 11: Best score = 1920\n",
      "Sample 12: Best score = 1920\n",
      "Sample 13: Best score = 1925\n",
      "Sample 14: Best score = 1920\n",
      "Sample 15: Best score = 1921\n",
      "Sample 16: Best score = 1917\n",
      "Sample 17: Best score = 1917\n",
      "Sample 18: Best score = 1920\n",
      "Sample 19: Best score = 1918\n",
      "Sample 20: Best score = 1920\n",
      "Sample 21: Best score = 1919\n",
      "Sample 22: Best score = 1921\n",
      "Sample 23: Best score = 1921\n",
      "Sample 24: Best score = 1919\n",
      "Sample 25: Best score = 1921\n",
      "Sample 26: Best score = 1918\n",
      "Sample 27: Best score = 1921\n",
      "Sample 28: Best score = 1920\n",
      "Sample 29: Best score = 1920\n",
      "Sample 30: Best score = 1920\n",
      " \n",
      "Best sample = 13\n",
      "Best score = 1925, Minimum score = 1917\n",
      "Average score = 1919.7333333333333, Median score = 1920.0\n"
     ]
    }
   ],
   "source": [
    "analyzer.analyze()"
   ],
   "metadata": {
    "collapsed": false,
    "pycharm": {
     "name": "#%%\n"
    }
   }
  },
  {
   "cell_type": "markdown",
   "source": [
    "#### 5.3 Badanie wpływu rozmiaru populacji"
   ],
   "metadata": {
    "collapsed": false,
    "pycharm": {
     "name": "#%% md\n"
    }
   }
  },
  {
   "cell_type": "code",
   "execution_count": 23,
   "outputs": [],
   "source": [
    "budget = 250 * 100"
   ],
   "metadata": {
    "collapsed": false,
    "pycharm": {
     "name": "#%%\n"
    }
   }
  },
  {
   "cell_type": "code",
   "execution_count": 24,
   "outputs": [],
   "source": [
    "def get_n_iterations(u, budget):\n",
    "    return budget/u"
   ],
   "metadata": {
    "collapsed": false,
    "pycharm": {
     "name": "#%%\n"
    }
   }
  },
  {
   "cell_type": "markdown",
   "source": [],
   "metadata": {
    "collapsed": false,
    "pycharm": {
     "name": "#%% md\n"
    }
   }
  },
  {
   "cell_type": "markdown",
   "source": [],
   "metadata": {
    "collapsed": false,
    "pycharm": {
     "name": "#%% md\n"
    }
   }
  },
  {
   "cell_type": "code",
   "execution_count": 33,
   "outputs": [],
   "source": [
    "u = 5"
   ],
   "metadata": {
    "collapsed": false,
    "pycharm": {
     "name": "#%%\n"
    }
   }
  },
  {
   "cell_type": "code",
   "execution_count": 34,
   "outputs": [],
   "source": [
    "population_creator = PopulationCreator(u, 200)"
   ],
   "metadata": {
    "collapsed": false,
    "pycharm": {
     "name": "#%%\n"
    }
   }
  },
  {
   "cell_type": "code",
   "execution_count": 35,
   "outputs": [],
   "source": [
    "solver = GeneticAlgorithmSolver(pc=0.0, u=u, pm=0.05, t_max=get_n_iterations(u, budget))"
   ],
   "metadata": {
    "collapsed": false,
    "pycharm": {
     "name": "#%%\n"
    }
   }
  },
  {
   "cell_type": "code",
   "execution_count": 36,
   "outputs": [],
   "source": [
    "analyzer = GeneticAlgorithmAnalyzer(solver=solver, population_creator=population_creator ,problem=problem, n_samples=25)"
   ],
   "metadata": {
    "collapsed": false,
    "pycharm": {
     "name": "#%%\n"
    }
   }
  },
  {
   "cell_type": "code",
   "execution_count": 37,
   "outputs": [
    {
     "name": "stdout",
     "output_type": "stream",
     "text": [
      "Sample 1: Best score = 1922\n",
      "Sample 2: Best score = 1923\n",
      "Sample 3: Best score = 1923\n",
      "Sample 4: Best score = 1922\n",
      "Sample 5: Best score = 1921\n"
     ]
    },
    {
     "ename": "KeyboardInterrupt",
     "evalue": "",
     "output_type": "error",
     "traceback": [
      "\u001B[0;31m---------------------------------------------------------------------------\u001B[0m",
      "\u001B[0;31mKeyboardInterrupt\u001B[0m                         Traceback (most recent call last)",
      "\u001B[0;32m/var/folders/yy/shqxg1gn0zg90l596dqg3d8c0000gn/T/ipykernel_81845/1552622453.py\u001B[0m in \u001B[0;36m<module>\u001B[0;34m\u001B[0m\n\u001B[0;32m----> 1\u001B[0;31m \u001B[0manalyzer\u001B[0m\u001B[0;34m.\u001B[0m\u001B[0manalyze\u001B[0m\u001B[0;34m(\u001B[0m\u001B[0;34m)\u001B[0m\u001B[0;34m\u001B[0m\u001B[0;34m\u001B[0m\u001B[0m\n\u001B[0m",
      "\u001B[0;32m~/DataspellProjects/WSI/Lab2/utils.py\u001B[0m in \u001B[0;36manalyze\u001B[0;34m(self)\u001B[0m\n\u001B[1;32m     14\u001B[0m         \u001B[0;32mfor\u001B[0m \u001B[0mi\u001B[0m \u001B[0;32min\u001B[0m \u001B[0mrange\u001B[0m\u001B[0;34m(\u001B[0m\u001B[0mself\u001B[0m\u001B[0;34m.\u001B[0m\u001B[0m_n_samples\u001B[0m\u001B[0;34m)\u001B[0m\u001B[0;34m:\u001B[0m\u001B[0;34m\u001B[0m\u001B[0;34m\u001B[0m\u001B[0m\n\u001B[1;32m     15\u001B[0m             \u001B[0mpop0\u001B[0m \u001B[0;34m=\u001B[0m \u001B[0mself\u001B[0m\u001B[0;34m.\u001B[0m\u001B[0m_population_creator\u001B[0m\u001B[0;34m.\u001B[0m\u001B[0mcreate_population\u001B[0m\u001B[0;34m(\u001B[0m\u001B[0;34m)\u001B[0m\u001B[0;34m\u001B[0m\u001B[0;34m\u001B[0m\u001B[0m\n\u001B[0;32m---> 16\u001B[0;31m             \u001B[0mx_best\u001B[0m\u001B[0;34m,\u001B[0m \u001B[0mo_best\u001B[0m \u001B[0;34m=\u001B[0m \u001B[0mself\u001B[0m\u001B[0;34m.\u001B[0m\u001B[0m_solver\u001B[0m\u001B[0;34m.\u001B[0m\u001B[0msolve\u001B[0m\u001B[0;34m(\u001B[0m\u001B[0mself\u001B[0m\u001B[0;34m.\u001B[0m\u001B[0m_problem\u001B[0m\u001B[0;34m,\u001B[0m \u001B[0mpop0\u001B[0m\u001B[0;34m)\u001B[0m\u001B[0;34m\u001B[0m\u001B[0;34m\u001B[0m\u001B[0m\n\u001B[0m\u001B[1;32m     17\u001B[0m             \u001B[0mself\u001B[0m\u001B[0;34m.\u001B[0m\u001B[0m_X_best\u001B[0m\u001B[0;34m.\u001B[0m\u001B[0mappend\u001B[0m\u001B[0;34m(\u001B[0m\u001B[0mx_best\u001B[0m\u001B[0;34m)\u001B[0m\u001B[0;34m\u001B[0m\u001B[0;34m\u001B[0m\u001B[0m\n\u001B[1;32m     18\u001B[0m             \u001B[0mself\u001B[0m\u001B[0;34m.\u001B[0m\u001B[0m_O_best\u001B[0m\u001B[0;34m.\u001B[0m\u001B[0mappend\u001B[0m\u001B[0;34m(\u001B[0m\u001B[0mo_best\u001B[0m\u001B[0;34m)\u001B[0m\u001B[0;34m\u001B[0m\u001B[0;34m\u001B[0m\u001B[0m\n",
      "\u001B[0;32m/var/folders/yy/shqxg1gn0zg90l596dqg3d8c0000gn/T/ipykernel_81845/3813251267.py\u001B[0m in \u001B[0;36msolve\u001B[0;34m(self, problem, pop0, printing)\u001B[0m\n\u001B[1;32m     23\u001B[0m             \u001B[0mS\u001B[0m \u001B[0;34m=\u001B[0m \u001B[0mself\u001B[0m\u001B[0;34m.\u001B[0m\u001B[0mselection\u001B[0m\u001B[0;34m(\u001B[0m\u001B[0mP\u001B[0m\u001B[0;34m,\u001B[0m \u001B[0mO\u001B[0m\u001B[0;34m,\u001B[0m \u001B[0mself\u001B[0m\u001B[0;34m.\u001B[0m\u001B[0m_u\u001B[0m\u001B[0;34m)\u001B[0m\u001B[0;34m\u001B[0m\u001B[0;34m\u001B[0m\u001B[0m\n\u001B[1;32m     24\u001B[0m             \u001B[0mM\u001B[0m \u001B[0;34m=\u001B[0m \u001B[0mself\u001B[0m\u001B[0;34m.\u001B[0m\u001B[0mcrossing_and_mutation\u001B[0m\u001B[0;34m(\u001B[0m\u001B[0mS\u001B[0m\u001B[0;34m,\u001B[0m \u001B[0mself\u001B[0m\u001B[0;34m.\u001B[0m\u001B[0m_pc\u001B[0m\u001B[0;34m,\u001B[0m \u001B[0mself\u001B[0m\u001B[0;34m.\u001B[0m\u001B[0m_pm\u001B[0m\u001B[0;34m,\u001B[0m \u001B[0mself\u001B[0m\u001B[0;34m.\u001B[0m\u001B[0m_u\u001B[0m\u001B[0;34m)\u001B[0m\u001B[0;34m\u001B[0m\u001B[0;34m\u001B[0m\u001B[0m\n\u001B[0;32m---> 25\u001B[0;31m             \u001B[0mO\u001B[0m \u001B[0;34m=\u001B[0m \u001B[0mself\u001B[0m\u001B[0;34m.\u001B[0m\u001B[0mscore\u001B[0m\u001B[0;34m(\u001B[0m\u001B[0mproblem\u001B[0m\u001B[0;34m,\u001B[0m \u001B[0mM\u001B[0m\u001B[0;34m)\u001B[0m\u001B[0;34m\u001B[0m\u001B[0;34m\u001B[0m\u001B[0m\n\u001B[0m\u001B[1;32m     26\u001B[0m             \u001B[0mx\u001B[0m\u001B[0;34m,\u001B[0m \u001B[0mo\u001B[0m \u001B[0;34m=\u001B[0m \u001B[0mself\u001B[0m\u001B[0;34m.\u001B[0m\u001B[0mfind_best\u001B[0m\u001B[0;34m(\u001B[0m\u001B[0mM\u001B[0m\u001B[0;34m,\u001B[0m \u001B[0mO\u001B[0m\u001B[0;34m)\u001B[0m\u001B[0;34m\u001B[0m\u001B[0;34m\u001B[0m\u001B[0m\n\u001B[1;32m     27\u001B[0m \u001B[0;34m\u001B[0m\u001B[0m\n",
      "\u001B[0;32m/var/folders/yy/shqxg1gn0zg90l596dqg3d8c0000gn/T/ipykernel_81845/3813251267.py\u001B[0m in \u001B[0;36mscore\u001B[0;34m(problem, P)\u001B[0m\n\u001B[1;32m     45\u001B[0m     \u001B[0;34m@\u001B[0m\u001B[0mstaticmethod\u001B[0m\u001B[0;34m\u001B[0m\u001B[0;34m\u001B[0m\u001B[0m\n\u001B[1;32m     46\u001B[0m     \u001B[0;32mdef\u001B[0m \u001B[0mscore\u001B[0m\u001B[0;34m(\u001B[0m\u001B[0mproblem\u001B[0m\u001B[0;34m,\u001B[0m \u001B[0mP\u001B[0m\u001B[0;34m)\u001B[0m\u001B[0;34m:\u001B[0m\u001B[0;34m\u001B[0m\u001B[0;34m\u001B[0m\u001B[0m\n\u001B[0;32m---> 47\u001B[0;31m         \u001B[0;32mreturn\u001B[0m \u001B[0;34m[\u001B[0m\u001B[0mproblem\u001B[0m\u001B[0;34m(\u001B[0m\u001B[0mx\u001B[0m\u001B[0;34m)\u001B[0m \u001B[0;32mfor\u001B[0m \u001B[0mx\u001B[0m \u001B[0;32min\u001B[0m \u001B[0mP\u001B[0m\u001B[0;34m]\u001B[0m\u001B[0;34m\u001B[0m\u001B[0;34m\u001B[0m\u001B[0m\n\u001B[0m\u001B[1;32m     48\u001B[0m \u001B[0;34m\u001B[0m\u001B[0m\n\u001B[1;32m     49\u001B[0m     \u001B[0;34m@\u001B[0m\u001B[0mstaticmethod\u001B[0m\u001B[0;34m\u001B[0m\u001B[0;34m\u001B[0m\u001B[0m\n",
      "\u001B[0;32m/var/folders/yy/shqxg1gn0zg90l596dqg3d8c0000gn/T/ipykernel_81845/3813251267.py\u001B[0m in \u001B[0;36m<listcomp>\u001B[0;34m(.0)\u001B[0m\n\u001B[1;32m     45\u001B[0m     \u001B[0;34m@\u001B[0m\u001B[0mstaticmethod\u001B[0m\u001B[0;34m\u001B[0m\u001B[0;34m\u001B[0m\u001B[0m\n\u001B[1;32m     46\u001B[0m     \u001B[0;32mdef\u001B[0m \u001B[0mscore\u001B[0m\u001B[0;34m(\u001B[0m\u001B[0mproblem\u001B[0m\u001B[0;34m,\u001B[0m \u001B[0mP\u001B[0m\u001B[0;34m)\u001B[0m\u001B[0;34m:\u001B[0m\u001B[0;34m\u001B[0m\u001B[0;34m\u001B[0m\u001B[0m\n\u001B[0;32m---> 47\u001B[0;31m         \u001B[0;32mreturn\u001B[0m \u001B[0;34m[\u001B[0m\u001B[0mproblem\u001B[0m\u001B[0;34m(\u001B[0m\u001B[0mx\u001B[0m\u001B[0;34m)\u001B[0m \u001B[0;32mfor\u001B[0m \u001B[0mx\u001B[0m \u001B[0;32min\u001B[0m \u001B[0mP\u001B[0m\u001B[0;34m]\u001B[0m\u001B[0;34m\u001B[0m\u001B[0;34m\u001B[0m\u001B[0m\n\u001B[0m\u001B[1;32m     48\u001B[0m \u001B[0;34m\u001B[0m\u001B[0m\n\u001B[1;32m     49\u001B[0m     \u001B[0;34m@\u001B[0m\u001B[0mstaticmethod\u001B[0m\u001B[0;34m\u001B[0m\u001B[0;34m\u001B[0m\u001B[0m\n",
      "\u001B[0;32m/var/folders/yy/shqxg1gn0zg90l596dqg3d8c0000gn/T/ipykernel_81845/4245393827.py\u001B[0m in \u001B[0;36mproblem\u001B[0;34m(x)\u001B[0m\n\u001B[1;32m      7\u001B[0m     \u001B[0;32mfor\u001B[0m \u001B[0mi\u001B[0m \u001B[0;32min\u001B[0m \u001B[0mx\u001B[0m\u001B[0;34m:\u001B[0m\u001B[0;34m\u001B[0m\u001B[0;34m\u001B[0m\u001B[0m\n\u001B[1;32m      8\u001B[0m         \u001B[0mm0\u001B[0m \u001B[0;34m-=\u001B[0m \u001B[0mi\u001B[0m \u001B[0;34m*\u001B[0m \u001B[0;36m1\u001B[0m\u001B[0;34m\u001B[0m\u001B[0;34m\u001B[0m\u001B[0m\n\u001B[0;32m----> 9\u001B[0;31m         \u001B[0ma\u001B[0m \u001B[0;34m=\u001B[0m \u001B[0;34m(\u001B[0m\u001B[0;36m45\u001B[0m\u001B[0;34m/\u001B[0m\u001B[0mm0\u001B[0m\u001B[0;34m)\u001B[0m \u001B[0;34m*\u001B[0m \u001B[0mi\u001B[0m \u001B[0;34m-\u001B[0m \u001B[0;36m0.09\u001B[0m\u001B[0;34m\u001B[0m\u001B[0;34m\u001B[0m\u001B[0m\n\u001B[0m\u001B[1;32m     10\u001B[0m         \u001B[0mv0\u001B[0m \u001B[0;34m=\u001B[0m \u001B[0mv0\u001B[0m \u001B[0;34m+\u001B[0m \u001B[0ma\u001B[0m\u001B[0;34m\u001B[0m\u001B[0;34m\u001B[0m\u001B[0m\n\u001B[1;32m     11\u001B[0m         \u001B[0mh0\u001B[0m \u001B[0;34m=\u001B[0m \u001B[0mh0\u001B[0m \u001B[0;34m+\u001B[0m \u001B[0mv0\u001B[0m\u001B[0;34m\u001B[0m\u001B[0;34m\u001B[0m\u001B[0m\n",
      "\u001B[0;31mKeyboardInterrupt\u001B[0m: "
     ]
    }
   ],
   "source": [
    "analyzer.analyze()"
   ],
   "metadata": {
    "collapsed": false,
    "pycharm": {
     "name": "#%%\n"
    }
   }
  },
  {
   "cell_type": "markdown",
   "source": [],
   "metadata": {
    "collapsed": false,
    "pycharm": {
     "name": "#%% md\n"
    }
   }
  },
  {
   "cell_type": "markdown",
   "source": [],
   "metadata": {
    "collapsed": false,
    "pycharm": {
     "name": "#%% md\n"
    }
   }
  },
  {
   "cell_type": "markdown",
   "source": [],
   "metadata": {
    "collapsed": false,
    "pycharm": {
     "name": "#%% md\n"
    }
   }
  },
  {
   "cell_type": "markdown",
   "source": [],
   "metadata": {
    "collapsed": false,
    "pycharm": {
     "name": "#%% md\n"
    }
   }
  },
  {
   "cell_type": "code",
   "execution_count": 100,
   "outputs": [],
   "source": [
    "solver = GeneticAlgorithmSolver(pm=0, t_max=100)"
   ],
   "metadata": {
    "collapsed": false,
    "pycharm": {
     "name": "#%%\n"
    }
   }
  },
  {
   "cell_type": "code",
   "execution_count": 101,
   "outputs": [],
   "source": [
    "analyzer = GeneticAlgorithmAnalyzer(solver=solver, population_creator=population_creator, problem=problem, n_samples=30)"
   ],
   "metadata": {
    "collapsed": false,
    "pycharm": {
     "name": "#%%\n"
    }
   }
  },
  {
   "cell_type": "code",
   "execution_count": 102,
   "outputs": [
    {
     "name": "stdout",
     "output_type": "stream",
     "text": [
      "Sample 1: Best score = 1919\n",
      "Sample 2: Best score = 1921\n",
      "Sample 3: Best score = 1918\n",
      "Sample 4: Best score = 1919\n",
      "Sample 5: Best score = 1920\n",
      "Sample 6: Best score = 1917\n",
      "Sample 7: Best score = 1920\n",
      "Sample 8: Best score = 1921\n",
      "Sample 9: Best score = 1919\n",
      "Sample 10: Best score = 1918\n",
      "Sample 11: Best score = 1923\n",
      "Sample 12: Best score = 1920\n",
      "Sample 13: Best score = 1922\n",
      "Sample 14: Best score = 1920\n",
      "Sample 15: Best score = 1920\n",
      "Sample 16: Best score = 1921\n",
      "Sample 17: Best score = 1921\n",
      "Sample 18: Best score = 1920\n",
      "Sample 19: Best score = 1916\n",
      "Sample 20: Best score = 1920\n",
      "Sample 21: Best score = 1918\n",
      "Sample 22: Best score = 1923\n",
      "Sample 23: Best score = 1924\n",
      "Sample 24: Best score = 1919\n",
      "Sample 25: Best score = 1918\n",
      "Sample 26: Best score = 1920\n",
      "Sample 27: Best score = 1920\n",
      "Sample 28: Best score = 1922\n",
      "Sample 29: Best score = 1917\n",
      "Sample 30: Best score = 1918\n",
      " \n",
      "Best sample = 23\n",
      "Best score = 1924, Minimum score = 1916\n",
      "Average score = 1919.8, Median score = 1920.0\n"
     ]
    }
   ],
   "source": [
    "analyzer.analyze()"
   ],
   "metadata": {
    "collapsed": false,
    "pycharm": {
     "name": "#%%\n"
    }
   }
  },
  {
   "cell_type": "markdown",
   "source": [],
   "metadata": {
    "collapsed": false,
    "pycharm": {
     "name": "#%% md\n"
    }
   }
  },
  {
   "cell_type": "code",
   "execution_count": 103,
   "outputs": [],
   "source": [
    "solver = GeneticAlgorithmSolver(pm=0.1, t_max=100)"
   ],
   "metadata": {
    "collapsed": false,
    "pycharm": {
     "name": "#%%\n"
    }
   }
  },
  {
   "cell_type": "code",
   "execution_count": 104,
   "outputs": [],
   "source": [
    "analyzer = GeneticAlgorithmAnalyzer(solver=solver, population_creator=population_creator, problem=problem, n_samples=30)"
   ],
   "metadata": {
    "collapsed": false,
    "pycharm": {
     "name": "#%%\n"
    }
   }
  },
  {
   "cell_type": "code",
   "execution_count": 105,
   "outputs": [
    {
     "name": "stdout",
     "output_type": "stream",
     "text": [
      "Sample 1: Best score = 1922\n",
      "Sample 2: Best score = 1921\n",
      "Sample 3: Best score = 1921\n",
      "Sample 4: Best score = 1922\n",
      "Sample 5: Best score = 1924\n",
      "Sample 6: Best score = 1922\n",
      "Sample 7: Best score = 1927\n",
      "Sample 8: Best score = 1923\n",
      "Sample 9: Best score = 1922\n",
      "Sample 10: Best score = 1922\n",
      "Sample 11: Best score = 1924\n",
      "Sample 12: Best score = 1925\n",
      "Sample 13: Best score = 1923\n",
      "Sample 14: Best score = 1922\n",
      "Sample 15: Best score = 1924\n",
      "Sample 16: Best score = 1924\n",
      "Sample 17: Best score = 1925\n",
      "Sample 18: Best score = 1924\n",
      "Sample 19: Best score = 1924\n",
      "Sample 20: Best score = 1924\n",
      "Sample 21: Best score = 1923\n",
      "Sample 22: Best score = 1922\n",
      "Sample 23: Best score = 1922\n",
      "Sample 24: Best score = 1923\n",
      "Sample 25: Best score = 1922\n",
      "Sample 26: Best score = 1922\n",
      "Sample 27: Best score = 1923\n",
      "Sample 28: Best score = 1924\n",
      "Sample 29: Best score = 1924\n",
      "Sample 30: Best score = 1922\n",
      " \n",
      "Best sample = 7\n",
      "Best score = 1927, Minimum score = 1921\n",
      "Average score = 1923.0666666666666, Median score = 1923.0\n"
     ]
    }
   ],
   "source": [
    "analyzer.analyze()"
   ],
   "metadata": {
    "collapsed": false,
    "pycharm": {
     "name": "#%%\n"
    }
   }
  },
  {
   "cell_type": "markdown",
   "source": [],
   "metadata": {
    "collapsed": false,
    "pycharm": {
     "name": "#%% md\n"
    }
   }
  },
  {
   "cell_type": "code",
   "execution_count": 106,
   "outputs": [],
   "source": [
    "solver = GeneticAlgorithmSolver(pm=0.2, t_max=100)"
   ],
   "metadata": {
    "collapsed": false,
    "pycharm": {
     "name": "#%%\n"
    }
   }
  },
  {
   "cell_type": "code",
   "execution_count": 107,
   "outputs": [],
   "source": [
    "analyzer = GeneticAlgorithmAnalyzer(solver=solver, population_creator=population_creator, problem=problem, n_samples=30)"
   ],
   "metadata": {
    "collapsed": false,
    "pycharm": {
     "name": "#%%\n"
    }
   }
  },
  {
   "cell_type": "code",
   "execution_count": 108,
   "outputs": [
    {
     "name": "stdout",
     "output_type": "stream",
     "text": [
      "Sample 1: Best score = 1921\n",
      "Sample 2: Best score = 1929\n",
      "Sample 3: Best score = 1923\n",
      "Sample 4: Best score = 1924\n",
      "Sample 5: Best score = 1922\n",
      "Sample 6: Best score = 1923\n",
      "Sample 7: Best score = 1921\n",
      "Sample 8: Best score = 1922\n",
      "Sample 9: Best score = 1925\n",
      "Sample 10: Best score = 1922\n",
      "Sample 11: Best score = 1923\n",
      "Sample 12: Best score = 1921\n",
      "Sample 13: Best score = 1924\n",
      "Sample 14: Best score = 1924\n",
      "Sample 15: Best score = 1922\n",
      "Sample 16: Best score = 1926\n",
      "Sample 17: Best score = 1921\n",
      "Sample 18: Best score = 1924\n",
      "Sample 19: Best score = 1924\n",
      "Sample 20: Best score = 1923\n",
      "Sample 21: Best score = 1922\n",
      "Sample 22: Best score = 1924\n",
      "Sample 23: Best score = 1923\n",
      "Sample 24: Best score = 1920\n",
      "Sample 25: Best score = 1923\n",
      "Sample 26: Best score = 1922\n",
      "Sample 27: Best score = 1921\n",
      "Sample 28: Best score = 1929\n",
      "Sample 29: Best score = 1922\n",
      "Sample 30: Best score = 1921\n",
      " \n",
      "Best sample = 2\n",
      "Best score = 1929, Minimum score = 1920\n",
      "Average score = 1923.0333333333333, Median score = 1923.0\n"
     ]
    }
   ],
   "source": [
    "analyzer.analyze()"
   ],
   "metadata": {
    "collapsed": false,
    "pycharm": {
     "name": "#%%\n"
    }
   }
  },
  {
   "cell_type": "markdown",
   "source": [],
   "metadata": {
    "collapsed": false,
    "pycharm": {
     "name": "#%% md\n"
    }
   }
  },
  {
   "cell_type": "code",
   "execution_count": 109,
   "outputs": [],
   "source": [
    "solver = GeneticAlgorithmSolver(pm=0.3, t_max=100)"
   ],
   "metadata": {
    "collapsed": false,
    "pycharm": {
     "name": "#%%\n"
    }
   }
  },
  {
   "cell_type": "code",
   "execution_count": 110,
   "outputs": [],
   "source": [
    "analyzer = GeneticAlgorithmAnalyzer(solver=solver, population_creator=population_creator, problem=problem, n_samples=30)"
   ],
   "metadata": {
    "collapsed": false,
    "pycharm": {
     "name": "#%%\n"
    }
   }
  },
  {
   "cell_type": "code",
   "execution_count": 111,
   "outputs": [
    {
     "name": "stdout",
     "output_type": "stream",
     "text": [
      "Sample 1: Best score = 1922\n",
      "Sample 2: Best score = 1922\n",
      "Sample 3: Best score = 1923\n",
      "Sample 4: Best score = 1922\n",
      "Sample 5: Best score = 1922\n",
      "Sample 6: Best score = 1923\n",
      "Sample 7: Best score = 1922\n",
      "Sample 8: Best score = 1922\n",
      "Sample 9: Best score = 1921\n",
      "Sample 10: Best score = 1925\n",
      "Sample 11: Best score = 1921\n",
      "Sample 12: Best score = 1921\n",
      "Sample 13: Best score = 1921\n",
      "Sample 14: Best score = 1924\n",
      "Sample 15: Best score = 1923\n",
      "Sample 16: Best score = 1923\n",
      "Sample 17: Best score = 1925\n",
      "Sample 18: Best score = 1923\n",
      "Sample 19: Best score = 1922\n",
      "Sample 20: Best score = 1921\n",
      "Sample 21: Best score = 1924\n",
      "Sample 22: Best score = 1924\n",
      "Sample 23: Best score = 1922\n",
      "Sample 24: Best score = 1922\n",
      "Sample 25: Best score = 1922\n",
      "Sample 26: Best score = 1924\n",
      "Sample 27: Best score = 1921\n",
      "Sample 28: Best score = 1927\n",
      "Sample 29: Best score = 1923\n",
      "Sample 30: Best score = 1922\n",
      " \n",
      "Best sample = 28\n",
      "Best score = 1927, Minimum score = 1921\n",
      "Average score = 1922.6333333333334, Median score = 1922.0\n"
     ]
    }
   ],
   "source": [
    "analyzer.analyze()"
   ],
   "metadata": {
    "collapsed": false,
    "pycharm": {
     "name": "#%%\n"
    }
   }
  },
  {
   "cell_type": "markdown",
   "source": [],
   "metadata": {
    "collapsed": false,
    "pycharm": {
     "name": "#%% md\n"
    }
   }
  },
  {
   "cell_type": "code",
   "execution_count": 112,
   "outputs": [],
   "source": [
    "solver = GeneticAlgorithmSolver(pm=0.5, t_max=100)"
   ],
   "metadata": {
    "collapsed": false,
    "pycharm": {
     "name": "#%%\n"
    }
   }
  },
  {
   "cell_type": "code",
   "execution_count": 113,
   "outputs": [],
   "source": [
    "analyzer = GeneticAlgorithmAnalyzer(solver=solver, population_creator=population_creator, problem=problem, n_samples=30)"
   ],
   "metadata": {
    "collapsed": false,
    "pycharm": {
     "name": "#%%\n"
    }
   }
  },
  {
   "cell_type": "code",
   "execution_count": 114,
   "outputs": [
    {
     "name": "stdout",
     "output_type": "stream",
     "text": [
      "Sample 1: Best score = 1921\n",
      "Sample 2: Best score = 1922\n",
      "Sample 3: Best score = 1920\n",
      "Sample 4: Best score = 1921\n",
      "Sample 5: Best score = 1921\n",
      "Sample 6: Best score = 1921\n",
      "Sample 7: Best score = 1922\n",
      "Sample 8: Best score = 1922\n",
      "Sample 9: Best score = 1921\n",
      "Sample 10: Best score = 1921\n",
      "Sample 11: Best score = 1921\n",
      "Sample 12: Best score = 1924\n",
      "Sample 13: Best score = 1920\n",
      "Sample 14: Best score = 1923\n",
      "Sample 15: Best score = 1922\n",
      "Sample 16: Best score = 1919\n",
      "Sample 17: Best score = 1921\n",
      "Sample 18: Best score = 1922\n",
      "Sample 19: Best score = 1921\n",
      "Sample 20: Best score = 1922\n",
      "Sample 21: Best score = 1922\n",
      "Sample 22: Best score = 1922\n",
      "Sample 23: Best score = 1922\n",
      "Sample 24: Best score = 1922\n",
      "Sample 25: Best score = 1921\n",
      "Sample 26: Best score = 1922\n",
      "Sample 27: Best score = 1921\n",
      "Sample 28: Best score = 1921\n",
      "Sample 29: Best score = 1920\n",
      "Sample 30: Best score = 1921\n",
      " \n",
      "Best sample = 12\n",
      "Best score = 1924, Minimum score = 1919\n",
      "Average score = 1921.3666666666666, Median score = 1921.0\n"
     ]
    }
   ],
   "source": [
    "analyzer.analyze()"
   ],
   "metadata": {
    "collapsed": false,
    "pycharm": {
     "name": "#%%\n"
    }
   }
  },
  {
   "cell_type": "markdown",
   "source": [],
   "metadata": {
    "collapsed": false,
    "pycharm": {
     "name": "#%% md\n"
    }
   }
  },
  {
   "cell_type": "code",
   "execution_count": 169,
   "outputs": [],
   "source": [
    "solver = GeneticAlgorithmSolver(pm=0.8, t_max=100)"
   ],
   "metadata": {
    "collapsed": false,
    "pycharm": {
     "name": "#%%\n"
    }
   }
  },
  {
   "cell_type": "code",
   "execution_count": 170,
   "outputs": [],
   "source": [
    "analyzer = GeneticAlgorithmAnalyzer(solver=solver, population_creator=population_creator, problem=problem, n_samples=30)"
   ],
   "metadata": {
    "collapsed": false,
    "pycharm": {
     "name": "#%%\n"
    }
   }
  },
  {
   "cell_type": "code",
   "execution_count": 171,
   "outputs": [
    {
     "name": "stdout",
     "output_type": "stream",
     "text": [
      "Sample 1: Best score = 1923\n",
      "Sample 2: Best score = 1923\n",
      "Sample 3: Best score = 1922\n",
      "Sample 4: Best score = 1921\n",
      "Sample 5: Best score = 1921\n",
      "Sample 6: Best score = 1923\n",
      "Sample 7: Best score = 1922\n",
      "Sample 8: Best score = 1922\n",
      "Sample 9: Best score = 1921\n",
      "Sample 10: Best score = 1921\n",
      "Sample 11: Best score = 1920\n",
      "Sample 12: Best score = 1920\n",
      "Sample 13: Best score = 1920\n",
      "Sample 14: Best score = 1921\n",
      "Sample 15: Best score = 1923\n",
      "Sample 16: Best score = 1922\n",
      "Sample 17: Best score = 1924\n",
      "Sample 18: Best score = 1922\n",
      "Sample 19: Best score = 1924\n",
      "Sample 20: Best score = 1920\n",
      "Sample 21: Best score = 1922\n",
      "Sample 22: Best score = 1920\n",
      "Sample 23: Best score = 1923\n",
      "Sample 24: Best score = 1925\n",
      "Sample 25: Best score = 1922\n",
      "Sample 26: Best score = 1920\n",
      "Sample 27: Best score = 1922\n",
      "Sample 28: Best score = 1923\n",
      "Sample 29: Best score = 1924\n",
      "Sample 30: Best score = 1921\n",
      " \n",
      "Best sample = 24\n",
      "Best score = 1925, Minimum score = 1920\n",
      "Average score = 1921.9, Median score = 1922.0\n"
     ]
    }
   ],
   "source": [
    "analyzer.analyze()"
   ],
   "metadata": {
    "collapsed": false,
    "pycharm": {
     "name": "#%%\n"
    }
   }
  },
  {
   "cell_type": "markdown",
   "source": [],
   "metadata": {
    "collapsed": false,
    "pycharm": {
     "name": "#%% md\n"
    }
   }
  },
  {
   "cell_type": "code",
   "execution_count": 130,
   "outputs": [],
   "source": [
    "solver = GeneticAlgorithmSolver(pm=0.9, t_max=100)"
   ],
   "metadata": {
    "collapsed": false,
    "pycharm": {
     "name": "#%%\n"
    }
   }
  },
  {
   "cell_type": "code",
   "execution_count": 131,
   "outputs": [],
   "source": [
    "analyzer = GeneticAlgorithmAnalyzer(solver=solver, population_creator=population_creator, problem=problem, n_samples=30)"
   ],
   "metadata": {
    "collapsed": false,
    "pycharm": {
     "name": "#%%\n"
    }
   }
  },
  {
   "cell_type": "code",
   "execution_count": 132,
   "outputs": [
    {
     "name": "stdout",
     "output_type": "stream",
     "text": [
      "Sample 1: Best score = 1922\n",
      "Sample 2: Best score = 1920\n",
      "Sample 3: Best score = 1922\n",
      "Sample 4: Best score = 1922\n",
      "Sample 5: Best score = 1920\n",
      "Sample 6: Best score = 1923\n",
      "Sample 7: Best score = 1920\n",
      "Sample 8: Best score = 1921\n",
      "Sample 9: Best score = 1921\n",
      "Sample 10: Best score = 1924\n",
      "Sample 11: Best score = 1921\n",
      "Sample 12: Best score = 1921\n",
      "Sample 13: Best score = 1925\n",
      "Sample 14: Best score = 1920\n",
      "Sample 15: Best score = 1920\n",
      "Sample 16: Best score = 1920\n",
      "Sample 17: Best score = 1919\n",
      "Sample 18: Best score = 1921\n",
      "Sample 19: Best score = 1920\n",
      "Sample 20: Best score = 1920\n",
      "Sample 21: Best score = 1920\n",
      "Sample 22: Best score = 1920\n",
      "Sample 23: Best score = 1920\n",
      "Sample 24: Best score = 1922\n",
      "Sample 25: Best score = 1921\n",
      "Sample 26: Best score = 1922\n",
      "Sample 27: Best score = 1920\n",
      "Sample 28: Best score = 1921\n",
      "Sample 29: Best score = 1920\n",
      "Sample 30: Best score = 1923\n",
      " \n",
      "Best sample = 13\n",
      "Best score = 1925, Minimum score = 1919\n",
      "Average score = 1921.0333333333333, Median score = 1921.0\n"
     ]
    }
   ],
   "source": [
    "analyzer.analyze()"
   ],
   "metadata": {
    "collapsed": false,
    "pycharm": {
     "name": "#%%\n"
    }
   }
  },
  {
   "cell_type": "markdown",
   "source": [],
   "metadata": {
    "collapsed": false,
    "pycharm": {
     "name": "#%% md\n"
    }
   }
  },
  {
   "cell_type": "code",
   "execution_count": 118,
   "outputs": [],
   "source": [
    "solver = GeneticAlgorithmSolver(t_max=100)"
   ],
   "metadata": {
    "collapsed": false,
    "pycharm": {
     "name": "#%%\n"
    }
   }
  },
  {
   "cell_type": "code",
   "execution_count": 119,
   "outputs": [],
   "source": [
    "analyzer = GeneticAlgorithmAnalyzer(solver=solver, population_creator=population_creator, problem=problem, n_samples=30)"
   ],
   "metadata": {
    "collapsed": false,
    "pycharm": {
     "name": "#%%\n"
    }
   }
  },
  {
   "cell_type": "code",
   "execution_count": 120,
   "outputs": [
    {
     "name": "stdout",
     "output_type": "stream",
     "text": [
      "Sample 1: Best score = 1927\n",
      "Sample 2: Best score = 1922\n",
      "Sample 3: Best score = 1923\n",
      "Sample 4: Best score = 1926\n",
      "Sample 5: Best score = 1923\n",
      "Sample 6: Best score = 1924\n",
      "Sample 7: Best score = 1921\n",
      "Sample 8: Best score = 1924\n",
      "Sample 9: Best score = 1924\n",
      "Sample 10: Best score = 1923\n",
      "Sample 11: Best score = 1924\n",
      "Sample 12: Best score = 1928\n",
      "Sample 13: Best score = 1922\n",
      "Sample 14: Best score = 1921\n",
      "Sample 15: Best score = 1925\n",
      "Sample 16: Best score = 1925\n",
      "Sample 17: Best score = 1922\n",
      "Sample 18: Best score = 1923\n",
      "Sample 19: Best score = 1922\n",
      "Sample 20: Best score = 1925\n",
      "Sample 21: Best score = 1924\n",
      "Sample 22: Best score = 1924\n",
      "Sample 23: Best score = 1924\n",
      "Sample 24: Best score = 1925\n",
      "Sample 25: Best score = 1922\n",
      "Sample 26: Best score = 1924\n",
      "Sample 27: Best score = 1924\n",
      "Sample 28: Best score = 1922\n",
      "Sample 29: Best score = 1928\n",
      "Sample 30: Best score = 1925\n",
      " \n",
      "Best sample = 12\n",
      "Best score = 1928, Minimum score = 1921\n",
      "Average score = 1923.8666666666666, Median score = 1924.0\n"
     ]
    }
   ],
   "source": [
    "analyzer.analyze()"
   ],
   "metadata": {
    "collapsed": false,
    "pycharm": {
     "name": "#%%\n"
    }
   }
  },
  {
   "cell_type": "markdown",
   "source": [],
   "metadata": {
    "collapsed": false,
    "pycharm": {
     "name": "#%% md\n"
    }
   }
  },
  {
   "cell_type": "code",
   "execution_count": 121,
   "outputs": [],
   "source": [
    "solver = GeneticAlgorithmSolver(pm=0.01, t_max=100)"
   ],
   "metadata": {
    "collapsed": false,
    "pycharm": {
     "name": "#%%\n"
    }
   }
  },
  {
   "cell_type": "code",
   "execution_count": 122,
   "outputs": [],
   "source": [
    "analyzer = GeneticAlgorithmAnalyzer(solver=solver, population_creator=population_creator, problem=problem, n_samples=30)"
   ],
   "metadata": {
    "collapsed": false,
    "pycharm": {
     "name": "#%%\n"
    }
   }
  },
  {
   "cell_type": "code",
   "execution_count": 123,
   "outputs": [
    {
     "name": "stdout",
     "output_type": "stream",
     "text": [
      "Sample 1: Best score = 1925\n",
      "Sample 2: Best score = 1923\n",
      "Sample 3: Best score = 1923\n",
      "Sample 4: Best score = 1923\n",
      "Sample 5: Best score = 1921\n",
      "Sample 6: Best score = 1921\n",
      "Sample 7: Best score = 1921\n",
      "Sample 8: Best score = 1925\n",
      "Sample 9: Best score = 1924\n",
      "Sample 10: Best score = 1923\n",
      "Sample 11: Best score = 1921\n",
      "Sample 12: Best score = 1923\n",
      "Sample 13: Best score = 1924\n",
      "Sample 14: Best score = 1923\n",
      "Sample 15: Best score = 1923\n",
      "Sample 16: Best score = 1923\n",
      "Sample 17: Best score = 1922\n",
      "Sample 18: Best score = 1924\n",
      "Sample 19: Best score = 1922\n",
      "Sample 20: Best score = 1923\n",
      "Sample 21: Best score = 1922\n",
      "Sample 22: Best score = 1925\n",
      "Sample 23: Best score = 1922\n",
      "Sample 24: Best score = 1923\n",
      "Sample 25: Best score = 1923\n",
      "Sample 26: Best score = 1924\n",
      "Sample 27: Best score = 1924\n",
      "Sample 28: Best score = 1923\n",
      "Sample 29: Best score = 1924\n",
      "Sample 30: Best score = 1920\n",
      " \n",
      "Best sample = 1\n",
      "Best score = 1925, Minimum score = 1920\n",
      "Average score = 1922.9, Median score = 1923.0\n"
     ]
    }
   ],
   "source": [
    "analyzer.analyze()"
   ],
   "metadata": {
    "collapsed": false,
    "pycharm": {
     "name": "#%%\n"
    }
   }
  },
  {
   "cell_type": "markdown",
   "source": [],
   "metadata": {
    "collapsed": false,
    "pycharm": {
     "name": "#%% md\n"
    }
   }
  },
  {
   "cell_type": "code",
   "execution_count": 124,
   "outputs": [],
   "source": [
    "solver = GeneticAlgorithmSolver(pm=0.005, t_max=100)"
   ],
   "metadata": {
    "collapsed": false,
    "pycharm": {
     "name": "#%%\n"
    }
   }
  },
  {
   "cell_type": "code",
   "execution_count": 125,
   "outputs": [],
   "source": [
    "analyzer = GeneticAlgorithmAnalyzer(solver=solver, population_creator=population_creator, problem=problem, n_samples=30)"
   ],
   "metadata": {
    "collapsed": false,
    "pycharm": {
     "name": "#%%\n"
    }
   }
  },
  {
   "cell_type": "code",
   "execution_count": 126,
   "outputs": [
    {
     "name": "stdout",
     "output_type": "stream",
     "text": [
      "Sample 1: Best score = 1920\n",
      "Sample 2: Best score = 1924\n",
      "Sample 3: Best score = 1921\n",
      "Sample 4: Best score = 1926\n",
      "Sample 5: Best score = 1922\n",
      "Sample 6: Best score = 1923\n",
      "Sample 7: Best score = 1922\n",
      "Sample 8: Best score = 1924\n",
      "Sample 9: Best score = 1924\n",
      "Sample 10: Best score = 1923\n",
      "Sample 11: Best score = 1920\n",
      "Sample 12: Best score = 1923\n",
      "Sample 13: Best score = 1920\n",
      "Sample 14: Best score = 1923\n",
      "Sample 15: Best score = 1922\n",
      "Sample 16: Best score = 1921\n",
      "Sample 17: Best score = 1921\n",
      "Sample 18: Best score = 1922\n",
      "Sample 19: Best score = 1923\n",
      "Sample 20: Best score = 1923\n",
      "Sample 21: Best score = 1919\n",
      "Sample 22: Best score = 1921\n",
      "Sample 23: Best score = 1923\n",
      "Sample 24: Best score = 1924\n",
      "Sample 25: Best score = 1921\n",
      "Sample 26: Best score = 1922\n",
      "Sample 27: Best score = 1923\n",
      "Sample 28: Best score = 1922\n",
      "Sample 29: Best score = 1921\n",
      "Sample 30: Best score = 1921\n",
      " \n",
      "Best sample = 4\n",
      "Best score = 1926, Minimum score = 1919\n",
      "Average score = 1922.1333333333334, Median score = 1922.0\n"
     ]
    }
   ],
   "source": [
    "analyzer.analyze()"
   ],
   "metadata": {
    "collapsed": false,
    "pycharm": {
     "name": "#%%\n"
    }
   }
  },
  {
   "cell_type": "markdown",
   "source": [],
   "metadata": {
    "collapsed": false,
    "pycharm": {
     "name": "#%% md\n"
    }
   }
  },
  {
   "cell_type": "code",
   "execution_count": 127,
   "outputs": [],
   "source": [
    "solver = GeneticAlgorithmSolver(pm=0.001, t_max=100)"
   ],
   "metadata": {
    "collapsed": false,
    "pycharm": {
     "name": "#%%\n"
    }
   }
  },
  {
   "cell_type": "code",
   "execution_count": 128,
   "outputs": [],
   "source": [
    "analyzer = GeneticAlgorithmAnalyzer(solver=solver, population_creator=population_creator, problem=problem, n_samples=30)"
   ],
   "metadata": {
    "collapsed": false,
    "pycharm": {
     "name": "#%%\n"
    }
   }
  },
  {
   "cell_type": "code",
   "execution_count": 129,
   "outputs": [
    {
     "name": "stdout",
     "output_type": "stream",
     "text": [
      "Sample 1: Best score = 1919\n",
      "Sample 2: Best score = 1923\n",
      "Sample 3: Best score = 1921\n",
      "Sample 4: Best score = 1919\n",
      "Sample 5: Best score = 1921\n",
      "Sample 6: Best score = 1920\n",
      "Sample 7: Best score = 1920\n",
      "Sample 8: Best score = 1922\n",
      "Sample 9: Best score = 1919\n",
      "Sample 10: Best score = 1922\n",
      "Sample 11: Best score = 1919\n",
      "Sample 12: Best score = 1921\n",
      "Sample 13: Best score = 1921\n",
      "Sample 14: Best score = 1919\n",
      "Sample 15: Best score = 1922\n",
      "Sample 16: Best score = 1920\n",
      "Sample 17: Best score = 1919\n",
      "Sample 18: Best score = 1922\n",
      "Sample 19: Best score = 1925\n",
      "Sample 20: Best score = 1918\n",
      "Sample 21: Best score = 1922\n",
      "Sample 22: Best score = 1921\n",
      "Sample 23: Best score = 1918\n",
      "Sample 24: Best score = 1921\n",
      "Sample 25: Best score = 1920\n",
      "Sample 26: Best score = 1921\n",
      "Sample 27: Best score = 1922\n",
      "Sample 28: Best score = 1921\n",
      "Sample 29: Best score = 1923\n",
      "Sample 30: Best score = 1920\n",
      " \n",
      "Best sample = 19\n",
      "Best score = 1925, Minimum score = 1918\n",
      "Average score = 1920.7, Median score = 1921.0\n"
     ]
    }
   ],
   "source": [
    "analyzer.analyze()"
   ],
   "metadata": {
    "collapsed": false,
    "pycharm": {
     "name": "#%%\n"
    }
   }
  }
 ],
 "metadata": {
  "kernelspec": {
   "display_name": "Python 3",
   "language": "python",
   "name": "python3"
  },
  "language_info": {
   "codemirror_mode": {
    "name": "ipython",
    "version": 2
   },
   "file_extension": ".py",
   "mimetype": "text/x-python",
   "name": "python",
   "nbconvert_exporter": "python",
   "pygments_lexer": "ipython2",
   "version": "2.7.6"
  }
 },
 "nbformat": 4,
 "nbformat_minor": 0
}